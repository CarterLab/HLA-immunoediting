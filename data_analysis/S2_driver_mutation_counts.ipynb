{
 "cells": [
  {
   "cell_type": "markdown",
   "metadata": {},
   "source": [
    "### Notebook\n",
    "- Creates Figure S2: The cumulative number of driver mutations pan-cancer per cohort"
   ]
  },
  {
   "cell_type": "code",
   "execution_count": 1,
   "metadata": {},
   "outputs": [],
   "source": [
    "import pandas as pd\n",
    "import numpy as np\n",
    "from scipy.stats import fisher_exact, ks_2samp\n",
    "from statsmodels.distributions.empirical_distribution import ECDF\n",
    "\n",
    "import matplotlib.pyplot as plt\n",
    "from matplotlib import gridspec \n",
    "import seaborn as sns\n",
    "sns.set_style('white')\n",
    "%matplotlib inline"
   ]
  },
  {
   "cell_type": "markdown",
   "metadata": {},
   "source": [
    "### 0. Global variables"
   ]
  },
  {
   "cell_type": "code",
   "execution_count": 2,
   "metadata": {},
   "outputs": [],
   "source": [
    "MSS = 'MSS_only' # MSS_only, MSS_and_MSI\n",
    "\n",
    "mss_patients = np.loadtxt('../data/mss_tcga_patients.txt', dtype=str)"
   ]
  },
  {
   "cell_type": "markdown",
   "metadata": {},
   "source": [
    "### 1. Load data"
   ]
  },
  {
   "cell_type": "markdown",
   "metadata": {},
   "source": [
    "##### 1A. Load patients"
   ]
  },
  {
   "cell_type": "code",
   "execution_count": 3,
   "metadata": {},
   "outputs": [
    {
     "name": "stdout",
     "output_type": "stream",
     "text": [
      "Loading confident MSS_only patients with removed sex-specific cancers \n",
      "2554 confident MHC-I, 2681 confident MHC-II\n"
     ]
    },
    {
     "data": {
      "text/html": [
       "<div>\n",
       "<style scoped>\n",
       "    .dataframe tbody tr th:only-of-type {\n",
       "        vertical-align: middle;\n",
       "    }\n",
       "\n",
       "    .dataframe tbody tr th {\n",
       "        vertical-align: top;\n",
       "    }\n",
       "\n",
       "    .dataframe thead th {\n",
       "        text-align: right;\n",
       "    }\n",
       "</style>\n",
       "<table border=\"1\" class=\"dataframe\">\n",
       "  <thead>\n",
       "    <tr style=\"text-align: right;\">\n",
       "      <th></th>\n",
       "      <th>scores</th>\n",
       "      <th>disease</th>\n",
       "      <th>age</th>\n",
       "      <th>sex</th>\n",
       "    </tr>\n",
       "  </thead>\n",
       "  <tbody>\n",
       "    <tr>\n",
       "      <td>TCGA-85-8580</td>\n",
       "      <td>0.120879</td>\n",
       "      <td>LUSC</td>\n",
       "      <td>52.0</td>\n",
       "      <td>female</td>\n",
       "    </tr>\n",
       "    <tr>\n",
       "      <td>TCGA-IB-AAUM</td>\n",
       "      <td>1.249676</td>\n",
       "      <td>PAAD</td>\n",
       "      <td>76.0</td>\n",
       "      <td>male</td>\n",
       "    </tr>\n",
       "  </tbody>\n",
       "</table>\n",
       "</div>"
      ],
      "text/plain": [
       "                scores disease   age     sex\n",
       "TCGA-85-8580  0.120879    LUSC  52.0  female\n",
       "TCGA-IB-AAUM  1.249676    PAAD  76.0    male"
      ]
     },
     "execution_count": 3,
     "metadata": {},
     "output_type": "execute_result"
    }
   ],
   "source": [
    "# Remove sex-specific cancers for sex-specific analyses\n",
    "print('Loading confident {} patients with removed sex-specific cancers '.format(MSS))\n",
    "confident_patients_I_rm_sex_specific = pd.read_csv('../generated_data/confident_patient_I.age_sex_disease.{}.remove_sex_specific.tsv'.format(MSS), sep='\\t', index_col=0)\n",
    "confident_patients_II_rm_sex_specific = pd.read_csv('../generated_data/confident_patient_II.age_sex_disease.{}.remove_sex_specific.tsv'.format(MSS), sep='\\t', index_col=0)\n",
    "\n",
    "print('{} confident MHC-I, {} confident MHC-II'.format(len(set(confident_patients_I_rm_sex_specific.index)), \n",
    "                                                       len(set(confident_patients_II_rm_sex_specific.index))))\n",
    "confident_patients_I_rm_sex_specific.head(2)"
   ]
  },
  {
   "cell_type": "code",
   "execution_count": 4,
   "metadata": {},
   "outputs": [
    {
     "name": "stdout",
     "output_type": "stream",
     "text": [
      "Loading confident MSS_only patients with kept sex-specific cancers\n",
      "1968 confident MHC-I, 1917 confident MHC-II\n"
     ]
    },
    {
     "data": {
      "text/html": [
       "<div>\n",
       "<style scoped>\n",
       "    .dataframe tbody tr th:only-of-type {\n",
       "        vertical-align: middle;\n",
       "    }\n",
       "\n",
       "    .dataframe tbody tr th {\n",
       "        vertical-align: top;\n",
       "    }\n",
       "\n",
       "    .dataframe thead th {\n",
       "        text-align: right;\n",
       "    }\n",
       "</style>\n",
       "<table border=\"1\" class=\"dataframe\">\n",
       "  <thead>\n",
       "    <tr style=\"text-align: right;\">\n",
       "      <th></th>\n",
       "      <th>scores</th>\n",
       "      <th>disease</th>\n",
       "      <th>age</th>\n",
       "      <th>sex</th>\n",
       "      <th>age_categorical_3070</th>\n",
       "    </tr>\n",
       "  </thead>\n",
       "  <tbody>\n",
       "    <tr>\n",
       "      <td>TCGA-85-8580</td>\n",
       "      <td>0.120879</td>\n",
       "      <td>LUSC</td>\n",
       "      <td>52.0</td>\n",
       "      <td>female</td>\n",
       "      <td>younger</td>\n",
       "    </tr>\n",
       "    <tr>\n",
       "      <td>TCGA-IB-AAUM</td>\n",
       "      <td>1.249676</td>\n",
       "      <td>PAAD</td>\n",
       "      <td>76.0</td>\n",
       "      <td>male</td>\n",
       "      <td>older</td>\n",
       "    </tr>\n",
       "  </tbody>\n",
       "</table>\n",
       "</div>"
      ],
      "text/plain": [
       "                scores disease   age     sex age_categorical_3070\n",
       "TCGA-85-8580  0.120879    LUSC  52.0  female              younger\n",
       "TCGA-IB-AAUM  1.249676    PAAD  76.0    male                older"
      ]
     },
     "execution_count": 4,
     "metadata": {},
     "output_type": "execute_result"
    }
   ],
   "source": [
    "# Keep sex-specific cancers for age-specific analyses\n",
    "print('Loading confident {} patients with kept sex-specific cancers'.format(MSS))\n",
    "confident_patients_I_kept_sex_specific = pd.read_csv('../generated_data/confident_patient_I.age_sex_disease.{}.kept_sex_specific.tsv'.format(MSS), sep='\\t', index_col=0)\n",
    "confident_patients_II_kept_sex_specific = pd.read_csv('../generated_data/confident_patient_II.age_sex_disease.{}.kept_sex_specific.tsv'.format(MSS), sep='\\t', index_col=0)\n",
    "\n",
    "# set age threshold\n",
    "young_thresh = 52 # 30th percentile: 52, 40th: 57\n",
    "old_thresh = 68-1   # 70th percentile: 68, 60th: 65\n",
    "\n",
    "# create categorical age value\n",
    "confident_patients_I_kept_sex_specific['age_categorical_3070'] = pd.cut(confident_patients_I_kept_sex_specific['age'], [0, young_thresh, old_thresh, confident_patients_I_kept_sex_specific['age'].max()], labels=['younger', 'middle', 'older'])\n",
    "confident_patients_II_kept_sex_specific['age_categorical_3070'] = pd.cut(confident_patients_II_kept_sex_specific['age'], [0, young_thresh, old_thresh, confident_patients_II_kept_sex_specific['age'].max()], labels=['younger', 'middle', 'older'])\n",
    "\n",
    "confident_patients_I_kept_sex_specific = confident_patients_I_kept_sex_specific[confident_patients_I_kept_sex_specific['age_categorical_3070']!='middle']\n",
    "confident_patients_II_kept_sex_specific = confident_patients_II_kept_sex_specific[confident_patients_II_kept_sex_specific['age_categorical_3070']!='middle']\n",
    "\n",
    "print('{} confident MHC-I, {} confident MHC-II'.format(len(set(confident_patients_I_kept_sex_specific.index)), \n",
    "                                                       len(set(confident_patients_II_kept_sex_specific.index))))\n",
    "confident_patients_I_kept_sex_specific.head(2)"
   ]
  },
  {
   "cell_type": "markdown",
   "metadata": {},
   "source": [
    "##### 1B. Load mutation data\n",
    "- Subset to sex-specific patients or not, for the sex and age analyses, respectively"
   ]
  },
  {
   "cell_type": "code",
   "execution_count": 5,
   "metadata": {},
   "outputs": [],
   "source": [
    "# sex analysis\n",
    "binary_mut_I_sex_df = pd.read_csv('../data/patient_binary_driver.expressed_only.matrix', sep='\\t', index_col=0)\n",
    "binary_mut_I_sex_df = binary_mut_I_sex_df[binary_mut_I_sex_df.index.isin(confident_patients_I_rm_sex_specific.index)]\n",
    "\n",
    "binary_mut_II_sex_df = pd.read_csv('../data/patient_binary_driver.expressed_only.matrix', sep='\\t', index_col=0)\n",
    "binary_mut_II_sex_df = binary_mut_II_sex_df[binary_mut_II_sex_df.index.isin(confident_patients_II_rm_sex_specific.index)]"
   ]
  },
  {
   "cell_type": "code",
   "execution_count": 6,
   "metadata": {},
   "outputs": [],
   "source": [
    "# age analysis\n",
    "binary_mut_I_age_df = pd.read_csv('../data/patient_binary_driver.expressed_only.matrix', sep='\\t', index_col=0)\n",
    "binary_mut_I_age_df = binary_mut_I_age_df[binary_mut_I_age_df.index.isin(confident_patients_I_kept_sex_specific.index)]\n",
    "\n",
    "binary_mut_II_age_df = pd.read_csv('../data/patient_binary_driver.expressed_only.matrix', sep='\\t', index_col=0)\n",
    "binary_mut_II_age_df = binary_mut_II_age_df[binary_mut_II_age_df.index.isin(confident_patients_II_kept_sex_specific.index)]"
   ]
  },
  {
   "cell_type": "markdown",
   "metadata": {},
   "source": [
    "###### 1Ba. How many patients have 0?"
   ]
  },
  {
   "cell_type": "code",
   "execution_count": 7,
   "metadata": {},
   "outputs": [
    {
     "name": "stdout",
     "output_type": "stream",
     "text": [
      "(9727, 1017)\n"
     ]
    },
    {
     "data": {
      "text/plain": [
       "TCGA-X2-A95T    0\n",
       "TCGA-G7-6793    0\n",
       "TCGA-FW-A3I3    0\n",
       "TCGA-VS-A8QF    0\n",
       "TCGA-98-A539    0\n",
       "               ..\n",
       "TCGA-CH-5739    0\n",
       "TCGA-S9-A6WM    0\n",
       "TCGA-DD-AAD1    0\n",
       "TCGA-YG-AA3P    0\n",
       "TCGA-2G-AAGE    0\n",
       "Length: 4360, dtype: int64"
      ]
     },
     "execution_count": 7,
     "metadata": {},
     "output_type": "execute_result"
    }
   ],
   "source": [
    "zero_I_sex_df = pd.read_csv('../data/patient_binary_driver.expressed_only.matrix', sep='\\t', index_col=0)\n",
    "print(zero_I_sex_df.shape)\n",
    "zero_I_sex_df = zero_I_sex_df.sum(axis=1)\n",
    "zero_I_sex_df = zero_I_sex_df[zero_I_sex_df==0]\n",
    "zero_I_sex_df"
   ]
  },
  {
   "cell_type": "markdown",
   "metadata": {},
   "source": [
    "##### 1C. Subset to male/female and younger/older patients\n",
    "- Total sum first"
   ]
  },
  {
   "cell_type": "code",
   "execution_count": 8,
   "metadata": {
    "scrolled": true
   },
   "outputs": [],
   "source": [
    "# sex\n",
    "female_I = binary_mut_I_sex_df[binary_mut_I_sex_df.index.isin(confident_patients_I_rm_sex_specific[confident_patients_I_rm_sex_specific['sex']=='female'].index)].sum(axis=1) \n",
    "male_I = binary_mut_I_sex_df[binary_mut_I_sex_df.index.isin(confident_patients_I_rm_sex_specific[confident_patients_I_rm_sex_specific['sex']=='male'].index)].sum(axis=1) \n",
    "\n",
    "female_II = binary_mut_II_sex_df[binary_mut_II_sex_df.index.isin(confident_patients_II_rm_sex_specific[confident_patients_II_rm_sex_specific['sex']=='female'].index)].sum(axis=1) \n",
    "male_II = binary_mut_II_sex_df[binary_mut_II_sex_df.index.isin(confident_patients_II_rm_sex_specific[confident_patients_II_rm_sex_specific['sex']=='male'].index)].sum(axis=1) \n",
    "\n",
    "# age  \n",
    "younger_I = binary_mut_I_age_df[binary_mut_I_age_df.index.isin(confident_patients_I_kept_sex_specific[confident_patients_I_kept_sex_specific['age_categorical_3070']=='younger'].index)].sum(axis=1)\n",
    "older_I = binary_mut_I_age_df[binary_mut_I_age_df.index.isin(confident_patients_I_kept_sex_specific[confident_patients_I_kept_sex_specific['age_categorical_3070']=='older'].index)].sum(axis=1)\n",
    "\n",
    "younger_II = binary_mut_II_age_df[binary_mut_II_age_df.index.isin(confident_patients_II_kept_sex_specific[confident_patients_II_kept_sex_specific['age_categorical_3070']=='younger'].index)].sum(axis=1)\n",
    "older_II = binary_mut_II_age_df[binary_mut_II_age_df.index.isin(confident_patients_II_kept_sex_specific[confident_patients_II_kept_sex_specific['age_categorical_3070']=='older'].index)].sum(axis=1)"
   ]
  },
  {
   "cell_type": "code",
   "execution_count": 9,
   "metadata": {},
   "outputs": [],
   "source": [
    "def make_ECDF_and_compare(one, two, one_category_string, two_category_string, one_color, two_color,\n",
    "                          savepath):\n",
    "    # prep, consolidate\n",
    "    one = pd.DataFrame(one, columns=['num_drivers'])\n",
    "    one['category'] = one_category_string\n",
    "    \n",
    "    two = pd.DataFrame(two, columns=['num_drivers'])\n",
    "    two['category'] = two_category_string\n",
    "    \n",
    "    df = one.append(two)\n",
    "    \n",
    "    # ECDF & p-value\n",
    "    one_ecdf = ECDF(df[df['category']==one_category_string]['num_drivers'].values)\n",
    "    two_ecdf = ECDF(df[df['category']==two_category_string]['num_drivers'].values)\n",
    "\n",
    "    ks, p = ks_2samp(one_ecdf.y, two_ecdf.y)\n",
    "    \n",
    "    # plot\n",
    "    plt.figure(figsize=(4,3))\n",
    "    plt.plot(one_ecdf.x, one_ecdf.y, label=one_category_string, color=one_color)\n",
    "    plt.plot(two_ecdf.x, two_ecdf.y, label=two_category_string, color=two_color)\n",
    "    plt.text(14,0.25,'KS: {:.2}\\np<{:.3}'.format(ks, p))\n",
    "    print(ks, p)\n",
    "    plt.xlim(0,20)\n",
    "    plt.legend()\n",
    "    print('Saving to {}'.format(savepath))\n",
    "    plt.savefig(savepath)\n",
    "    plt.show()"
   ]
  },
  {
   "cell_type": "code",
   "execution_count": 10,
   "metadata": {},
   "outputs": [
    {
     "name": "stdout",
     "output_type": "stream",
     "text": [
      "0.0009227611034706706 1.0\n",
      "Saving to ../figures/S2.num_drivers.sex_I.ecdf.pdf\n"
     ]
    },
    {
     "data": {
      "image/png": "[encoded data removed]",
      "text/plain": [
       "<Figure size 288x216 with 1 Axes>"
      ]
     },
     "metadata": {
      "needs_background": "light"
     },
     "output_type": "display_data"
    },
    {
     "name": "stdout",
     "output_type": "stream",
     "text": [
      "0.0008949825828806768 1.0\n",
      "Saving to ../figures/S2.num_drivers.sex_II.ecdf.pdf\n"
     ]
    },
    {
     "data": {
      "image/png": "[encoded data removed]",
      "text/plain": [
       "<Figure size 288x216 with 1 Axes>"
      ]
     },
     "metadata": {
      "needs_background": "light"
     },
     "output_type": "display_data"
    },
    {
     "name": "stdout",
     "output_type": "stream",
     "text": [
      "0.0010397744679665928 1.0\n",
      "Saving to ../figures/S2.num_drivers.age_I.ecdf.pdf\n"
     ]
    },
    {
     "data": {
      "image/png": "[encoded data removed]",
      "text/plain": [
       "<Figure size 288x216 with 1 Axes>"
      ]
     },
     "metadata": {
      "needs_background": "light"
     },
     "output_type": "display_data"
    },
    {
     "name": "stdout",
     "output_type": "stream",
     "text": [
      "0.001044988833175442 1.0\n",
      "Saving to ../figures/S2.num_drivers.age_II.ecdf.pdf\n"
     ]
    },
    {
     "data": {
      "image/png": "[encoded data removed]",
      "text/plain": [
       "<Figure size 288x216 with 1 Axes>"
      ]
     },
     "metadata": {
      "needs_background": "light"
     },
     "output_type": "display_data"
    }
   ],
   "source": [
    "make_ECDF_and_compare(male_I, female_I, 'Male', 'Female', 'lightblue', 'lightpink', \n",
    "                      savepath='../figures/S2.num_drivers.sex_I.ecdf.pdf')\n",
    "make_ECDF_and_compare(male_II, female_II, 'Male', 'Female', 'lightblue', 'lightpink', \n",
    "                      savepath='../figures/S2.num_drivers.sex_II.ecdf.pdf')\n",
    "make_ECDF_and_compare(older_I, younger_I, 'Older', 'Younger', 'darkgrey', 'lightgrey', \n",
    "                      savepath='../figures/S2.num_drivers.age_I.ecdf.pdf')\n",
    "make_ECDF_and_compare(older_II, younger_II, 'Older', 'Younger', 'darkgrey', 'lightgrey', \n",
    "                      savepath='../figures/S2.num_drivers.age_II.ecdf.pdf')"
   ]
  },
  {
   "cell_type": "code",
   "execution_count": null,
   "metadata": {},
   "outputs": [],
   "source": []
  }
 ],
 "metadata": {
  "kernelspec": {
   "display_name": "Python 3",
   "language": "python",
   "name": "python3"
  },
  "language_info": {
   "codemirror_mode": {
    "name": "ipython",
    "version": 3
   },
   "file_extension": ".py",
   "mimetype": "text/x-python",
   "name": "python",
   "nbconvert_exporter": "python",
   "pygments_lexer": "ipython3",
   "version": "3.6.8"
  }
 },
 "nbformat": 4,
 "nbformat_minor": 2
}
