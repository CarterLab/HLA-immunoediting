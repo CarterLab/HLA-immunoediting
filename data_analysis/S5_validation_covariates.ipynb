{
 "cells": [
  {
   "cell_type": "code",
   "execution_count": 1,
   "metadata": {},
   "outputs": [],
   "source": [
    "import pandas as pd\n",
    "import matplotlib.pyplot as plt\n",
    "from matplotlib import gridspec\n",
    "import seaborn as sns\n",
    "sns.set_style('white')\n",
    "%matplotlib inline"
   ]
  },
  {
   "cell_type": "markdown",
   "metadata": {},
   "source": [
    "# S5. "
   ]
  },
  {
   "cell_type": "code",
   "execution_count": 9,
   "metadata": {},
   "outputs": [
    {
     "name": "stderr",
     "output_type": "stream",
     "text": [
      "/cellar/users/andreabc/miniconda3/lib/python3.6/site-packages/pandas/core/frame.py:6201: FutureWarning: Sorting because non-concatenation axis is not aligned. A future version\n",
      "of pandas will change to not sort by default.\n",
      "\n",
      "To accept the future behavior, pass 'sort=True'.\n",
      "\n",
      "To retain the current behavior and silence the warning, pass sort=False\n",
      "\n",
      "  sort=sort)\n"
     ]
    },
    {
     "data": {
      "text/html": [
       "<div>\n",
       "<style scoped>\n",
       "    .dataframe tbody tr th:only-of-type {\n",
       "        vertical-align: middle;\n",
       "    }\n",
       "\n",
       "    .dataframe tbody tr th {\n",
       "        vertical-align: top;\n",
       "    }\n",
       "\n",
       "    .dataframe thead th {\n",
       "        text-align: right;\n",
       "    }\n",
       "</style>\n",
       "<table border=\"1\" class=\"dataframe\">\n",
       "  <thead>\n",
       "    <tr style=\"text-align: right;\">\n",
       "      <th></th>\n",
       "      <th>age</th>\n",
       "      <th>sex</th>\n",
       "    </tr>\n",
       "  </thead>\n",
       "  <tbody>\n",
       "    <tr>\n",
       "      <th>DO51967</th>\n",
       "      <td>54.0</td>\n",
       "      <td>female</td>\n",
       "    </tr>\n",
       "    <tr>\n",
       "      <th>DO47068</th>\n",
       "      <td>48.0</td>\n",
       "      <td>male</td>\n",
       "    </tr>\n",
       "  </tbody>\n",
       "</table>\n",
       "</div>"
      ],
      "text/plain": [
       "          age     sex\n",
       "DO51967  54.0  female\n",
       "DO47068  48.0    male"
      ]
     },
     "execution_count": 9,
     "metadata": {},
     "output_type": "execute_result"
    }
   ],
   "source": [
    "# # clinical\n",
    "# clinical = pd.read_csv('/cellar/users/andreabc/Data/hla_sex/validation/clean_data/clinical.donors.02_28_19.tsv', \n",
    "#                           sep='\\t', index_col=0)[['donor_sex', 'donor_age_at_diagnosis']]\n",
    "# clinical.columns=['sex', 'age']\n",
    "# clinical = clinical.append(pd.read_csv('/cellar/users/andreabc/Data/dbgap/clinical.all.txt', sep='\\t', index_col=0)[['sex', 'age']])\n",
    "# clinical = clinical.append(pd.read_csv('/nrnb/data/controlled/2019_dbGap_phs000452.v2.p1.c1_MelanomaGenomeSeq/cleaned_clinical/clinical.tsv', sep='\\t', index_col='SUBJID', usecols=['SUBJID', 'sex', 'age']))\n",
    "# clinical = clinical.append(pd.read_csv('/nrnb/data/controlled/2019_dbGap_phs001451.v1.p1.c1_PhaseIMelanomaVac/cleaned_clinical/clinical.tsv', sep='\\t', index_col='SUBJID')[['sex', 'age']])\n",
    "# clinical = clinical.append(pd.read_csv('/nrnb/data/controlled/2019_dbGap_phs001565.v1.p1.c1_GenCorrRespResICB_CancerMDS/cleaned_clinical/clinical.tsv', index_col='SUBJID', sep='\\t', usecols=['sex', 'SUBJID', 'age']))\n",
    "# clinical = clinical.append(pd.read_csv('/nrnb/data/controlled/2019_dbGap_phs001519.v1.p1.c1_GBMPhaseIVaccine/cleaned_clinical/clinical.tsv', index_col='SUBJID', sep='\\t', usecols=['sex', 'SUBJID', 'age']))\n",
    "# clinical = clinical.append(pd.read_csv('/cellar/users/andreabc/Data/hla_sex/validation/clean_data/clinical.donor.THCA-SA.cleaned.tsv', index_col='SUBJID', sep='\\t', usecols=['sex', 'SUBJID', 'age']))\n",
    "# clinical = clinical.append(pd.read_csv('/nrnb/users/andreabc/Data/ICGC/clean_output/clinical.tsv', index_col='SUBJID', sep='\\t', usecols=['sex', 'SUBJID', 'age']))\n",
    "\n",
    "# clinical.head(2)"
   ]
  },
  {
   "cell_type": "markdown",
   "metadata": {},
   "source": [
    "#### A. Sex B. age distributions"
   ]
  },
  {
   "cell_type": "code",
   "execution_count": 2,
   "metadata": {},
   "outputs": [
    {
     "data": {
      "text/html": [
       "<div>\n",
       "<style scoped>\n",
       "    .dataframe tbody tr th:only-of-type {\n",
       "        vertical-align: middle;\n",
       "    }\n",
       "\n",
       "    .dataframe tbody tr th {\n",
       "        vertical-align: top;\n",
       "    }\n",
       "\n",
       "    .dataframe thead th {\n",
       "        text-align: right;\n",
       "    }\n",
       "</style>\n",
       "<table border=\"1\" class=\"dataframe\">\n",
       "  <thead>\n",
       "    <tr style=\"text-align: right;\">\n",
       "      <th></th>\n",
       "      <th>PHBR_score</th>\n",
       "      <th>age</th>\n",
       "      <th>age_categorical_3070</th>\n",
       "      <th>mutation_id</th>\n",
       "      <th>project_code</th>\n",
       "      <th>sex</th>\n",
       "      <th>tumor_type</th>\n",
       "    </tr>\n",
       "    <tr>\n",
       "      <th>index</th>\n",
       "      <th></th>\n",
       "      <th></th>\n",
       "      <th></th>\n",
       "      <th></th>\n",
       "      <th></th>\n",
       "      <th></th>\n",
       "      <th></th>\n",
       "    </tr>\n",
       "  </thead>\n",
       "  <tbody>\n",
       "    <tr>\n",
       "      <th>DO27765</th>\n",
       "      <td>0.985454</td>\n",
       "      <td>4.0</td>\n",
       "      <td>younger</td>\n",
       "      <td>M_TP53_S215R</td>\n",
       "      <td>NaN</td>\n",
       "      <td>male</td>\n",
       "      <td>MALY</td>\n",
       "    </tr>\n",
       "    <tr>\n",
       "      <th>DO27775</th>\n",
       "      <td>5.304091</td>\n",
       "      <td>4.0</td>\n",
       "      <td>younger</td>\n",
       "      <td>M_TP53_R273H</td>\n",
       "      <td>NaN</td>\n",
       "      <td>male</td>\n",
       "      <td>MALY</td>\n",
       "    </tr>\n",
       "  </tbody>\n",
       "</table>\n",
       "</div>"
      ],
      "text/plain": [
       "         PHBR_score  age age_categorical_3070   mutation_id project_code  \\\n",
       "index                                                                      \n",
       "DO27765    0.985454  4.0              younger  M_TP53_S215R          NaN   \n",
       "DO27775    5.304091  4.0              younger  M_TP53_R273H          NaN   \n",
       "\n",
       "          sex tumor_type  \n",
       "index                     \n",
       "DO27765  male       MALY  \n",
       "DO27775  male       MALY  "
      ]
     },
     "execution_count": 2,
     "metadata": {},
     "output_type": "execute_result"
    }
   ],
   "source": [
    "mhc_df = pd.read_csv('/cellar/users/andreabc/Data/hla_sex/validation/clean_data/boxplot_data.MHC-I.tsv', sep='\\t', index_col=0)\n",
    "mhc_df = mhc_df.append(pd.read_csv('/cellar/users/andreabc/Data/hla_sex/validation/clean_data/boxplot_data.MHC-II.tsv', sep='\\t', index_col=0))\n",
    "\n",
    "mhc_df.reset_index(inplace=True)\n",
    "mhc_df = mhc_df.drop_duplicates(subset=['index']).set_index('index')\n",
    "mhc_df.head(2)"
   ]
  },
  {
   "cell_type": "code",
   "execution_count": 63,
   "metadata": {},
   "outputs": [
    {
     "name": "stdout",
     "output_type": "stream",
     "text": [
      "Saving to /cellar/users/andreabc/Data/hla_sex/figures/supplementary/S5.valid.sex_age_counts.pdf\n"
     ]
    },
    {
     "data": {
      "image/png": "[encoded data removed]",
      "text/plain": [
       "<Figure size 360x360 with 2 Axes>"
      ]
     },
     "metadata": {
      "needs_background": "light"
     },
     "output_type": "display_data"
    }
   ],
   "source": [
    "plt.figure(figsize=(5,5))\n",
    "gs = gridspec.GridSpec(2, 2, width_ratios=[1.2, 3]) \n",
    "\n",
    "# A - pancancer sex counts\n",
    "plt.subplot(gs[0])\n",
    "data = pd.DataFrame(mhc_df['sex'].value_counts()).T\n",
    "ax = sns.barplot(data=data, order=['female', 'male'], palette=['pink', 'lightblue'])\n",
    "plt.xlabel('Sex'), plt.ylabel('Number of non-sex-specific\\npan-cancer patients')\n",
    "plt.xticks([0,1], ['Female', 'Male'])\n",
    "plt.text(-0.3, 1.1, 'A', transform=ax.transAxes, fontsize=16,  weight='bold')\n",
    "\n",
    "# B - pancancer age distribution\n",
    "age_df = mhc_df.dropna(subset=['age'])\n",
    "fig = plt.subplot(gs[1])\n",
    "plt.hist(x=age_df['age'].values, bins=10, color='grey')\n",
    "plt.xlabel('Age')\n",
    "plt.ylabel('Number of\\npan-cancer patients')\n",
    "# plt.yticks(range(0,1401,200))\n",
    "plt.text(-0.3, 1.1, 'B', transform=fig.transAxes, fontsize=16,  weight='bold')\n",
    "\n",
    "plt.tight_layout(pad=0.6, h_pad=1)\n",
    "\n",
    "savepath = '/cellar/users/andreabc/Data/hla_sex/figures/supplementary/S5.valid.sex_age_counts.pdf'\n",
    "print('Saving to {}'.format(savepath))\n",
    "plt.savefig(savepath, bbox_inches='tight')\n",
    "plt.show()"
   ]
  },
  {
   "cell_type": "markdown",
   "metadata": {},
   "source": [
    "#### C-D. Driver mutation counts"
   ]
  },
  {
   "cell_type": "code",
   "execution_count": 11,
   "metadata": {},
   "outputs": [],
   "source": [
    "# load patients\n",
    "mhcI = pd.read_csv('/cellar/users/andreabc/Data/hla_sex/validation/clean_data/boxplot_data.MHC-I.tsv', sep='\\t', index_col=0)\n",
    "mhcII = pd.read_csv('/cellar/users/andreabc/Data/hla_sex/validation/clean_data/boxplot_data.MHC-II.tsv', sep='\\t', index_col=0)"
   ]
  },
  {
   "cell_type": "code",
   "execution_count": 8,
   "metadata": {},
   "outputs": [],
   "source": [
    "# load binary driver matrix\n",
    "binary_mut_df = pd.read_csv('/cellar/users/andreabc/Data/dbgap/driver_mut.binary_matrix', sep='\\t', index_col=0)\n",
    "binary_mut_df = binary_mut_df.append(pd.read_csv('/cellar/users/andreabc/Data/hla_sex/validation/clean_data/binary_driver_mut.ICGC.CLLE-ES.matrix', sep='\\t', index_col=0))\n",
    "binary_mut_df = binary_mut_df.append(pd.read_csv('/cellar/users/andreabc/Data/hla_sex/validation/clean_data/binary_driver_mut.ICGC.THCA-SA.matrix', sep='\\t', index_col=0))\n",
    "binary_mut_df = binary_mut_df.append(pd.read_csv('/cellar/users/andreabc/Data/hla_sex/validation/clean_data/binary_driver_mut.ICGC.matrix', sep='\\t', index_col=0))\n",
    "binary_mut_df = binary_mut_df.append(pd.read_csv('/cellar/users/andreabc/Data/hla_sex/validation/clean_data/binary_driver_mut.phs000452.v2.p1.c1_MelanomaGenomeSeq.matrix', sep='\\t', index_col=0))\n",
    "binary_mut_df = binary_mut_df.append(pd.read_csv('/cellar/users/andreabc/Data/hla_sex/validation/clean_data/binary_driver_mut.phs001451.v1.p1.c1_PhaseIMelanomaVac.matrix', sep='\\t', index_col=0))\n",
    "binary_mut_df = binary_mut_df.append(pd.read_csv('/cellar/users/andreabc/Data/hla_sex/validation/clean_data/binary_driver_mut.phs001519.v1.p1.c1_GBMPhaseIVaccine.matrix', sep='\\t', index_col=0))\n",
    "binary_mut_df = binary_mut_df.append(pd.read_csv('/cellar/users/andreabc/Data/hla_sex/validation/clean_data/binary_driver_mut.phs001565.v1.p1.c1_GenCorrRespResICB_CancerMDS.matrix', sep='\\t', index_col=0))"
   ]
  },
  {
   "cell_type": "code",
   "execution_count": 13,
   "metadata": {},
   "outputs": [],
   "source": [
    "# subset mutation matrix\n",
    "binary_mut_I_df = binary_mut_df[binary_mut_df.index.isin(mhcI.index)]\n",
    "binary_mut_II_df = binary_mut_df[binary_mut_df.index.isin(mhcII.index)]"
   ]
  },
  {
   "cell_type": "code",
   "execution_count": 17,
   "metadata": {},
   "outputs": [],
   "source": [
    "female_I = binary_mut_I_df[binary_mut_I_df.index.isin(mhcI[mhcI['sex']=='female'].index)].sum(axis=1).mean()\n",
    "male_I = binary_mut_I_df[binary_mut_I_df.index.isin(mhcI[mhcI['sex']=='male'].index)].sum(axis=1).mean()\n",
    "\n",
    "female_II = binary_mut_II_df[binary_mut_II_df.index.isin(mhcII[mhcII['sex']=='female'].index)].sum(axis=1).mean()\n",
    "male_II = binary_mut_II_df[binary_mut_II_df.index.isin(mhcII[mhcII['sex']=='male'].index)].sum(axis=1).mean()\n",
    "\n",
    "younger_I = binary_mut_I_df[binary_mut_I_df.index.isin(mhcI[mhcI['age_categorical_3070']=='younger'].index)].sum(axis=1).mean()\n",
    "older_I = binary_mut_I_df[binary_mut_I_df.index.isin(mhcI[mhcI['age_categorical_3070']=='older'].index)].sum(axis=1).mean()\n",
    "\n",
    "younger_II = binary_mut_II_df[binary_mut_II_df.index.isin(mhcII[mhcII['age_categorical_3070']=='younger'].index)].sum(axis=1).mean()\n",
    "older_II = binary_mut_II_df[binary_mut_II_df.index.isin(mhcII[mhcII['age_categorical_3070']=='older'].index)].sum(axis=1).mean()"
   ]
  },
  {
   "cell_type": "code",
   "execution_count": 65,
   "metadata": {},
   "outputs": [
    {
     "data": {
      "text/html": [
       "<div>\n",
       "<style scoped>\n",
       "    .dataframe tbody tr th:only-of-type {\n",
       "        vertical-align: middle;\n",
       "    }\n",
       "\n",
       "    .dataframe tbody tr th {\n",
       "        vertical-align: top;\n",
       "    }\n",
       "\n",
       "    .dataframe thead th {\n",
       "        text-align: right;\n",
       "    }\n",
       "</style>\n",
       "<table border=\"1\" class=\"dataframe\">\n",
       "  <thead>\n",
       "    <tr style=\"text-align: right;\">\n",
       "      <th></th>\n",
       "      <th>count</th>\n",
       "      <th>class</th>\n",
       "      <th>category</th>\n",
       "    </tr>\n",
       "  </thead>\n",
       "  <tbody>\n",
       "    <tr>\n",
       "      <th>0</th>\n",
       "      <td>1.251799</td>\n",
       "      <td>I</td>\n",
       "      <td>Female</td>\n",
       "    </tr>\n",
       "    <tr>\n",
       "      <th>1</th>\n",
       "      <td>1.333333</td>\n",
       "      <td>I</td>\n",
       "      <td>Male</td>\n",
       "    </tr>\n",
       "    <tr>\n",
       "      <th>2</th>\n",
       "      <td>1.196850</td>\n",
       "      <td>II</td>\n",
       "      <td>Female</td>\n",
       "    </tr>\n",
       "    <tr>\n",
       "      <th>3</th>\n",
       "      <td>1.326087</td>\n",
       "      <td>II</td>\n",
       "      <td>Male</td>\n",
       "    </tr>\n",
       "    <tr>\n",
       "      <th>4</th>\n",
       "      <td>1.259259</td>\n",
       "      <td>I</td>\n",
       "      <td>Younger</td>\n",
       "    </tr>\n",
       "    <tr>\n",
       "      <th>5</th>\n",
       "      <td>1.323944</td>\n",
       "      <td>I</td>\n",
       "      <td>Older</td>\n",
       "    </tr>\n",
       "    <tr>\n",
       "      <th>6</th>\n",
       "      <td>1.212963</td>\n",
       "      <td>II</td>\n",
       "      <td>Younger</td>\n",
       "    </tr>\n",
       "    <tr>\n",
       "      <th>7</th>\n",
       "      <td>1.300000</td>\n",
       "      <td>II</td>\n",
       "      <td>Older</td>\n",
       "    </tr>\n",
       "  </tbody>\n",
       "</table>\n",
       "</div>"
      ],
      "text/plain": [
       "      count class category\n",
       "0  1.251799     I   Female\n",
       "1  1.333333     I     Male\n",
       "2  1.196850    II   Female\n",
       "3  1.326087    II     Male\n",
       "4  1.259259     I  Younger\n",
       "5  1.323944     I    Older\n",
       "6  1.212963    II  Younger\n",
       "7  1.300000    II    Older"
      ]
     },
     "execution_count": 65,
     "metadata": {},
     "output_type": "execute_result"
    }
   ],
   "source": [
    "data = pd.DataFrame({'count': [female_I, male_I, female_II, male_II, younger_I, older_I, younger_II, older_II],\n",
    "                     'class': ['I', 'I', 'II', 'II', 'I', 'I', 'II', 'II'],\n",
    "                     'category': ['Female', 'Male', 'Female', 'Male', 'Younger', 'Older', 'Younger', 'Older']})\n",
    "data"
   ]
  },
  {
   "cell_type": "code",
   "execution_count": 81,
   "metadata": {},
   "outputs": [
    {
     "name": "stdout",
     "output_type": "stream",
     "text": [
      "Saving to /cellar/users/andreabc/Data/hla_sex/figures/supplementary/S5.validation.driver_counts.pdf\n"
     ]
    },
    {
     "data": {
      "image/png": "[encoded data removed]",
      "text/plain": [
       "<Figure size 576x198 with 2 Axes>"
      ]
     },
     "metadata": {
      "needs_background": "light"
     },
     "output_type": "display_data"
    }
   ],
   "source": [
    "# A. MHC-I\n",
    "plt.figure(figsize=(8,2.75))\n",
    "plt.subplot(1,2,1)\n",
    "ax = sns.barplot(x='category', y='count', data=data[data['class']=='I'], \n",
    "            palette=['lightpink', 'lightblue', 'lightgrey', 'darkgrey'])\n",
    "plt.xlabel(''), plt.ylabel('Average driver count pan-cancer\\nfor MHC-I patients')\n",
    "plt.text(-0.2, 1.1, 'C', transform=ax.transAxes, fontsize=16,  weight='bold')\n",
    "\n",
    "# B. MHC-II\n",
    "plt.subplot(1,2,2)\n",
    "ax = sns.barplot(x='category', y='count', data=data[data['class']=='II'], \n",
    "            palette=['lightpink', 'lightblue', 'lightgrey', 'darkgrey'])\n",
    "plt.xlabel(''), plt.ylabel('Average driver count pan-cancer\\nfor MHC-II patients')\n",
    "plt.text(-0.2, 1.1, 'D', transform=ax.transAxes, fontsize=16,  weight='bold')\n",
    "\n",
    "plt.tight_layout()\n",
    "savepath = '/cellar/users/andreabc/Data/hla_sex/figures/supplementary/S5.validation.driver_counts.pdf'\n",
    "print('Saving to {}'.format(savepath))\n",
    "plt.savefig(savepath, bbox_inches='tight')\n",
    "plt.show()"
   ]
  },
  {
   "cell_type": "markdown",
   "metadata": {},
   "source": [
    "#### E-H. PHBR distribution"
   ]
  },
  {
   "cell_type": "code",
   "execution_count": 41,
   "metadata": {},
   "outputs": [],
   "source": [
    "from scipy.stats import mannwhitneyu, ks_2samp"
   ]
  },
  {
   "cell_type": "code",
   "execution_count": 33,
   "metadata": {},
   "outputs": [],
   "source": [
    "# load affinity dataframes\n",
    "affinity_I_df = pd.read_csv('/cellar/users/andreabc/Data/dbgap/driver_mut.class_i.dbgap.affinities', sep='\\t', index_col=0)\n",
    "affinity_I_df = affinity_I_df.append(pd.read_csv('/cellar/users/andreabc/Data/hla_sex/validation/clean_data/driver_mut.class_i.ICGC.affinities', sep='\\t', index_col=0))\n",
    "affinity_I_df = affinity_I_df.append(pd.read_csv('/cellar/users/andreabc/Data/hla_sex/validation/clean_data/driver_mut.class_i.ICGC.THCA-SA.affinities', sep='\\t', index_col=0))\n",
    "affinity_I_df = affinity_I_df.append(pd.read_csv('/cellar/users/andreabc/Data/hla_sex/validation/clean_data/driver_mut.class_i.phs000452.v2.p1.c1_MelanomaGenomeSeq.affinities', sep='\\t', index_col=0))\n",
    "affinity_I_df = affinity_I_df.append(pd.read_csv('/cellar/users/andreabc/Data/hla_sex/validation/clean_data/driver_mut.class_i.phs001451.v1.p1.c1_PhaseIMelanomaVac.affinities', sep='\\t', index_col=0))\n",
    "affinity_I_df = affinity_I_df.append(pd.read_csv('/cellar/users/andreabc/Data/hla_sex/validation/clean_data/driver_mut.class_i.phs001519.v1.p1.c1_GBMPhaseIVaccine.affinities', sep='\\t', index_col=0))\n",
    "affinity_I_df = affinity_I_df.append(pd.read_csv('/cellar/users/andreabc/Data/hla_sex/validation/clean_data/driver_mut.class_i.phs001565.v1.p1.c1_GenCorrRespResICB_CancerMDS.affinities', sep='\\t', index_col=0))\n",
    "affinity_I_df = affinity_I_df[affinity_I_df.index.isin(mhcI.index)]\n",
    "\n",
    "affinity_II_df = pd.read_csv('/cellar/users/andreabc/Data/dbgap/driver_mut.class_ii.dbgap.affinities', sep='\\t', index_col=0)\n",
    "affinity_II_df = affinity_II_df.append(pd.read_csv('/cellar/users/andreabc/Data/hla_sex/validation/clean_data/driver_mut.class_ii.ICGC.affinities', sep='\\t', index_col=0))\n",
    "affinity_II_df = affinity_II_df.append(pd.read_csv('/cellar/users/andreabc/Data/hla_sex/validation/clean_data/driver_mut.class_ii.ICGC.THCA-SA.affinities', sep='\\t', index_col=0))\n",
    "affinity_II_df = affinity_II_df.append(pd.read_csv('/cellar/users/andreabc/Data/hla_sex/validation/clean_data/driver_mut.class_ii.phs000452.v2.p1.c1_MelanomaGenomeSeq.affinities', sep='\\t', index_col=0))\n",
    "affinity_II_df = affinity_II_df.append(pd.read_csv('/cellar/users/andreabc/Data/hla_sex/validation/clean_data/driver_mut.class_ii.phs001451.v1.p1.c1_PhaseIMelanomaVac.affinities', sep='\\t', index_col=0))\n",
    "affinity_II_df = affinity_II_df.append(pd.read_csv('/cellar/users/andreabc/Data/hla_sex/validation/clean_data/driver_mut.class_ii.phs001519.v1.p1.c1_GBMPhaseIVaccine.affinities', sep='\\t', index_col=0))\n",
    "affinity_II_df = affinity_II_df.append(pd.read_csv('/cellar/users/andreabc/Data/hla_sex/validation/clean_data/driver_mut.class_ii.phs001565.v1.p1.c1_GenCorrRespResICB_CancerMDS.affinities', sep='\\t', index_col=0))\n",
    "affinity_II_df = affinity_II_df[affinity_II_df.index.isin(mhcII.index)]"
   ]
  },
  {
   "cell_type": "code",
   "execution_count": 48,
   "metadata": {},
   "outputs": [
    {
     "name": "stdout",
     "output_type": "stream",
     "text": [
      "Saving to /cellar/users/andreabc/Data/hla_sex/figures/supplementary/S5.validation.sex_age_PHBR.violin.pdf\n"
     ]
    },
    {
     "data": {
      "image/png": "[encoded data removed]",
      "text/plain": [
       "<Figure size 504x360 with 4 Axes>"
      ]
     },
     "metadata": {
      "needs_background": "light"
     },
     "output_type": "display_data"
    }
   ],
   "source": [
    "plt.figure(figsize=(7,5))\n",
    "\n",
    "# A - All PHBR-I scores - sex\n",
    "plt.subplot(2,4,1)\n",
    "data = affinity_I_df.join(mhcI[['sex']]).reset_index()\n",
    "data = pd.melt(data, id_vars=['sex', 'index']).drop_duplicates()\n",
    "p = mannwhitneyu(data[data['sex']=='female'].index.values, data[data['sex']=='male'].index.values).pvalue\n",
    "ax = sns.violinplot(x='sex', y='value', data=data, order=['female', 'male'], palette=['pink', 'lightblue'])\n",
    "plt.xlabel('p<{:.3}'.format(p)), plt.ylabel('Pan-cancer PHBR-I')\n",
    "plt.xticks([0,1], ['Female', 'Male'], fontsize='small')\n",
    "plt.ylim(ymin=-0.5, ymax=14.5)\n",
    "plt.text(-0.3, 1.1, 'E', transform=ax.transAxes, fontsize=16,  weight='bold')\n",
    "\n",
    "\n",
    "# B - All PHBR-II scores - sex\n",
    "plt.subplot(2,4,2)\n",
    "data = affinity_II_df.join(mhcII[['sex']]).reset_index()\n",
    "data = pd.melt(data, id_vars=['sex', 'index']).drop_duplicates()\n",
    "p = mannwhitneyu(data[data['sex']=='female'].index.values, data[data['sex']=='male'].index.values).pvalue\n",
    "ax = sns.violinplot(x='sex', y='value', data=data, order=['female', 'male'], palette=['pink', 'lightblue'])\n",
    "plt.xlabel('p<{:.3}'.format(p)), plt.ylabel('Pan-cancer PHBR-II')\n",
    "plt.xticks([0,1], ['Female', 'Male'], fontsize='small')\n",
    "plt.ylim(ymin=-2.7,ymax=81)\n",
    "plt.text(-0.3, 1.1, 'F', transform=ax.transAxes, fontsize=16,  weight='bold')\n",
    "\n",
    "\n",
    "# C - All PHBR-I scores - age\n",
    "plt.subplot(2,4,3)\n",
    "data = affinity_I_df.join(mhcI[['age_categorical_3070']]).reset_index()\n",
    "data = pd.melt(data, id_vars=['age_categorical_3070', 'index']).drop_duplicates()\n",
    "p = mannwhitneyu(data[data['age_categorical_3070']=='younger'].index.values, data[data['age_categorical_3070']=='older'].index.values).pvalue\n",
    "ax = sns.violinplot(x='age_categorical_3070', y='value', data=data, order=['younger', 'older'], palette=['lightgrey', 'darkgrey'])\n",
    "plt.xlabel('p<{:.3}'.format(p)), plt.ylabel('Pan-cancer PHBR-I')\n",
    "plt.xticks([0,1], ['Younger', 'Older'], fontsize='small')\n",
    "plt.ylim(ymin=-0.5, ymax=14.5)\n",
    "plt.text(-0.3, 1.1, 'G', transform=ax.transAxes, fontsize=16,  weight='bold')\n",
    "\n",
    "\n",
    "# D - All PHBR-II scores - age\n",
    "plt.subplot(2,4,4)\n",
    "data = affinity_II_df.join(mhcII[['age_categorical_3070']]).reset_index()\n",
    "data = pd.melt(data, id_vars=['age_categorical_3070', 'index']).drop_duplicates()\n",
    "p = mannwhitneyu(data[data['age_categorical_3070']=='younger'].index.values, data[data['age_categorical_3070']=='older'].index.values).pvalue\n",
    "ax = sns.violinplot(x='age_categorical_3070', y='value', data=data, order=['younger', 'older'], palette=['lightgrey', 'darkgrey'])\n",
    "plt.xlabel('p<{:.3}'.format(p)), plt.ylabel('Pan-cancer PHBR-II')\n",
    "plt.xticks([0,1], ['Younger', 'Older'], fontsize='small')\n",
    "plt.ylim(ymin=-2.7,ymax=81)\n",
    "plt.text(-0.3, 1.1, 'H', transform=ax.transAxes, fontsize=16,  weight='bold')\n",
    "\n",
    "plt.tight_layout(pad=0.6, h_pad=1)\n",
    "\n",
    "savepath = '/cellar/users/andreabc/Data/hla_sex/figures/supplementary/S5.validation.sex_age_PHBR.violin.pdf'\n",
    "print('Saving to {}'.format(savepath))\n",
    "plt.savefig(savepath, bbox_inches='tight')\n",
    "plt.show()"
   ]
  },
  {
   "cell_type": "code",
   "execution_count": 43,
   "metadata": {},
   "outputs": [],
   "source": [
    "# mhcI \n",
    "thresholds_I = range(0,21,1)\n",
    "f_medians_list_I, m_medians_list_I = [],[]\n",
    "y_medians_list_I, o_medians_list_I = [],[]\n",
    "\n",
    "for threshold in thresholds_I:\n",
    "    # sex\n",
    "    data = pd.DataFrame((affinity_I_df < threshold).sum(axis=1) / len(affinity_I_df.columns), columns=['fraction'])\n",
    "    data = data.join(mhcI[['sex']])\n",
    "    \n",
    "    f_medians_list_I.append(data[data['sex']=='female'].fraction.median())\n",
    "    m_medians_list_I.append(data[data['sex']=='male'].fraction.median())\n",
    "    \n",
    "    # age\n",
    "    data = pd.DataFrame((affinity_I_df < threshold).sum(axis=1) / len(affinity_I_df.columns), columns=['fraction'])\n",
    "    data = data.join(mhcI[['age_categorical_3070']])\n",
    "    \n",
    "    y_medians_list_I.append(data[data['age_categorical_3070']=='younger'].fraction.median())\n",
    "    o_medians_list_I.append(data[data['age_categorical_3070']=='older'].fraction.median())"
   ]
  },
  {
   "cell_type": "code",
   "execution_count": 44,
   "metadata": {},
   "outputs": [],
   "source": [
    "# mhcII\n",
    "thresholds_II = range(0,81,1)\n",
    "f_medians_list_II, m_medians_list_II = [],[]\n",
    "y_medians_list_II, o_medians_list_II = [],[]\n",
    "\n",
    "for threshold in thresholds_II:\n",
    "    # sex\n",
    "    data = pd.DataFrame((affinity_II_df < threshold).sum(axis=1) / len(affinity_II_df.columns), columns=['fraction'])\n",
    "    data = data.join(mhcII[['sex']])\n",
    "    \n",
    "    f_medians_list_II.append(data[data['sex']=='female'].fraction.median())\n",
    "    m_medians_list_II.append(data[data['sex']=='male'].fraction.median())\n",
    "    \n",
    "    # age\n",
    "    data = pd.DataFrame((affinity_II_df < threshold).sum(axis=1) / len(affinity_II_df.columns), columns=['fraction'])\n",
    "    data = data.join(mhcII[['age_categorical_3070']])\n",
    "    \n",
    "    y_medians_list_II.append(data[data['age_categorical_3070']=='younger'].fraction.median())\n",
    "    o_medians_list_II.append(data[data['age_categorical_3070']=='older'].fraction.median())"
   ]
  },
  {
   "cell_type": "code",
   "execution_count": 46,
   "metadata": {},
   "outputs": [
    {
     "name": "stdout",
     "output_type": "stream",
     "text": [
      "Saving to /cellar/users/andreabc/Data/hla_sex/figures/supplementary/S5.validation.fraction_ECDF.pdf\n"
     ]
    },
    {
     "data": {
      "image/png": "[encoded data removed]",
      "text/plain": [
       "<Figure size 504x180 with 2 Axes>"
      ]
     },
     "metadata": {
      "needs_background": "light"
     },
     "output_type": "display_data"
    }
   ],
   "source": [
    "plt.figure(figsize=(7,2.5))\n",
    "\n",
    "# A - All PHBR-I scores - sex\n",
    "fig = plt.subplot(1,2,1)\n",
    "# p = ks_2samp(f_medians_list_I, m_medians_list_I).pvalue\n",
    "\n",
    "plt.plot(thresholds_I, f_medians_list_I, color='lightpink')\n",
    "plt.plot(thresholds_I, m_medians_list_I, color='lightblue')\n",
    "plt.plot(thresholds_I, y_medians_list_I, color='lightgrey')\n",
    "plt.plot(thresholds_I, o_medians_list_I, color='darkgrey')\n",
    "plt.text(-0.15, 1.1, 'I', transform=fig.transAxes, fontsize=16,  weight='bold')\n",
    "plt.xlabel('MHC-I Thresholds'), plt.ylabel('MHC-I Fraction binding')\n",
    "plt.ylim(0,1), plt.xlim(0,20)\n",
    "\n",
    "\n",
    "# plt.title('Median fraction of binding driver mutations')\n",
    "# plt.xlabel('KS 2-sample test: p<{:.3}'.format(p)), plt.ylabel('Fraction of binding driver muts')\n",
    "\n",
    "\n",
    "# B - All PHBR-II scores - sex\n",
    "fig = plt.subplot(1,2,2)\n",
    "p = ks_2samp(f_medians_list_II, m_medians_list_II).pvalue\n",
    "\n",
    "plt.plot(thresholds_II, f_medians_list_II, color='lightpink')\n",
    "plt.plot(thresholds_II, m_medians_list_II, color='lightblue')\n",
    "plt.plot(thresholds_II, y_medians_list_II, color='lightgrey')\n",
    "plt.plot(thresholds_II, o_medians_list_II, color='darkgrey')\n",
    "plt.text(-0.15, 1.1, 'J', transform=fig.transAxes, fontsize=16,  weight='bold')\n",
    "plt.xlabel('MHC-II Thresholds'), plt.ylabel('MHC-II Fraction binding')\n",
    "plt.ylim(0,1), plt.xlim(0,80)\n",
    "\n",
    "plt.tight_layout()\n",
    "savepath = '/cellar/users/andreabc/Data/hla_sex/figures/supplementary/S5.validation.fraction_ECDF.pdf'\n",
    "print('Saving to {}'.format(savepath)), plt.savefig(savepath, bbox_inches=\"tight\")\n",
    "plt.show()"
   ]
  },
  {
   "cell_type": "code",
   "execution_count": null,
   "metadata": {},
   "outputs": [],
   "source": []
  },
  {
   "cell_type": "code",
   "execution_count": null,
   "metadata": {},
   "outputs": [],
   "source": []
  },
  {
   "cell_type": "markdown",
   "metadata": {},
   "source": [
    "#### Look at sex/disease - skew?"
   ]
  },
  {
   "cell_type": "code",
   "execution_count": 4,
   "metadata": {},
   "outputs": [],
   "source": [
    "disease_dict = {'MELA': 'Melanoma'}\n"
   ]
  },
  {
   "cell_type": "code",
   "execution_count": 5,
   "metadata": {},
   "outputs": [
    {
     "name": "stdout",
     "output_type": "stream",
     "text": [
      "Saving to /cellar/users/andreabc/Data/hla_sex/figures/supplementary/valid.disease_by_sex.pdf\n"
     ]
    },
    {
     "data": {
      "image/png": "[encoded data removed]",
      "text/plain": [
       "<Figure size 504x288 with 1 Axes>"
      ]
     },
     "metadata": {
      "needs_background": "light"
     },
     "output_type": "display_data"
    }
   ],
   "source": [
    "plt.figure(figsize=(7,4))\n",
    "temp_df = mhc_df.reset_index().drop_duplicates(subset=['index']).set_index('index')\n",
    "temp_df['tumor_type'] = temp_df['tumor_type'].replace({'MELA': 'Melanoma'})\n",
    "sns.countplot(x='tumor_type', hue='sex', data=temp_df, hue_order=['female','male'], palette=['lightpink', 'lightblue'])\n",
    "plt.xticks(rotation=90), plt.xlabel(''), plt.ylabel('Number of patients')\n",
    "\n",
    "plt.tight_layout()\n",
    "savepath = '/cellar/users/andreabc/Data/hla_sex/figures/supplementary/valid.disease_by_sex.pdf'\n",
    "print('Saving to {}'.format(savepath))\n",
    "plt.savefig(savepath)\n",
    "plt.show()"
   ]
  },
  {
   "cell_type": "markdown",
   "metadata": {},
   "source": [
    "#### Look at sex/age - skew?"
   ]
  },
  {
   "cell_type": "code",
   "execution_count": 28,
   "metadata": {},
   "outputs": [
    {
     "name": "stdout",
     "output_type": "stream",
     "text": [
      "Saving to /cellar/users/andreabc/Data/hla_sex/figures/supplementary/valid.age_by_sex.pdf\n"
     ]
    },
    {
     "data": {
      "image/png": "[encoded data removed]",
      "text/plain": [
       "<Figure size 216x216 with 1 Axes>"
      ]
     },
     "metadata": {
      "needs_background": "light"
     },
     "output_type": "display_data"
    }
   ],
   "source": [
    "plt.figure(figsize=(3,3))\n",
    "temp_df = mhc_df.reset_index().drop_duplicates(subset=['index']).set_index('index')\n",
    "# temp_df['tumor_type'] = temp_df['tumor_type'].replace({'MELA': 'Melanoma'})\n",
    "sns.countplot(x='age_categorical_3070', hue='sex', data=temp_df, hue_order=['female','male'], palette=['lightpink', 'lightblue'])\n",
    "# plt.xticks(rotation=90, ha='right'), \n",
    "plt.xlabel(''), plt.ylabel('Number of patients')\n",
    "\n",
    "plt.tight_layout()\n",
    "savepath = '/cellar/users/andreabc/Data/hla_sex/figures/supplementary/valid.age_by_sex.pdf'\n",
    "print('Saving to {}'.format(savepath))\n",
    "plt.savefig(savepath)\n",
    "plt.show()"
   ]
  },
  {
   "cell_type": "code",
   "execution_count": null,
   "metadata": {},
   "outputs": [],
   "source": []
  }
 ],
 "metadata": {
  "kernelspec": {
   "display_name": "Python 3",
   "language": "python",
   "name": "python3"
  },
  "language_info": {
   "codemirror_mode": {
    "name": "ipython",
    "version": 3
   },
   "file_extension": ".py",
   "mimetype": "text/x-python",
   "name": "python",
   "nbconvert_exporter": "python",
   "pygments_lexer": "ipython3",
   "version": "3.6.8"
  }
 },
 "nbformat": 4,
 "nbformat_minor": 2
}
