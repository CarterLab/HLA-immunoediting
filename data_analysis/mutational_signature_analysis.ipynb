{
 "cells": [
  {
   "cell_type": "markdown",
   "metadata": {},
   "source": [
    "### Notebook\n",
    "- Creates Figure 3: Sex-specific exposure analysis with mutational signatures"
   ]
  },
  {
   "cell_type": "code",
   "execution_count": 1,
   "metadata": {},
   "outputs": [],
   "source": [
    "import pandas as pd\n",
    "import numpy as np\n",
    "from collections import defaultdict\n",
    "from scipy.stats import mannwhitneyu\n",
    "\n",
    "import matplotlib.pyplot as plt\n",
    "from matplotlib import gridspec\n",
    "import seaborn as sns\n",
    "sns.set_style('white')\n",
    "%matplotlib inline"
   ]
  },
  {
   "cell_type": "markdown",
   "metadata": {},
   "source": [
    "### 1. Load data"
   ]
  },
  {
   "cell_type": "code",
   "execution_count": 2,
   "metadata": {},
   "outputs": [],
   "source": [
    "# Signature data from Ludmil\n",
    "total_mutations = pd.read_csv('../data/mutational_signatures/total_mutations.tsv',sep='\\t')\n",
    "simple_mutations = pd.read_csv('../data/mutational_signatures/simple_mutations.tsv',sep='\\t')\n",
    "mutational_signatures = pd.read_csv('../data/mutational_signatures/mutational_signatures.tsv',sep='\\t')"
   ]
  },
  {
   "cell_type": "code",
   "execution_count": 3,
   "metadata": {},
   "outputs": [],
   "source": [
    "# Load mutation and clinical data\n",
    "binary_mut_df = pd.read_csv('../data/patient_binary_driver.expressed_only.matrix', sep='\\t', index_col=0)\n",
    "clinical_df = pd.read_csv('../data/all_clinical_tcga.txt.gz', sep='\\t', index_col=0)"
   ]
  },
  {
   "cell_type": "markdown",
   "metadata": {},
   "source": [
    "### 2. Subplot A: Sex analysis\n",
    "- Examine M/F log ratios"
   ]
  },
  {
   "cell_type": "code",
   "execution_count": 4,
   "metadata": {},
   "outputs": [],
   "source": [
    "mutational_signatures['Log2_Ratio'] = np.log2(mutational_signatures['Mean Ratio (Male / Female)'])\n",
    "simple_mutations['Log2_Ratio'] = np.log2(simple_mutations['Mean Ratio (Male / Female)'])\n",
    "total_mutations['Log2_Ratio'] = np.log2(total_mutations['Mean Ratio (Male / Female)'])"
   ]
  },
  {
   "cell_type": "code",
   "execution_count": 5,
   "metadata": {},
   "outputs": [],
   "source": [
    "mutational_signatures['cancer_signature'] = [mutational_signatures['Cancer Type'].values[i] + ' ' + mutational_signatures['Mutational Signatures'].values[i].split('-')[1] for i in range(len(mutational_signatures))]\n",
    "mutational_signatures['Signature_short'] = [x.split('-')[1] for x in mutational_signatures['Mutational Signatures'].values]"
   ]
  },
  {
   "cell_type": "code",
   "execution_count": 6,
   "metadata": {},
   "outputs": [
    {
     "data": {
      "text/html": [
       "<div>\n",
       "<style scoped>\n",
       "    .dataframe tbody tr th:only-of-type {\n",
       "        vertical-align: middle;\n",
       "    }\n",
       "\n",
       "    .dataframe tbody tr th {\n",
       "        vertical-align: top;\n",
       "    }\n",
       "\n",
       "    .dataframe thead th {\n",
       "        text-align: right;\n",
       "    }\n",
       "</style>\n",
       "<table border=\"1\" class=\"dataframe\">\n",
       "  <thead>\n",
       "    <tr style=\"text-align: right;\">\n",
       "      <th>Signature_short</th>\n",
       "      <th>01</th>\n",
       "      <th>02</th>\n",
       "      <th>04</th>\n",
       "      <th>05</th>\n",
       "      <th>07a</th>\n",
       "      <th>07b</th>\n",
       "      <th>07c</th>\n",
       "      <th>07d</th>\n",
       "      <th>10b</th>\n",
       "      <th>11</th>\n",
       "      <th>...</th>\n",
       "      <th>38</th>\n",
       "      <th>39</th>\n",
       "      <th>40</th>\n",
       "      <th>42</th>\n",
       "      <th>45</th>\n",
       "      <th>49</th>\n",
       "      <th>52</th>\n",
       "      <th>54</th>\n",
       "      <th>59</th>\n",
       "      <th>60</th>\n",
       "    </tr>\n",
       "    <tr>\n",
       "      <th>Cancer Type</th>\n",
       "      <th></th>\n",
       "      <th></th>\n",
       "      <th></th>\n",
       "      <th></th>\n",
       "      <th></th>\n",
       "      <th></th>\n",
       "      <th></th>\n",
       "      <th></th>\n",
       "      <th></th>\n",
       "      <th></th>\n",
       "      <th></th>\n",
       "      <th></th>\n",
       "      <th></th>\n",
       "      <th></th>\n",
       "      <th></th>\n",
       "      <th></th>\n",
       "      <th></th>\n",
       "      <th></th>\n",
       "      <th></th>\n",
       "      <th></th>\n",
       "      <th></th>\n",
       "    </tr>\n",
       "  </thead>\n",
       "  <tbody>\n",
       "    <tr>\n",
       "      <th>ACC</th>\n",
       "      <td>0.584963</td>\n",
       "      <td>0.389567</td>\n",
       "      <td>NaN</td>\n",
       "      <td>0.321928</td>\n",
       "      <td>NaN</td>\n",
       "      <td>NaN</td>\n",
       "      <td>NaN</td>\n",
       "      <td>NaN</td>\n",
       "      <td>NaN</td>\n",
       "      <td>NaN</td>\n",
       "      <td>...</td>\n",
       "      <td>NaN</td>\n",
       "      <td>NaN</td>\n",
       "      <td>NaN</td>\n",
       "      <td>NaN</td>\n",
       "      <td>NaN</td>\n",
       "      <td>NaN</td>\n",
       "      <td>NaN</td>\n",
       "      <td>NaN</td>\n",
       "      <td>NaN</td>\n",
       "      <td>NaN</td>\n",
       "    </tr>\n",
       "    <tr>\n",
       "      <th>BLCA</th>\n",
       "      <td>0.111031</td>\n",
       "      <td>0.226509</td>\n",
       "      <td>NaN</td>\n",
       "      <td>0.111031</td>\n",
       "      <td>NaN</td>\n",
       "      <td>NaN</td>\n",
       "      <td>NaN</td>\n",
       "      <td>NaN</td>\n",
       "      <td>NaN</td>\n",
       "      <td>NaN</td>\n",
       "      <td>...</td>\n",
       "      <td>NaN</td>\n",
       "      <td>NaN</td>\n",
       "      <td>NaN</td>\n",
       "      <td>NaN</td>\n",
       "      <td>NaN</td>\n",
       "      <td>NaN</td>\n",
       "      <td>NaN</td>\n",
       "      <td>NaN</td>\n",
       "      <td>NaN</td>\n",
       "      <td>NaN</td>\n",
       "    </tr>\n",
       "  </tbody>\n",
       "</table>\n",
       "<p>2 rows × 28 columns</p>\n",
       "</div>"
      ],
      "text/plain": [
       "Signature_short        01        02  04        05  07a  07b  07c  07d  10b  \\\n",
       "Cancer Type                                                                  \n",
       "ACC              0.584963  0.389567 NaN  0.321928  NaN  NaN  NaN  NaN  NaN   \n",
       "BLCA             0.111031  0.226509 NaN  0.111031  NaN  NaN  NaN  NaN  NaN   \n",
       "\n",
       "Signature_short  11 ...  38  39  40  42  45  49  52  54  59  60  \n",
       "Cancer Type         ...                                          \n",
       "ACC             NaN ... NaN NaN NaN NaN NaN NaN NaN NaN NaN NaN  \n",
       "BLCA            NaN ... NaN NaN NaN NaN NaN NaN NaN NaN NaN NaN  \n",
       "\n",
       "[2 rows x 28 columns]"
      ]
     },
     "execution_count": 6,
     "metadata": {},
     "output_type": "execute_result"
    }
   ],
   "source": [
    "panel_a_data = mutational_signatures[['Cancer Type', 'Signature_short', 'Log2_Ratio']]\n",
    "panel_a_data = panel_a_data.pivot('Cancer Type', 'Signature_short', 'Log2_Ratio')\n",
    "\n",
    "panel_a_data.head(2)"
   ]
  },
  {
   "cell_type": "markdown",
   "metadata": {},
   "source": [
    "### 3. Subplot B: Driver mutation %\n",
    "- Examine M/F log ratios"
   ]
  },
  {
   "cell_type": "code",
   "execution_count": 7,
   "metadata": {},
   "outputs": [
    {
     "data": {
      "text/html": [
       "<div>\n",
       "<style scoped>\n",
       "    .dataframe tbody tr th:only-of-type {\n",
       "        vertical-align: middle;\n",
       "    }\n",
       "\n",
       "    .dataframe tbody tr th {\n",
       "        vertical-align: top;\n",
       "    }\n",
       "\n",
       "    .dataframe thead th {\n",
       "        text-align: right;\n",
       "    }\n",
       "</style>\n",
       "<table border=\"1\" class=\"dataframe\">\n",
       "  <thead>\n",
       "    <tr style=\"text-align: right;\">\n",
       "      <th></th>\n",
       "      <th>Mutational Signature</th>\n",
       "      <th>Number of Mutations</th>\n",
       "      <th>Percentage of Mutations</th>\n",
       "      <th>Function</th>\n",
       "      <th>Signature</th>\n",
       "    </tr>\n",
       "  </thead>\n",
       "  <tbody>\n",
       "    <tr>\n",
       "      <th>0</th>\n",
       "      <td>Signature Subs-01</td>\n",
       "      <td>196</td>\n",
       "      <td>19.6</td>\n",
       "      <td>Clock-like mutations that accumulate with age</td>\n",
       "      <td>01</td>\n",
       "    </tr>\n",
       "    <tr>\n",
       "      <th>1</th>\n",
       "      <td>Signature Subs-02</td>\n",
       "      <td>36</td>\n",
       "      <td>3.6</td>\n",
       "      <td>Aberrant APOBEC activity</td>\n",
       "      <td>02</td>\n",
       "    </tr>\n",
       "  </tbody>\n",
       "</table>\n",
       "</div>"
      ],
      "text/plain": [
       "  Mutational Signature  Number of Mutations  Percentage of Mutations  \\\n",
       "0    Signature Subs-01                  196                     19.6   \n",
       "1    Signature Subs-02                   36                      3.6   \n",
       "\n",
       "                                        Function Signature  \n",
       "0  Clock-like mutations that accumulate with age        01  \n",
       "1                       Aberrant APOBEC activity        02  "
      ]
     },
     "execution_count": 7,
     "metadata": {},
     "output_type": "execute_result"
    }
   ],
   "source": [
    "mutation_categories = pd.read_csv('/cellar/users/ramarty/Data/hla_sex/exposure/driver_mutation_signatures.tsv',\n",
    "                        sep='\\t', header=None)\n",
    "mutation_categories.columns = ['Mutational Signature', 'Number of Mutations',\n",
    "                              'Percentage of Mutations', 'Function']\n",
    "mutation_categories['Percentage of Mutations'] = pd.Series([x[:-1] for x in mutation_categories['Percentage of Mutations']]).astype(float)\n",
    "mutation_categories['Signature'] = [x.split('-')[1] for x in mutation_categories['Mutational Signature'].values]\n",
    "\n",
    "mutation_categories.head(2)"
   ]
  },
  {
   "cell_type": "markdown",
   "metadata": {},
   "source": [
    "### 4. Subplot C: Age analysis\n",
    "- See which tumor types have \n",
    "    - C>T mutations (predominant in Signature 1)\n",
    "    - T>C mutations (predominant in Signature 5)"
   ]
  },
  {
   "cell_type": "code",
   "execution_count": 8,
   "metadata": {},
   "outputs": [],
   "source": [
    "sig_color_dict = {\n",
    "    1: 'red',\n",
    "    0: 'grey' }\n",
    "base_sub_dict = {\n",
    "    'G>A': 'C>A',\n",
    "    'A>G': 'T>G',\n",
    "    'G>C': 'C>T',\n",
    "    'A>C': 'T>C',\n",
    "    'A>T': 'T>A',\n",
    "    'G>T': 'C>T'}"
   ]
  },
  {
   "cell_type": "code",
   "execution_count": 9,
   "metadata": {},
   "outputs": [
    {
     "data": {
      "text/html": [
       "<div>\n",
       "<style scoped>\n",
       "    .dataframe tbody tr th:only-of-type {\n",
       "        vertical-align: middle;\n",
       "    }\n",
       "\n",
       "    .dataframe tbody tr th {\n",
       "        vertical-align: top;\n",
       "    }\n",
       "\n",
       "    .dataframe thead th {\n",
       "        text-align: right;\n",
       "    }\n",
       "</style>\n",
       "<table border=\"1\" class=\"dataframe\">\n",
       "  <thead>\n",
       "    <tr style=\"text-align: right;\">\n",
       "      <th></th>\n",
       "      <th>Hugo_Symbol</th>\n",
       "      <th>Protein_position</th>\n",
       "      <th>Amino_acids</th>\n",
       "      <th>Chromosome</th>\n",
       "      <th>Start_Position</th>\n",
       "      <th>Strand</th>\n",
       "      <th>Reference_Allele</th>\n",
       "      <th>Tumor_Seq_Allele2</th>\n",
       "      <th>combined</th>\n",
       "      <th>Base_change</th>\n",
       "      <th>Base_substitution</th>\n",
       "    </tr>\n",
       "  </thead>\n",
       "  <tbody>\n",
       "    <tr>\n",
       "      <th>0</th>\n",
       "      <td>TP53</td>\n",
       "      <td>281/393</td>\n",
       "      <td>D/E</td>\n",
       "      <td>chr17</td>\n",
       "      <td>7673777</td>\n",
       "      <td>+</td>\n",
       "      <td>G</td>\n",
       "      <td>C</td>\n",
       "      <td>M_TP53_D281E</td>\n",
       "      <td>G&gt;C</td>\n",
       "      <td>C&gt;T</td>\n",
       "    </tr>\n",
       "    <tr>\n",
       "      <th>1</th>\n",
       "      <td>TP53</td>\n",
       "      <td>272/393</td>\n",
       "      <td>V/M</td>\n",
       "      <td>chr17</td>\n",
       "      <td>7673806</td>\n",
       "      <td>+</td>\n",
       "      <td>C</td>\n",
       "      <td>T</td>\n",
       "      <td>M_TP53_V272M</td>\n",
       "      <td>C&gt;T</td>\n",
       "      <td>C&gt;T</td>\n",
       "    </tr>\n",
       "  </tbody>\n",
       "</table>\n",
       "</div>"
      ],
      "text/plain": [
       "  Hugo_Symbol Protein_position Amino_acids Chromosome  Start_Position Strand  \\\n",
       "0        TP53          281/393         D/E      chr17         7673777      +   \n",
       "1        TP53          272/393         V/M      chr17         7673806      +   \n",
       "\n",
       "  Reference_Allele Tumor_Seq_Allele2      combined Base_change  \\\n",
       "0                G                 C  M_TP53_D281E         G>C   \n",
       "1                C                 T  M_TP53_V272M         C>T   \n",
       "\n",
       "  Base_substitution  \n",
       "0               C>T  \n",
       "1               C>T  "
      ]
     },
     "execution_count": 9,
     "metadata": {},
     "output_type": "execute_result"
    }
   ],
   "source": [
    "# Load all driver mutations' base changes\n",
    "driver_coord_df = pd.read_csv('../data/driver_mutation_coordinates.csv')\n",
    "\n",
    "# Extract base changes, create combined column\n",
    "driver_coord_df['Base_change'] = driver_coord_df[['Reference_Allele', 'Tumor_Seq_Allele2']].apply(lambda x: '>'.join(x), axis=1)\n",
    "driver_coord_df['combined'] = driver_coord_df['combined'].apply(lambda x: 'M_{}'.format(x))\n",
    "driver_coord_df['Base_substitution'] = [change if change not in base_sub_dict.keys() else base_sub_dict[change] for change in driver_coord_df['Base_change'].values]\n",
    "\n",
    "driver_coord_df.head(2)"
   ]
  },
  {
   "cell_type": "code",
   "execution_count": 10,
   "metadata": {},
   "outputs": [],
   "source": [
    "# Compare all allele affinities for C>T/T>C compared to other mutations\n",
    "aff_df_I = pd.read_csv('../data/all_alleles.driver_mut.class_i.affinities.tsv.gz', sep='\\t', index_col=0)\n",
    "aff_df_II = pd.read_csv('../data/all_alleles.driver_mut.class_ii.affinities.tsv.gz', sep='\\t', index_col=0)"
   ]
  },
  {
   "cell_type": "code",
   "execution_count": 11,
   "metadata": {},
   "outputs": [],
   "source": [
    "# Subset mutations\n",
    "ct_muts = driver_coord_df[driver_coord_df['Base_change'].isin(['C>T', 'T>C'])].combined.values\n",
    "non_ct_muts = driver_coord_df[~driver_coord_df['Base_change'].isin(['C>T', 'T>C'])].combined.values\n",
    "\n",
    "# affinities\n",
    "ct_aff_I = aff_df_I.loc[ct_muts]\n",
    "ct_aff_I['class'] = 'I'\n",
    "ct_aff_I['mut_type'] = 'C>T/T>C mutations'\n",
    "\n",
    "ct_aff_II = aff_df_II.loc[ct_muts]\n",
    "ct_aff_II['class'] = 'II'\n",
    "ct_aff_II['mut_type'] = 'C>T/T>C mutations'\n",
    "\n",
    "non_ct_aff_I = aff_df_I.loc[non_ct_muts]\n",
    "non_ct_aff_I['class'] = 'I'\n",
    "non_ct_aff_I['mut_type'] = 'Other mutations'\n",
    "\n",
    "non_ct_aff_II = aff_df_II.loc[non_ct_muts]\n",
    "non_ct_aff_II['class'] = 'II'\n",
    "non_ct_aff_II['mut_type'] = 'Other mutations'"
   ]
  },
  {
   "cell_type": "code",
   "execution_count": 12,
   "metadata": {
    "scrolled": true
   },
   "outputs": [
    {
     "name": "stderr",
     "output_type": "stream",
     "text": [
      "/cellar/users/andreabc/miniconda3/lib/python3.6/site-packages/pandas/core/frame.py:6201: FutureWarning: Sorting because non-concatenation axis is not aligned. A future version\n",
      "of pandas will change to not sort by default.\n",
      "\n",
      "To accept the future behavior, pass 'sort=True'.\n",
      "\n",
      "To retain the current behavior and silence the warning, pass sort=False\n",
      "\n",
      "  sort=sort)\n"
     ]
    },
    {
     "data": {
      "text/html": [
       "<div>\n",
       "<style scoped>\n",
       "    .dataframe tbody tr th:only-of-type {\n",
       "        vertical-align: middle;\n",
       "    }\n",
       "\n",
       "    .dataframe tbody tr th {\n",
       "        vertical-align: top;\n",
       "    }\n",
       "\n",
       "    .dataframe thead th {\n",
       "        text-align: right;\n",
       "    }\n",
       "</style>\n",
       "<table border=\"1\" class=\"dataframe\">\n",
       "  <thead>\n",
       "    <tr style=\"text-align: right;\">\n",
       "      <th></th>\n",
       "      <th>mut_type</th>\n",
       "      <th>class</th>\n",
       "      <th>variable</th>\n",
       "      <th>value</th>\n",
       "    </tr>\n",
       "  </thead>\n",
       "  <tbody>\n",
       "    <tr>\n",
       "      <th>0</th>\n",
       "      <td>C&gt;T/T&gt;C mutations</td>\n",
       "      <td>I</td>\n",
       "      <td>DRB1_0101</td>\n",
       "      <td>NaN</td>\n",
       "    </tr>\n",
       "    <tr>\n",
       "      <th>1</th>\n",
       "      <td>C&gt;T/T&gt;C mutations</td>\n",
       "      <td>I</td>\n",
       "      <td>DRB1_0101</td>\n",
       "      <td>NaN</td>\n",
       "    </tr>\n",
       "  </tbody>\n",
       "</table>\n",
       "</div>"
      ],
      "text/plain": [
       "            mut_type class   variable  value\n",
       "0  C>T/T>C mutations     I  DRB1_0101    NaN\n",
       "1  C>T/T>C mutations     I  DRB1_0101    NaN"
      ]
     },
     "execution_count": 12,
     "metadata": {},
     "output_type": "execute_result"
    }
   ],
   "source": [
    "# Consolidate into plotting df\n",
    "panel_c_df = ct_aff_I.append(ct_aff_II.append(non_ct_aff_I.append(non_ct_aff_II)))\n",
    "panel_c_df = pd.melt(panel_c_df, id_vars=['mut_type', 'class'])\n",
    "panel_c_df.head(2)"
   ]
  },
  {
   "cell_type": "code",
   "execution_count": 13,
   "metadata": {},
   "outputs": [],
   "source": [
    "# p_I = mannwhitneyu(df[(df['class']=='I') & (df['mut_type']=='C>T/T>C')].dropna().value.values,\n",
    "#                    df[(df['class']=='I') & (df['mut_type']=='other')].dropna().value.values).pvalue\n",
    "# p_II = mannwhitneyu(df[(df['class']=='II') & (df['mut_type']=='C>T/T>C')].dropna().value.values,\n",
    "#                    df[(df['class']=='II') & (df['mut_type']=='other')].dropna().value.values).pvalue\n",
    "\n",
    "# plt.figure(figsize=(3,4))\n",
    "# sns.boxplot(x='class', y='value', hue='mut_type', data=df, palette='Set3')\n",
    "# plt.xlabel(''), plt.xticks([0,1], ['MHC-I\\np<{:.3}'.format(p_I), \n",
    "#                                    'MHC-II\\np<{:.3}'.format(p_II)])\n",
    "# plt.ylabel('Allele-specific best-rank (BR) score')\n",
    "# # plt.title('365 C>T/T>C driver mutations, 635 other')\n",
    "# plt.legend(loc='upper right')\n",
    "\n",
    "# savepath = '/cellar/users/andreabc/Data/hla_sex/figures/3_CT_mutation_affinities.boxplot.pdf'\n",
    "# print('Saving to {}'.format(savepath)), plt.savefig(savepath, bbox_inches='tight')\n",
    "# plt.show()"
   ]
  },
  {
   "cell_type": "markdown",
   "metadata": {},
   "source": [
    "### 5. Plot panel"
   ]
  },
  {
   "cell_type": "code",
   "execution_count": 14,
   "metadata": {},
   "outputs": [
    {
     "name": "stdout",
     "output_type": "stream",
     "text": [
      "Saving to ../figures/Figure_3.pdf\n"
     ]
    },
    {
     "data": {
      "image/png": "[encoded data removed]",
      "text/plain": [
       "<Figure size 792x288 with 4 Axes>"
      ]
     },
     "metadata": {
      "needs_background": "light"
     },
     "output_type": "display_data"
    }
   ],
   "source": [
    "plt.figure(figsize=(11,4))\n",
    "\n",
    "#############################################\n",
    "# A. Sex-ratios of mut. signatures by tumor #\n",
    "#############################################\n",
    "plt.subplot2grid((1, 8), (0, 0), colspan=4, aspect=1)\n",
    "\n",
    "sns.heatmap(panel_a_data, cmap=sns.diverging_palette(1, 255, as_cmap=True), linewidths=0.1, \n",
    "            center=0, vmin=-2.5, vmax=2.5, xticklabels=True, yticklabels=True)\n",
    "\n",
    "plt.xticks(rotation=90, fontsize=8), \n",
    "plt.xlabel('Mutational Signature')\n",
    "plt.yticks(fontsize=8)\n",
    "\n",
    "################################################\n",
    "# B. Mutational signatures in driver mutations #\n",
    "################################################\n",
    "plt.subplot2grid((1, 8), (0, 4), colspan=2)\n",
    "\n",
    "sns.barplot(x='Signature', y='Percentage of Mutations', \n",
    "            data=mutation_categories.sort_values('Percentage of Mutations', ascending=False),\n",
    "            color='lightgrey')\n",
    "\n",
    "plt.xticks(rotation=45), plt.xlabel('Mutational Signature')\n",
    "plt.ylim(0,51)\n",
    "plt.subplots_adjust(wspace=0, hspace=0)\n",
    "\n",
    "###############################\n",
    "# C. Allele-specific affinity #\n",
    "###############################\n",
    "plt.subplot2grid((1, 8), (0, 6), colspan=2)\n",
    "\n",
    "p_I = mannwhitneyu(panel_c_df[(panel_c_df['class']=='I') & (panel_c_df['mut_type']=='C>T/T>C mutations')].dropna().value.values,\n",
    "                   panel_c_df[(panel_c_df['class']=='I') & (panel_c_df['mut_type']=='Other mutations')].dropna().value.values).pvalue\n",
    "p_II = mannwhitneyu(panel_c_df[(panel_c_df['class']=='II') & (panel_c_df['mut_type']=='C>T/T>C mutations')].dropna().value.values,\n",
    "                   panel_c_df[(panel_c_df['class']=='II') & (panel_c_df['mut_type']=='Other mutations')].dropna().value.values).pvalue\n",
    "\n",
    "ax = sns.boxplot(x='class', y='value', hue='mut_type', data=panel_c_df, palette='Set3')\n",
    "plt.xlabel(''), plt.xticks([0,1], ['MHC-I\\np<{:.3}'.format(p_I), \n",
    "                                   'MHC-II\\np<{:.3}'.format(p_II)])\n",
    "plt.ylabel('Allele-specific best-rank (BR) score')\n",
    "plt.ylim(-5,105)\n",
    "ax.get_legend().remove()\n",
    "\n",
    "# letters\n",
    "plt.text(-9.5,110, 'A', fontsize=16)\n",
    "plt.text(-4,  110, 'B', fontsize=16)\n",
    "plt.text(-1.1,110, 'C', fontsize=16)\n",
    "\n",
    "# save\n",
    "plt.tight_layout(pad=1.3)\n",
    "\n",
    "savepath = '../figures/Figure_3.pdf'\n",
    "print('Saving to {}'.format(savepath))\n",
    "plt.savefig(savepath, bbox_inches='tight')\n",
    "plt.show()"
   ]
  },
  {
   "cell_type": "code",
   "execution_count": null,
   "metadata": {},
   "outputs": [],
   "source": []
  }
 ],
 "metadata": {
  "kernelspec": {
   "display_name": "Python 3",
   "language": "python",
   "name": "python3"
  },
  "language_info": {
   "codemirror_mode": {
    "name": "ipython",
    "version": 3
   },
   "file_extension": ".py",
   "mimetype": "text/x-python",
   "name": "python",
   "nbconvert_exporter": "python",
   "pygments_lexer": "ipython3",
   "version": "3.6.8"
  }
 },
 "nbformat": 4,
 "nbformat_minor": 1
}
