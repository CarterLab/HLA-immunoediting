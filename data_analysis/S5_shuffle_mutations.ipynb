{
 "cells": [
  {
   "cell_type": "markdown",
   "metadata": {},
   "source": [
    "### Notebook\n",
    "1. This analysis shuffles driver mutations between patients (Does not force patient to have different driver)"
   ]
  },
  {
   "cell_type": "code",
   "execution_count": 1,
   "metadata": {},
   "outputs": [],
   "source": [
    "import pandas as pd\n",
    "import numpy as np\n",
    "\n",
    "from collections import defaultdict\n",
    "import os"
   ]
  },
  {
   "cell_type": "code",
   "execution_count": 233,
   "metadata": {},
   "outputs": [],
   "source": [
    "from scipy.stats import mannwhitneyu, kstest, sem, t\n",
    "\n",
    "import matplotlib.pyplot as plt\n",
    "import seaborn as sns\n",
    "sns.set_style('white')\n",
    "%matplotlib inline\n",
    "\n",
    "import matplotlib as mpl\n",
    "mpl.rcParams['pdf.fonttype'] = 42"
   ]
  },
  {
   "cell_type": "code",
   "execution_count": 16,
   "metadata": {},
   "outputs": [],
   "source": [
    "import sys\n",
    "sys.path.append('/cellar/users/andreabc/scripts/')\n",
    "from benjamini_fdr import benjamini_fdr"
   ]
  },
  {
   "cell_type": "markdown",
   "metadata": {},
   "source": [
    "### 0. Functions"
   ]
  },
  {
   "cell_type": "code",
   "execution_count": 164,
   "metadata": {},
   "outputs": [],
   "source": [
    "def create_PHBR_boxplots(df_list = [],\n",
    "                         x_list = ['gender', 'gender', 'age_categorical_3070', 'age_categorical_3070'],\n",
    "                         y_list = ['PHBR-I_score', 'PHBR-II_score', 'PHBR-I_score', 'PHBR-II_score'],\n",
    "                         letter_list = ['A', 'B', 'C', 'D'],\n",
    "                         x_dict = {'gender': ['female','male'], \n",
    "                                   'age_categorical_3070': ['younger', 'older']},\n",
    "                         color_dict = {'gender': ['lightpink', 'lightblue'], \n",
    "                                       'age_categorical_3070': ['lightgrey', 'darkgrey']},\n",
    "                         ylim_dict = {'PHBR-I_score': [-0.1,20.1], \n",
    "                                      'PHBR-II_score': [-0.1,100.1]},\n",
    "                         savepath = None, show=False):\n",
    "\n",
    "    \n",
    "    p_list = []\n",
    "    median_list = []\n",
    "\n",
    "    for i in range(len(df_list)):\n",
    "\n",
    "        data = df_list[i].copy()\n",
    "        data[y_list[i]] = pd.to_numeric(data[y_list[i]], errors='coerce')\n",
    "        data = data.dropna(subset=[y_list[i]])\n",
    "\n",
    "        p = mannwhitneyu(data[data[x_list[i]]==x_dict[x_list[i]][0]][y_list[i]].values, \n",
    "                         data[data[x_list[i]]==x_dict[x_list[i]][1]][y_list[i]].values).pvalue\n",
    "        p_list.append(p)\n",
    "    gender_median_df = df_list[i].pivot_table(columns='gender', values=['shuffled_PHBR-I', 'shuffled_PHBR-II'], aggfunc='median')\n",
    "    age_median_df = df_list[i].pivot_table(columns='age_categorical_3070', values=['shuffled_PHBR-I', 'shuffled_PHBR-II'], aggfunc='median')\n",
    "\n",
    "\n",
    "    return p_list, pd.concat([gender_median_df,age_median_df[['younger','older']]], axis=1)"
   ]
  },
  {
   "cell_type": "markdown",
   "metadata": {},
   "source": [
    "### 1. Load TCGA patients\n",
    "- And affinities"
   ]
  },
  {
   "cell_type": "code",
   "execution_count": 125,
   "metadata": {},
   "outputs": [
    {
     "data": {
      "text/html": [
       "<div>\n",
       "<style scoped>\n",
       "    .dataframe tbody tr th:only-of-type {\n",
       "        vertical-align: middle;\n",
       "    }\n",
       "\n",
       "    .dataframe tbody tr th {\n",
       "        vertical-align: top;\n",
       "    }\n",
       "\n",
       "    .dataframe thead th {\n",
       "        text-align: right;\n",
       "    }\n",
       "</style>\n",
       "<table border=\"1\" class=\"dataframe\">\n",
       "  <thead>\n",
       "    <tr style=\"text-align: right;\">\n",
       "      <th></th>\n",
       "      <th>index</th>\n",
       "      <th>age_at_initial_pathologic_diagnosis</th>\n",
       "      <th>disease</th>\n",
       "      <th>driver_mutation</th>\n",
       "      <th>gender</th>\n",
       "      <th>age_categorical_3070</th>\n",
       "      <th>category</th>\n",
       "    </tr>\n",
       "  </thead>\n",
       "  <tbody>\n",
       "    <tr>\n",
       "      <th>0</th>\n",
       "      <td>TCGA-02-0003</td>\n",
       "      <td>50.0</td>\n",
       "      <td>TCGA-GBM</td>\n",
       "      <td>M_TP53_R282W</td>\n",
       "      <td>male</td>\n",
       "      <td>younger</td>\n",
       "      <td>younger\\nmale</td>\n",
       "    </tr>\n",
       "    <tr>\n",
       "      <th>1</th>\n",
       "      <td>TCGA-02-0003</td>\n",
       "      <td>50.0</td>\n",
       "      <td>TCGA-GBM</td>\n",
       "      <td>M_PIK3R1_G376R</td>\n",
       "      <td>male</td>\n",
       "      <td>younger</td>\n",
       "      <td>younger\\nmale</td>\n",
       "    </tr>\n",
       "  </tbody>\n",
       "</table>\n",
       "</div>"
      ],
      "text/plain": [
       "          index  age_at_initial_pathologic_diagnosis   disease  \\\n",
       "0  TCGA-02-0003                                 50.0  TCGA-GBM   \n",
       "1  TCGA-02-0003                                 50.0  TCGA-GBM   \n",
       "\n",
       "  driver_mutation gender age_categorical_3070       category  \n",
       "0    M_TP53_R282W   male              younger  younger\\nmale  \n",
       "1  M_PIK3R1_G376R   male              younger  younger\\nmale  "
      ]
     },
     "execution_count": 125,
     "metadata": {},
     "output_type": "execute_result"
    }
   ],
   "source": [
    "patient_df = pd.read_csv('../data/comprehensive_patient_df.tsv', \n",
    "                         sep='\\t', usecols=['index', 'driver_mutation', 'gender', 'disease', \n",
    "                                            'age_at_initial_pathologic_diagnosis', ])\n",
    "# add extra cols\n",
    "young_thresh = 52  # 30th percentile: 52, 40th: 57\n",
    "old_thresh = 68-1   # 70th percentile: 68, 60th: 65\n",
    "\n",
    "patient_df = patient_df.dropna(subset=['gender'])\n",
    "patient_df['gender'] = patient_df['gender'].apply(lambda x: x.lower())\n",
    "\n",
    "patient_df['age_categorical_3070'] = pd.cut(patient_df['age_at_initial_pathologic_diagnosis'], [0, young_thresh, old_thresh, patient_df['age_at_initial_pathologic_diagnosis'].max()], labels=['younger', 'middle', 'older'])\n",
    "patient_df['category'] = patient_df.apply(lambda x: '{}\\n{}'.format(x.age_categorical_3070, x.gender), axis=1)\n",
    "\n",
    "patient_df.head(2)"
   ]
  },
  {
   "cell_type": "code",
   "execution_count": 97,
   "metadata": {},
   "outputs": [],
   "source": [
    "aff_I = pd.read_csv('../data/driver_mut.class_i.affinities.tsv.gz', sep='\\t', index_col=0)\n",
    "aff_II =pd.read_csv('../data/driver_mut.class_ii.affinities.tsv.gz',sep='\\t', index_col=0)"
   ]
  },
  {
   "cell_type": "markdown",
   "metadata": {},
   "source": [
    "##### 1A. Shuffle, get new affinities\n",
    "- Make sure <70 same mutations"
   ]
  },
  {
   "cell_type": "code",
   "execution_count": 204,
   "metadata": {
    "scrolled": true
   },
   "outputs": [],
   "source": [
    "total_median_df = pd.DataFrame()\n",
    "total_p_list = []\n",
    "\n",
    "for i in range(10000):\n",
    "    while True:\n",
    "        shuffled_drivers = patient_df['driver_mutation'].values.tolist()\n",
    "        np.random.shuffle(shuffled_drivers)\n",
    "        patient_df['shuffled_driver_mutation'] = shuffled_drivers\n",
    "\n",
    "        # how many mutations are exactly the same?\n",
    "        same_mutations = patient_df[patient_df['driver_mutation']==patient_df['shuffled_driver_mutation']]\n",
    "        if len(same_mutations) < 75: \n",
    "#             print(len(same_mutations))\n",
    "            break\n",
    "\n",
    "    shuffled_phbrI_list, shuffled_phbrII_list = [],[]\n",
    "\n",
    "    for _, row in patient_df.iterrows():\n",
    "        patient = row['index']\n",
    "        new_mutation = row['shuffled_driver_mutation']\n",
    "\n",
    "        # PHBR-I\n",
    "        if patient in aff_I.index:\n",
    "            shuffled_phbrI_list.append(aff_I.loc[patient, new_mutation])\n",
    "        else:\n",
    "            shuffled_phbrI_list.append(np.nan)\n",
    "\n",
    "        # PHBR-II\n",
    "        if patient in aff_II.index:\n",
    "            shuffled_phbrII_list.append(aff_II.loc[patient, new_mutation])\n",
    "        else:\n",
    "            shuffled_phbrII_list.append(np.nan)\n",
    "\n",
    "    patient_df['shuffled_PHBR-I'] = shuffled_phbrI_list\n",
    "    patient_df['shuffled_PHBR-II'] = shuffled_phbrII_list\n",
    "\n",
    "    # drop mutations without all info\n",
    "    patient_df = patient_df.dropna()\n",
    "\n",
    "    # drop sex specific cancers\n",
    "    sex_specific_cancers = ['TCGA-OV', 'TCGA-CESC', 'TCGA-UCS', 'TCGA-BRCA', 'TCGA-TGCT', 'TCGA-UCEC', 'TCGA-PRAD']\n",
    "\n",
    "    rm_sex_df = patient_df[~patient_df['disease'].isin(sex_specific_cancers)]\n",
    "    kept_sex_df = patient_df.copy()\n",
    "\n",
    "    p_list, median_df = create_PHBR_boxplots(df_list=[rm_sex_df,rm_sex_df,kept_sex_df,kept_sex_df],\n",
    "                         y_list=['shuffled_PHBR-I', 'shuffled_PHBR-II', 'shuffled_PHBR-I', 'shuffled_PHBR-II'],\n",
    "                         ylim_dict={'shuffled_PHBR-I': [-0.1, 20.1], 'shuffled_PHBR-II': [-0.1, 100.1]}, show=False)\n",
    "    \n",
    "    # add iteration to all\n",
    "    median_df['iteration'] = i\n",
    "    total_median_df = total_median_df.append(median_df)\n"
   ]
  },
  {
   "cell_type": "code",
   "execution_count": 205,
   "metadata": {},
   "outputs": [],
   "source": [
    "total_median_df['gender_abs_diff'] = total_median_df['female']-total_median_df['male']\n",
    "total_median_df['age_abs_diff'] = total_median_df['younger']-total_median_df['older']"
   ]
  },
  {
   "cell_type": "code",
   "execution_count": 282,
   "metadata": {},
   "outputs": [],
   "source": [
    "def confidence_interval(data_list, conf=0.99):\n",
    "    '''\n",
    "    '''\n",
    "    data_mean = np.mean(data_list)\n",
    "    h = sem(data_list) * t.ppf((1 + conf) / 2, len(data_list) - 1)\n",
    "    return data_mean-h, data_mean+h"
   ]
  },
  {
   "cell_type": "code",
   "execution_count": 283,
   "metadata": {
    "scrolled": true
   },
   "outputs": [
    {
     "data": {
      "image/png": "[encoded data removed]",
      "text/plain": [
       "<Figure size 720x216 with 2 Axes>"
      ]
     },
     "metadata": {
      "needs_background": "light"
     },
     "output_type": "display_data"
    }
   ],
   "source": [
    "plt.figure(figsize=(10,3))\n",
    "\n",
    "# MHC-I\n",
    "plt.subplot(1,2,1)\n",
    "data = total_median_df.loc['shuffled_PHBR-I']\n",
    "ax = sns.distplot(data['gender_abs_diff'], label='gender diff')\n",
    "ax = sns.distplot(data['age_abs_diff'], label='age diff')\n",
    "\n",
    "# actual medians\n",
    "plt.axvline(0.18539195132449726, color='darkblue', label='Observed gender median') # sex\n",
    "plt.axvline(0.23854411197911163, color='darkorange', label='Observed age median') # age\n",
    "\n",
    "# plot 95% confidence interval\n",
    "low_gender, high_gender = confidence_interval(data['gender_abs_diff'].values)\n",
    "low_age, high_age = confidence_interval(data['age_abs_diff'].values)\n",
    "\n",
    "plt.axvline(low_gender, color='lightgrey', ls='--')\n",
    "plt.axvline(high_gender, color='lightgrey', ls='--')\n",
    "\n",
    "plt.axvline(low_age, color='darkgrey', ls='--')\n",
    "plt.axvline(high_age, color='darkgrey', ls='--')\n",
    "\n",
    "plt.title('shuffled PHBR-I'), plt.xlabel('Median abs difference')\n",
    "\n",
    "\n",
    "# MHC-II\n",
    "plt.subplot(1,2,2)\n",
    "data = total_median_df.loc['shuffled_PHBR-II']\n",
    "sns.distplot(data['gender_abs_diff'], label='Gender diff distribution')\n",
    "sns.distplot(data['age_abs_diff'], label='Age diff distribution')\n",
    "\n",
    "# actual medians\n",
    "plt.axvline(3.9030366013246045, color='darkblue', label='Observed gender diff') # sex\n",
    "plt.axvline(2.5185904952697378, color='darkorange', label='Observed age diff') # age\n",
    "\n",
    "# plot 95% confidence interval\n",
    "low_gender, high_gender = confidence_interval(data['gender_abs_diff'].values)\n",
    "low_age, high_age = confidence_interval(data['age_abs_diff'].values)\n",
    "\n",
    "plt.axvline(low_gender, color='lightgrey', ls='--')\n",
    "plt.axvline(high_gender, color='lightgrey', ls='--')\n",
    "\n",
    "plt.axvline(low_age, color='darkgrey', ls='--')\n",
    "plt.axvline(high_age, color='darkgrey', ls='--')\n",
    "\n",
    "plt.title('shuffled PHBR-I'), plt.xlabel('Median abs difference')\n",
    "\n",
    "plt.title('shuffled PHBR-II'), plt.xlabel('Median abs difference')\n",
    "\n",
    "plt.legend(bbox_to_anchor=(1,0.7))\n",
    "plt.tight_layout()\n",
    "\n",
    "# save\n",
    "savepath = '../figures/S5_shuffle.histogram.pdf'\n",
    "plt.savefig(savepath)"
   ]
  }
 ],
 "metadata": {
  "kernelspec": {
   "display_name": "Python 3",
   "language": "python",
   "name": "python3"
  },
  "language_info": {
   "codemirror_mode": {
    "name": "ipython",
    "version": 3
   },
   "file_extension": ".py",
   "mimetype": "text/x-python",
   "name": "python",
   "nbconvert_exporter": "python",
   "pygments_lexer": "ipython3",
   "version": "3.6.8"
  }
 },
 "nbformat": 4,
 "nbformat_minor": 2
}
