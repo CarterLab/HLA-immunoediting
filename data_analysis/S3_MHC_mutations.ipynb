{
 "cells": [
  {
   "cell_type": "markdown",
   "metadata": {},
   "source": [
    "### Notebook\n",
    "- Creates Figure S3: Sex- and age-specific MHC presentation of common driver mutations for patients with and without MHC-I mutations"
   ]
  },
  {
   "cell_type": "code",
   "execution_count": 7,
   "metadata": {},
   "outputs": [],
   "source": [
    "import pandas as pd\n",
    "import numpy as np\n",
    "from scipy.stats import mannwhitneyu\n",
    "\n",
    "import sys\n",
    "sys.path.append('../scripts/')\n",
    "from benjamini_fdr import benjamini_fdr\n",
    "\n",
    "import matplotlib.pyplot as plt\n",
    "from matplotlib import gridspec\n",
    "import seaborn as sns\n",
    "sns.set_style('white')\n",
    "%matplotlib inline"
   ]
  },
  {
   "cell_type": "markdown",
   "metadata": {},
   "source": [
    "### 0. Global variables"
   ]
  },
  {
   "cell_type": "code",
   "execution_count": 2,
   "metadata": {},
   "outputs": [],
   "source": [
    "MSS = 'MSS_only'"
   ]
  },
  {
   "cell_type": "markdown",
   "metadata": {},
   "source": [
    "### 1. Load data\n",
    "- Identify patients with/without MHC-I mutations"
   ]
  },
  {
   "cell_type": "code",
   "execution_count": 4,
   "metadata": {},
   "outputs": [],
   "source": [
    "# Load all confident patients (kept sex-specific cancers)\n",
    "confident_patientsI = pd.read_csv('../generated_data/confident_patient_I.age_sex_disease.MSS_only.kept_sex_specific.tsv', sep='\\t', index_col=0)\n",
    "confident_patientsII = pd.read_csv('../generated_data/confident_patient_II.age_sex_disease.MSS_only.kept_sex_specific.tsv', sep='\\t', index_col=0)"
   ]
  },
  {
   "cell_type": "code",
   "execution_count": 5,
   "metadata": {},
   "outputs": [
    {
     "name": "stdout",
     "output_type": "stream",
     "text": [
      "508, 422 nonsynonymous MHC-I mutated patients\n"
     ]
    }
   ],
   "source": [
    "# Find patients that have MHC-I mutations (B2M/HLA) \n",
    "mhc_mut_patients = np.loadtxt('../data/B2M_mutated_patients.MSS_only.txt', dtype=str).tolist()\n",
    "mhc_mut_patients.extend(np.loadtxt('../data/HLA_mutated_patients.MSS_only.txt', dtype=str))\n",
    "\n",
    "mut_confident_patientsI = confident_patientsI[confident_patientsI.index.isin(mhc_mut_patients)]\n",
    "mut_confident_patientsII = confident_patientsII[confident_patientsII.index.isin(mhc_mut_patients)]\n",
    "\n",
    "unmut_confident_patientsI = confident_patientsI[~confident_patientsI.index.isin(mhc_mut_patients)]\n",
    "unmut_confident_patientsII = confident_patientsII[~confident_patientsII.index.isin(mhc_mut_patients)]\n",
    "\n",
    "# create dataframe with MHC mutation column \n",
    "total_confident_patientsI = mut_confident_patientsI.append(unmut_confident_patientsI)\n",
    "total_confident_patientsI['MHC_mutation'] = [1]*len(mut_confident_patientsI) + [0]*len(unmut_confident_patientsI)\n",
    "\n",
    "total_confident_patientsII = mut_confident_patientsII.append(unmut_confident_patientsII)\n",
    "total_confident_patientsII['MHC_mutation'] = [1]*len(mut_confident_patientsII) + [0]*len(unmut_confident_patientsII)\n",
    "\n",
    "# categorize age \n",
    "young_thresh = 52 # 30th percentile: 52, 40th: 57\n",
    "old_thresh = 68   # 70th percentile: 68, 60th: 65\n",
    "\n",
    "total_confident_patientsI['age_categorical_3070'] = pd.cut(total_confident_patientsI['age'], [0, young_thresh, old_thresh, total_confident_patientsI['age'].max()], labels=['younger', 'middle', 'older'])\n",
    "total_confident_patientsII['age_categorical_3070'] = pd.cut(total_confident_patientsII['age'], [0, young_thresh, old_thresh, total_confident_patientsII['age'].max()], labels=['younger', 'middle', 'older'])\n",
    "\n",
    "print('{}, {} nonsynonymous MHC-I mutated patients'.format(len(mut_confident_patientsI), \n",
    "                                                           len(mut_confident_patientsII)))"
   ]
  },
  {
   "cell_type": "markdown",
   "metadata": {},
   "source": [
    "### 2. Plot PHBR scores for mutated vs. unmutated patients"
   ]
  },
  {
   "cell_type": "code",
   "execution_count": 9,
   "metadata": {},
   "outputs": [],
   "source": [
    "def get_p_values(df, x_parameter, y_parameter, hue='disease', stat_test=mannwhitneyu, \n",
    "                 multiple_hypothesis_correction=True, sort_on_key=False):\n",
    "    '''\n",
    "    Calculates p-values for each patient sub-category\n",
    "    @param: df: pandas dataframe\n",
    "    @param: df_parameter: string, matches up with df column of interest\n",
    "    @param: stat_test: statistical test function {mannwhitneyu, wilcoxon}\n",
    "    @param: multiple_hypothesis_correction: bool\n",
    "    '''\n",
    "    list_mw_pvals = []\n",
    "    options = list(set(df[x_parameter].values))\n",
    "\n",
    "    for d in set(df[hue].values):\n",
    "        temp_df = df[df[hue] == d] \n",
    "        temp_levels_A = []\n",
    "        temp_levels_B = []\n",
    "\n",
    "        for i in range(len(temp_df.index.values)):\n",
    "            if temp_df[x_parameter].values[i] == options[0]:\n",
    "                temp_levels_A.append(temp_df[y_parameter].values[i])\n",
    "            else:\n",
    "                temp_levels_B.append(temp_df[y_parameter].values[i])\n",
    "\n",
    "        list_mw_pvals.append([d, stat_test(temp_levels_A, temp_levels_B).pvalue])\n",
    "\n",
    "    if multiple_hypothesis_correction:\n",
    "        list_mw_pvals = benjamini_fdr(list_mw_pvals)\n",
    "\n",
    "    if sort_on_key:\n",
    "        list_mw_pvals = sorted(list_mw_pvals, key=lambda x: x[0])\n",
    "    else:\n",
    "        list_mw_pvals = sorted(list_mw_pvals, key=lambda x: x[1])\n",
    "    return list_mw_pvals"
   ]
  },
  {
   "cell_type": "markdown",
   "metadata": {},
   "source": [
    "##### MHC-I"
   ]
  },
  {
   "cell_type": "code",
   "execution_count": 10,
   "metadata": {},
   "outputs": [
    {
     "data": {
      "text/html": [
       "<div>\n",
       "<style scoped>\n",
       "    .dataframe tbody tr th:only-of-type {\n",
       "        vertical-align: middle;\n",
       "    }\n",
       "\n",
       "    .dataframe tbody tr th {\n",
       "        vertical-align: top;\n",
       "    }\n",
       "\n",
       "    .dataframe thead th {\n",
       "        text-align: right;\n",
       "    }\n",
       "</style>\n",
       "<table border=\"1\" class=\"dataframe\">\n",
       "  <thead>\n",
       "    <tr style=\"text-align: right;\">\n",
       "      <th></th>\n",
       "      <th>scores</th>\n",
       "      <th>disease</th>\n",
       "      <th>age</th>\n",
       "      <th>MHC_mutation</th>\n",
       "      <th>variable</th>\n",
       "      <th>value</th>\n",
       "    </tr>\n",
       "  </thead>\n",
       "  <tbody>\n",
       "    <tr>\n",
       "      <th>0</th>\n",
       "      <td>1.559341</td>\n",
       "      <td>LGG</td>\n",
       "      <td>41.0</td>\n",
       "      <td>Mutation</td>\n",
       "      <td>sex</td>\n",
       "      <td>female</td>\n",
       "    </tr>\n",
       "    <tr>\n",
       "      <th>1</th>\n",
       "      <td>2.249268</td>\n",
       "      <td>LGG</td>\n",
       "      <td>41.0</td>\n",
       "      <td>Mutation</td>\n",
       "      <td>sex</td>\n",
       "      <td>female</td>\n",
       "    </tr>\n",
       "  </tbody>\n",
       "</table>\n",
       "</div>"
      ],
      "text/plain": [
       "     scores disease   age MHC_mutation variable   value\n",
       "0  1.559341     LGG  41.0     Mutation      sex  female\n",
       "1  2.249268     LGG  41.0     Mutation      sex  female"
      ]
     },
     "execution_count": 10,
     "metadata": {},
     "output_type": "execute_result"
    }
   ],
   "source": [
    "mhcI_df = pd.melt(total_confident_patientsI, id_vars=['scores', 'disease', 'age', 'MHC_mutation'])\n",
    "mhcI_df['MHC_mutation'] = mhcI_df['MHC_mutation'].replace({1:'Mutation', 0: 'No mutation'})\n",
    "mhcI_df.head(2)"
   ]
  },
  {
   "cell_type": "code",
   "execution_count": 11,
   "metadata": {},
   "outputs": [
    {
     "name": "stdout",
     "output_type": "stream",
     "text": [
      "Saving to ../figures/S3_MHC_mut.PHBR-I_boxplot.pdf\n"
     ]
    },
    {
     "data": {
      "image/png": "[encoded data removed]",
      "text/plain": [
       "<Figure size 360x216 with 1 Axes>"
      ]
     },
     "metadata": {
      "needs_background": "light"
     },
     "output_type": "display_data"
    }
   ],
   "source": [
    "flierprops = dict(markerfacecolor='darkgrey', markersize=5, linestyle='none', markeredgecolor='darkgrey')\n",
    "\n",
    "# Calculate p-values\n",
    "pval_list = get_p_values(mhcI_df, x_parameter='MHC_mutation', y_parameter='scores', \n",
    "                         hue='value', sort_on_key=True)\n",
    "\n",
    "# Plot\n",
    "plt.figure(figsize=(5,3))\n",
    "\n",
    "ax = sns.boxplot(x='value', y='scores', data=mhcI_df, hue='MHC_mutation', \n",
    "            order=['female', 'male', 'younger', 'older'], palette='Set3', flierprops=flierprops)\n",
    "\n",
    "plt.xlabel(''), plt.ylabel('Pan-cancer PHBR-I')\n",
    "\n",
    "# Add sample counts\n",
    "plt.xticks([0,1,2,3],['Female\\n({}, {})\\np<{:.3}'.format(len(set(total_confident_patientsI[(total_confident_patientsI['sex']=='female')&(total_confident_patientsI['MHC_mutation']==0)].index)),\n",
    "                                                      len(set(total_confident_patientsI[(total_confident_patientsI['sex']=='female')&(total_confident_patientsI['MHC_mutation']==1)].index)),\n",
    "                                                      pval_list[0][1]), \n",
    "                   'Male\\n({}, {})\\np<{:.3}'.format(len(set(total_confident_patientsI[(total_confident_patientsI['sex']=='male')&(total_confident_patientsI['MHC_mutation']==0)].index)),\n",
    "                                                len(set(total_confident_patientsI[(total_confident_patientsI['sex']=='male')&(total_confident_patientsI['MHC_mutation']==1)].index)),\n",
    "                                                pval_list[1][1]),\n",
    "                   'Younger\\n({}, {})\\np<{:.3}'.format(len(set(total_confident_patientsI[(total_confident_patientsI['age_categorical_3070']=='younger')&(total_confident_patientsI['MHC_mutation']==0)].index)),\n",
    "                                                      len(set(total_confident_patientsI[(total_confident_patientsI['age_categorical_3070']=='younger')&(total_confident_patientsI['MHC_mutation']==1)].index)),\n",
    "                                                      pval_list[0][1]), \n",
    "                   'Older\\n({}, {})\\np<{:.3}'.format(len(set(total_confident_patientsI[(total_confident_patientsI['age_categorical_3070']=='older')&(total_confident_patientsI['MHC_mutation']==0)].index)),\n",
    "                                                len(set(total_confident_patientsI[(total_confident_patientsI['age_categorical_3070']=='older')&(total_confident_patientsI['MHC_mutation']==1)].index)),\n",
    "                                                pval_list[1][1])])\n",
    "plt.yticks(range(0,21,4))\n",
    "plt.ylim(-0.5,20.5)\n",
    "plt.legend(loc='upper right')\n",
    "\n",
    "# save\n",
    "plt.tight_layout()\n",
    "savepath = '../figures/S3_MHC_mut.PHBR-I_boxplot.pdf'\n",
    "print('Saving to {}'.format(savepath))\n",
    "plt.savefig(savepath)\n",
    "\n",
    "plt.show()"
   ]
  },
  {
   "cell_type": "code",
   "execution_count": null,
   "metadata": {},
   "outputs": [],
   "source": []
  }
 ],
 "metadata": {
  "kernelspec": {
   "display_name": "Python 3",
   "language": "python",
   "name": "python3"
  },
  "language_info": {
   "codemirror_mode": {
    "name": "ipython",
    "version": 3
   },
   "file_extension": ".py",
   "mimetype": "text/x-python",
   "name": "python",
   "nbconvert_exporter": "python",
   "pygments_lexer": "ipython3",
   "version": "3.6.8"
  }
 },
 "nbformat": 4,
 "nbformat_minor": 2
}
