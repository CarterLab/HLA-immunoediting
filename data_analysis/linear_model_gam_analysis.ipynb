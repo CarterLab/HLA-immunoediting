{
 "cells": [
  {
   "cell_type": "markdown",
   "metadata": {},
   "source": [
    "### Notebook:\n",
    "- Fits linear model (gam) to discovery and validation cohorts"
   ]
  },
  {
   "cell_type": "code",
   "execution_count": 23,
   "metadata": {},
   "outputs": [
    {
     "name": "stderr",
     "output_type": "stream",
     "text": [
      "Loading required package: nlme\n",
      "This is mgcv 1.8-23. For overview type 'help(\"mgcv-package\")'.\n"
     ]
    }
   ],
   "source": [
    "library(mgcv)\n",
    "library(oddsratio)"
   ]
  },
  {
   "cell_type": "markdown",
   "metadata": {},
   "source": [
    "# 1. Discovery cohort\n",
    "- TCGA"
   ]
  },
  {
   "cell_type": "markdown",
   "metadata": {},
   "source": [
    "##### 1A. Load discovery cohort"
   ]
  },
  {
   "cell_type": "code",
   "execution_count": 2,
   "metadata": {},
   "outputs": [
    {
     "name": "stdout",
     "output_type": "stream",
     "text": [
      "2199477 16"
     ]
    },
    {
     "data": {
      "text/html": [
       "<table>\n",
       "<thead><tr><th scope=col>y..has_mutation.</th><th scope=col>centered_log_phbrI</th><th scope=col>centered_log_phbrII</th><th scope=col>centered_sex</th><th scope=col>patient_ids</th><th scope=col>disease</th></tr></thead>\n",
       "<tbody>\n",
       "\t<tr><td>0           </td><td> 0.05987674 </td><td>-1.152503930</td><td>-0.4230716  </td><td>TCGA-02-0003</td><td>TCGA-GBM    </td></tr>\n",
       "\t<tr><td>0           </td><td>-0.02521391 </td><td>-1.676057048</td><td>-0.4230716  </td><td>TCGA-02-0003</td><td>TCGA-GBM    </td></tr>\n",
       "\t<tr><td>0           </td><td> 0.40872167 </td><td> 0.001467257</td><td>-0.4230716  </td><td>TCGA-02-0003</td><td>TCGA-GBM    </td></tr>\n",
       "\t<tr><td>0           </td><td> 0.79788495 </td><td> 0.822290563</td><td>-0.4230716  </td><td>TCGA-02-0003</td><td>TCGA-GBM    </td></tr>\n",
       "\t<tr><td>0           </td><td> 0.44322198 </td><td> 0.169821203</td><td>-0.4230716  </td><td>TCGA-02-0003</td><td>TCGA-GBM    </td></tr>\n",
       "\t<tr><td>0           </td><td>-0.42148021 </td><td> 0.195804718</td><td>-0.4230716  </td><td>TCGA-02-0003</td><td>TCGA-GBM    </td></tr>\n",
       "</tbody>\n",
       "</table>\n"
      ],
      "text/latex": [
       "\\begin{tabular}{r|llllll}\n",
       " y..has\\_mutation. & centered\\_log\\_phbrI & centered\\_log\\_phbrII & centered\\_sex & patient\\_ids & disease\\\\\n",
       "\\hline\n",
       "\t 0            &  0.05987674  & -1.152503930 & -0.4230716   & TCGA-02-0003 & TCGA-GBM    \\\\\n",
       "\t 0            & -0.02521391  & -1.676057048 & -0.4230716   & TCGA-02-0003 & TCGA-GBM    \\\\\n",
       "\t 0            &  0.40872167  &  0.001467257 & -0.4230716   & TCGA-02-0003 & TCGA-GBM    \\\\\n",
       "\t 0            &  0.79788495  &  0.822290563 & -0.4230716   & TCGA-02-0003 & TCGA-GBM    \\\\\n",
       "\t 0            &  0.44322198  &  0.169821203 & -0.4230716   & TCGA-02-0003 & TCGA-GBM    \\\\\n",
       "\t 0            & -0.42148021  &  0.195804718 & -0.4230716   & TCGA-02-0003 & TCGA-GBM    \\\\\n",
       "\\end{tabular}\n"
      ],
      "text/markdown": [
       "\n",
       "y..has_mutation. | centered_log_phbrI | centered_log_phbrII | centered_sex | patient_ids | disease | \n",
       "|---|---|---|---|---|---|\n",
       "| 0            |  0.05987674  | -1.152503930 | -0.4230716   | TCGA-02-0003 | TCGA-GBM     | \n",
       "| 0            | -0.02521391  | -1.676057048 | -0.4230716   | TCGA-02-0003 | TCGA-GBM     | \n",
       "| 0            |  0.40872167  |  0.001467257 | -0.4230716   | TCGA-02-0003 | TCGA-GBM     | \n",
       "| 0            |  0.79788495  |  0.822290563 | -0.4230716   | TCGA-02-0003 | TCGA-GBM     | \n",
       "| 0            |  0.44322198  |  0.169821203 | -0.4230716   | TCGA-02-0003 | TCGA-GBM     | \n",
       "| 0            | -0.42148021  |  0.195804718 | -0.4230716   | TCGA-02-0003 | TCGA-GBM     | \n",
       "\n",
       "\n"
      ],
      "text/plain": [
       "  y..has_mutation. centered_log_phbrI centered_log_phbrII centered_sex\n",
       "1 0                 0.05987674        -1.152503930        -0.4230716  \n",
       "2 0                -0.02521391        -1.676057048        -0.4230716  \n",
       "3 0                 0.40872167         0.001467257        -0.4230716  \n",
       "4 0                 0.79788495         0.822290563        -0.4230716  \n",
       "5 0                 0.44322198         0.169821203        -0.4230716  \n",
       "6 0                -0.42148021         0.195804718        -0.4230716  \n",
       "  patient_ids  disease \n",
       "1 TCGA-02-0003 TCGA-GBM\n",
       "2 TCGA-02-0003 TCGA-GBM\n",
       "3 TCGA-02-0003 TCGA-GBM\n",
       "4 TCGA-02-0003 TCGA-GBM\n",
       "5 TCGA-02-0003 TCGA-GBM\n",
       "6 TCGA-02-0003 TCGA-GBM"
      ]
     },
     "metadata": {},
     "output_type": "display_data"
    }
   ],
   "source": [
    "discovery_data = read.csv('../generated_data/gam_input.expressed_mutations.2.tsv', sep='\\t')\n",
    "cat(dim(discovery_data))\n",
    "head(discovery_data[c('y..has_mutation.', 'centered_log_phbrI', 'centered_log_phbrII', 'centered_sex', 'patient_ids', 'disease')])"
   ]
  },
  {
   "cell_type": "markdown",
   "metadata": {},
   "source": [
    "### Table 1"
   ]
  },
  {
   "cell_type": "markdown",
   "metadata": {},
   "source": [
    "##### Age"
   ]
  },
  {
   "cell_type": "code",
   "execution_count": 5,
   "metadata": {},
   "outputs": [
    {
     "data": {
      "text/html": [
       "<table>\n",
       "<thead><tr><th></th><th scope=col>Estimate</th><th scope=col>Std. Error</th><th scope=col>z value</th><th scope=col>Pr(&gt;|z|)</th></tr></thead>\n",
       "<tbody>\n",
       "\t<tr><th scope=row>(Intercept)</th><td>-6.597925322</td><td>0.0201500717</td><td>-327.439298 </td><td>0.000000e+00</td></tr>\n",
       "\t<tr><th scope=row>centered_log_phbrI</th><td> 0.043530899</td><td>0.0163642249</td><td>   2.660126 </td><td>7.811145e-03</td></tr>\n",
       "\t<tr><th scope=row>centered_log_phbrII</th><td> 0.311381693</td><td>0.0199872009</td><td>  15.579055 </td><td>1.010381e-54</td></tr>\n",
       "\t<tr><th scope=row>centered_age</th><td>-0.002475534</td><td>0.0013064735</td><td>  -1.894821 </td><td>5.811607e-02</td></tr>\n",
       "\t<tr><th scope=row>centered_log_phbrI:centered_log_phbrII</th><td>-0.025895182</td><td>0.0139694478</td><td>  -1.853701 </td><td>6.378192e-02</td></tr>\n",
       "\t<tr><th scope=row>centered_log_phbrI:centered_age</th><td>-0.002963916</td><td>0.0010702749</td><td>  -2.769304 </td><td>5.617622e-03</td></tr>\n",
       "\t<tr><th scope=row>centered_log_phbrII:centered_age</th><td>-0.003520486</td><td>0.0013069176</td><td>  -2.693732 </td><td>7.065696e-03</td></tr>\n",
       "\t<tr><th scope=row>centered_log_phbrI:centered_log_phbrII:centered_age</th><td> 0.002114323</td><td>0.0009114125</td><td>   2.319831 </td><td>2.035000e-02</td></tr>\n",
       "</tbody>\n",
       "</table>\n"
      ],
      "text/latex": [
       "\\begin{tabular}{r|llll}\n",
       "  & Estimate & Std. Error & z value & Pr(>\\textbar{}z\\textbar{})\\\\\n",
       "\\hline\n",
       "\t(Intercept) & -6.597925322 & 0.0201500717 & -327.439298  & 0.000000e+00\\\\\n",
       "\tcentered\\_log\\_phbrI &  0.043530899 & 0.0163642249 &    2.660126  & 7.811145e-03\\\\\n",
       "\tcentered\\_log\\_phbrII &  0.311381693 & 0.0199872009 &   15.579055  & 1.010381e-54\\\\\n",
       "\tcentered\\_age & -0.002475534 & 0.0013064735 &   -1.894821  & 5.811607e-02\\\\\n",
       "\tcentered\\_log\\_phbrI:centered\\_log\\_phbrII & -0.025895182 & 0.0139694478 &   -1.853701  & 6.378192e-02\\\\\n",
       "\tcentered\\_log\\_phbrI:centered\\_age & -0.002963916 & 0.0010702749 &   -2.769304  & 5.617622e-03\\\\\n",
       "\tcentered\\_log\\_phbrII:centered\\_age & -0.003520486 & 0.0013069176 &   -2.693732  & 7.065696e-03\\\\\n",
       "\tcentered\\_log\\_phbrI:centered\\_log\\_phbrII:centered\\_age &  0.002114323 & 0.0009114125 &    2.319831  & 2.035000e-02\\\\\n",
       "\\end{tabular}\n"
      ],
      "text/markdown": [
       "\n",
       "| <!--/--> | Estimate | Std. Error | z value | Pr(>|z|) | \n",
       "|---|---|---|---|---|---|---|---|\n",
       "| (Intercept) | -6.597925322 | 0.0201500717 | -327.439298  | 0.000000e+00 | \n",
       "| centered_log_phbrI |  0.043530899 | 0.0163642249 |    2.660126  | 7.811145e-03 | \n",
       "| centered_log_phbrII |  0.311381693 | 0.0199872009 |   15.579055  | 1.010381e-54 | \n",
       "| centered_age | -0.002475534 | 0.0013064735 |   -1.894821  | 5.811607e-02 | \n",
       "| centered_log_phbrI:centered_log_phbrII | -0.025895182 | 0.0139694478 |   -1.853701  | 6.378192e-02 | \n",
       "| centered_log_phbrI:centered_age | -0.002963916 | 0.0010702749 |   -2.769304  | 5.617622e-03 | \n",
       "| centered_log_phbrII:centered_age | -0.003520486 | 0.0013069176 |   -2.693732  | 7.065696e-03 | \n",
       "| centered_log_phbrI:centered_log_phbrII:centered_age |  0.002114323 | 0.0009114125 |    2.319831  | 2.035000e-02 | \n",
       "\n",
       "\n"
      ],
      "text/plain": [
       "                                                    Estimate     Std. Error  \n",
       "(Intercept)                                         -6.597925322 0.0201500717\n",
       "centered_log_phbrI                                   0.043530899 0.0163642249\n",
       "centered_log_phbrII                                  0.311381693 0.0199872009\n",
       "centered_age                                        -0.002475534 0.0013064735\n",
       "centered_log_phbrI:centered_log_phbrII              -0.025895182 0.0139694478\n",
       "centered_log_phbrI:centered_age                     -0.002963916 0.0010702749\n",
       "centered_log_phbrII:centered_age                    -0.003520486 0.0013069176\n",
       "centered_log_phbrI:centered_log_phbrII:centered_age  0.002114323 0.0009114125\n",
       "                                                    z value     Pr(>|z|)    \n",
       "(Intercept)                                         -327.439298 0.000000e+00\n",
       "centered_log_phbrI                                     2.660126 7.811145e-03\n",
       "centered_log_phbrII                                   15.579055 1.010381e-54\n",
       "centered_age                                          -1.894821 5.811607e-02\n",
       "centered_log_phbrI:centered_log_phbrII                -1.853701 6.378192e-02\n",
       "centered_log_phbrI:centered_age                       -2.769304 5.617622e-03\n",
       "centered_log_phbrII:centered_age                      -2.693732 7.065696e-03\n",
       "centered_log_phbrI:centered_log_phbrII:centered_age    2.319831 2.035000e-02"
      ]
     },
     "metadata": {},
     "output_type": "display_data"
    }
   ],
   "source": [
    "g_age <- mgcv::gam(y..has_mutation. ~ centered_log_phbrI * centered_log_phbrII * centered_age, \n",
    "                   random=list(patient_ids=~1), \n",
    "                   family=binomial(link='logit'), \n",
    "                   data=discovery_data)\n",
    "summary(g_age)$p.table"
   ]
  },
  {
   "cell_type": "markdown",
   "metadata": {},
   "source": [
    "##### Sex \n"
   ]
  },
  {
   "cell_type": "code",
   "execution_count": 6,
   "metadata": {},
   "outputs": [
    {
     "data": {
      "text/html": [
       "<table>\n",
       "<thead><tr><th></th><th scope=col>Estimate</th><th scope=col>Std. Error</th><th scope=col>z value</th><th scope=col>Pr(&gt;|z|)</th></tr></thead>\n",
       "<tbody>\n",
       "\t<tr><th scope=row>(Intercept)</th><td>-6.59781340 </td><td>0.02021266  </td><td>-326.419910 </td><td>0.000000e+00</td></tr>\n",
       "\t<tr><th scope=row>centered_log_phbrI</th><td> 0.04838672 </td><td>0.01657149  </td><td>   2.919877 </td><td>3.501693e-03</td></tr>\n",
       "\t<tr><th scope=row>centered_log_phbrII</th><td> 0.31947652 </td><td>0.02016944  </td><td>  15.839632 </td><td>1.657884e-56</td></tr>\n",
       "\t<tr><th scope=row>centered_sex</th><td>-0.02197038 </td><td>0.04143791  </td><td>  -0.530200 </td><td>5.959733e-01</td></tr>\n",
       "\t<tr><th scope=row>centered_log_phbrI:centered_log_phbrII</th><td>-0.02987515 </td><td>0.01427653  </td><td>  -2.092606 </td><td>3.638438e-02</td></tr>\n",
       "\t<tr><th scope=row>centered_log_phbrI:centered_sex</th><td> 0.07589780 </td><td>0.03436274  </td><td>   2.208724 </td><td>2.719386e-02</td></tr>\n",
       "\t<tr><th scope=row>centered_log_phbrII:centered_sex</th><td> 0.14913091 </td><td>0.04174771  </td><td>   3.572194 </td><td>3.540028e-04</td></tr>\n",
       "\t<tr><th scope=row>centered_log_phbrI:centered_log_phbrII:centered_sex</th><td>-0.06652832 </td><td>0.02996782  </td><td>  -2.219992 </td><td>2.641929e-02</td></tr>\n",
       "</tbody>\n",
       "</table>\n"
      ],
      "text/latex": [
       "\\begin{tabular}{r|llll}\n",
       "  & Estimate & Std. Error & z value & Pr(>\\textbar{}z\\textbar{})\\\\\n",
       "\\hline\n",
       "\t(Intercept) & -6.59781340  & 0.02021266   & -326.419910  & 0.000000e+00\\\\\n",
       "\tcentered\\_log\\_phbrI &  0.04838672  & 0.01657149   &    2.919877  & 3.501693e-03\\\\\n",
       "\tcentered\\_log\\_phbrII &  0.31947652  & 0.02016944   &   15.839632  & 1.657884e-56\\\\\n",
       "\tcentered\\_sex & -0.02197038  & 0.04143791   &   -0.530200  & 5.959733e-01\\\\\n",
       "\tcentered\\_log\\_phbrI:centered\\_log\\_phbrII & -0.02987515  & 0.01427653   &   -2.092606  & 3.638438e-02\\\\\n",
       "\tcentered\\_log\\_phbrI:centered\\_sex &  0.07589780  & 0.03436274   &    2.208724  & 2.719386e-02\\\\\n",
       "\tcentered\\_log\\_phbrII:centered\\_sex &  0.14913091  & 0.04174771   &    3.572194  & 3.540028e-04\\\\\n",
       "\tcentered\\_log\\_phbrI:centered\\_log\\_phbrII:centered\\_sex & -0.06652832  & 0.02996782   &   -2.219992  & 2.641929e-02\\\\\n",
       "\\end{tabular}\n"
      ],
      "text/markdown": [
       "\n",
       "| <!--/--> | Estimate | Std. Error | z value | Pr(>|z|) | \n",
       "|---|---|---|---|---|---|---|---|\n",
       "| (Intercept) | -6.59781340  | 0.02021266   | -326.419910  | 0.000000e+00 | \n",
       "| centered_log_phbrI |  0.04838672  | 0.01657149   |    2.919877  | 3.501693e-03 | \n",
       "| centered_log_phbrII |  0.31947652  | 0.02016944   |   15.839632  | 1.657884e-56 | \n",
       "| centered_sex | -0.02197038  | 0.04143791   |   -0.530200  | 5.959733e-01 | \n",
       "| centered_log_phbrI:centered_log_phbrII | -0.02987515  | 0.01427653   |   -2.092606  | 3.638438e-02 | \n",
       "| centered_log_phbrI:centered_sex |  0.07589780  | 0.03436274   |    2.208724  | 2.719386e-02 | \n",
       "| centered_log_phbrII:centered_sex |  0.14913091  | 0.04174771   |    3.572194  | 3.540028e-04 | \n",
       "| centered_log_phbrI:centered_log_phbrII:centered_sex | -0.06652832  | 0.02996782   |   -2.219992  | 2.641929e-02 | \n",
       "\n",
       "\n"
      ],
      "text/plain": [
       "                                                    Estimate    Std. Error\n",
       "(Intercept)                                         -6.59781340 0.02021266\n",
       "centered_log_phbrI                                   0.04838672 0.01657149\n",
       "centered_log_phbrII                                  0.31947652 0.02016944\n",
       "centered_sex                                        -0.02197038 0.04143791\n",
       "centered_log_phbrI:centered_log_phbrII              -0.02987515 0.01427653\n",
       "centered_log_phbrI:centered_sex                      0.07589780 0.03436274\n",
       "centered_log_phbrII:centered_sex                     0.14913091 0.04174771\n",
       "centered_log_phbrI:centered_log_phbrII:centered_sex -0.06652832 0.02996782\n",
       "                                                    z value     Pr(>|z|)    \n",
       "(Intercept)                                         -326.419910 0.000000e+00\n",
       "centered_log_phbrI                                     2.919877 3.501693e-03\n",
       "centered_log_phbrII                                   15.839632 1.657884e-56\n",
       "centered_sex                                          -0.530200 5.959733e-01\n",
       "centered_log_phbrI:centered_log_phbrII                -2.092606 3.638438e-02\n",
       "centered_log_phbrI:centered_sex                        2.208724 2.719386e-02\n",
       "centered_log_phbrII:centered_sex                       3.572194 3.540028e-04\n",
       "centered_log_phbrI:centered_log_phbrII:centered_sex   -2.219992 2.641929e-02"
      ]
     },
     "metadata": {},
     "output_type": "display_data"
    }
   ],
   "source": [
    "g_sex <- mgcv::gam(y..has_mutation. ~ centered_log_phbrI * centered_log_phbrII * centered_sex, \n",
    "                   random=list(patient_ids=~1), \n",
    "                   family=binomial(link='logit'), \n",
    "                   data=discovery_data)\n",
    "summary(g_sex)$p.table"
   ]
  },
  {
   "cell_type": "markdown",
   "metadata": {},
   "source": [
    "##### Odds ratio analysis\n",
    "- Quantifies the influence of both PHBR-I and PHBR-II scores on probability of mutation using odds ratios between respective 25th and 75th percentiles"
   ]
  },
  {
   "cell_type": "code",
   "execution_count": 25,
   "metadata": {},
   "outputs": [],
   "source": [
    "gam_compare = mgcv::gam(y..has_mutation. ~ s(centered_log_phbrI, centered_log_phbrII), \n",
    "                        data=discovery_data, \n",
    "                        random=list(patient_ids=~1), \n",
    "                        family='binomial')"
   ]
  },
  {
   "cell_type": "code",
   "execution_count": 26,
   "metadata": {},
   "outputs": [],
   "source": [
    "low_x = quantile(discovery_data[['centered_log_phbrI']], 0.25, names=FALSE)\n",
    "high_x = quantile(discovery_data[['centered_log_phbrI']], 0.75, names=FALSE)\n",
    "low_z = quantile(discovery_data[['centered_log_phbrII']], 0.25, names=FALSE)\n",
    "high_z = quantile(discovery_data[['centered_log_phbrII']], 0.75, names=FALSE)"
   ]
  },
  {
   "cell_type": "code",
   "execution_count": 27,
   "metadata": {},
   "outputs": [],
   "source": [
    "results1 = or_gam(data=discovery_data, model=gam_compare, pred=c(\"centered_log_phbrI\"), values=c(low_x, high_x))\n",
    "results2 = or_gam(data=discovery_data, model=gam_compare, pred=c(\"centered_log_phbrII\"), values=c(low_z, high_z))"
   ]
  },
  {
   "cell_type": "code",
   "execution_count": 28,
   "metadata": {},
   "outputs": [],
   "source": [
    "OR <- CI_low <- CI_high <-  predicted <- vector(\"list\",2)"
   ]
  },
  {
   "cell_type": "code",
   "execution_count": 29,
   "metadata": {},
   "outputs": [],
   "source": [
    "OR[[1]] <- results1[['oddsratio']]\n",
    "CI_low[[1]] <- results1[['CI_low (2.5%)']]\n",
    "CI_high[[1]] <- results1[['CI_high (97.5%)']]\n",
    "predicted[[1]] <- results1[['predictor']]\n",
    "\n",
    "OR[[2]] <- results2[['oddsratio']]\n",
    "CI_low[[2]] <- results2[['CI_low (2.5%)']]\n",
    "CI_high[[2]] <- results2[['CI_high (97.5%)']]\n",
    "predicted[[2]] <- results2[['predictor']]"
   ]
  },
  {
   "cell_type": "code",
   "execution_count": 30,
   "metadata": {
    "scrolled": true
   },
   "outputs": [
    {
     "data": {
      "text/html": [
       "<table>\n",
       "<thead><tr><th scope=col>OR</th><th scope=col>CI_low</th><th scope=col>CI_high</th><th scope=col>predicted</th></tr></thead>\n",
       "<tbody>\n",
       "\t<tr><td>1.277088          </td><td>1.265015          </td><td>1.289277          </td><td>centered_log_phbrI</td></tr>\n",
       "\t<tr><td>3.404349           </td><td>3.194265           </td><td>3.62825            </td><td>centered_log_phbrII</td></tr>\n",
       "</tbody>\n",
       "</table>\n"
      ],
      "text/latex": [
       "\\begin{tabular}{llll}\n",
       " OR & CI\\_low & CI\\_high & predicted\\\\\n",
       "\\hline\n",
       "\t 1.277088               & 1.265015               & 1.289277               & centered\\_log\\_phbrI\\\\\n",
       "\t 3.404349                & 3.194265                & 3.62825                 & centered\\_log\\_phbrII\\\\\n",
       "\\end{tabular}\n"
      ],
      "text/markdown": [
       "\n",
       "OR | CI_low | CI_high | predicted | \n",
       "|---|---|\n",
       "| 1.277088           | 1.265015           | 1.289277           | centered_log_phbrI | \n",
       "| 3.404349            | 3.194265            | 3.62825             | centered_log_phbrII | \n",
       "\n",
       "\n"
      ],
      "text/plain": [
       "     OR       CI_low   CI_high  predicted          \n",
       "[1,] 1.277088 1.265015 1.289277 centered_log_phbrI \n",
       "[2,] 3.404349 3.194265 3.62825  centered_log_phbrII"
      ]
     },
     "metadata": {},
     "output_type": "display_data"
    }
   ],
   "source": [
    "cbind(cbind(cbind(OR, CI_low), CI_high), predicted)"
   ]
  },
  {
   "cell_type": "markdown",
   "metadata": {},
   "source": [
    "### Table S1"
   ]
  },
  {
   "cell_type": "markdown",
   "metadata": {},
   "source": [
    "##### PHBR-I * sex * age"
   ]
  },
  {
   "cell_type": "code",
   "execution_count": 14,
   "metadata": {},
   "outputs": [
    {
     "data": {
      "text/html": [
       "<table>\n",
       "<thead><tr><th></th><th scope=col>Estimate</th><th scope=col>Std. Error</th><th scope=col>z value</th><th scope=col>Pr(&gt;|z|)</th></tr></thead>\n",
       "<tbody>\n",
       "\t<tr><th scope=row>(Intercept)</th><td>-6.5574332479</td><td>0.0181316512 </td><td>-361.65670684</td><td>0.000000e+00 </td></tr>\n",
       "\t<tr><th scope=row>centered_log_phbrI</th><td> 0.1327849415</td><td>0.0138231455 </td><td>   9.60598597</td><td>7.543248e-22 </td></tr>\n",
       "\t<tr><th scope=row>centered_sex</th><td>-0.0031770340</td><td>0.0370827598 </td><td>  -0.08567415</td><td>9.317255e-01 </td></tr>\n",
       "\t<tr><th scope=row>centered_age</th><td>-0.0026315978</td><td>0.0011740067 </td><td>  -2.24155266</td><td>2.499030e-02 </td></tr>\n",
       "\t<tr><th scope=row>centered_log_phbrI:centered_sex</th><td> 0.0826691092</td><td>0.0282561037 </td><td>   2.92570802</td><td>3.436733e-03 </td></tr>\n",
       "\t<tr><th scope=row>centered_log_phbrI:centered_age</th><td>-0.0028545817</td><td>0.0008916852 </td><td>  -3.20133361</td><td>1.367931e-03 </td></tr>\n",
       "\t<tr><th scope=row>centered_sex:centered_age</th><td> 0.0022298839</td><td>0.0023793197 </td><td>   0.93719391</td><td>3.486588e-01 </td></tr>\n",
       "\t<tr><th scope=row>centered_log_phbrI:centered_sex:centered_age</th><td> 0.0008591691</td><td>0.0018053837 </td><td>   0.47589279</td><td>6.341508e-01 </td></tr>\n",
       "</tbody>\n",
       "</table>\n"
      ],
      "text/latex": [
       "\\begin{tabular}{r|llll}\n",
       "  & Estimate & Std. Error & z value & Pr(>\\textbar{}z\\textbar{})\\\\\n",
       "\\hline\n",
       "\t(Intercept) & -6.5574332479 & 0.0181316512  & -361.65670684 & 0.000000e+00 \\\\\n",
       "\tcentered\\_log\\_phbrI &  0.1327849415 & 0.0138231455  &    9.60598597 & 7.543248e-22 \\\\\n",
       "\tcentered\\_sex & -0.0031770340 & 0.0370827598  &   -0.08567415 & 9.317255e-01 \\\\\n",
       "\tcentered\\_age & -0.0026315978 & 0.0011740067  &   -2.24155266 & 2.499030e-02 \\\\\n",
       "\tcentered\\_log\\_phbrI:centered\\_sex &  0.0826691092 & 0.0282561037  &    2.92570802 & 3.436733e-03 \\\\\n",
       "\tcentered\\_log\\_phbrI:centered\\_age & -0.0028545817 & 0.0008916852  &   -3.20133361 & 1.367931e-03 \\\\\n",
       "\tcentered\\_sex:centered\\_age &  0.0022298839 & 0.0023793197  &    0.93719391 & 3.486588e-01 \\\\\n",
       "\tcentered\\_log\\_phbrI:centered\\_sex:centered\\_age &  0.0008591691 & 0.0018053837  &    0.47589279 & 6.341508e-01 \\\\\n",
       "\\end{tabular}\n"
      ],
      "text/markdown": [
       "\n",
       "| <!--/--> | Estimate | Std. Error | z value | Pr(>|z|) | \n",
       "|---|---|---|---|---|---|---|---|\n",
       "| (Intercept) | -6.5574332479 | 0.0181316512  | -361.65670684 | 0.000000e+00  | \n",
       "| centered_log_phbrI |  0.1327849415 | 0.0138231455  |    9.60598597 | 7.543248e-22  | \n",
       "| centered_sex | -0.0031770340 | 0.0370827598  |   -0.08567415 | 9.317255e-01  | \n",
       "| centered_age | -0.0026315978 | 0.0011740067  |   -2.24155266 | 2.499030e-02  | \n",
       "| centered_log_phbrI:centered_sex |  0.0826691092 | 0.0282561037  |    2.92570802 | 3.436733e-03  | \n",
       "| centered_log_phbrI:centered_age | -0.0028545817 | 0.0008916852  |   -3.20133361 | 1.367931e-03  | \n",
       "| centered_sex:centered_age |  0.0022298839 | 0.0023793197  |    0.93719391 | 3.486588e-01  | \n",
       "| centered_log_phbrI:centered_sex:centered_age |  0.0008591691 | 0.0018053837  |    0.47589279 | 6.341508e-01  | \n",
       "\n",
       "\n"
      ],
      "text/plain": [
       "                                             Estimate      Std. Error  \n",
       "(Intercept)                                  -6.5574332479 0.0181316512\n",
       "centered_log_phbrI                            0.1327849415 0.0138231455\n",
       "centered_sex                                 -0.0031770340 0.0370827598\n",
       "centered_age                                 -0.0026315978 0.0011740067\n",
       "centered_log_phbrI:centered_sex               0.0826691092 0.0282561037\n",
       "centered_log_phbrI:centered_age              -0.0028545817 0.0008916852\n",
       "centered_sex:centered_age                     0.0022298839 0.0023793197\n",
       "centered_log_phbrI:centered_sex:centered_age  0.0008591691 0.0018053837\n",
       "                                             z value       Pr(>|z|)    \n",
       "(Intercept)                                  -361.65670684 0.000000e+00\n",
       "centered_log_phbrI                              9.60598597 7.543248e-22\n",
       "centered_sex                                   -0.08567415 9.317255e-01\n",
       "centered_age                                   -2.24155266 2.499030e-02\n",
       "centered_log_phbrI:centered_sex                 2.92570802 3.436733e-03\n",
       "centered_log_phbrI:centered_age                -3.20133361 1.367931e-03\n",
       "centered_sex:centered_age                       0.93719391 3.486588e-01\n",
       "centered_log_phbrI:centered_sex:centered_age    0.47589279 6.341508e-01"
      ]
     },
     "metadata": {},
     "output_type": "display_data"
    }
   ],
   "source": [
    "g_sex_age_I <- mgcv::gam(y..has_mutation. ~ centered_log_phbrI * centered_sex * centered_age, \n",
    "                          random=list(patient_ids=~1), \n",
    "                          family=binomial(link='logit'), \n",
    "                          data=discovery_data)\n",
    "summary(g_sex_age_I)$p.table"
   ]
  },
  {
   "cell_type": "markdown",
   "metadata": {},
   "source": [
    "##### PHBR-II * sex * age"
   ]
  },
  {
   "cell_type": "code",
   "execution_count": 12,
   "metadata": {},
   "outputs": [
    {
     "data": {
      "text/html": [
       "<table>\n",
       "<thead><tr><th></th><th scope=col>Estimate</th><th scope=col>Std. Error</th><th scope=col>z value</th><th scope=col>Pr(&gt;|z|)</th></tr></thead>\n",
       "<tbody>\n",
       "\t<tr><th scope=row>(Intercept)</th><td>-6.612666670</td><td>0.019282675 </td><td>-342.933051 </td><td>0.000000e+00</td></tr>\n",
       "\t<tr><th scope=row>centered_log_phbrII</th><td> 0.332254644</td><td>0.018461598 </td><td>  17.997068 </td><td>2.054090e-72</td></tr>\n",
       "\t<tr><th scope=row>centered_sex</th><td>-0.049209919</td><td>0.039728871 </td><td>  -1.238644 </td><td>2.154774e-01</td></tr>\n",
       "\t<tr><th scope=row>centered_age</th><td>-0.001573477</td><td>0.001257245 </td><td>  -1.251528 </td><td>2.107418e-01</td></tr>\n",
       "\t<tr><th scope=row>centered_log_phbrII:centered_sex</th><td> 0.162517556</td><td>0.038177967 </td><td>   4.256842 </td><td>2.073352e-05</td></tr>\n",
       "\t<tr><th scope=row>centered_log_phbrII:centered_age</th><td>-0.004354618</td><td>0.001205241 </td><td>  -3.613069 </td><td>3.025937e-04</td></tr>\n",
       "\t<tr><th scope=row>centered_sex:centered_age</th><td> 0.003641782</td><td>0.002569918 </td><td>   1.417081 </td><td>1.564593e-01</td></tr>\n",
       "\t<tr><th scope=row>centered_log_phbrII:centered_sex:centered_age</th><td>-0.002502864</td><td>0.002469517 </td><td>  -1.013503 </td><td>3.108198e-01</td></tr>\n",
       "</tbody>\n",
       "</table>\n"
      ],
      "text/latex": [
       "\\begin{tabular}{r|llll}\n",
       "  & Estimate & Std. Error & z value & Pr(>\\textbar{}z\\textbar{})\\\\\n",
       "\\hline\n",
       "\t(Intercept) & -6.612666670 & 0.019282675  & -342.933051  & 0.000000e+00\\\\\n",
       "\tcentered\\_log\\_phbrII &  0.332254644 & 0.018461598  &   17.997068  & 2.054090e-72\\\\\n",
       "\tcentered\\_sex & -0.049209919 & 0.039728871  &   -1.238644  & 2.154774e-01\\\\\n",
       "\tcentered\\_age & -0.001573477 & 0.001257245  &   -1.251528  & 2.107418e-01\\\\\n",
       "\tcentered\\_log\\_phbrII:centered\\_sex &  0.162517556 & 0.038177967  &    4.256842  & 2.073352e-05\\\\\n",
       "\tcentered\\_log\\_phbrII:centered\\_age & -0.004354618 & 0.001205241  &   -3.613069  & 3.025937e-04\\\\\n",
       "\tcentered\\_sex:centered\\_age &  0.003641782 & 0.002569918  &    1.417081  & 1.564593e-01\\\\\n",
       "\tcentered\\_log\\_phbrII:centered\\_sex:centered\\_age & -0.002502864 & 0.002469517  &   -1.013503  & 3.108198e-01\\\\\n",
       "\\end{tabular}\n"
      ],
      "text/markdown": [
       "\n",
       "| <!--/--> | Estimate | Std. Error | z value | Pr(>|z|) | \n",
       "|---|---|---|---|---|---|---|---|\n",
       "| (Intercept) | -6.612666670 | 0.019282675  | -342.933051  | 0.000000e+00 | \n",
       "| centered_log_phbrII |  0.332254644 | 0.018461598  |   17.997068  | 2.054090e-72 | \n",
       "| centered_sex | -0.049209919 | 0.039728871  |   -1.238644  | 2.154774e-01 | \n",
       "| centered_age | -0.001573477 | 0.001257245  |   -1.251528  | 2.107418e-01 | \n",
       "| centered_log_phbrII:centered_sex |  0.162517556 | 0.038177967  |    4.256842  | 2.073352e-05 | \n",
       "| centered_log_phbrII:centered_age | -0.004354618 | 0.001205241  |   -3.613069  | 3.025937e-04 | \n",
       "| centered_sex:centered_age |  0.003641782 | 0.002569918  |    1.417081  | 1.564593e-01 | \n",
       "| centered_log_phbrII:centered_sex:centered_age | -0.002502864 | 0.002469517  |   -1.013503  | 3.108198e-01 | \n",
       "\n",
       "\n"
      ],
      "text/plain": [
       "                                              Estimate     Std. Error \n",
       "(Intercept)                                   -6.612666670 0.019282675\n",
       "centered_log_phbrII                            0.332254644 0.018461598\n",
       "centered_sex                                  -0.049209919 0.039728871\n",
       "centered_age                                  -0.001573477 0.001257245\n",
       "centered_log_phbrII:centered_sex               0.162517556 0.038177967\n",
       "centered_log_phbrII:centered_age              -0.004354618 0.001205241\n",
       "centered_sex:centered_age                      0.003641782 0.002569918\n",
       "centered_log_phbrII:centered_sex:centered_age -0.002502864 0.002469517\n",
       "                                              z value     Pr(>|z|)    \n",
       "(Intercept)                                   -342.933051 0.000000e+00\n",
       "centered_log_phbrII                             17.997068 2.054090e-72\n",
       "centered_sex                                    -1.238644 2.154774e-01\n",
       "centered_age                                    -1.251528 2.107418e-01\n",
       "centered_log_phbrII:centered_sex                 4.256842 2.073352e-05\n",
       "centered_log_phbrII:centered_age                -3.613069 3.025937e-04\n",
       "centered_sex:centered_age                        1.417081 1.564593e-01\n",
       "centered_log_phbrII:centered_sex:centered_age   -1.013503 3.108198e-01"
      ]
     },
     "metadata": {},
     "output_type": "display_data"
    }
   ],
   "source": [
    "g_sex_age_II <- mgcv::gam(y..has_mutation. ~ centered_log_phbrII * centered_sex * centered_age, \n",
    "                          random=list(patient_ids=~1), \n",
    "                          family=binomial(link='logit'), \n",
    "                          data=discovery_data)\n",
    "summary(g_sex_age_II)$p.table"
   ]
  },
  {
   "cell_type": "markdown",
   "metadata": {},
   "source": [
    "### 1D. Table S2: Without cancer types with significant mutational signature ratios"
   ]
  },
  {
   "cell_type": "code",
   "execution_count": 17,
   "metadata": {},
   "outputs": [
    {
     "name": "stdout",
     "output_type": "stream",
     "text": [
      "1468698 16"
     ]
    }
   ],
   "source": [
    "sig_mutsig_tumor_types = c('TCGA-LIHC', 'TCGA-GBM', 'TCGA-HNSC', 'TCGA-SKCM', 'TCGA-STAD')\n",
    "\n",
    "# subset\n",
    "discovery_data_mutsig = subset(discovery_data, !(disease %in% sig_mutsig_tumor_types))\n",
    "cat(dim(discovery_data_mutsig))"
   ]
  },
  {
   "cell_type": "markdown",
   "metadata": {},
   "source": [
    "##### Age"
   ]
  },
  {
   "cell_type": "code",
   "execution_count": 31,
   "metadata": {},
   "outputs": [
    {
     "data": {
      "text/plain": [
       "\n",
       "Family: binomial \n",
       "Link function: logit \n",
       "\n",
       "Formula:\n",
       "y..has_mutation. ~ centered_log_phbrI * centered_log_phbrII * \n",
       "    centered_age\n",
       "\n",
       "Parametric coefficients:\n",
       "                                                     Estimate Std. Error\n",
       "(Intercept)                                         -6.596856   0.024783\n",
       "centered_log_phbrI                                   0.058676   0.020325\n",
       "centered_log_phbrII                                  0.330129   0.024815\n",
       "centered_age                                        -0.002070   0.001525\n",
       "centered_log_phbrI:centered_log_phbrII              -0.044378   0.017631\n",
       "centered_log_phbrI:centered_age                     -0.004372   0.001265\n",
       "centered_log_phbrII:centered_age                    -0.003960   0.001542\n",
       "centered_log_phbrI:centered_log_phbrII:centered_age  0.002891   0.001093\n",
       "                                                     z value Pr(>|z|)    \n",
       "(Intercept)                                         -266.186  < 2e-16 ***\n",
       "centered_log_phbrI                                     2.887 0.003890 ** \n",
       "centered_log_phbrII                                   13.303  < 2e-16 ***\n",
       "centered_age                                          -1.357 0.174640    \n",
       "centered_log_phbrI:centered_log_phbrII                -2.517 0.011834 *  \n",
       "centered_log_phbrI:centered_age                       -3.456 0.000548 ***\n",
       "centered_log_phbrII:centered_age                      -2.568 0.010229 *  \n",
       "centered_log_phbrI:centered_log_phbrII:centered_age    2.646 0.008147 ** \n",
       "---\n",
       "Signif. codes:  0 ‘***’ 0.001 ‘**’ 0.01 ‘*’ 0.05 ‘.’ 0.1 ‘ ’ 1\n",
       "\n",
       "\n",
       "R-sq.(adj) =  0.000205   Deviance explained = 0.986%\n",
       "UBRE = -0.97827  Scale est. = 1         n = 1468698"
      ]
     },
     "metadata": {},
     "output_type": "display_data"
    }
   ],
   "source": [
    "g_age_mutsig <- mgcv::gam(y..has_mutation. ~ centered_log_phbrI * centered_log_phbrII * centered_age, \n",
    "                          random=list(patient_ids=~1), \n",
    "                          family=binomial(link='logit'), \n",
    "                          data=discovery_data_mutsig)\n",
    "summary(g_age_mutsig)#$p.table"
   ]
  },
  {
   "cell_type": "markdown",
   "metadata": {},
   "source": [
    "##### Sex"
   ]
  },
  {
   "cell_type": "code",
   "execution_count": 20,
   "metadata": {},
   "outputs": [
    {
     "data": {
      "text/html": [
       "<table>\n",
       "<thead><tr><th></th><th scope=col>Estimate</th><th scope=col>Std. Error</th><th scope=col>z value</th><th scope=col>Pr(&gt;|z|)</th></tr></thead>\n",
       "<tbody>\n",
       "\t<tr><th scope=row>(Intercept)</th><td>-6.59087120 </td><td>0.02461869  </td><td>-267.7182091</td><td>0.000000e+00</td></tr>\n",
       "\t<tr><th scope=row>centered_log_phbrI</th><td> 0.06297762 </td><td>0.02040530  </td><td>   3.0863362</td><td>2.026396e-03</td></tr>\n",
       "\t<tr><th scope=row>centered_log_phbrII</th><td> 0.33397155 </td><td>0.02476720  </td><td>  13.4844275</td><td>1.931589e-41</td></tr>\n",
       "\t<tr><th scope=row>centered_sex</th><td>-0.03035719 </td><td>0.05001406  </td><td>  -0.6069732</td><td>5.438687e-01</td></tr>\n",
       "\t<tr><th scope=row>centered_log_phbrI:centered_log_phbrII</th><td>-0.04440234 </td><td>0.01787309  </td><td>  -2.4843118</td><td>1.298021e-02</td></tr>\n",
       "\t<tr><th scope=row>centered_log_phbrI:centered_sex</th><td> 0.07544595 </td><td>0.04189038  </td><td>   1.8010326</td><td>7.169774e-02</td></tr>\n",
       "\t<tr><th scope=row>centered_log_phbrII:centered_sex</th><td> 0.12534961 </td><td>0.05073305  </td><td>   2.4707683</td><td>1.348232e-02</td></tr>\n",
       "\t<tr><th scope=row>centered_log_phbrI:centered_log_phbrII:centered_sex</th><td>-0.06209653 </td><td>0.03700765  </td><td>  -1.6779376</td><td>9.335928e-02</td></tr>\n",
       "</tbody>\n",
       "</table>\n"
      ],
      "text/latex": [
       "\\begin{tabular}{r|llll}\n",
       "  & Estimate & Std. Error & z value & Pr(>\\textbar{}z\\textbar{})\\\\\n",
       "\\hline\n",
       "\t(Intercept) & -6.59087120  & 0.02461869   & -267.7182091 & 0.000000e+00\\\\\n",
       "\tcentered\\_log\\_phbrI &  0.06297762  & 0.02040530   &    3.0863362 & 2.026396e-03\\\\\n",
       "\tcentered\\_log\\_phbrII &  0.33397155  & 0.02476720   &   13.4844275 & 1.931589e-41\\\\\n",
       "\tcentered\\_sex & -0.03035719  & 0.05001406   &   -0.6069732 & 5.438687e-01\\\\\n",
       "\tcentered\\_log\\_phbrI:centered\\_log\\_phbrII & -0.04440234  & 0.01787309   &   -2.4843118 & 1.298021e-02\\\\\n",
       "\tcentered\\_log\\_phbrI:centered\\_sex &  0.07544595  & 0.04189038   &    1.8010326 & 7.169774e-02\\\\\n",
       "\tcentered\\_log\\_phbrII:centered\\_sex &  0.12534961  & 0.05073305   &    2.4707683 & 1.348232e-02\\\\\n",
       "\tcentered\\_log\\_phbrI:centered\\_log\\_phbrII:centered\\_sex & -0.06209653  & 0.03700765   &   -1.6779376 & 9.335928e-02\\\\\n",
       "\\end{tabular}\n"
      ],
      "text/markdown": [
       "\n",
       "| <!--/--> | Estimate | Std. Error | z value | Pr(>|z|) | \n",
       "|---|---|---|---|---|---|---|---|\n",
       "| (Intercept) | -6.59087120  | 0.02461869   | -267.7182091 | 0.000000e+00 | \n",
       "| centered_log_phbrI |  0.06297762  | 0.02040530   |    3.0863362 | 2.026396e-03 | \n",
       "| centered_log_phbrII |  0.33397155  | 0.02476720   |   13.4844275 | 1.931589e-41 | \n",
       "| centered_sex | -0.03035719  | 0.05001406   |   -0.6069732 | 5.438687e-01 | \n",
       "| centered_log_phbrI:centered_log_phbrII | -0.04440234  | 0.01787309   |   -2.4843118 | 1.298021e-02 | \n",
       "| centered_log_phbrI:centered_sex |  0.07544595  | 0.04189038   |    1.8010326 | 7.169774e-02 | \n",
       "| centered_log_phbrII:centered_sex |  0.12534961  | 0.05073305   |    2.4707683 | 1.348232e-02 | \n",
       "| centered_log_phbrI:centered_log_phbrII:centered_sex | -0.06209653  | 0.03700765   |   -1.6779376 | 9.335928e-02 | \n",
       "\n",
       "\n"
      ],
      "text/plain": [
       "                                                    Estimate    Std. Error\n",
       "(Intercept)                                         -6.59087120 0.02461869\n",
       "centered_log_phbrI                                   0.06297762 0.02040530\n",
       "centered_log_phbrII                                  0.33397155 0.02476720\n",
       "centered_sex                                        -0.03035719 0.05001406\n",
       "centered_log_phbrI:centered_log_phbrII              -0.04440234 0.01787309\n",
       "centered_log_phbrI:centered_sex                      0.07544595 0.04189038\n",
       "centered_log_phbrII:centered_sex                     0.12534961 0.05073305\n",
       "centered_log_phbrI:centered_log_phbrII:centered_sex -0.06209653 0.03700765\n",
       "                                                    z value      Pr(>|z|)    \n",
       "(Intercept)                                         -267.7182091 0.000000e+00\n",
       "centered_log_phbrI                                     3.0863362 2.026396e-03\n",
       "centered_log_phbrII                                   13.4844275 1.931589e-41\n",
       "centered_sex                                          -0.6069732 5.438687e-01\n",
       "centered_log_phbrI:centered_log_phbrII                -2.4843118 1.298021e-02\n",
       "centered_log_phbrI:centered_sex                        1.8010326 7.169774e-02\n",
       "centered_log_phbrII:centered_sex                       2.4707683 1.348232e-02\n",
       "centered_log_phbrI:centered_log_phbrII:centered_sex   -1.6779376 9.335928e-02"
      ]
     },
     "metadata": {},
     "output_type": "display_data"
    }
   ],
   "source": [
    "g_sex_mutsig <- mgcv::gam(y..has_mutation. ~ centered_log_phbrI * centered_log_phbrII * centered_sex, \n",
    "                          random=list(patient_ids=~1), \n",
    "                          family=binomial(link='logit'), \n",
    "                          data=discovery_data_mutsig)\n",
    "summary(g_sex_mutsig)$p.table"
   ]
  },
  {
   "cell_type": "markdown",
   "metadata": {},
   "source": [
    "# 2. Validation cohort"
   ]
  },
  {
   "cell_type": "code",
   "execution_count": 22,
   "metadata": {
    "scrolled": true
   },
   "outputs": [
    {
     "data": {
      "text/html": [
       "<table>\n",
       "<thead><tr><th scope=col>y..has_mutation.</th><th scope=col>log_phbr_i</th><th scope=col>log_phbr_ii</th><th scope=col>phbr_i</th><th scope=col>phbr_ii</th><th scope=col>patient_ids</th><th scope=col>sex</th><th scope=col>age</th><th scope=col>centered_log_phbr_i</th><th scope=col>centered_log_phbr_ii</th><th scope=col>centered_sex</th><th scope=col>centered_age</th></tr></thead>\n",
       "<tbody>\n",
       "\t<tr><td>0         </td><td> 0.4360090</td><td>1.2207901 </td><td>1.5465227 </td><td> 3.389865 </td><td>1         </td><td>1         </td><td>48        </td><td> 0.1070133</td><td>-1.4116194</td><td>0.5801282 </td><td>-11.02132 </td></tr>\n",
       "\t<tr><td>0         </td><td> 1.0962891</td><td>1.0089661 </td><td>2.9930387 </td><td> 2.742764 </td><td>1         </td><td>1         </td><td>48        </td><td> 0.7672935</td><td>-1.6234434</td><td>0.5801282 </td><td>-11.02132 </td></tr>\n",
       "\t<tr><td>0         </td><td> 0.1366724</td><td>1.9118222 </td><td>1.1464525 </td><td> 6.765405 </td><td>1         </td><td>1         </td><td>48        </td><td>-0.1923233</td><td>-0.7205873</td><td>0.5801282 </td><td>-11.02132 </td></tr>\n",
       "\t<tr><td>0         </td><td> 1.4222226</td><td>3.7839778 </td><td>4.1463258 </td><td>43.990679 </td><td>1         </td><td>1         </td><td>48        </td><td> 1.0932269</td><td> 1.1515683</td><td>0.5801282 </td><td>-11.02132 </td></tr>\n",
       "\t<tr><td>0         </td><td>-0.2307330</td><td>0.9104665 </td><td>0.7939514 </td><td> 2.485482 </td><td>1         </td><td>1         </td><td>48        </td><td>-0.5597287</td><td>-1.7219430</td><td>0.5801282 </td><td>-11.02132 </td></tr>\n",
       "\t<tr><td>0         </td><td> 0.9009311</td><td>4.1053750 </td><td>2.4618944 </td><td>60.665489 </td><td>1         </td><td>1         </td><td>48        </td><td> 0.5719354</td><td> 1.4729655</td><td>0.5801282 </td><td>-11.02132 </td></tr>\n",
       "</tbody>\n",
       "</table>\n"
      ],
      "text/latex": [
       "\\begin{tabular}{r|llllllllllll}\n",
       " y..has\\_mutation. & log\\_phbr\\_i & log\\_phbr\\_ii & phbr\\_i & phbr\\_ii & patient\\_ids & sex & age & centered\\_log\\_phbr\\_i & centered\\_log\\_phbr\\_ii & centered\\_sex & centered\\_age\\\\\n",
       "\\hline\n",
       "\t 0          &  0.4360090 & 1.2207901  & 1.5465227  &  3.389865  & 1          & 1          & 48         &  0.1070133 & -1.4116194 & 0.5801282  & -11.02132 \\\\\n",
       "\t 0          &  1.0962891 & 1.0089661  & 2.9930387  &  2.742764  & 1          & 1          & 48         &  0.7672935 & -1.6234434 & 0.5801282  & -11.02132 \\\\\n",
       "\t 0          &  0.1366724 & 1.9118222  & 1.1464525  &  6.765405  & 1          & 1          & 48         & -0.1923233 & -0.7205873 & 0.5801282  & -11.02132 \\\\\n",
       "\t 0          &  1.4222226 & 3.7839778  & 4.1463258  & 43.990679  & 1          & 1          & 48         &  1.0932269 &  1.1515683 & 0.5801282  & -11.02132 \\\\\n",
       "\t 0          & -0.2307330 & 0.9104665  & 0.7939514  &  2.485482  & 1          & 1          & 48         & -0.5597287 & -1.7219430 & 0.5801282  & -11.02132 \\\\\n",
       "\t 0          &  0.9009311 & 4.1053750  & 2.4618944  & 60.665489  & 1          & 1          & 48         &  0.5719354 &  1.4729655 & 0.5801282  & -11.02132 \\\\\n",
       "\\end{tabular}\n"
      ],
      "text/markdown": [
       "\n",
       "y..has_mutation. | log_phbr_i | log_phbr_ii | phbr_i | phbr_ii | patient_ids | sex | age | centered_log_phbr_i | centered_log_phbr_ii | centered_sex | centered_age | \n",
       "|---|---|---|---|---|---|\n",
       "| 0          |  0.4360090 | 1.2207901  | 1.5465227  |  3.389865  | 1          | 1          | 48         |  0.1070133 | -1.4116194 | 0.5801282  | -11.02132  | \n",
       "| 0          |  1.0962891 | 1.0089661  | 2.9930387  |  2.742764  | 1          | 1          | 48         |  0.7672935 | -1.6234434 | 0.5801282  | -11.02132  | \n",
       "| 0          |  0.1366724 | 1.9118222  | 1.1464525  |  6.765405  | 1          | 1          | 48         | -0.1923233 | -0.7205873 | 0.5801282  | -11.02132  | \n",
       "| 0          |  1.4222226 | 3.7839778  | 4.1463258  | 43.990679  | 1          | 1          | 48         |  1.0932269 |  1.1515683 | 0.5801282  | -11.02132  | \n",
       "| 0          | -0.2307330 | 0.9104665  | 0.7939514  |  2.485482  | 1          | 1          | 48         | -0.5597287 | -1.7219430 | 0.5801282  | -11.02132  | \n",
       "| 0          |  0.9009311 | 4.1053750  | 2.4618944  | 60.665489  | 1          | 1          | 48         |  0.5719354 |  1.4729655 | 0.5801282  | -11.02132  | \n",
       "\n",
       "\n"
      ],
      "text/plain": [
       "  y..has_mutation. log_phbr_i log_phbr_ii phbr_i    phbr_ii   patient_ids sex\n",
       "1 0                 0.4360090 1.2207901   1.5465227  3.389865 1           1  \n",
       "2 0                 1.0962891 1.0089661   2.9930387  2.742764 1           1  \n",
       "3 0                 0.1366724 1.9118222   1.1464525  6.765405 1           1  \n",
       "4 0                 1.4222226 3.7839778   4.1463258 43.990679 1           1  \n",
       "5 0                -0.2307330 0.9104665   0.7939514  2.485482 1           1  \n",
       "6 0                 0.9009311 4.1053750   2.4618944 60.665489 1           1  \n",
       "  age centered_log_phbr_i centered_log_phbr_ii centered_sex centered_age\n",
       "1 48   0.1070133          -1.4116194           0.5801282    -11.02132   \n",
       "2 48   0.7672935          -1.6234434           0.5801282    -11.02132   \n",
       "3 48  -0.1923233          -0.7205873           0.5801282    -11.02132   \n",
       "4 48   1.0932269           1.1515683           0.5801282    -11.02132   \n",
       "5 48  -0.5597287          -1.7219430           0.5801282    -11.02132   \n",
       "6 48   0.5719354           1.4729655           0.5801282    -11.02132   "
      ]
     },
     "metadata": {},
     "output_type": "display_data"
    }
   ],
   "source": [
    "validation_data = read.csv('../data/validation_data/gam_input.validation.age.2.csv')\n",
    "head(validation_data)"
   ]
  },
  {
   "cell_type": "markdown",
   "metadata": {},
   "source": [
    "### Table S3"
   ]
  },
  {
   "cell_type": "markdown",
   "metadata": {},
   "source": [
    "##### Age"
   ]
  },
  {
   "cell_type": "code",
   "execution_count": 35,
   "metadata": {},
   "outputs": [
    {
     "data": {
      "text/plain": [
       "\n",
       "Family: binomial \n",
       "Link function: logit \n",
       "\n",
       "Formula:\n",
       "y..has_mutation. ~ centered_log_phbrI * centered_age + centered_log_phbrII * \n",
       "    centered_age\n",
       "\n",
       "Parametric coefficients:\n",
       "                                  Estimate Std. Error z value Pr(>|z|)    \n",
       "(Intercept)                      -3.482019   0.099720 -34.918   <2e-16 ***\n",
       "centered_log_phbrI               -0.153878   0.089903  -1.712   0.0870 .  \n",
       "centered_age                     -0.009375   0.006945  -1.350   0.1771    \n",
       "centered_log_phbrII               0.287683   0.132762   2.167   0.0302 *  \n",
       "centered_log_phbrI:centered_age  -0.007862   0.006651  -1.182   0.2371    \n",
       "centered_age:centered_log_phbrII -0.009064   0.009360  -0.968   0.3329    \n",
       "---\n",
       "Signif. codes:  0 ‘***’ 0.001 ‘**’ 0.01 ‘*’ 0.05 ‘.’ 0.1 ‘ ’ 1\n",
       "\n",
       "\n",
       "R-sq.(adj) =  0.00143   Deviance explained =  1.2%\n",
       "UBRE = -0.72145  Scale est. = 1         n = 3640"
      ]
     },
     "metadata": {},
     "output_type": "display_data"
    }
   ],
   "source": [
    "validation_data = read.csv('../data/validation_data/gam_input.validation.age.2.csv')\n",
    "g_age_val <- mgcv::gam(y..has_mutation. ~ centered_log_phbrI * centered_age+centered_log_phbrII * centered_age, \n",
    "                       random=list(patient_ids=~1), \n",
    "                       family=binomial(link='logit'), \n",
    "                       data=validation_data)\n",
    "summary(g_age_val)"
   ]
  },
  {
   "cell_type": "markdown",
   "metadata": {},
   "source": [
    "##### Sex"
   ]
  },
  {
   "cell_type": "code",
   "execution_count": 36,
   "metadata": {
    "scrolled": false
   },
   "outputs": [
    {
     "data": {
      "text/plain": [
       "\n",
       "Family: binomial \n",
       "Link function: logit \n",
       "\n",
       "Formula:\n",
       "y..has_mutation. ~ centered_log_phbrI * centered_sex + centered_log_phbrII * \n",
       "    centered_sex\n",
       "\n",
       "Parametric coefficients:\n",
       "                                 Estimate Std. Error z value Pr(>|z|)    \n",
       "(Intercept)                      -3.50436    0.10020 -34.972   <2e-16 ***\n",
       "centered_log_phbrI               -0.17303    0.09113  -1.899   0.0576 .  \n",
       "centered_sex                      0.21348    0.20180   1.058   0.2901    \n",
       "centered_log_phbrII               0.26725    0.13418   1.992   0.0464 *  \n",
       "centered_log_phbrI:centered_sex  -0.09819    0.18305  -0.536   0.5917    \n",
       "centered_sex:centered_log_phbrII  0.30335    0.27197   1.115   0.2647    \n",
       "---\n",
       "Signif. codes:  0 ‘***’ 0.001 ‘**’ 0.01 ‘*’ 0.05 ‘.’ 0.1 ‘ ’ 1\n",
       "\n",
       "\n",
       "R-sq.(adj) =  0.000736   Deviance explained = 0.943%\n",
       "UBRE = -0.72825  Scale est. = 1         n = 3640"
      ]
     },
     "metadata": {},
     "output_type": "display_data"
    }
   ],
   "source": [
    "validation_data = read.csv('../data/validation_data/gam_input.validation.sex.2.csv')\n",
    "g_sex_val <- mgcv::gam(y..has_mutation. ~ centered_log_phbrI * centered_sex+centered_log_phbrII * centered_sex, \n",
    "                       random=list(patient_ids=~1), \n",
    "                       family=binomial(link='logit'), \n",
    "                       data=validation_data)\n",
    "summary(g_sex_val)"
   ]
  },
  {
   "cell_type": "code",
   "execution_count": null,
   "metadata": {},
   "outputs": [],
   "source": []
  }
 ],
 "metadata": {
  "kernelspec": {
   "display_name": "R 3.4",
   "language": "R",
   "name": "ir34"
  },
  "language_info": {
   "codemirror_mode": "r",
   "file_extension": ".r",
   "mimetype": "text/x-r-source",
   "name": "R",
   "pygments_lexer": "r",
   "version": "3.4.3"
  }
 },
 "nbformat": 4,
 "nbformat_minor": 2
}
