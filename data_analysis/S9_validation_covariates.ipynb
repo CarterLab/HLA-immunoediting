{
 "cells": [
  {
   "cell_type": "markdown",
   "metadata": {},
   "source": [
    "### Notebook\n",
    "- Creates the panel for Figure S5: Overview of validation cohort covariates"
   ]
  },
  {
   "cell_type": "code",
   "execution_count": 1,
   "metadata": {},
   "outputs": [],
   "source": [
    "import pandas as pd\n",
    "import numpy as np\n",
    "import os\n",
    "from scipy.stats import mannwhitneyu, ks_2samp\n",
    "from statsmodels.distributions.empirical_distribution import ECDF\n",
    "\n",
    "import matplotlib.pyplot as plt\n",
    "from matplotlib import gridspec\n",
    "import seaborn as sns\n",
    "sns.set_style('white')\n",
    "%matplotlib inline"
   ]
  },
  {
   "cell_type": "markdown",
   "metadata": {},
   "source": [
    "### 1. Plot A-B: Sex and Age distributions"
   ]
  },
  {
   "cell_type": "code",
   "execution_count": 2,
   "metadata": {},
   "outputs": [
    {
     "name": "stdout",
     "output_type": "stream",
     "text": [
      "346\n"
     ]
    },
    {
     "data": {
      "text/html": [
       "<div>\n",
       "<style scoped>\n",
       "    .dataframe tbody tr th:only-of-type {\n",
       "        vertical-align: middle;\n",
       "    }\n",
       "\n",
       "    .dataframe tbody tr th {\n",
       "        vertical-align: top;\n",
       "    }\n",
       "\n",
       "    .dataframe thead th {\n",
       "        text-align: right;\n",
       "    }\n",
       "</style>\n",
       "<table border=\"1\" class=\"dataframe\">\n",
       "  <thead>\n",
       "    <tr style=\"text-align: right;\">\n",
       "      <th></th>\n",
       "      <th>age</th>\n",
       "      <th>sex</th>\n",
       "      <th>tumor_type</th>\n",
       "      <th>Corresponding TCGA study</th>\n",
       "    </tr>\n",
       "    <tr>\n",
       "      <th>patient_id</th>\n",
       "      <th></th>\n",
       "      <th></th>\n",
       "      <th></th>\n",
       "      <th></th>\n",
       "    </tr>\n",
       "  </thead>\n",
       "  <tbody>\n",
       "    <tr>\n",
       "      <td>ICGC_DO231227</td>\n",
       "      <td>38.0</td>\n",
       "      <td>female</td>\n",
       "      <td>THCA</td>\n",
       "      <td>THCA (Thyroid carcinoma)</td>\n",
       "    </tr>\n",
       "    <tr>\n",
       "      <td>ICGC_DO231231</td>\n",
       "      <td>49.0</td>\n",
       "      <td>female</td>\n",
       "      <td>THCA</td>\n",
       "      <td>THCA (Thyroid carcinoma)</td>\n",
       "    </tr>\n",
       "  </tbody>\n",
       "</table>\n",
       "</div>"
      ],
      "text/plain": [
       "                age     sex tumor_type  Corresponding TCGA study\n",
       "patient_id                                                      \n",
       "ICGC_DO231227  38.0  female       THCA  THCA (Thyroid carcinoma)\n",
       "ICGC_DO231231  49.0  female       THCA  THCA (Thyroid carcinoma)"
      ]
     },
     "execution_count": 2,
     "metadata": {},
     "output_type": "execute_result"
    }
   ],
   "source": [
    "mhc_df = pd.read_csv('../data/Supplementary_dataset_1.tsv', sep='\\t')\n",
    "\n",
    "mhc_df = mhc_df.drop_duplicates(subset=['patient_id']).set_index('patient_id')\n",
    "print(len(mhc_df))\n",
    "mhc_df.head(2)"
   ]
  },
  {
   "cell_type": "code",
   "execution_count": 3,
   "metadata": {},
   "outputs": [
    {
     "name": "stdout",
     "output_type": "stream",
     "text": [
      "Saving to ../figures/S5_sex_age_counts.A-B.pdf\n"
     ]
    },
    {
     "data": {
      "image/png": "[encoded data removed]",
      "text/plain": [
       "<Figure size 360x360 with 2 Axes>"
      ]
     },
     "metadata": {
      "needs_background": "light"
     },
     "output_type": "display_data"
    }
   ],
   "source": [
    "plt.figure(figsize=(5,5))\n",
    "gs = gridspec.GridSpec(2, 2, width_ratios=[1.2, 3]) \n",
    "\n",
    "###########################\n",
    "# A. Pancancer sex counts #\n",
    "###########################\n",
    "plt.subplot(gs[0])\n",
    "\n",
    "data = pd.DataFrame(mhc_df['sex'].value_counts()).T\n",
    "ax = sns.barplot(data=data, order=['female', 'male'], palette=['pink', 'lightblue'])\n",
    "\n",
    "plt.xlabel('Sex'), plt.ylabel('Number of non-sex-specific\\npan-cancer patients')\n",
    "plt.xticks([0,1], ['Female', 'Male'])\n",
    "\n",
    "plt.text(-0.3, 1.1, 'A', transform=ax.transAxes, fontsize=16,  weight='bold')\n",
    "\n",
    "#################################\n",
    "# B. Pancancer age distribution #\n",
    "#################################\n",
    "fig = plt.subplot(gs[1])\n",
    "\n",
    "age_df = mhc_df.dropna(subset=['age'])\n",
    "plt.hist(x=age_df['age'].values, bins=10, color='grey')\n",
    "\n",
    "plt.xlabel('Age')\n",
    "plt.ylabel('Number of\\npan-cancer patients')\n",
    "\n",
    "plt.text(-0.3, 1.1, 'B', transform=fig.transAxes, fontsize=16,  weight='bold')\n",
    "\n",
    "# save \n",
    "plt.tight_layout(pad=0.6, h_pad=1)\n",
    "\n",
    "savepath = '../figures/S5_sex_age_counts.A-B.pdf'\n",
    "print('Saving to {}'.format(savepath))\n",
    "plt.savefig(savepath, bbox_inches='tight')\n",
    "plt.show()"
   ]
  },
  {
   "cell_type": "markdown",
   "metadata": {},
   "source": [
    "### 2. Plot C-D: Driver mutation counts for MHC-I and MHC-II"
   ]
  },
  {
   "cell_type": "code",
   "execution_count": 48,
   "metadata": {},
   "outputs": [
    {
     "name": "stdout",
     "output_type": "stream",
     "text": [
      "346\n"
     ]
    }
   ],
   "source": [
    "# load patients\n",
    "mhc = pd.read_csv('../data/Supplementary_dataset_1.all_cols.tsv', sep='\\t', index_col=0)\n",
    "\n",
    "mhc['patient_id_wo_origin'] = mhc.reset_index()['patient_id'].apply(lambda x: '_'.join(x.split('_')[1:])).values\n",
    "\n",
    "\n",
    "all_patients = list(set(mhc.index.values))\n",
    "all_patients = [str(x) for x in all_patients]\n",
    "print(len(all_patients))"
   ]
  },
  {
   "cell_type": "code",
   "execution_count": 53,
   "metadata": {},
   "outputs": [
    {
     "name": "stdout",
     "output_type": "stream",
     "text": [
      "2712\n"
     ]
    }
   ],
   "source": [
    "data_dir = '../data/validation_data/'\n",
    "project_list = list(set(['.'.join(x.split('.')[1:-1]) for x in os.listdir(data_dir) if x.startswith('binary')]))\n",
    "\n",
    "binary_mut_df = pd.DataFrame()\n",
    "for project in project_list:\n",
    "    filepath = os.path.join(data_dir, 'binary_driver_mut.{}.matrix'.format(project))\n",
    "    binary_mut_df = binary_mut_df.append(pd.read_csv(filepath, sep='\\t', index_col=0), sort=True)\n",
    "    \n",
    "binary_mut_df = binary_mut_df.reset_index().drop_duplicates(subset=['index']).set_index('index')\n",
    "binary_mut_df.index = binary_mut_df.index.map(str)\n",
    "\n",
    "print(len(binary_mut_df))"
   ]
  },
  {
   "cell_type": "code",
   "execution_count": 54,
   "metadata": {},
   "outputs": [
    {
     "data": {
      "text/plain": [
       "(346, 346)"
      ]
     },
     "execution_count": 54,
     "metadata": {},
     "output_type": "execute_result"
    }
   ],
   "source": [
    "# # subset mutation matrix\n",
    "binary_mut_I_df = binary_mut_df[(binary_mut_df.index.isin(mhc['patient_id_wo_origin'].values)) | (binary_mut_df.index.isin(mhc.index.values))]\n",
    "binary_mut_II_df = binary_mut_df[(binary_mut_df.index.isin(mhc['patient_id_wo_origin'].values)) | (binary_mut_df.index.isin(mhc.index.values))]\n",
    "\n",
    "len(binary_mut_I_df), len(binary_mut_II_df)"
   ]
  },
  {
   "cell_type": "code",
   "execution_count": 55,
   "metadata": {},
   "outputs": [],
   "source": [
    "driver_mut_ids = np.loadtxt('/cellar/users/andreabc/Data/dbgap/driver_mut_IDs.txt', dtype=str)"
   ]
  },
  {
   "cell_type": "code",
   "execution_count": 16,
   "metadata": {},
   "outputs": [],
   "source": [
    "# binary_mut_I_df = \n",
    "\n",
    "# binary matrix of first driver\n",
    "binary_mut_list = []\n",
    "patient_id_list = []\n",
    "\n",
    "for patient_id in mhc.index.unique():\n",
    "\n",
    "    patient_df = mhc[mhc.index==patient_id]\n",
    "\n",
    "    # keep earliest driver\n",
    "    patient_df = patient_df.sort_values(by=['VAF_percentile_rank'])\n",
    "    if len(patient_df)>0:\n",
    "        patient_df = patient_df.iloc[[0]]\n",
    "    patient_id_list.append(patient_id)\n",
    "\n",
    "    if len(patient_df) > 0:\n",
    "        l = [0]*len(driver_mut_ids)\n",
    "        for i, mut in enumerate(driver_mut_ids):\n",
    "            if mut in patient_df['driver_mutation'].values:\n",
    "                l[i] = 1\n",
    "        binary_mut_list.append(l)\n",
    "    else:\n",
    "        binary_mut_list.append([0]*len(driver_mut_ids))\n",
    "\n",
    "# save \n",
    "binary_mut_df = pd.DataFrame(binary_mut_list, index=patient_id_list, columns=driver_mut_ids)"
   ]
  },
  {
   "cell_type": "code",
   "execution_count": 64,
   "metadata": {},
   "outputs": [],
   "source": [
    "def make_ECDF_and_compare(one, two, one_category_string, two_category_string, one_color, two_color,\n",
    "                          savepath=None):\n",
    "    # prep, consolidate\n",
    "    one = pd.DataFrame(one, columns=['num_drivers'])\n",
    "    one['category'] = one_category_string\n",
    "    \n",
    "    two = pd.DataFrame(two, columns=['num_drivers'])\n",
    "    two['category'] = two_category_string\n",
    "    \n",
    "    df = one.append(two)\n",
    "    \n",
    "    # ECDF & p-value\n",
    "    one_ecdf = ECDF(df[df['category']==one_category_string]['num_drivers'].values)\n",
    "    two_ecdf = ECDF(df[df['category']==two_category_string]['num_drivers'].values)\n",
    "\n",
    "    ks, p = ks_2samp(one_ecdf.y, two_ecdf.y)\n",
    "    \n",
    "    # plot\n",
    "    plt.figure(figsize=(4,3))\n",
    "    plt.plot(one_ecdf.x, one_ecdf.y, label=one_category_string, color=one_color)\n",
    "    plt.plot(two_ecdf.x, two_ecdf.y, label=two_category_string, color=two_color)\n",
    "    plt.text(14,0.25,'KS: {:.2}\\np<{:.3}'.format(ks, p))\n",
    "    print(ks, p)\n",
    "    plt.xlim(0,20)\n",
    "    plt.legend()\n",
    "    if savepath:\n",
    "        print('Saving to {}'.format(savepath))\n",
    "        plt.savefig(savepath)\n",
    "    plt.show()"
   ]
  },
  {
   "cell_type": "code",
   "execution_count": 56,
   "metadata": {},
   "outputs": [],
   "source": [
    "mhcI = mhc.dropna(subset=['PHBR-I_score'])\n",
    "mhcII = mhc.dropna(subset=['PHBR-II_score'])"
   ]
  },
  {
   "cell_type": "code",
   "execution_count": 66,
   "metadata": {},
   "outputs": [],
   "source": [
    "female_I = binary_mut_I_df[binary_mut_I_df.index.isin(mhcI[mhcI['sex']=='female'].index)].sum(axis=1)\n",
    "male_I = binary_mut_I_df[binary_mut_I_df.index.isin(mhcI[mhcI['sex']=='male'].index)].sum(axis=1)\n",
    "\n",
    "female_II = binary_mut_II_df[binary_mut_II_df.index.isin(mhcII[mhcII['sex']=='female'].index)].sum(axis=1)\n",
    "male_II = binary_mut_II_df[binary_mut_II_df.index.isin(mhcII[mhcII['sex']=='male'].index)].sum(axis=1)\n",
    "\n",
    "younger_I = binary_mut_I_df[binary_mut_I_df.index.isin(mhcI[mhcI['age_categorical_3070']=='younger'].index)].sum(axis=1)\n",
    "older_I = binary_mut_I_df[binary_mut_I_df.index.isin(mhcI[mhcI['age_categorical_3070']=='older'].index)].sum(axis=1)\n",
    "\n",
    "younger_II = binary_mut_II_df[binary_mut_II_df.index.isin(mhcII[mhcII['age_categorical_3070']=='younger'].index)].sum(axis=1)\n",
    "older_II = binary_mut_II_df[binary_mut_II_df.index.isin(mhcII[mhcII['age_categorical_3070']=='older'].index)].sum(axis=1)"
   ]
  },
  {
   "cell_type": "code",
   "execution_count": 67,
   "metadata": {},
   "outputs": [
    {
     "name": "stdout",
     "output_type": "stream",
     "text": [
      "0.01509740259740261 1.0\n"
     ]
    },
    {
     "data": {
      "image/png": "[encoded data removed]",
      "text/plain": [
       "<Figure size 288x216 with 1 Axes>"
      ]
     },
     "metadata": {
      "needs_background": "light"
     },
     "output_type": "display_data"
    },
    {
     "name": "stdout",
     "output_type": "stream",
     "text": [
      "0.016938775510204063 1.0\n"
     ]
    },
    {
     "data": {
      "image/png": "[encoded data removed]",
      "text/plain": [
       "<Figure size 288x216 with 1 Axes>"
      ]
     },
     "metadata": {
      "needs_background": "light"
     },
     "output_type": "display_data"
    },
    {
     "name": "stdout",
     "output_type": "stream",
     "text": [
      "0.024316109422492405 1.0\n"
     ]
    },
    {
     "data": {
      "image/png": "[encoded data removed]",
      "text/plain": [
       "<Figure size 288x216 with 1 Axes>"
      ]
     },
     "metadata": {
      "needs_background": "light"
     },
     "output_type": "display_data"
    },
    {
     "name": "stdout",
     "output_type": "stream",
     "text": [
      "0.03201970443349755 1.0\n"
     ]
    },
    {
     "data": {
      "image/png": "[encoded data removed]",
      "text/plain": [
       "<Figure size 288x216 with 1 Axes>"
      ]
     },
     "metadata": {
      "needs_background": "light"
     },
     "output_type": "display_data"
    }
   ],
   "source": [
    "make_ECDF_and_compare(male_I, female_I, 'Male', 'Female', 'lightblue', 'lightpink', )\n",
    "make_ECDF_and_compare(male_II, female_II, 'Male', 'Female', 'lightblue', 'lightpink',) \n",
    "make_ECDF_and_compare(older_I, younger_I, 'Older', 'Younger', 'darkgrey', 'lightgrey', )\n",
    "make_ECDF_and_compare(older_II, younger_II, 'Older', 'Younger', 'darkgrey', 'lightgrey', )"
   ]
  },
  {
   "cell_type": "code",
   "execution_count": 68,
   "metadata": {},
   "outputs": [],
   "source": [
    "female_I = female_I.mean()\n",
    "male_I = male_I.mean()\n",
    "\n",
    "female_II = female_II.mean()\n",
    "male_II = male_II.mean()\n",
    "\n",
    "younger_I = younger_I.mean()\n",
    "older_I = older_I.mean()\n",
    "\n",
    "younger_II = younger_II.mean()\n",
    "older_II = older_II.mean()"
   ]
  },
  {
   "cell_type": "code",
   "execution_count": 69,
   "metadata": {},
   "outputs": [
    {
     "data": {
      "text/html": [
       "<div>\n",
       "<style scoped>\n",
       "    .dataframe tbody tr th:only-of-type {\n",
       "        vertical-align: middle;\n",
       "    }\n",
       "\n",
       "    .dataframe tbody tr th {\n",
       "        vertical-align: top;\n",
       "    }\n",
       "\n",
       "    .dataframe thead th {\n",
       "        text-align: right;\n",
       "    }\n",
       "</style>\n",
       "<table border=\"1\" class=\"dataframe\">\n",
       "  <thead>\n",
       "    <tr style=\"text-align: right;\">\n",
       "      <th></th>\n",
       "      <th>count</th>\n",
       "      <th>class</th>\n",
       "      <th>category</th>\n",
       "    </tr>\n",
       "  </thead>\n",
       "  <tbody>\n",
       "    <tr>\n",
       "      <td>0</td>\n",
       "      <td>1.537037</td>\n",
       "      <td>I</td>\n",
       "      <td>Female</td>\n",
       "    </tr>\n",
       "    <tr>\n",
       "      <td>1</td>\n",
       "      <td>1.396396</td>\n",
       "      <td>I</td>\n",
       "      <td>Male</td>\n",
       "    </tr>\n",
       "    <tr>\n",
       "      <td>2</td>\n",
       "      <td>1.479167</td>\n",
       "      <td>II</td>\n",
       "      <td>Female</td>\n",
       "    </tr>\n",
       "    <tr>\n",
       "      <td>3</td>\n",
       "      <td>1.414141</td>\n",
       "      <td>II</td>\n",
       "      <td>Male</td>\n",
       "    </tr>\n",
       "    <tr>\n",
       "      <td>4</td>\n",
       "      <td>1.500000</td>\n",
       "      <td>I</td>\n",
       "      <td>Younger</td>\n",
       "    </tr>\n",
       "    <tr>\n",
       "      <td>5</td>\n",
       "      <td>1.391304</td>\n",
       "      <td>I</td>\n",
       "      <td>Older</td>\n",
       "    </tr>\n",
       "    <tr>\n",
       "      <td>6</td>\n",
       "      <td>1.607143</td>\n",
       "      <td>II</td>\n",
       "      <td>Younger</td>\n",
       "    </tr>\n",
       "    <tr>\n",
       "      <td>7</td>\n",
       "      <td>1.390244</td>\n",
       "      <td>II</td>\n",
       "      <td>Older</td>\n",
       "    </tr>\n",
       "  </tbody>\n",
       "</table>\n",
       "</div>"
      ],
      "text/plain": [
       "      count class category\n",
       "0  1.537037     I   Female\n",
       "1  1.396396     I     Male\n",
       "2  1.479167    II   Female\n",
       "3  1.414141    II     Male\n",
       "4  1.500000     I  Younger\n",
       "5  1.391304     I    Older\n",
       "6  1.607143    II  Younger\n",
       "7  1.390244    II    Older"
      ]
     },
     "execution_count": 69,
     "metadata": {},
     "output_type": "execute_result"
    }
   ],
   "source": [
    "data = pd.DataFrame({'count': [female_I, male_I, female_II, male_II, younger_I, older_I, younger_II, older_II],\n",
    "                     'class': ['I', 'I', 'II', 'II', 'I', 'I', 'II', 'II'],\n",
    "                     'category': ['Female', 'Male', 'Female', 'Male', 'Younger', 'Older', 'Younger', 'Older']})\n",
    "data"
   ]
  },
  {
   "cell_type": "code",
   "execution_count": 70,
   "metadata": {},
   "outputs": [
    {
     "name": "stdout",
     "output_type": "stream",
     "text": [
      "Saving to ../figures/S9_val_driver_counts.C-D.pdf\n"
     ]
    },
    {
     "data": {
      "image/png": "[encoded data removed]",
      "text/plain": [
       "<Figure size 576x198 with 2 Axes>"
      ]
     },
     "metadata": {
      "needs_background": "light"
     },
     "output_type": "display_data"
    }
   ],
   "source": [
    "plt.figure(figsize=(8,2.75))\n",
    "\n",
    "############\n",
    "# A. MHC-I #\n",
    "############\n",
    "plt.subplot(1,2,1)\n",
    "\n",
    "ax = sns.barplot(x='category', y='count', data=data[data['class']=='I'], \n",
    "            palette=['lightpink', 'lightblue', 'lightgrey', 'darkgrey'])\n",
    "\n",
    "plt.xlabel(''), plt.ylabel('Average driver count pan-cancer\\nfor MHC-I patients')\n",
    "plt.text(-0.2, 1.1, 'C', transform=ax.transAxes, fontsize=16,  weight='bold')\n",
    "\n",
    "#############\n",
    "# B. MHC-II #\n",
    "#############\n",
    "plt.subplot(1,2,2)\n",
    "\n",
    "ax = sns.barplot(x='category', y='count', data=data[data['class']=='II'], \n",
    "            palette=['lightpink', 'lightblue', 'lightgrey', 'darkgrey'])\n",
    "\n",
    "plt.xlabel(''), plt.ylabel('Average driver count pan-cancer\\nfor MHC-II patients')\n",
    "plt.text(-0.2, 1.1, 'D', transform=ax.transAxes, fontsize=16,  weight='bold')\n",
    "\n",
    "# save\n",
    "plt.tight_layout()\n",
    "\n",
    "savepath = '../figures/S9_val_driver_counts.C-D.pdf'\n",
    "print('Saving to {}'.format(savepath))\n",
    "plt.savefig(savepath, bbox_inches='tight')\n",
    "plt.show()"
   ]
  },
  {
   "cell_type": "markdown",
   "metadata": {},
   "source": [
    "### 3. Plot E-H: validation PHBR distribution"
   ]
  },
  {
   "cell_type": "code",
   "execution_count": 4,
   "metadata": {},
   "outputs": [],
   "source": [
    "data_dir = '../data/validation_data/'\n",
    "project_list = list(set(['.'.join(x.split('.')[1:-1]) for x in os.listdir(data_dir) if x.startswith('binary')]))\n",
    "\n",
    "affinity_I_df  = pd.DataFrame()\n",
    "affinity_II_df = pd.DataFrame()\n",
    "\n",
    "for project in project_list:\n",
    "    # MHC-I\n",
    "    filepath = os.path.join(data_dir, 'driver_mut.class_i.{}.affinities'.format(project))\n",
    "    affinity_I_df = affinity_I_df.append(pd.read_csv(filepath, sep='\\t', index_col=0), sort=True)\n",
    "    \n",
    "    # MHC-II\n",
    "    filepath = os.path.join(data_dir, 'driver_mut.class_ii.{}.affinities'.format(project))\n",
    "    affinity_II_df = affinity_II_df.append(pd.read_csv(filepath, sep='\\t', index_col=0), sort=True)\n",
    "    \n",
    "affinity_I_df = affinity_I_df.reset_index().drop_duplicates(subset=['index']).set_index('index')\n",
    "affinity_I_df.index = affinity_I_df.index.map(str)\n",
    "\n",
    "affinity_II_df = affinity_II_df.reset_index().drop_duplicates(subset=['index']).set_index('index')\n",
    "affinity_II_df.index = affinity_II_df.index.map(str)"
   ]
  },
  {
   "cell_type": "code",
   "execution_count": 9,
   "metadata": {},
   "outputs": [
    {
     "name": "stderr",
     "output_type": "stream",
     "text": [
      "/cellar/users/andreabc/miniconda3/lib/python3.6/site-packages/ipykernel_launcher.py:1: SettingWithCopyWarning: \n",
      "A value is trying to be set on a copy of a slice from a DataFrame.\n",
      "Try using .loc[row_indexer,col_indexer] = value instead\n",
      "\n",
      "See the caveats in the documentation: http://pandas.pydata.org/pandas-docs/stable/user_guide/indexing.html#returning-a-view-versus-a-copy\n",
      "  \"\"\"Entry point for launching an IPython kernel.\n",
      "/cellar/users/andreabc/miniconda3/lib/python3.6/site-packages/ipykernel_launcher.py:2: SettingWithCopyWarning: \n",
      "A value is trying to be set on a copy of a slice from a DataFrame.\n",
      "Try using .loc[row_indexer,col_indexer] = value instead\n",
      "\n",
      "See the caveats in the documentation: http://pandas.pydata.org/pandas-docs/stable/user_guide/indexing.html#returning-a-view-versus-a-copy\n",
      "  \n"
     ]
    }
   ],
   "source": [
    "mhcI['patient_id_wo_origin'] = mhcI.reset_index()['patient_id'].apply(lambda x: x.split('_')[1]).values\n",
    "mhcII['patient_id_wo_origin'] = mhcII.reset_index()['patient_id'].apply(lambda x: x.split('_')[1]).values"
   ]
  },
  {
   "cell_type": "code",
   "execution_count": 10,
   "metadata": {},
   "outputs": [],
   "source": [
    "mhcI = mhcI.set_index('patient_id_wo_origin')\n",
    "mhcII = mhcII.set_index('patient_id_wo_origin')"
   ]
  },
  {
   "cell_type": "code",
   "execution_count": 14,
   "metadata": {},
   "outputs": [
    {
     "name": "stdout",
     "output_type": "stream",
     "text": [
      "E. effect size: r=-0.016\n",
      "F. effect size: r=-0.000938\n",
      "G. effect size: r=-0.00132\n",
      "H. effect size: r=-0.0212\n",
      "Saving to ../figures/S5_driver_PHBR.E-H.pdf\n"
     ]
    },
    {
     "data": {
      "image/png": "[encoded data removed]",
      "text/plain": [
       "<Figure size 504x360 with 4 Axes>"
      ]
     },
     "metadata": {
      "needs_background": "light"
     },
     "output_type": "display_data"
    }
   ],
   "source": [
    "plt.figure(figsize=(7,5))\n",
    "\n",
    "##############################\n",
    "# A. All PHBR-I scores - Sex #\n",
    "##############################\n",
    "plt.subplot(2,4,1)\n",
    "\n",
    "data = affinity_I_df.join(mhcI[['sex']]).reset_index()\n",
    "data = pd.melt(data, id_vars=['sex', 'index']).drop_duplicates()\n",
    "\n",
    "U, p = mannwhitneyu(data[data['sex']=='female']['value'].values, \n",
    "                 data[data['sex']=='male']['value'].values)\n",
    "ax = sns.violinplot(x='sex', y='value', data=data, order=['female', 'male'], palette=['pink', 'lightblue'])\n",
    "\n",
    "plt.xlabel('p<{:.3}'.format(p)), plt.ylabel('Pan-cancer PHBR-I')\n",
    "plt.xticks([0,1], ['Female\\n({})'.format(len(set(data[data['sex']=='female']['index']))), \n",
    "                   'Male\\n({})'.format(len(set(data[data['sex']=='male']['index'])))])\n",
    "plt.ylim(ymin=-0.5, ymax=14.5)\n",
    "# print(data.pivot_table(index='sex', values='value', aggfunc='median'))\n",
    "plt.text(-0.3, 1.1, 'E', transform=ax.transAxes, fontsize=16,  weight='bold')\n",
    "print('E. effect size: r={:.3}'.format(calc_boxplot_effect_size(len(data[data['sex']=='female']), \n",
    "                                                             len(data[data['sex']=='male']),U)))\n",
    "\n",
    "\n",
    "\n",
    "###############################\n",
    "# B. All PHBR-II scores - Sex #\n",
    "###############################\n",
    "plt.subplot(2,4,2)\n",
    "\n",
    "data = affinity_II_df.join(mhcII[['sex']]).reset_index()\n",
    "data = pd.melt(data, id_vars=['sex', 'index']).drop_duplicates()\n",
    "\n",
    "U, p = mannwhitneyu(data[data['sex']=='female']['value'].values, \n",
    "                 data[data['sex']=='male']['value'].values)\n",
    "ax = sns.violinplot(x='sex', y='value', data=data, order=['female', 'male'], palette=['pink', 'lightblue'])\n",
    "\n",
    "plt.xlabel('p<{:.3}'.format(p)), plt.ylabel('Pan-cancer PHBR-II')\n",
    "# plt.xticks([0,1], ['Female', 'Male'], fontsize='small')\n",
    "plt.xticks([0,1], ['Female\\n({})'.format(len(set(data[data['sex']=='female']['index']))), \n",
    "                   'Male\\n({})'.format(len(set(data[data['sex']=='male']['index'])))])\n",
    "plt.ylim(ymin=-2.7,ymax=81)\n",
    "# print(data.pivot_table(index='sex', values='value', aggfunc='median'))\n",
    "plt.text(-0.3, 1.1, 'F', transform=ax.transAxes, fontsize=16,  weight='bold')\n",
    "print('F. effect size: r={:.3}'.format(calc_boxplot_effect_size(len(data[data['sex']=='female']), \n",
    "                                                             len(data[data['sex']=='male']),U)))\n",
    "\n",
    "##############################\n",
    "# C. All PHBR-I scores - Age #\n",
    "##############################\n",
    "plt.subplot(2,4,3)\n",
    "\n",
    "data = affinity_I_df.join(mhcI[['age_categorical_3070']]).reset_index()\n",
    "data = pd.melt(data, id_vars=['age_categorical_3070', 'index']).drop_duplicates()\n",
    "\n",
    "U, p = mannwhitneyu(data[data['age_categorical_3070']=='younger']['value'].values, \n",
    "                 data[data['age_categorical_3070']=='older']['value'].values)\n",
    "ax = sns.violinplot(x='age_categorical_3070', y='value', data=data, order=['younger', 'older'], palette=['lightgrey', 'darkgrey'])\n",
    "\n",
    "plt.xlabel('p<{:.3}'.format(p)), plt.ylabel('Pan-cancer PHBR-I')\n",
    "# plt.xticks([0,1], ['Younger', 'Older'], fontsize='small')\n",
    "plt.xticks([0,1], ['Younger\\n({})'.format(len(set(data[data['age_categorical_3070']=='younger']['index']))), \n",
    "                   'Older\\n({})'.format(len(set(data[data['age_categorical_3070']=='older']['index'])))])\n",
    "plt.ylim(ymin=-0.5, ymax=14.5)\n",
    "# print(data.pivot_table(index='age_categorical_3070', values='value', aggfunc='median'))\n",
    "plt.text(-0.3, 1.1, 'G', transform=ax.transAxes, fontsize=16,  weight='bold')\n",
    "print('G. effect size: r={:.3}'.format(calc_boxplot_effect_size(len(data[data['age_categorical_3070']=='younger']), \n",
    "                                                             len(data[data['age_categorical_3070']=='older']),U)))\n",
    "\n",
    "\n",
    "\n",
    "###############################\n",
    "# D. All PHBR-II scores - Age #\n",
    "###############################\n",
    "plt.subplot(2,4,4)\n",
    "\n",
    "data = affinity_II_df.join(mhcII[['age_categorical_3070']]).reset_index()\n",
    "data = pd.melt(data, id_vars=['age_categorical_3070', 'index']).drop_duplicates()\n",
    "\n",
    "U, p = mannwhitneyu(data[data['age_categorical_3070']=='younger']['value'].values, \n",
    "                 data[data['age_categorical_3070']=='older']['value'].values)\n",
    "ax = sns.violinplot(x='age_categorical_3070', y='value', data=data, order=['younger', 'older'], palette=['lightgrey', 'darkgrey'])\n",
    "\n",
    "plt.xlabel('p<{:.3}'.format(p)), plt.ylabel('Pan-cancer PHBR-II')\n",
    "# plt.xticks([0,1], ['Younger', 'Older'], fontsize='small')\n",
    "plt.xticks([0,1], ['Younger\\n({})'.format(len(set(data[data['age_categorical_3070']=='younger']['index']))), \n",
    "                   'Older\\n({})'.format(len(set(data[data['age_categorical_3070']=='older']['index'])))])\n",
    "plt.ylim(ymin=-2.7,ymax=81)\n",
    "# print(data.pivot_table(index='age_categorical_3070', values='value', aggfunc='median'))\n",
    "plt.text(-0.3, 1.1, 'H', transform=ax.transAxes, fontsize=16,  weight='bold')\n",
    "print('H. effect size: r={:.3}'.format(calc_boxplot_effect_size(len(data[data['age_categorical_3070']=='younger']), \n",
    "                                                             len(data[data['age_categorical_3070']=='older']),U)))\n",
    "\n",
    "\n",
    "# save\n",
    "plt.tight_layout(pad=0.6, h_pad=1)\n",
    "\n",
    "savepath = '../figures/S5_driver_PHBR.E-H.pdf'\n",
    "print('Saving to {}'.format(savepath))\n",
    "plt.savefig(savepath, bbox_inches='tight')\n",
    "plt.show()"
   ]
  },
  {
   "cell_type": "code",
   "execution_count": 13,
   "metadata": {},
   "outputs": [],
   "source": [
    "def calc_boxplot_effect_size(n_a, n_b, U):\n",
    "    '''Cliffs d'''\n",
    "    return ((2*U)/(n_a*n_b))-1"
   ]
  },
  {
   "cell_type": "code",
   "execution_count": 2,
   "metadata": {},
   "outputs": [],
   "source": [
    "## Shuffle sex/age labels and get p-values\n",
    "\n",
    "\n",
    "# sex_medians = pd.DataFrame()\n",
    "# age_medians = pd.DataFrame()\n",
    "\n",
    "# for i in range(1000):\n",
    "#     if i % 50 == 0: print(i)\n",
    "\n",
    "#     ################################\n",
    "#     # A. - All PHBR-I scores - Sex #\n",
    "#     ################################\n",
    "#     data = affinity_I_df.join(mhcI[['sex']]).reset_index()\n",
    "#     data['sex'] = np.random.permutation(data['sex'])\n",
    "#     data = pd.melt(data, id_vars=['sex', 'index']).drop_duplicates()\n",
    "\n",
    "#     p = mannwhitneyu(data[data['sex']=='female']['value'].values, \n",
    "#                      data[data['sex']=='male']['value'].values).pvalue\n",
    "#     median_df = data.pivot_table(index='sex', values='value', aggfunc='median').T\n",
    "#     median_df['p-value'] = p\n",
    "#     median_df['class'] = 'I'    \n",
    "#     sex_medians = sex_medians.append(median_df)\n",
    "\n",
    "\n",
    "\n",
    "#     #################################\n",
    "#     # B. - All PHBR-II scores - Sex #\n",
    "#     #################################\n",
    "\n",
    "#     data = affinity_II_df.join(mhcII[['sex']]).reset_index()\n",
    "#     data['sex'] = np.random.permutation(data['sex'])\n",
    "#     data = pd.melt(data, id_vars=['sex', 'index']).drop_duplicates()\n",
    "\n",
    "#     p = mannwhitneyu(data[data['sex']=='female']['value'].values, \n",
    "#                      data[data['sex']=='male']['value'].values).pvalue\n",
    "    \n",
    "#     median_df = data.pivot_table(index='sex', values='value', aggfunc='median').T\n",
    "#     median_df['p-value'] = p\n",
    "#     median_df['class'] = 'II'    \n",
    "#     sex_medians = sex_medians.append(median_df)\n",
    "\n",
    "#     ################################\n",
    "#     # C. - All PHBR-I scores - Age #\n",
    "#     ################################\n",
    "\n",
    "#     data = affinity_I_df.join(mhcI[['age_categorical_3070']]).reset_index()\n",
    "#     data = data[data['age_categorical_3070']!='middle']\n",
    "#     data['age_categorical_3070'] = np.random.permutation(data['age_categorical_3070'])\n",
    "#     data = pd.melt(data, id_vars=['age_categorical_3070', 'index']).drop_duplicates()\n",
    "\n",
    "#     p = mannwhitneyu(data[data['age_categorical_3070']=='younger']['value'].values, \n",
    "#                      data[data['age_categorical_3070']=='older']['value'].values).pvalue\n",
    "#     median_df = data.pivot_table(index='age_categorical_3070', values='value', aggfunc='median').T\n",
    "#     median_df['p-value'] = p\n",
    "#     median_df['class'] = 'I'    \n",
    "#     age_medians = age_medians.append(median_df)\n",
    "\n",
    "#     #################################\n",
    "#     # D. - All PHBR-II scores - Age #\n",
    "#     #################################\n",
    "\n",
    "#     data = affinity_II_df.join(mhcII[['age_categorical_3070']]).reset_index()\n",
    "#     data = data[data['age_categorical_3070']!='middle']\n",
    "#     data['age_categorical_3070'] = np.random.permutation(data['age_categorical_3070'])\n",
    "#     data = pd.melt(data, id_vars=['age_categorical_3070', 'index']).drop_duplicates()\n",
    "\n",
    "#     p = mannwhitneyu(data[data['age_categorical_3070']=='younger']['value'].values, \n",
    "#                      data[data['age_categorical_3070']=='older']['value'].values).pvalue\n",
    "\n",
    "#     median_df = data.pivot_table(index='age_categorical_3070', values='value', aggfunc='median').T\n",
    "#     median_df['p-value'] = p\n",
    "#     median_df['class'] = 'II'    \n",
    "#     age_medians = age_medians.append(median_df)\n",
    "\n",
    "\n"
   ]
  },
  {
   "cell_type": "code",
   "execution_count": 3,
   "metadata": {},
   "outputs": [],
   "source": [
    "## plot shuffled sex p-values\n",
    "\n",
    "# plt.figure(figsize=(9,3))\n",
    "\n",
    "# plt.subplot(1,2,1)\n",
    "# hist, bins, _ = plt.hist(sex_medians[sex_medians['class']=='I']['p-value'].values, bins=10)\n",
    "# logbins = np.logspace(np.log10(bins[0]),np.log10(bins[-1]),len(bins))\n",
    "# dp = sns.distplot(sex_medians[sex_medians['class']=='I']['p-value'].values, \n",
    "#                   label='Class I', bins=logbins)\n",
    "# plt.legend()\n",
    "# dp.set_xscale('log')\n",
    "# plt.xlabel('P-values'), plt.title('Sex')\n",
    "# plt.axvline(7.69e-05)\n",
    "\n",
    "# plt.subplot(1,2,2)\n",
    "# hist, bins, _ = plt.hist(sex_medians[sex_medians['class']=='II']['p-value'].values, bins=10)\n",
    "# logbins = np.logspace(np.log10(bins[0]),np.log10(bins[-1]),len(bins))\n",
    "# dp = sns.distplot(sex_medians[sex_medians['class']=='II']['p-value'].values, \n",
    "#                   label='Class II', bins=logbins)\n",
    "# plt.legend()\n",
    "# dp.set_xscale('log')\n",
    "# plt.xlabel('P-values'), plt.title('Sex')\n",
    "# plt.axvline(4.34e-08)\n",
    "# plt.tight_layout()\n",
    "# plt.savefig('/cellar/users/andreabc/Data/hla_sex/figures/S9.shuffle.sex.pvals.hist.pdf')"
   ]
  },
  {
   "cell_type": "code",
   "execution_count": 1,
   "metadata": {},
   "outputs": [],
   "source": [
    "## Plot shuffled age p-values\n",
    "\n",
    "# plt.figure(figsize=(9,3))\n",
    "\n",
    "# plt.subplot(1,2,1)\n",
    "# hist, bins, _ = plt.hist(age_medians[age_medians['class']=='I']['p-value'].values, bins=10)\n",
    "# logbins = np.logspace(np.log10(bins[0]),np.log10(bins[-1]),len(bins))\n",
    "# dp = sns.distplot(age_medians[age_medians['class']=='I']['p-value'].values, \n",
    "#                   label='Class I', bins=logbins)\n",
    "# plt.legend()\n",
    "# dp.set_xscale('log')\n",
    "# plt.xlabel('P-values'), plt.title('Age')\n",
    "# plt.axvline(7.69e-05)\n",
    "\n",
    "# plt.subplot(1,2,2)\n",
    "# hist, bins, _ = plt.hist(age_medians[age_medians['class']=='II']['p-value'].values, bins=10)\n",
    "# logbins = np.logspace(np.log10(bins[0]),np.log10(bins[-1]),len(bins))\n",
    "# dp = sns.distplot(age_medians[age_medians['class']=='II']['p-value'].values, \n",
    "#                   label='Class II', bins=logbins)\n",
    "# plt.legend()\n",
    "# dp.set_xscale('log')\n",
    "# plt.xlabel('P-values'), plt.title('Age')\n",
    "# plt.axvline(4.34e-08)\n",
    "# plt.tight_layout()\n",
    "# plt.savefig('/cellar/users/andreabc/Data/hla_sex/figures/S9.shuffle.age.pvals.hist.pdf')"
   ]
  },
  {
   "cell_type": "markdown",
   "metadata": {},
   "source": [
    "### 4. Plot I-J: validation PHBR fraction binding "
   ]
  },
  {
   "cell_type": "code",
   "execution_count": 36,
   "metadata": {},
   "outputs": [],
   "source": [
    "# mhcI \n",
    "thresholds_I = range(0,21,1)\n",
    "f_medians_list_I, m_medians_list_I = [],[]\n",
    "y_medians_list_I, o_medians_list_I = [],[]\n",
    "\n",
    "for threshold in thresholds_I:\n",
    "    # sex\n",
    "    data = pd.DataFrame((affinity_I_df < threshold).sum(axis=1) / len(affinity_I_df.columns), columns=['fraction'])\n",
    "    data = data.join(mhcI[['sex']])\n",
    "    \n",
    "    f_medians_list_I.append(data[data['sex']=='female'].fraction.median())\n",
    "    m_medians_list_I.append(data[data['sex']=='male'].fraction.median())\n",
    "    \n",
    "    # age\n",
    "    data = pd.DataFrame((affinity_I_df < threshold).sum(axis=1) / len(affinity_I_df.columns), columns=['fraction'])\n",
    "    data = data.join(mhcI[['age_categorical_3070']])\n",
    "    \n",
    "    y_medians_list_I.append(data[data['age_categorical_3070']=='younger'].fraction.median())\n",
    "    o_medians_list_I.append(data[data['age_categorical_3070']=='older'].fraction.median())"
   ]
  },
  {
   "cell_type": "code",
   "execution_count": 37,
   "metadata": {},
   "outputs": [],
   "source": [
    "# mhcII\n",
    "thresholds_II = range(0,81,1)\n",
    "f_medians_list_II, m_medians_list_II = [],[]\n",
    "y_medians_list_II, o_medians_list_II = [],[]\n",
    "\n",
    "for threshold in thresholds_II:\n",
    "    # sex\n",
    "    data = pd.DataFrame((affinity_II_df < threshold).sum(axis=1) / len(affinity_II_df.columns), columns=['fraction'])\n",
    "    data = data.join(mhcII[['sex']])\n",
    "    \n",
    "    f_medians_list_II.append(data[data['sex']=='female'].fraction.median())\n",
    "    m_medians_list_II.append(data[data['sex']=='male'].fraction.median())\n",
    "    \n",
    "    # age\n",
    "    data = pd.DataFrame((affinity_II_df < threshold).sum(axis=1) / len(affinity_II_df.columns), columns=['fraction'])\n",
    "    data = data.join(mhcII[['age_categorical_3070']])\n",
    "    \n",
    "    y_medians_list_II.append(data[data['age_categorical_3070']=='younger'].fraction.median())\n",
    "    o_medians_list_II.append(data[data['age_categorical_3070']=='older'].fraction.median())"
   ]
  },
  {
   "cell_type": "code",
   "execution_count": 38,
   "metadata": {},
   "outputs": [
    {
     "name": "stdout",
     "output_type": "stream",
     "text": [
      "MannwhitneyuResult(statistic=202.0, pvalue=0.3253253648026939)\n",
      "MannwhitneyuResult(statistic=216.0, pvalue=0.45992164783303385)\n",
      "Ks_2sampResult(statistic=0.1428571428571429, pvalue=0.9727889606858307)\n",
      "Ks_2sampResult(statistic=0.09523809523809523, pvalue=0.9999421273530735)\n"
     ]
    }
   ],
   "source": [
    "print(mannwhitneyu(f_medians_list_I, m_medians_list_I))\n",
    "print(mannwhitneyu(y_medians_list_I, o_medians_list_I))\n",
    "print(ks_2samp(f_medians_list_I, m_medians_list_I))\n",
    "print(ks_2samp(y_medians_list_I, o_medians_list_I))"
   ]
  },
  {
   "cell_type": "code",
   "execution_count": 39,
   "metadata": {},
   "outputs": [
    {
     "name": "stdout",
     "output_type": "stream",
     "text": [
      "MannwhitneyuResult(statistic=3221.5, pvalue=0.42231982938434054)\n",
      "MannwhitneyuResult(statistic=3146.5, pvalue=0.3273669798523693)\n",
      "Ks_2sampResult(statistic=0.03703703703703709, pvalue=0.9999999940261255)\n",
      "Ks_2sampResult(statistic=0.061728395061728336, pvalue=0.9970570966944897)\n"
     ]
    }
   ],
   "source": [
    "print(mannwhitneyu(f_medians_list_II, m_medians_list_II))\n",
    "print(mannwhitneyu(y_medians_list_II, o_medians_list_II))\n",
    "print(ks_2samp(f_medians_list_II, m_medians_list_II))\n",
    "print(ks_2samp(y_medians_list_II, o_medians_list_II))"
   ]
  },
  {
   "cell_type": "code",
   "execution_count": 43,
   "metadata": {},
   "outputs": [
    {
     "name": "stdout",
     "output_type": "stream",
     "text": [
      "Saving to ../figures/S5_val_fraction_ECDF.I-J.pdf\n"
     ]
    },
    {
     "data": {
      "image/png": "[encoded data removed]",
      "text/plain": [
       "<Figure size 504x180 with 2 Axes>"
      ]
     },
     "metadata": {
      "needs_background": "light"
     },
     "output_type": "display_data"
    }
   ],
   "source": [
    "plt.figure(figsize=(7,2.5))\n",
    "\n",
    "####################\n",
    "# A. PHBR-I scores #\n",
    "####################\n",
    "fig = plt.subplot(1,2,1)\n",
    "\n",
    "plt.plot(thresholds_I, f_medians_list_I, color='lightpink', label='Females')\n",
    "plt.plot(thresholds_I, m_medians_list_I, color='lightblue', label='Males')\n",
    "plt.plot(thresholds_I, y_medians_list_I, color='lightgrey', label='Younger')\n",
    "plt.plot(thresholds_I, o_medians_list_I, color='darkgrey', label='Older')\n",
    "plt.legend(loc='lower right')\n",
    "\n",
    "sex_ks, sex_p = ks_2samp(f_medians_list_I, m_medians_list_I)\n",
    "age_ks, age_p = ks_2samp(y_medians_list_I, o_medians_list_I)\n",
    "\n",
    "plt.text(-0.15, 1.1, 'I', transform=fig.transAxes, fontsize=16,  weight='bold')\n",
    "plt.text(0.52, 0.6, 'M/F KS: {:.2}, p={:.2}\\nY/O KS: {:.2}, p={:.2}'.format(sex_ks, sex_p, age_ks,age_p), \n",
    "         transform=fig.transAxes, fontsize='small')\n",
    "\n",
    "plt.xlabel('MHC-I Thresholds'), plt.ylabel('MHC-I Fraction binding')\n",
    "plt.ylim(0,1), plt.xlim(0,20)\n",
    "\n",
    "#####################\n",
    "# B. PHBR-II scores #\n",
    "#####################\n",
    "fig = plt.subplot(1,2,2)\n",
    "\n",
    "plt.plot(thresholds_II, f_medians_list_II, color='lightpink', label='Female')\n",
    "plt.plot(thresholds_II, m_medians_list_II, color='lightblue', label='Males')\n",
    "plt.plot(thresholds_II, y_medians_list_II, color='lightgrey', label='Younger')\n",
    "plt.plot(thresholds_II, o_medians_list_II, color='darkgrey', label='Older')\n",
    "plt.legend(loc='lower right')\n",
    "\n",
    "sex_ks, sex_p = ks_2samp(f_medians_list_II, m_medians_list_II)\n",
    "age_ks, age_p = ks_2samp(y_medians_list_II, o_medians_list_II)\n",
    "\n",
    "plt.text(-0.15, 1.1, 'J', transform=fig.transAxes, fontsize=16,  weight='bold')\n",
    "plt.text(0.52, 0.6, 'M/F KS: {:.2}, p={:.2}\\nY/O KS: {:.2}, p={:.2}'.format(sex_ks, sex_p, age_ks,age_p), \n",
    "         transform=fig.transAxes, fontsize='small')\n",
    "plt.xlabel('MHC-II Thresholds'), plt.ylabel('MHC-II Fraction binding')\n",
    "plt.ylim(0,1), plt.xlim(0,80)\n",
    "\n",
    "plt.tight_layout()\n",
    "\n",
    "savepath = '../figures/S5_val_fraction_ECDF.I-J.pdf'\n",
    "print('Saving to {}'.format(savepath))\n",
    "plt.savefig(savepath, bbox_inches=\"tight\")\n",
    "plt.show()"
   ]
  },
  {
   "cell_type": "code",
   "execution_count": null,
   "metadata": {},
   "outputs": [],
   "source": []
  }
 ],
 "metadata": {
  "kernelspec": {
   "display_name": "Python 3",
   "language": "python",
   "name": "python3"
  },
  "language_info": {
   "codemirror_mode": {
    "name": "ipython",
    "version": 3
   },
   "file_extension": ".py",
   "mimetype": "text/x-python",
   "name": "python",
   "nbconvert_exporter": "python",
   "pygments_lexer": "ipython3",
   "version": "3.6.8"
  }
 },
 "nbformat": 4,
 "nbformat_minor": 2
}
