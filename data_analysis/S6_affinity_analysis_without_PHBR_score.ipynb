{
 "cells": [
  {
   "cell_type": "markdown",
   "metadata": {},
   "source": [
    "### Notebook\n",
    "- Creates Figure S6: Sex- and age-specific MHC presentation of common driver mutations not relying on PHBR scores. \n",
    "- Uses NetMHCpan affinities only."
   ]
  },
  {
   "cell_type": "code",
   "execution_count": 1,
   "metadata": {},
   "outputs": [],
   "source": [
    "import pandas as pd\n",
    "import numpy as np\n",
    "from scipy.stats import fisher_exact, mannwhitneyu\n",
    "import sys\n",
    "sys.path.append('/cellar/users/andreabc/scripts/')\n",
    "from benjamini_fdr import benjamini_fdr"
   ]
  },
  {
   "cell_type": "code",
   "execution_count": 2,
   "metadata": {},
   "outputs": [],
   "source": [
    "import matplotlib.pyplot as plt\n",
    "from matplotlib import gridspec\n",
    "import seaborn as sns\n",
    "sns.set_style('white')\n",
    "sns.set_style(\"ticks\")\n",
    "\n",
    "import matplotlib as mpl\n",
    "mpl.rcParams['pdf.fonttype'] = 42\n",
    "%matplotlib inline"
   ]
  },
  {
   "cell_type": "markdown",
   "metadata": {},
   "source": [
    "### Load NetMHCpan data"
   ]
  },
  {
   "cell_type": "code",
   "execution_count": 3,
   "metadata": {},
   "outputs": [],
   "source": [
    "# Load NetMHCpan affinities for driver mutations across all alleles\n",
    "driver_aff_I = pd.read_csv('../data/mhc_i.driver.matrix', \n",
    "                           sep='\\t', index_col=0)\n",
    "driver_aff_II = pd.read_csv('../data/mhc_ii.driver.matrix', \n",
    "                           sep='\\t', index_col=0)"
   ]
  },
  {
   "cell_type": "code",
   "execution_count": 4,
   "metadata": {},
   "outputs": [],
   "source": [
    "driver_aff_I_median = pd.DataFrame(driver_aff_I.median(axis=1), columns=['median_rank'])\n",
    "driver_aff_II_median = pd.DataFrame(driver_aff_II.median(axis=1), columns=['median_rank'])"
   ]
  },
  {
   "cell_type": "markdown",
   "metadata": {},
   "source": [
    "### Load TCGA clinical, expressed mutation data"
   ]
  },
  {
   "cell_type": "code",
   "execution_count": 5,
   "metadata": {},
   "outputs": [
    {
     "data": {
      "text/html": [
       "<div>\n",
       "<style scoped>\n",
       "    .dataframe tbody tr th:only-of-type {\n",
       "        vertical-align: middle;\n",
       "    }\n",
       "\n",
       "    .dataframe tbody tr th {\n",
       "        vertical-align: top;\n",
       "    }\n",
       "\n",
       "    .dataframe thead th {\n",
       "        text-align: right;\n",
       "    }\n",
       "</style>\n",
       "<table border=\"1\" class=\"dataframe\">\n",
       "  <thead>\n",
       "    <tr style=\"text-align: right;\">\n",
       "      <th></th>\n",
       "      <th>gender</th>\n",
       "      <th>age_at_initial_pathologic_diagnosis</th>\n",
       "      <th>age_categorical_3070</th>\n",
       "      <th>category</th>\n",
       "    </tr>\n",
       "    <tr>\n",
       "      <th>bcr_patient_barcode</th>\n",
       "      <th></th>\n",
       "      <th></th>\n",
       "      <th></th>\n",
       "      <th></th>\n",
       "    </tr>\n",
       "  </thead>\n",
       "  <tbody>\n",
       "    <tr>\n",
       "      <td>TCGA-3C-AAAU</td>\n",
       "      <td>FEMALE</td>\n",
       "      <td>55.0</td>\n",
       "      <td>middle</td>\n",
       "      <td>middle\\nfemale</td>\n",
       "    </tr>\n",
       "    <tr>\n",
       "      <td>TCGA-3C-AALI</td>\n",
       "      <td>FEMALE</td>\n",
       "      <td>50.0</td>\n",
       "      <td>younger</td>\n",
       "      <td>younger\\nfemale</td>\n",
       "    </tr>\n",
       "  </tbody>\n",
       "</table>\n",
       "</div>"
      ],
      "text/plain": [
       "                     gender  age_at_initial_pathologic_diagnosis  \\\n",
       "bcr_patient_barcode                                                \n",
       "TCGA-3C-AAAU         FEMALE                                 55.0   \n",
       "TCGA-3C-AALI         FEMALE                                 50.0   \n",
       "\n",
       "                    age_categorical_3070         category  \n",
       "bcr_patient_barcode                                        \n",
       "TCGA-3C-AAAU                      middle   middle\\nfemale  \n",
       "TCGA-3C-AALI                     younger  younger\\nfemale  "
      ]
     },
     "execution_count": 5,
     "metadata": {},
     "output_type": "execute_result"
    }
   ],
   "source": [
    "clinical_df = pd.read_csv('../data/all_clinical_tcga.txt.gz',sep='\\t',\n",
    "                          index_col='bcr_patient_barcode')[['gender','age_at_initial_pathologic_diagnosis']]\n",
    "\n",
    "# add age categorical \n",
    "young_thresh = 52  # 30th percentile: 52\n",
    "old_thresh = 68-1   # 70th percentile: 68\n",
    "\n",
    "clinical_df['age_at_initial_pathologic_diagnosis'] = pd.to_numeric(clinical_df['age_at_initial_pathologic_diagnosis'], errors='coerce')\n",
    "clinical_df['age_categorical_3070'] = pd.cut(clinical_df['age_at_initial_pathologic_diagnosis'], \n",
    "                                             [0, young_thresh, old_thresh, clinical_df['age_at_initial_pathologic_diagnosis'].max()], \n",
    "                                             labels=['younger', 'middle', 'older'])\n",
    "clinical_df['category'] = clinical_df.apply(lambda x: '{}\\n{}'.format(x.age_categorical_3070, x.gender.lower()), axis=1)\n",
    "\n",
    "clinical_df.head(2)"
   ]
  },
  {
   "cell_type": "code",
   "execution_count": 6,
   "metadata": {},
   "outputs": [
    {
     "name": "stdout",
     "output_type": "stream",
     "text": [
      "(8557, 1)\n"
     ]
    },
    {
     "data": {
      "text/html": [
       "<div>\n",
       "<style scoped>\n",
       "    .dataframe tbody tr th:only-of-type {\n",
       "        vertical-align: middle;\n",
       "    }\n",
       "\n",
       "    .dataframe tbody tr th {\n",
       "        vertical-align: top;\n",
       "    }\n",
       "\n",
       "    .dataframe thead th {\n",
       "        text-align: right;\n",
       "    }\n",
       "</style>\n",
       "<table border=\"1\" class=\"dataframe\">\n",
       "  <thead>\n",
       "    <tr style=\"text-align: right;\">\n",
       "      <th></th>\n",
       "      <th>exp_mutations</th>\n",
       "      <th>gender</th>\n",
       "      <th>age_at_initial_pathologic_diagnosis</th>\n",
       "      <th>age_categorical_3070</th>\n",
       "      <th>category</th>\n",
       "    </tr>\n",
       "  </thead>\n",
       "  <tbody>\n",
       "    <tr>\n",
       "      <td>TCGA-02-0047</td>\n",
       "      <td>M_BRAF_V600E</td>\n",
       "      <td>MALE</td>\n",
       "      <td>78.0</td>\n",
       "      <td>older</td>\n",
       "      <td>older\\nmale</td>\n",
       "    </tr>\n",
       "    <tr>\n",
       "      <td>TCGA-02-0047</td>\n",
       "      <td>M_PIK3CA_N345K</td>\n",
       "      <td>MALE</td>\n",
       "      <td>78.0</td>\n",
       "      <td>older</td>\n",
       "      <td>older\\nmale</td>\n",
       "    </tr>\n",
       "  </tbody>\n",
       "</table>\n",
       "</div>"
      ],
      "text/plain": [
       "               exp_mutations gender  age_at_initial_pathologic_diagnosis  \\\n",
       "TCGA-02-0047    M_BRAF_V600E   MALE                                 78.0   \n",
       "TCGA-02-0047  M_PIK3CA_N345K   MALE                                 78.0   \n",
       "\n",
       "             age_categorical_3070     category  \n",
       "TCGA-02-0047                older  older\\nmale  \n",
       "TCGA-02-0047                older  older\\nmale  "
      ]
     },
     "execution_count": 6,
     "metadata": {},
     "output_type": "execute_result"
    }
   ],
   "source": [
    "mut_df = pd.read_csv('../data/expressed_driver_mutations.csv',\n",
    "                     index_col=0)\n",
    "print(mut_df.shape)\n",
    "mut_df = mut_df.join(clinical_df, how='left')\n",
    "mut_df.head(2)"
   ]
  },
  {
   "cell_type": "code",
   "execution_count": 7,
   "metadata": {},
   "outputs": [],
   "source": [
    "def get_joint_pvals(df, column):\n",
    "    data = df.copy()\n",
    "    f_data = data[data['gender']=='FEMALE']\n",
    "    m_data = data[data['gender']=='MALE']\n",
    "\n",
    "    YF_OF = mannwhitneyu(f_data[f_data['age_categorical_3070'] == 'younger'][column].values, \n",
    "                         f_data[f_data['age_categorical_3070'] == 'older'][column].values).pvalue\n",
    "    YF_OM = mannwhitneyu(f_data[f_data['age_categorical_3070'] == 'younger'][column].values, \n",
    "                         m_data[m_data['age_categorical_3070'] == 'older'][column].values).pvalue\n",
    "    YF_YM = mannwhitneyu(f_data[f_data['age_categorical_3070'] == 'younger'][column].values, \n",
    "                         m_data[m_data['age_categorical_3070'] == 'younger'][column].values).pvalue\n",
    "\n",
    "    OF_YM = mannwhitneyu(f_data[f_data['age_categorical_3070'] == 'older'][column].values, \n",
    "                         m_data[m_data['age_categorical_3070'] == 'younger'][column].values).pvalue\n",
    "    OF_OM = mannwhitneyu(f_data[f_data['age_categorical_3070'] == 'older'][column].values, \n",
    "                         m_data[m_data['age_categorical_3070'] == 'older'][column].values).pvalue\n",
    "\n",
    "    YM_OM = mannwhitneyu(m_data[m_data['age_categorical_3070'] == 'younger'][column].values, \n",
    "                         m_data[m_data['age_categorical_3070'] == 'older'][column].values).pvalue\n",
    "\n",
    "    pvals = [['Young female, Old female', YF_OF], ['Young female, Old male', YF_OM], \n",
    "             ['Young female, Young male', YF_YM], ['Old female, Young male', OF_YM], \n",
    "             ['Old female, Old male', OF_OM], ['Young male, Old male', YM_OM]]\n",
    "    return benjamini_fdr(pvals)"
   ]
  },
  {
   "cell_type": "markdown",
   "metadata": {},
   "source": [
    "### Plot RNA fraction\n",
    " "
   ]
  },
  {
   "cell_type": "code",
   "execution_count": 8,
   "metadata": {},
   "outputs": [],
   "source": [
    "def add_median_labels(median_list, ax, height_above_median=0.5):\n",
    "    for pos, tick, median in zip(range(2), ax.get_xticklabels(), median_list):\n",
    "        ax.text(pos, median + height_above_median, round(median, 2), \n",
    "                horizontalalignment='center', size='x-small', color='w', weight='semibold')"
   ]
  },
  {
   "cell_type": "markdown",
   "metadata": {},
   "source": [
    "##### MHC-I"
   ]
  },
  {
   "cell_type": "code",
   "execution_count": 12,
   "metadata": {},
   "outputs": [
    {
     "name": "stdout",
     "output_type": "stream",
     "text": [
      "\n",
      "Sex medians: gender\n",
      "FEMALE    3.68555\n",
      "MALE      3.41610\n",
      "Name: median_rank, dtype: float64\n",
      "\n",
      "Age medians: age_categorical_3070\n",
      "younger    3.5360\n",
      "middle     3.6315\n",
      "older      3.6160\n",
      "Name: median_rank, dtype: float64\n",
      "\n",
      "Combined P-values:  [['Young female, Young male', 0.01618214271998781], ['Young female, Old male', 0.018946046437979758], ['Young female, Old female', 0.04319412333747917], ['Old female, Young male', 0.2736462549529465], ['Old female, Old male', 0.32913079819298724], ['Young male, Old male', 0.4201478830045495]]\n",
      "\n",
      "Combined medians: category\n",
      "middle\\nfemale     3.72410\n",
      "middle\\nmale       3.41610\n",
      "nan\\nfemale        3.91275\n",
      "nan\\nmale          3.41610\n",
      "older\\nfemale      3.67490\n",
      "older\\nmale        3.48710\n",
      "younger\\nfemale    3.72410\n",
      "younger\\nmale      3.08320\n",
      "Name: median_rank, dtype: float64\n"
     ]
    },
    {
     "data": {
      "image/png": "[encoded data removed]",
      "text/plain": [
       "<Figure size 648x216 with 3 Axes>"
      ]
     },
     "metadata": {
      "needs_background": "light"
     },
     "output_type": "display_data"
    }
   ],
   "source": [
    "data = pd.merge(mut_df, driver_aff_I_median.reset_index(), left_on='exp_mutations', right_on='index', how='left')\n",
    "\n",
    "fig = plt.figure(figsize=(9,3)) \n",
    "gs = gridspec.GridSpec(1, 3, width_ratios=[2.5,2.5,5]) \n",
    "\n",
    "## Sex\n",
    "ax0 = plt.subplot(gs[0])\n",
    "p = mannwhitneyu(data[data['gender']=='FEMALE']['median_rank'].values,\n",
    "                 data[data['gender']=='MALE']['median_rank'].values).pvalue\n",
    "\n",
    "sns.boxplot(x='gender', y='median_rank', data=data, order=['FEMALE','MALE'],\n",
    "            palette=['lightpink', 'lightblue'], ax=ax0)\n",
    "plt.xlabel('p<{:.3}'.format(p)), \n",
    "# plt.xticks([0,1],['female','male']), \n",
    "\n",
    "plt.xticks([0,1], ['Female\\n({})'.format(len(set(data[data['gender']=='FEMALE'].index))), \n",
    "                   'Male\\n({})'.format(len(set(data[data['gender']=='MALE'].index)))])\n",
    "plt.ylim(-1,20)\n",
    "medians = data.groupby(['gender'])['median_rank'].median()\n",
    "print('\\nSex medians:', medians)\n",
    "\n",
    "\n",
    "\n",
    "## Age\n",
    "ax1 = plt.subplot(gs[1])\n",
    "p = mannwhitneyu(data[data['age_categorical_3070']=='younger']['median_rank'].values,\n",
    "                 data[data['age_categorical_3070']=='older']['median_rank'].values).pvalue\n",
    "\n",
    "sns.boxplot(x='age_categorical_3070', y='median_rank', data=data, order=['younger','older'],\n",
    "            palette=['lightgrey', 'darkgrey'], ax=ax1)\n",
    "plt.xlabel('p<{:.3}'.format(p)), \n",
    "plt.xticks([0,1], ['Younger\\n({})'.format(len(set(data[data['age_categorical_3070']=='younger'].index))), \n",
    "                   'Older\\n({})'.format(len(set(data[data['age_categorical_3070']=='older'].index)))])\n",
    "plt.ylim(-1,20)\n",
    "medians = data.groupby(['age_categorical_3070'])['median_rank'].median()\n",
    "print('\\nAge medians:', medians)\n",
    "\n",
    "\n",
    "\n",
    "## Both\n",
    "ax2 = plt.subplot(gs[2])\n",
    "print('\\nCombined P-values: ',get_joint_pvals(data, 'median_rank'))\n",
    "\n",
    "sns.boxplot(x='category', y='median_rank', data=data, palette=['lightpink','firebrick','lightblue','royalblue'], \n",
    "            order=['younger\\nfemale','older\\nfemale','younger\\nmale','older\\nmale'], ax=ax2)\n",
    "plt.ylim(-1,20), plt.xlabel('')\n",
    "plt.xticks([0,1,2,3],['Younger\\nfemale\\n({})'.format(len(data[data['category']=='younger\\nfemale'])), \n",
    "                      'Older\\nfemale\\n({})'.format(len(data[data['category']=='older\\nfemale'])), \n",
    "                      'Younger\\nmale\\n({})'.format(len(data[data['category']=='younger\\nmale'])), \n",
    "                      'Older\\nmale\\n({})'.format(len(data[data['category']=='older\\nmale']))])\n",
    "\n",
    "plt.tight_layout()\n",
    "\n",
    "medians = data.groupby(['category'])['median_rank'].median()\n",
    "print('\\nCombined medians:', medians)\n",
    "\n",
    "savepath = '../figures/S6_I_netmhcpan_median_rank.boxplot.pdf'\n",
    "plt.savefig(savepath)\n",
    "plt.show()"
   ]
  },
  {
   "cell_type": "markdown",
   "metadata": {},
   "source": [
    "##### MHC-II"
   ]
  },
  {
   "cell_type": "code",
   "execution_count": 14,
   "metadata": {},
   "outputs": [
    {
     "name": "stdout",
     "output_type": "stream",
     "text": [
      "\n",
      "Sex medians: gender\n",
      "FEMALE    31.0\n",
      "MALE      26.0\n",
      "Name: median_rank, dtype: float64\n",
      "\n",
      "Age medians: age_categorical_3070\n",
      "younger    30.0\n",
      "middle     28.0\n",
      "older      28.0\n",
      "Name: median_rank, dtype: float64\n",
      "\n",
      "Combined P-values:  [['Young female, Old male', 4.645676615201199e-05], ['Young female, Young male', 0.00048648601270274256], ['Young female, Old female', 0.0007681502921429626], ['Young male, Old male', 0.23738098237441393], ['Old female, Old male', 0.2071079517450426], ['Old female, Young male', 0.42917286522252174]]\n",
      "\n",
      "Combined medians: category\n",
      "middle\\nfemale     30.0\n",
      "middle\\nmale       27.0\n",
      "nan\\nfemale        28.5\n",
      "nan\\nmale          28.0\n",
      "older\\nfemale      31.0\n",
      "older\\nmale        26.0\n",
      "younger\\nfemale    32.0\n",
      "younger\\nmale      26.0\n",
      "Name: median_rank, dtype: float64\n"
     ]
    },
    {
     "data": {
      "image/png": "[encoded data removed]",
      "text/plain": [
       "<Figure size 648x216 with 3 Axes>"
      ]
     },
     "metadata": {
      "needs_background": "light"
     },
     "output_type": "display_data"
    }
   ],
   "source": [
    "data = pd.merge(mut_df, driver_aff_II_median.reset_index(), left_on='exp_mutations', right_on='index', how='left')\n",
    "\n",
    "fig = plt.figure(figsize=(9,3)) \n",
    "gs = gridspec.GridSpec(1, 3, width_ratios=[2.5,2.5,5]) \n",
    "\n",
    "## Sex\n",
    "ax0 = plt.subplot(gs[0])\n",
    "p = mannwhitneyu(data[data['gender']=='FEMALE']['median_rank'].values,\n",
    "                 data[data['gender']=='MALE']['median_rank'].values).pvalue\n",
    "\n",
    "sns.boxplot(x='gender', y='median_rank', data=data, order=['FEMALE','MALE'],\n",
    "            palette=['lightpink', 'lightblue'], ax=ax0)\n",
    "plt.xlabel('p<{:.3}'.format(p))\n",
    "\n",
    "plt.xticks([0,1], ['Female\\n({})'.format(len(set(data[data['gender']=='FEMALE'].index))), \n",
    "                   'Male\\n({})'.format(len(set(data[data['gender']=='MALE'].index)))])\n",
    "plt.ylim(-5,120)\n",
    "medians = data.groupby(['gender'])['median_rank'].median()\n",
    "print('\\nSex medians:', medians)\n",
    "\n",
    "## Age\n",
    "ax1 = plt.subplot(gs[1])\n",
    "p = mannwhitneyu(data[data['age_categorical_3070']=='younger']['median_rank'].values,\n",
    "                 data[data['age_categorical_3070']=='older']['median_rank'].values).pvalue\n",
    "\n",
    "sns.boxplot(x='age_categorical_3070', y='median_rank', data=data, order=['younger','older'],\n",
    "            palette=['lightgrey', 'darkgrey'], ax=ax1)\n",
    "plt.xlabel('p<{:.3}'.format(p)),\n",
    "plt.xticks([0,1], ['Younger\\n({})'.format(len(set(data[data['age_categorical_3070']=='younger'].index))), \n",
    "                   'Older\\n({})'.format(len(set(data[data['age_categorical_3070']=='older'].index)))])\n",
    "plt.ylim(-5,120)\n",
    "medians = data.groupby(['age_categorical_3070'])['median_rank'].median()\n",
    "print('\\nAge medians:', medians)\n",
    "\n",
    "\n",
    "## Both\n",
    "ax2 = plt.subplot(gs[2])\n",
    "print('\\nCombined P-values: ',get_joint_pvals(data, 'median_rank'))\n",
    "\n",
    "sns.boxplot(x='category', y='median_rank', data=data, palette=['lightpink','firebrick','lightblue','royalblue'], \n",
    "            order=['younger\\nfemale','older\\nfemale','younger\\nmale','older\\nmale'], ax=ax2)\n",
    "plt.ylim(-5,120)\n",
    "plt.xlabel('')\n",
    "plt.xticks([0,1,2,3],['Younger\\nfemale\\n({})'.format(len(data[data['category']=='younger\\nfemale'])), \n",
    "                      'Older\\nfemale\\n({})'.format(len(data[data['category']=='older\\nfemale'])), \n",
    "                      'Younger\\nmale\\n({})'.format(len(data[data['category']=='younger\\nmale'])), \n",
    "                      'Older\\nmale\\n({})'.format(len(data[data['category']=='older\\nmale']))])\n",
    "plt.tight_layout()\n",
    "\n",
    "medians = data.groupby(['category'])['median_rank'].median()\n",
    "print('\\nCombined medians:', medians)\n",
    "\n",
    "## Save\n",
    "savepath = '../figures/S6_II_netmhcpan_median_rank.boxplot.pdf'\n",
    "plt.savefig(savepath)\n",
    "plt.show()"
   ]
  },
  {
   "cell_type": "code",
   "execution_count": null,
   "metadata": {},
   "outputs": [],
   "source": []
  }
 ],
 "metadata": {
  "kernelspec": {
   "display_name": "Python 3",
   "language": "python",
   "name": "python3"
  },
  "language_info": {
   "codemirror_mode": {
    "name": "ipython",
    "version": 3
   },
   "file_extension": ".py",
   "mimetype": "text/x-python",
   "name": "python",
   "nbconvert_exporter": "python",
   "pygments_lexer": "ipython3",
   "version": "3.6.8"
  }
 },
 "nbformat": 4,
 "nbformat_minor": 2
}
