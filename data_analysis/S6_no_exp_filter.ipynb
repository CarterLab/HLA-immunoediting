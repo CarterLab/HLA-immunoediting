{
 "cells": [
  {
   "cell_type": "markdown",
   "metadata": {},
   "source": [
    "### Notebook\n",
    "- Creates boxplots from Fig. S6"
   ]
  },
  {
   "cell_type": "code",
   "execution_count": 1,
   "metadata": {},
   "outputs": [],
   "source": [
    "import pandas as pd\n",
    "import numpy as np\n",
    "import os\n",
    "\n",
    "from scipy.stats import mannwhitneyu\n",
    "\n",
    "import matplotlib.pyplot as plt\n",
    "import seaborn as sns\n",
    "sns.set_style('white')\n",
    "%matplotlib inline\n",
    "\n",
    "import matplotlib as mpl\n",
    "mpl.rcParams['pdf.fonttype'] = 42"
   ]
  },
  {
   "cell_type": "markdown",
   "metadata": {},
   "source": [
    "### 0. Load data"
   ]
  },
  {
   "cell_type": "code",
   "execution_count": 4,
   "metadata": {},
   "outputs": [
    {
     "name": "stdout",
     "output_type": "stream",
     "text": [
      "Loading confidently typed patients\n"
     ]
    }
   ],
   "source": [
    "print('Loading confidently typed patients')\n",
    "confident_patients_I = pd.read_csv('../data/confidently_typed_patients.class_i.csv', index_col=0).index.values\n",
    "confident_patients_II = pd.read_csv('../data/confidently_typed_patients.class_ii.csv', index_col=0).index.values"
   ]
  },
  {
   "cell_type": "code",
   "execution_count": 2,
   "metadata": {},
   "outputs": [
    {
     "name": "stdout",
     "output_type": "stream",
     "text": [
      "Loading affinities\n"
     ]
    }
   ],
   "source": [
    "print('Loading affinities')\n",
    "driver_phbr_affinities_I = pd.read_csv('../data/driver_mut.class_i.affinities.tsv.gz', sep='\\t', index_col=0)\n",
    "driver_phbr_affinities_II = pd.read_csv('../data/driver_mut.class_ii.affinities.tsv.gz', sep='\\t', index_col=0)"
   ]
  },
  {
   "cell_type": "code",
   "execution_count": 5,
   "metadata": {},
   "outputs": [
    {
     "name": "stdout",
     "output_type": "stream",
     "text": [
      "Loading mutations\n"
     ]
    }
   ],
   "source": [
    "print('Loading mutations')\n",
    "binary_mut_df = pd.read_csv('../data/patient_binary_driver.matrix', sep='\\t', index_col=0)\n",
    "\n",
    "mut_patients, mutations = zip(*list(binary_mut_df[binary_mut_df == 1].stack().index))\n",
    "mut_df = pd.DataFrame({'driver_mut': mutations}, index=mut_patients)\n",
    "\n",
    "mut_df_I = mut_df[mut_df.index.isin(confident_patients_I)]\n",
    "mut_df_II = mut_df[mut_df.index.isin(confident_patients_II)]"
   ]
  },
  {
   "cell_type": "markdown",
   "metadata": {},
   "source": [
    "### 1. Prepare data"
   ]
  },
  {
   "cell_type": "code",
   "execution_count": 6,
   "metadata": {},
   "outputs": [
    {
     "name": "stderr",
     "output_type": "stream",
     "text": [
      "/cellar/users/andreabc/miniconda3/lib/python3.6/site-packages/ipykernel_launcher.py:2: SettingWithCopyWarning: \n",
      "A value is trying to be set on a copy of a slice from a DataFrame.\n",
      "Try using .loc[row_indexer,col_indexer] = value instead\n",
      "\n",
      "See the caveats in the documentation: http://pandas.pydata.org/pandas-docs/stable/indexing.html#indexing-view-versus-copy\n",
      "  \n",
      "/cellar/users/andreabc/miniconda3/lib/python3.6/site-packages/ipykernel_launcher.py:15: SettingWithCopyWarning: \n",
      "A value is trying to be set on a copy of a slice from a DataFrame.\n",
      "Try using .loc[row_indexer,col_indexer] = value instead\n",
      "\n",
      "See the caveats in the documentation: http://pandas.pydata.org/pandas-docs/stable/indexing.html#indexing-view-versus-copy\n",
      "  from ipykernel import kernelapp as app\n",
      "/cellar/users/andreabc/miniconda3/lib/python3.6/site-packages/ipykernel_launcher.py:16: SettingWithCopyWarning: \n",
      "A value is trying to be set on a copy of a slice from a DataFrame\n",
      "\n",
      "See the caveats in the documentation: http://pandas.pydata.org/pandas-docs/stable/indexing.html#indexing-view-versus-copy\n",
      "  app.launch_new_instance()\n"
     ]
    },
    {
     "data": {
      "text/plain": [
       "(6499, 6000)"
      ]
     },
     "execution_count": 6,
     "metadata": {},
     "output_type": "execute_result"
    }
   ],
   "source": [
    "# Add PHBR scores \n",
    "mut_df_I['scores'] = [driver_phbr_affinities_I.loc[mut_df_I.index.values[i], mut_df_I['driver_mut'].values[i]] for i in range(len(mut_df_I))]\n",
    "\n",
    "phbr_ii_scores = []\n",
    "\n",
    "for i in range(len(mut_df_II)):\n",
    "    patient = mut_df_II.index.values[i]\n",
    "    mutation = mut_df_II['driver_mut'].values[i]\n",
    "    \n",
    "    if patient in driver_phbr_affinities_II.index:\n",
    "        phbr_ii_scores.append(driver_phbr_affinities_II.loc[patient, mutation])\n",
    "    else:\n",
    "        phbr_ii_scores.append(np.nan)\n",
    "        \n",
    "mut_df_II['scores'] = phbr_ii_scores\n",
    "mut_df_II.dropna(inplace=True)\n",
    "\n",
    "len(mut_df_I), len(mut_df_II)"
   ]
  },
  {
   "cell_type": "code",
   "execution_count": 11,
   "metadata": {},
   "outputs": [
    {
     "name": "stdout",
     "output_type": "stream",
     "text": [
      "Dropped 0 patients - no clinical info\n"
     ]
    },
    {
     "data": {
      "text/html": [
       "<div>\n",
       "<style scoped>\n",
       "    .dataframe tbody tr th:only-of-type {\n",
       "        vertical-align: middle;\n",
       "    }\n",
       "\n",
       "    .dataframe tbody tr th {\n",
       "        vertical-align: top;\n",
       "    }\n",
       "\n",
       "    .dataframe thead th {\n",
       "        text-align: right;\n",
       "    }\n",
       "</style>\n",
       "<table border=\"1\" class=\"dataframe\">\n",
       "  <thead>\n",
       "    <tr style=\"text-align: right;\">\n",
       "      <th></th>\n",
       "      <th>driver_mut</th>\n",
       "      <th>scores</th>\n",
       "      <th>age</th>\n",
       "      <th>sex</th>\n",
       "      <th>disease</th>\n",
       "    </tr>\n",
       "  </thead>\n",
       "  <tbody>\n",
       "    <tr>\n",
       "      <th>TCGA-85-8580</th>\n",
       "      <td>M_TP53_R249S</td>\n",
       "      <td>0.120879</td>\n",
       "      <td>52.0</td>\n",
       "      <td>female</td>\n",
       "      <td>LUSC</td>\n",
       "    </tr>\n",
       "    <tr>\n",
       "      <th>TCGA-A5-A0GV</th>\n",
       "      <td>M_PTEN_R130G</td>\n",
       "      <td>3.524218</td>\n",
       "      <td>67.0</td>\n",
       "      <td>female</td>\n",
       "      <td>UCEC</td>\n",
       "    </tr>\n",
       "  </tbody>\n",
       "</table>\n",
       "</div>"
      ],
      "text/plain": [
       "                driver_mut    scores   age     sex disease\n",
       "TCGA-85-8580  M_TP53_R249S  0.120879  52.0  female    LUSC\n",
       "TCGA-A5-A0GV  M_PTEN_R130G  3.524218  67.0  female    UCEC"
      ]
     },
     "execution_count": 11,
     "metadata": {},
     "output_type": "execute_result"
    }
   ],
   "source": [
    "# Add clinical data\n",
    "tcga_clinical = pd.read_csv('../data/all_clinical_tcga.txt.gz', sep='\\t', index_col='bcr_patient_barcode')\n",
    "tcga_clinical['age_at_initial_pathologic_diagnosis'] = pd.to_numeric(tcga_clinical['age_at_initial_pathologic_diagnosis'], errors='coerce')\n",
    "tcga_clinical.dropna(subset=['age_at_initial_pathologic_diagnosis'], inplace=True)\n",
    "\n",
    "# how many patients have clinical info?\n",
    "before_count = len(set(mut_df_I.index.values))\n",
    "mut_df_I = mut_df_I[mut_df_I.index.isin(tcga_clinical.index)]\n",
    "after_count = len(set(mut_df_I.index.values))\n",
    "print('Dropped {} patients - no clinical info'.format(before_count-after_count))\n",
    "\n",
    "# add sex/age columns \n",
    "mut_df_I['age'] = [tcga_clinical.loc[x,'age_at_initial_pathologic_diagnosis'] for x in mut_df_I.index.values]\n",
    "mut_df_I['sex'] = [tcga_clinical.loc[x,'gender'].lower() for x in mut_df_I.index.values]\n",
    "mut_df_I['disease'] = [tcga_clinical.loc[x,'disease'].split('-')[1] for x in mut_df_I.index.values]\n",
    "mut_df_I.head(2)"
   ]
  },
  {
   "cell_type": "code",
   "execution_count": 12,
   "metadata": {},
   "outputs": [
    {
     "name": "stdout",
     "output_type": "stream",
     "text": [
      "Dropped 0 patients - no clinical info\n"
     ]
    },
    {
     "data": {
      "text/html": [
       "<div>\n",
       "<style scoped>\n",
       "    .dataframe tbody tr th:only-of-type {\n",
       "        vertical-align: middle;\n",
       "    }\n",
       "\n",
       "    .dataframe tbody tr th {\n",
       "        vertical-align: top;\n",
       "    }\n",
       "\n",
       "    .dataframe thead th {\n",
       "        text-align: right;\n",
       "    }\n",
       "</style>\n",
       "<table border=\"1\" class=\"dataframe\">\n",
       "  <thead>\n",
       "    <tr style=\"text-align: right;\">\n",
       "      <th></th>\n",
       "      <th>driver_mut</th>\n",
       "      <th>scores</th>\n",
       "      <th>age</th>\n",
       "      <th>sex</th>\n",
       "      <th>disease</th>\n",
       "    </tr>\n",
       "  </thead>\n",
       "  <tbody>\n",
       "    <tr>\n",
       "      <th>TCGA-A5-A0GV</th>\n",
       "      <td>M_PTEN_R130G</td>\n",
       "      <td>11.085044</td>\n",
       "      <td>67.0</td>\n",
       "      <td>female</td>\n",
       "      <td>UCEC</td>\n",
       "    </tr>\n",
       "    <tr>\n",
       "      <th>TCGA-A5-A0GV</th>\n",
       "      <td>M_CTNNB1_D32N</td>\n",
       "      <td>2.904973</td>\n",
       "      <td>67.0</td>\n",
       "      <td>female</td>\n",
       "      <td>UCEC</td>\n",
       "    </tr>\n",
       "  </tbody>\n",
       "</table>\n",
       "</div>"
      ],
      "text/plain": [
       "                 driver_mut     scores   age     sex disease\n",
       "TCGA-A5-A0GV   M_PTEN_R130G  11.085044  67.0  female    UCEC\n",
       "TCGA-A5-A0GV  M_CTNNB1_D32N   2.904973  67.0  female    UCEC"
      ]
     },
     "execution_count": 12,
     "metadata": {},
     "output_type": "execute_result"
    }
   ],
   "source": [
    "# how many patients have clinical info?\n",
    "before_count = len(set(mut_df_II.index.values))\n",
    "mut_df_II = mut_df_II[mut_df_II.index.isin(tcga_clinical.index)]\n",
    "after_count = len(set(mut_df_II.index.values))\n",
    "print('Dropped {} patients - no clinical info'.format(before_count-after_count))\n",
    "\n",
    "# add sex/age columns \n",
    "mut_df_II['age'] = [tcga_clinical.loc[x,'age_at_initial_pathologic_diagnosis'] for x in mut_df_II.index.values]\n",
    "mut_df_II['sex'] = [tcga_clinical.loc[x,'gender'].lower() for x in mut_df_II.index.values]\n",
    "mut_df_II['disease'] = [tcga_clinical.loc[x,'disease'].split('-')[1] for x in mut_df_II.index.values]\n",
    "mut_df_II.head(2)"
   ]
  },
  {
   "cell_type": "code",
   "execution_count": 16,
   "metadata": {},
   "outputs": [],
   "source": [
    "# add categorical age\n",
    "\n",
    "young_thresh = 52 # 30th percentile: 52\n",
    "old_thresh = 68   # 70th percentile: 68\n",
    "\n",
    "mut_df_I['age_categorical_3070'] = pd.cut(mut_df_I['age'], [0, young_thresh, old_thresh, mut_df_I['age'].max()], labels=['younger', 'middle', 'older'])\n",
    "mut_df_II['age_categorical_3070'] = pd.cut(mut_df_II['age'], [0, young_thresh, old_thresh, mut_df_II['age'].max()], labels=['younger', 'middle', 'older'])"
   ]
  },
  {
   "cell_type": "markdown",
   "metadata": {},
   "source": [
    "##### 1A. Remove sex-specific cancers for sex-analysis"
   ]
  },
  {
   "cell_type": "code",
   "execution_count": 17,
   "metadata": {},
   "outputs": [],
   "source": [
    "sex_specific_diseases = ['UCS', 'PRAD', 'BRCA', 'UCEC', 'CESC', 'TGCT', 'OV']\n",
    "\n",
    "mut_I_rm_sex_specific = mut_df_I[~mut_df_I['disease'].isin(sex_specific_diseases)]\n",
    "mut_II_rm_sex_specific = mut_df_II[~mut_df_II['disease'].isin(sex_specific_diseases)]"
   ]
  },
  {
   "cell_type": "markdown",
   "metadata": {},
   "source": [
    "### 3. Plot"
   ]
  },
  {
   "cell_type": "code",
   "execution_count": 18,
   "metadata": {},
   "outputs": [
    {
     "name": "stdout",
     "output_type": "stream",
     "text": [
      "Saving to ../figures/S6_phbr_boxplots.no_expression_filter.pdf\n"
     ]
    },
    {
     "data": {
      "image/png": "[encoded data removed]",
      "text/plain": [
       "<Figure size 504x216 with 4 Axes>"
      ]
     },
     "metadata": {
      "needs_background": "light"
     },
     "output_type": "display_data"
    }
   ],
   "source": [
    "plt.figure(figsize=(7,3))\n",
    "\n",
    "###########################\n",
    "# A. Pancancer sex PHBR-I #\n",
    "###########################\n",
    "plt.subplot(1,4,1)\n",
    "\n",
    "p = mannwhitneyu(mut_I_rm_sex_specific[mut_I_rm_sex_specific['sex']=='female'].scores.values, mut_I_rm_sex_specific[mut_I_rm_sex_specific['sex']=='male'].scores.values).pvalue\n",
    "ax = sns.boxplot(x='sex', y='scores', data=mut_I_rm_sex_specific, order=['female', 'male'], palette=['lightpink', 'lightblue'])\n",
    "\n",
    "plt.xlabel('p<{:.3}'.format(p)), plt.ylabel('Pancancer PHBR-I')\n",
    "plt.xticks([0,1], ['Female\\n({})'.format(len(set(mut_I_rm_sex_specific[mut_I_rm_sex_specific['sex']=='female'].index))), \n",
    "                   'Male\\n({})'.format(len(set(mut_I_rm_sex_specific[mut_I_rm_sex_specific['sex']=='male'].index)))])\n",
    "plt.ylim(-0.1,20.1)\n",
    "ax.tick_params(axis='y', pad=0)\n",
    "\n",
    "plt.text(-0.3, 1.1, 'A', transform=ax.transAxes, fontsize=16,  weight='bold')\n",
    "\n",
    "############################\n",
    "# B. Pancancer sex PHBR-II #\n",
    "############################\n",
    "plt.subplot(1,4,2)\n",
    "\n",
    "p = mannwhitneyu(mut_II_rm_sex_specific[mut_II_rm_sex_specific['sex']=='female'].scores.values, mut_II_rm_sex_specific[mut_II_rm_sex_specific['sex']=='male'].scores.values).pvalue\n",
    "ax = sns.boxplot(x='sex', y='scores', data=mut_II_rm_sex_specific, order=['female', 'male'], palette=['lightpink', 'lightblue'])\n",
    "\n",
    "plt.xlabel('p<{:.3}'.format(p)), plt.ylabel('Pancancer PHBR-II')\n",
    "plt.xticks([0,1], ['Female\\n({})'.format(len(set(mut_II_rm_sex_specific[mut_II_rm_sex_specific['sex']=='female'].index))), \n",
    "                   'Male\\n({})'.format(len(set(mut_II_rm_sex_specific[mut_II_rm_sex_specific['sex']=='male'].index)))])\n",
    "plt.ylim(-0.1,100.1)\n",
    "ax.tick_params(axis='y', pad=0)\n",
    "\n",
    "plt.text(-0.3, 1.1, 'B', transform=ax.transAxes, fontsize=16,  weight='bold')\n",
    "\n",
    "###########################\n",
    "# C. Pancancer age PHBR-I #\n",
    "###########################\n",
    "plt.subplot(1,4,3)\n",
    "\n",
    "p = mannwhitneyu(mut_df_I[mut_df_I['age_categorical_3070']=='younger'].scores.values, mut_df_I[mut_df_I['age_categorical_3070']=='older'].scores.values).pvalue\n",
    "ax = sns.boxplot(x='age_categorical_3070', y='scores', data=mut_df_I, order=['younger', 'older'], palette=['lightgrey', 'darkgrey'])\n",
    "\n",
    "plt.xlabel('p<{:.3}'.format(p)), plt.ylabel('Pancancer PHBR-I')\n",
    "plt.xticks([0,1], ['Younger\\n({})'.format(len(set(mut_df_I[mut_df_I['age_categorical_3070']=='younger'].index))), \n",
    "                   'Older\\n({})'.format(len(set(mut_df_I[mut_df_I['age_categorical_3070']=='older'].index)))])\n",
    "plt.ylim(-0.1,20.1)\n",
    "ax.tick_params(axis='y', pad=0)\n",
    "\n",
    "plt.text(-0.3, 1.1, 'C', transform=ax.transAxes, fontsize=16,  weight='bold')\n",
    "\n",
    "############################\n",
    "# D. Pancancer age PHBR-II #\n",
    "############################\n",
    "plt.subplot(1,4,4)\n",
    "\n",
    "p = mannwhitneyu(mut_df_II[mut_df_II['age_categorical_3070']=='younger'].scores.values, mut_df_II[mut_df_II['age_categorical_3070']=='older'].scores.values).pvalue\n",
    "ax = sns.boxplot(x='age_categorical_3070', y='scores', data=mut_df_II, order=['younger', 'older'], palette=['lightgrey', 'darkgrey'])\n",
    "\n",
    "plt.xlabel('p<{:.3}'.format(p)), plt.ylabel('Pancancer PHBR-II')\n",
    "plt.xticks([0,1], ['Younger\\n({})'.format(len(set(mut_df_II[mut_df_II['age_categorical_3070']=='younger'].index))), \n",
    "                   'Older\\n({})'.format(len(set(mut_df_II[mut_df_II['age_categorical_3070']=='older'].index)))])\n",
    "plt.ylim(-0.1,100.1)\n",
    "ax.tick_params(axis='y', pad=0)\n",
    "\n",
    "plt.text(-0.3, 1.1, 'D', transform=ax.transAxes, fontsize=16,  weight='bold')\n",
    "\n",
    "# Save\n",
    "plt.tight_layout()\n",
    "\n",
    "savepath = '../figures/S6_phbr_boxplots.no_expression_filter.pdf'\n",
    "print('Saving to {}'.format(savepath))\n",
    "plt.savefig(savepath, bbox_inches='tight')\n",
    "plt.show()"
   ]
  },
  {
   "cell_type": "code",
   "execution_count": null,
   "metadata": {},
   "outputs": [],
   "source": []
  }
 ],
 "metadata": {
  "kernelspec": {
   "display_name": "Python 3",
   "language": "python",
   "name": "python3"
  },
  "language_info": {
   "codemirror_mode": {
    "name": "ipython",
    "version": 3
   },
   "file_extension": ".py",
   "mimetype": "text/x-python",
   "name": "python",
   "nbconvert_exporter": "python",
   "pygments_lexer": "ipython3",
   "version": "3.6.8"
  }
 },
 "nbformat": 4,
 "nbformat_minor": 2
}
