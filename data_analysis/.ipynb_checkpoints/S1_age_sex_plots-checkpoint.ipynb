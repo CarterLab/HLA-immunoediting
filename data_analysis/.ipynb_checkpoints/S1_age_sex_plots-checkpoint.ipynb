{
 "cells": [
  {
   "cell_type": "markdown",
   "metadata": {},
   "source": [
    "### Notebook\n",
    "- Creates Figure S1: Overview of pan-cancer cohort (sex/age)"
   ]
  },
  {
   "cell_type": "code",
   "execution_count": 1,
   "metadata": {},
   "outputs": [],
   "source": [
    "import pandas as pd\n",
    "import numpy as np\n",
    "import os\n",
    "\n",
    "from scipy.stats import mannwhitneyu\n",
    "\n",
    "import matplotlib.pyplot as plt\n",
    "from matplotlib import gridspec \n",
    "import seaborn as sns\n",
    "sns.set_style('white')\n",
    "%matplotlib inline"
   ]
  },
  {
   "cell_type": "markdown",
   "metadata": {},
   "source": [
    "### 0. Global variables"
   ]
  },
  {
   "cell_type": "code",
   "execution_count": 2,
   "metadata": {},
   "outputs": [],
   "source": [
    "MSS = 'MSS_only' \n",
    "mss_patients = np.loadtxt('../data/mss_tcga_patients.txt', dtype=str)"
   ]
  },
  {
   "cell_type": "markdown",
   "metadata": {},
   "source": [
    "### 1. Load patients"
   ]
  },
  {
   "cell_type": "code",
   "execution_count": 3,
   "metadata": {},
   "outputs": [
    {
     "name": "stdout",
     "output_type": "stream",
     "text": [
      "Loading confident MSS_only patients with removed sex-specific cancers \n",
      "2554 confident MHC-I, 2681 confident MHC-II\n"
     ]
    },
    {
     "data": {
      "text/html": [
       "<div>\n",
       "<style scoped>\n",
       "    .dataframe tbody tr th:only-of-type {\n",
       "        vertical-align: middle;\n",
       "    }\n",
       "\n",
       "    .dataframe tbody tr th {\n",
       "        vertical-align: top;\n",
       "    }\n",
       "\n",
       "    .dataframe thead th {\n",
       "        text-align: right;\n",
       "    }\n",
       "</style>\n",
       "<table border=\"1\" class=\"dataframe\">\n",
       "  <thead>\n",
       "    <tr style=\"text-align: right;\">\n",
       "      <th></th>\n",
       "      <th>scores</th>\n",
       "      <th>disease</th>\n",
       "      <th>age</th>\n",
       "      <th>sex</th>\n",
       "    </tr>\n",
       "  </thead>\n",
       "  <tbody>\n",
       "    <tr>\n",
       "      <th>TCGA-85-8580</th>\n",
       "      <td>0.120879</td>\n",
       "      <td>LUSC</td>\n",
       "      <td>52.0</td>\n",
       "      <td>female</td>\n",
       "    </tr>\n",
       "    <tr>\n",
       "      <th>TCGA-IB-AAUM</th>\n",
       "      <td>1.249676</td>\n",
       "      <td>PAAD</td>\n",
       "      <td>76.0</td>\n",
       "      <td>male</td>\n",
       "    </tr>\n",
       "  </tbody>\n",
       "</table>\n",
       "</div>"
      ],
      "text/plain": [
       "                scores disease   age     sex\n",
       "TCGA-85-8580  0.120879    LUSC  52.0  female\n",
       "TCGA-IB-AAUM  1.249676    PAAD  76.0    male"
      ]
     },
     "execution_count": 3,
     "metadata": {},
     "output_type": "execute_result"
    }
   ],
   "source": [
    "# Remove sex-specific cancers for sex-specific analyses\n",
    "print('Loading confident {} patients with removed sex-specific cancers '.format(MSS))\n",
    "confident_patients_I_rm_sex_specific = pd.read_csv('../generated_data/confident_patient_I.age_sex_disease.{}.remove_sex_specific.tsv'.format(MSS), sep='\\t', index_col=0)\n",
    "confident_patients_II_rm_sex_specific = pd.read_csv('../generated_data/confident_patient_II.age_sex_disease.{}.remove_sex_specific.tsv'.format(MSS), sep='\\t', index_col=0)\n",
    "\n",
    "print('{} confident MHC-I, {} confident MHC-II'.format(len(set(confident_patients_I_rm_sex_specific.index)), \n",
    "                                                       len(set(confident_patients_II_rm_sex_specific.index))))\n",
    "confident_patients_I_rm_sex_specific.head(2)"
   ]
  },
  {
   "cell_type": "code",
   "execution_count": 6,
   "metadata": {},
   "outputs": [
    {
     "name": "stdout",
     "output_type": "stream",
     "text": [
      "Loading confident MSS_only patients with kept sex-specific cancers\n",
      "3166 confident MHC-I, 3036 confident MHC-II\n"
     ]
    },
    {
     "data": {
      "text/html": [
       "<div>\n",
       "<style scoped>\n",
       "    .dataframe tbody tr th:only-of-type {\n",
       "        vertical-align: middle;\n",
       "    }\n",
       "\n",
       "    .dataframe tbody tr th {\n",
       "        vertical-align: top;\n",
       "    }\n",
       "\n",
       "    .dataframe thead th {\n",
       "        text-align: right;\n",
       "    }\n",
       "</style>\n",
       "<table border=\"1\" class=\"dataframe\">\n",
       "  <thead>\n",
       "    <tr style=\"text-align: right;\">\n",
       "      <th></th>\n",
       "      <th>scores</th>\n",
       "      <th>disease</th>\n",
       "      <th>age</th>\n",
       "      <th>sex</th>\n",
       "    </tr>\n",
       "  </thead>\n",
       "  <tbody>\n",
       "    <tr>\n",
       "      <th>TCGA-85-8580</th>\n",
       "      <td>0.120879</td>\n",
       "      <td>LUSC</td>\n",
       "      <td>52.0</td>\n",
       "      <td>female</td>\n",
       "    </tr>\n",
       "    <tr>\n",
       "      <th>TCGA-A5-A0GV</th>\n",
       "      <td>3.524218</td>\n",
       "      <td>UCEC</td>\n",
       "      <td>67.0</td>\n",
       "      <td>female</td>\n",
       "    </tr>\n",
       "  </tbody>\n",
       "</table>\n",
       "</div>"
      ],
      "text/plain": [
       "                scores disease   age     sex\n",
       "TCGA-85-8580  0.120879    LUSC  52.0  female\n",
       "TCGA-A5-A0GV  3.524218    UCEC  67.0  female"
      ]
     },
     "execution_count": 6,
     "metadata": {},
     "output_type": "execute_result"
    }
   ],
   "source": [
    "# Keep sex-specific cancers for age-specific analyses\n",
    "print('Loading confident {} patients with kept sex-specific cancers'.format(MSS))\n",
    "confident_patients_I_kept_sex_specific = pd.read_csv('../generated_data/confident_patient_I.age_sex_disease.{}.kept_sex_specific.tsv'.format(MSS), sep='\\t', index_col=0)\n",
    "confident_patients_II_kept_sex_specific = pd.read_csv('../generated_data/confident_patient_II.age_sex_disease.{}.kept_sex_specific.tsv'.format(MSS), sep='\\t', index_col=0)\n",
    "\n",
    "print('{} confident MHC-I, {} confident MHC-II'.format(len(set(confident_patients_I_kept_sex_specific.index)), \n",
    "                                                       len(set(confident_patients_II_kept_sex_specific.index))))\n",
    "confident_patients_I_kept_sex_specific.head(2)"
   ]
  },
  {
   "cell_type": "markdown",
   "metadata": {},
   "source": [
    "### 2. Plot Figure S1"
   ]
  },
  {
   "cell_type": "markdown",
   "metadata": {},
   "source": [
    "##### 2A. Aggregate patients\n",
    "- Get all unique patients from confidently typed patients with MHC-I and MHC-II"
   ]
  },
  {
   "cell_type": "code",
   "execution_count": 7,
   "metadata": {},
   "outputs": [
    {
     "data": {
      "text/html": [
       "<div>\n",
       "<style scoped>\n",
       "    .dataframe tbody tr th:only-of-type {\n",
       "        vertical-align: middle;\n",
       "    }\n",
       "\n",
       "    .dataframe tbody tr th {\n",
       "        vertical-align: top;\n",
       "    }\n",
       "\n",
       "    .dataframe thead th {\n",
       "        text-align: right;\n",
       "    }\n",
       "</style>\n",
       "<table border=\"1\" class=\"dataframe\">\n",
       "  <thead>\n",
       "    <tr style=\"text-align: right;\">\n",
       "      <th></th>\n",
       "      <th>index</th>\n",
       "      <th>scores</th>\n",
       "      <th>disease</th>\n",
       "      <th>age</th>\n",
       "      <th>sex</th>\n",
       "    </tr>\n",
       "  </thead>\n",
       "  <tbody>\n",
       "    <tr>\n",
       "      <th>0</th>\n",
       "      <td>TCGA-85-8580</td>\n",
       "      <td>0.120879</td>\n",
       "      <td>LUSC</td>\n",
       "      <td>52.0</td>\n",
       "      <td>female</td>\n",
       "    </tr>\n",
       "    <tr>\n",
       "      <th>1</th>\n",
       "      <td>TCGA-IB-AAUM</td>\n",
       "      <td>1.249676</td>\n",
       "      <td>PAAD</td>\n",
       "      <td>76.0</td>\n",
       "      <td>male</td>\n",
       "    </tr>\n",
       "  </tbody>\n",
       "</table>\n",
       "</div>"
      ],
      "text/plain": [
       "          index    scores disease   age     sex\n",
       "0  TCGA-85-8580  0.120879    LUSC  52.0  female\n",
       "1  TCGA-IB-AAUM  1.249676    PAAD  76.0    male"
      ]
     },
     "execution_count": 7,
     "metadata": {},
     "output_type": "execute_result"
    }
   ],
   "source": [
    "# Pool patients with removed sex-specific cancers \n",
    "total_rm_sex_specific_df = confident_patients_I_rm_sex_specific.copy()\n",
    "total_rm_sex_specific_df = total_rm_sex_specific_df.append(confident_patients_II_rm_sex_specific)\n",
    "total_rm_sex_specific_df.reset_index(inplace=True)\n",
    "total_rm_sex_specific_df.drop_duplicates(subset=['index'], inplace=True)\n",
    "\n",
    "total_rm_sex_specific_df.head(2)"
   ]
  },
  {
   "cell_type": "code",
   "execution_count": 8,
   "metadata": {},
   "outputs": [
    {
     "data": {
      "text/html": [
       "<div>\n",
       "<style scoped>\n",
       "    .dataframe tbody tr th:only-of-type {\n",
       "        vertical-align: middle;\n",
       "    }\n",
       "\n",
       "    .dataframe tbody tr th {\n",
       "        vertical-align: top;\n",
       "    }\n",
       "\n",
       "    .dataframe thead th {\n",
       "        text-align: right;\n",
       "    }\n",
       "</style>\n",
       "<table border=\"1\" class=\"dataframe\">\n",
       "  <thead>\n",
       "    <tr style=\"text-align: right;\">\n",
       "      <th></th>\n",
       "      <th>index</th>\n",
       "      <th>scores</th>\n",
       "      <th>disease</th>\n",
       "      <th>age</th>\n",
       "      <th>sex</th>\n",
       "    </tr>\n",
       "  </thead>\n",
       "  <tbody>\n",
       "    <tr>\n",
       "      <th>0</th>\n",
       "      <td>TCGA-85-8580</td>\n",
       "      <td>0.120879</td>\n",
       "      <td>LUSC</td>\n",
       "      <td>52.0</td>\n",
       "      <td>female</td>\n",
       "    </tr>\n",
       "    <tr>\n",
       "      <th>1</th>\n",
       "      <td>TCGA-A5-A0GV</td>\n",
       "      <td>3.524218</td>\n",
       "      <td>UCEC</td>\n",
       "      <td>67.0</td>\n",
       "      <td>female</td>\n",
       "    </tr>\n",
       "  </tbody>\n",
       "</table>\n",
       "</div>"
      ],
      "text/plain": [
       "          index    scores disease   age     sex\n",
       "0  TCGA-85-8580  0.120879    LUSC  52.0  female\n",
       "1  TCGA-A5-A0GV  3.524218    UCEC  67.0  female"
      ]
     },
     "execution_count": 8,
     "metadata": {},
     "output_type": "execute_result"
    }
   ],
   "source": [
    "# removed sex-specific (sex analysis)\n",
    "total_kept_sex_specific_df = confident_patients_I_kept_sex_specific.copy()\n",
    "total_kept_sex_specific_df = total_kept_sex_specific_df.append(confident_patients_II_kept_sex_specific)\n",
    "total_kept_sex_specific_df.reset_index(inplace=True)\n",
    "total_kept_sex_specific_df.drop_duplicates(subset=['index'], inplace=True)\n",
    "\n",
    "total_kept_sex_specific_df.head(2)"
   ]
  },
  {
   "cell_type": "code",
   "execution_count": 15,
   "metadata": {},
   "outputs": [
    {
     "name": "stdout",
     "output_type": "stream",
     "text": [
      "Saving to /cellar/users/andreabc/Data/hla_sex/figures/supplementary/S1.sex_age_counts.MSS_only.pdf\n"
     ]
    },
    {
     "data": {
      "image/png": "[encoded data removed]",
      "text/plain": [
       "<Figure size 360x360 with 2 Axes>"
      ]
     },
     "metadata": {
      "needs_background": "light"
     },
     "output_type": "display_data"
    }
   ],
   "source": [
    "plt.figure(figsize=(5,5))\n",
    "gs = gridspec.GridSpec(2, 2, width_ratios=[1.2, 3]) \n",
    "\n",
    "# A - pancancer sex counts\n",
    "plt.subplot(gs[0])\n",
    "data = pd.DataFrame(total_rm_sex_specific_df['sex'].value_counts()).T\n",
    "ax = sns.barplot(data=data, order=['female', 'male'], palette=['pink', 'lightblue'])\n",
    "plt.xlabel('Sex'), plt.ylabel('Number of non-sex-specific\\npan-cancer patients')\n",
    "plt.xticks([0,1], ['Female', 'Male'])\n",
    "plt.text(-0.8, 1.1, 'A', transform=ax.transAxes, fontsize=16,  weight='bold')\n",
    "\n",
    "# B - pancancer age distribution\n",
    "fig = plt.subplot(gs[1])\n",
    "plt.hist(x=total_kept_sex_specific_df['age'].values, bins=10, color='grey')\n",
    "plt.xlabel('Age')\n",
    "plt.ylabel('Number of\\npan-cancer patients')\n",
    "plt.yticks(range(0,801,200))\n",
    "plt.text(-0.3, 1.1, 'B', transform=fig.transAxes, fontsize=16,  weight='bold')\n",
    "\n",
    "plt.tight_layout(pad=0.6, h_pad=1)\n",
    "\n",
    "savepath = '/cellar/users/andreabc/Data/hla_sex/figures/supplementary/S1.sex_age_counts.{}.pdf'.format(MSS)\n",
    "print('Saving to {}'.format(savepath))\n",
    "plt.savefig(savepath, bbox_inches='tight')\n",
    "plt.show()"
   ]
  },
  {
   "cell_type": "code",
   "execution_count": null,
   "metadata": {},
   "outputs": [],
   "source": []
  }
 ],
 "metadata": {
  "kernelspec": {
   "display_name": "Python 3",
   "language": "python",
   "name": "python3"
  },
  "language_info": {
   "codemirror_mode": {
    "name": "ipython",
    "version": 3
   },
   "file_extension": ".py",
   "mimetype": "text/x-python",
   "name": "python",
   "nbconvert_exporter": "python",
   "pygments_lexer": "ipython3",
   "version": "3.6.8"
  }
 },
 "nbformat": 4,
 "nbformat_minor": 2
}
