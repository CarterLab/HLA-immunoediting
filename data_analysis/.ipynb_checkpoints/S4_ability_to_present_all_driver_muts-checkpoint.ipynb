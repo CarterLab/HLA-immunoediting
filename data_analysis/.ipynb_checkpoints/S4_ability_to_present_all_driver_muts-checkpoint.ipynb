{
 "cells": [
  {
   "cell_type": "markdown",
   "metadata": {},
   "source": [
    "### Notebook\n",
    "- Creates Figure S4: Sex- and age-specific MHC presentation of common driver mutations"
   ]
  },
  {
   "cell_type": "code",
   "execution_count": 11,
   "metadata": {},
   "outputs": [],
   "source": [
    "import pandas as pd\n",
    "import numpy as np\n",
    "from scipy.stats import mannwhitneyu, ks_2samp\n",
    "\n",
    "import matplotlib.pyplot as plt\n",
    "from matplotlib import gridspec \n",
    "import seaborn as sns\n",
    "sns.set_style('white')\n",
    "%matplotlib inline"
   ]
  },
  {
   "cell_type": "markdown",
   "metadata": {},
   "source": [
    "### 0. Global variables"
   ]
  },
  {
   "cell_type": "code",
   "execution_count": 3,
   "metadata": {},
   "outputs": [],
   "source": [
    "MSS = 'MSS_only' # MSS_only, MSS_and_MSI\n",
    "\n",
    "mss_patients = np.loadtxt('../data/mss_tcga_patients.txt', dtype=str)"
   ]
  },
  {
   "cell_type": "markdown",
   "metadata": {},
   "source": [
    "### Load patients"
   ]
  },
  {
   "cell_type": "code",
   "execution_count": 4,
   "metadata": {},
   "outputs": [
    {
     "name": "stdout",
     "output_type": "stream",
     "text": [
      "Loading confident MSS_only patients with removed sex-specific cancers \n",
      "2554 confident MHC-I, 2681 confident MHC-II\n"
     ]
    },
    {
     "data": {
      "text/html": [
       "<div>\n",
       "<style scoped>\n",
       "    .dataframe tbody tr th:only-of-type {\n",
       "        vertical-align: middle;\n",
       "    }\n",
       "\n",
       "    .dataframe tbody tr th {\n",
       "        vertical-align: top;\n",
       "    }\n",
       "\n",
       "    .dataframe thead th {\n",
       "        text-align: right;\n",
       "    }\n",
       "</style>\n",
       "<table border=\"1\" class=\"dataframe\">\n",
       "  <thead>\n",
       "    <tr style=\"text-align: right;\">\n",
       "      <th></th>\n",
       "      <th>scores</th>\n",
       "      <th>disease</th>\n",
       "      <th>age</th>\n",
       "      <th>sex</th>\n",
       "    </tr>\n",
       "  </thead>\n",
       "  <tbody>\n",
       "    <tr>\n",
       "      <th>TCGA-85-8580</th>\n",
       "      <td>0.120879</td>\n",
       "      <td>LUSC</td>\n",
       "      <td>52.0</td>\n",
       "      <td>female</td>\n",
       "    </tr>\n",
       "    <tr>\n",
       "      <th>TCGA-IB-AAUM</th>\n",
       "      <td>1.249676</td>\n",
       "      <td>PAAD</td>\n",
       "      <td>76.0</td>\n",
       "      <td>male</td>\n",
       "    </tr>\n",
       "  </tbody>\n",
       "</table>\n",
       "</div>"
      ],
      "text/plain": [
       "                scores disease   age     sex\n",
       "TCGA-85-8580  0.120879    LUSC  52.0  female\n",
       "TCGA-IB-AAUM  1.249676    PAAD  76.0    male"
      ]
     },
     "execution_count": 4,
     "metadata": {},
     "output_type": "execute_result"
    }
   ],
   "source": [
    "# Remove sex-specific cancers for sex-specific analyses\n",
    "print('Loading confident {} patients with removed sex-specific cancers '.format(MSS))\n",
    "confident_patients_I_rm_sex_specific = pd.read_csv('../generated_data/confident_patient_I.age_sex_disease.{}.remove_sex_specific.tsv'.format(MSS), sep='\\t', index_col=0)\n",
    "confident_patients_II_rm_sex_specific = pd.read_csv('../generated_data/confident_patient_II.age_sex_disease.{}.remove_sex_specific.tsv'.format(MSS), sep='\\t', index_col=0)\n",
    "\n",
    "print('{} confident MHC-I, {} confident MHC-II'.format(len(set(confident_patients_I_rm_sex_specific.index)), \n",
    "                                                       len(set(confident_patients_II_rm_sex_specific.index))))\n",
    "confident_patients_I_rm_sex_specific.head(2)"
   ]
  },
  {
   "cell_type": "code",
   "execution_count": 5,
   "metadata": {},
   "outputs": [
    {
     "name": "stdout",
     "output_type": "stream",
     "text": [
      "Loading confident MSS_only patients with kept sex-specific cancers\n",
      "1881 confident MHC-I, 1834 confident MHC-II\n"
     ]
    },
    {
     "data": {
      "text/html": [
       "<div>\n",
       "<style scoped>\n",
       "    .dataframe tbody tr th:only-of-type {\n",
       "        vertical-align: middle;\n",
       "    }\n",
       "\n",
       "    .dataframe tbody tr th {\n",
       "        vertical-align: top;\n",
       "    }\n",
       "\n",
       "    .dataframe thead th {\n",
       "        text-align: right;\n",
       "    }\n",
       "</style>\n",
       "<table border=\"1\" class=\"dataframe\">\n",
       "  <thead>\n",
       "    <tr style=\"text-align: right;\">\n",
       "      <th></th>\n",
       "      <th>scores</th>\n",
       "      <th>disease</th>\n",
       "      <th>age</th>\n",
       "      <th>sex</th>\n",
       "      <th>age_categorical_3070</th>\n",
       "    </tr>\n",
       "  </thead>\n",
       "  <tbody>\n",
       "    <tr>\n",
       "      <th>TCGA-85-8580</th>\n",
       "      <td>0.120879</td>\n",
       "      <td>LUSC</td>\n",
       "      <td>52.0</td>\n",
       "      <td>female</td>\n",
       "      <td>younger</td>\n",
       "    </tr>\n",
       "    <tr>\n",
       "      <th>TCGA-IB-AAUM</th>\n",
       "      <td>1.249676</td>\n",
       "      <td>PAAD</td>\n",
       "      <td>76.0</td>\n",
       "      <td>male</td>\n",
       "      <td>older</td>\n",
       "    </tr>\n",
       "  </tbody>\n",
       "</table>\n",
       "</div>"
      ],
      "text/plain": [
       "                scores disease   age     sex age_categorical_3070\n",
       "TCGA-85-8580  0.120879    LUSC  52.0  female              younger\n",
       "TCGA-IB-AAUM  1.249676    PAAD  76.0    male                older"
      ]
     },
     "execution_count": 5,
     "metadata": {},
     "output_type": "execute_result"
    }
   ],
   "source": [
    "# Keep sex-specific cancers for age-specific analyses\n",
    "print('Loading confident {} patients with kept sex-specific cancers'.format(MSS))\n",
    "confident_patients_I_kept_sex_specific = pd.read_csv('../generated_data/confident_patient_I.age_sex_disease.{}.kept_sex_specific.tsv'.format(MSS), sep='\\t', index_col=0)\n",
    "confident_patients_II_kept_sex_specific = pd.read_csv('../generated_data/confident_patient_II.age_sex_disease.{}.kept_sex_specific.tsv'.format(MSS), sep='\\t', index_col=0)\n",
    "\n",
    "# set age threshold\n",
    "young_thresh = 52 # 30th percentile: 52, 40th: 57\n",
    "old_thresh = 68   # 70th percentile: 68, 60th: 65\n",
    "\n",
    "# categorize age\n",
    "confident_patients_I_kept_sex_specific['age_categorical_3070'] = pd.cut(confident_patients_I_kept_sex_specific['age'], [0, young_thresh, old_thresh, confident_patients_I_kept_sex_specific['age'].max()], labels=['younger', 'middle', 'older'])\n",
    "confident_patients_II_kept_sex_specific['age_categorical_3070'] = pd.cut(confident_patients_II_kept_sex_specific['age'], [0, young_thresh, old_thresh, confident_patients_II_kept_sex_specific['age'].max()], labels=['younger', 'middle', 'older'])\n",
    "\n",
    "confident_patients_I_kept_sex_specific = confident_patients_I_kept_sex_specific[confident_patients_I_kept_sex_specific['age_categorical_3070']!='middle']\n",
    "confident_patients_II_kept_sex_specific = confident_patients_II_kept_sex_specific[confident_patients_II_kept_sex_specific['age_categorical_3070']!='middle']\n",
    "\n",
    "print('{} confident MHC-I, {} confident MHC-II'.format(len(set(confident_patients_I_kept_sex_specific.index)), \n",
    "                                                       len(set(confident_patients_II_kept_sex_specific.index))))\n",
    "confident_patients_I_kept_sex_specific.head(2)"
   ]
  },
  {
   "cell_type": "markdown",
   "metadata": {},
   "source": [
    "### 1. Load data"
   ]
  },
  {
   "cell_type": "markdown",
   "metadata": {},
   "source": [
    "##### 1A. Load driver mutation affinity data"
   ]
  },
  {
   "cell_type": "code",
   "execution_count": 7,
   "metadata": {},
   "outputs": [],
   "source": [
    "# sex analysis\n",
    "affinity_I_sex_df = pd.read_csv('../data/driver_mut.class_i.affinities.tsv.gz', sep='\\t', index_col=0)\n",
    "affinity_I_sex_df = affinity_I_sex_df[affinity_I_sex_df.index.isin(confident_patients_I_rm_sex_specific.index)]\n",
    "\n",
    "affinity_II_sex_df = pd.read_csv('../data/driver_mut.class_ii.affinities.tsv.gz', sep='\\t', index_col=0)\n",
    "affinity_II_sex_df = affinity_II_sex_df[affinity_II_sex_df.index.isin(confident_patients_II_rm_sex_specific.index)]"
   ]
  },
  {
   "cell_type": "code",
   "execution_count": 8,
   "metadata": {},
   "outputs": [],
   "source": [
    "# age analysis\n",
    "affinity_I_age_df = pd.read_csv('../data/driver_mut.class_i.affinities.tsv.gz', sep='\\t', index_col=0)\n",
    "affinity_I_age_df = affinity_I_age_df[affinity_I_age_df.index.isin(confident_patients_I_kept_sex_specific.index)]\n",
    "\n",
    "affinity_II_age_df = pd.read_csv('../data/driver_mut.class_ii.affinities.tsv.gz', sep='\\t', index_col=0)\n",
    "affinity_II_age_df = affinity_II_age_df[affinity_II_age_df.index.isin(confident_patients_II_kept_sex_specific.index)]"
   ]
  },
  {
   "cell_type": "code",
   "execution_count": 7,
   "metadata": {},
   "outputs": [],
   "source": [
    "# # save patients\n",
    "# np.savetxt('/cellar/users/andreabc/Data/hla_sex/clean_data/mhcI.sex.patients.txt', list(set(affinity_I_sex_df.index.values)), delimiter='\\n', fmt='%s')\n",
    "# np.savetxt('/cellar/users/andreabc/Data/hla_sex/clean_data/mhcII.sex.patients.txt', list(set(affinity_II_sex_df.index.values)), delimiter='\\n', fmt='%s')\n",
    "# np.savetxt('/cellar/users/andreabc/Data/hla_sex/clean_data/mhcI.age.patients.txt', list(set(affinity_I_age_df.index.values)), delimiter='\\n', fmt='%s')\n",
    "# np.savetxt('/cellar/users/andreabc/Data/hla_sex/clean_data/mhcII.age.patients.txt', list(set(affinity_II_age_df.index.values)), delimiter='\\n', fmt='%s')"
   ]
  },
  {
   "cell_type": "markdown",
   "metadata": {},
   "source": [
    "### 2. Plot Figure S4 A-D"
   ]
  },
  {
   "cell_type": "code",
   "execution_count": 10,
   "metadata": {},
   "outputs": [
    {
     "name": "stdout",
     "output_type": "stream",
     "text": [
      "Saving to ../figures/S4.sex_age_PHBR.MSS_only.A-D.pdf\n"
     ]
    },
    {
     "data": {
      "image/png": "[encoded data removed]",
      "text/plain": [
       "<Figure size 504x216 with 4 Axes>"
      ]
     },
     "metadata": {
      "needs_background": "light"
     },
     "output_type": "display_data"
    }
   ],
   "source": [
    "plt.figure(figsize=(7,3))\n",
    "\n",
    "################################\n",
    "# A. - All PHBR-I scores - Sex #\n",
    "################################\n",
    "plt.subplot(1,4,1)\n",
    "\n",
    "data = affinity_I_sex_df.join(confident_patients_I_rm_sex_specific[['sex']]).reset_index()\n",
    "data = pd.melt(data, id_vars=['sex', 'index']).drop_duplicates()\n",
    "\n",
    "p = mannwhitneyu(data[data['sex']=='female'].index.values, data[data['sex']=='male'].index.values).pvalue\n",
    "ax = sns.violinplot(x='sex', y='value', data=data, order=['female', 'male'], palette=['pink', 'lightblue'])\n",
    "\n",
    "plt.xlabel('p<{:.3}'.format(p)), plt.ylabel('Pan-cancer PHBR-I')\n",
    "plt.xticks([0,1], ['Female', 'Male'])#, fontsize='small')\n",
    "plt.ylim(ymin=-0.5, ymax=14.5)\n",
    "\n",
    "plt.text(-0.3, 1.1, 'A', transform=ax.transAxes, fontsize=16, weight='bold')\n",
    "\n",
    "\n",
    "#################################\n",
    "# B. - All PHBR-II scores - Sex #\n",
    "#################################\n",
    "plt.subplot(1,4,2)\n",
    "\n",
    "data = affinity_II_sex_df.join(confident_patients_II_rm_sex_specific[['sex']]).reset_index()\n",
    "data = pd.melt(data, id_vars=['sex', 'index']).drop_duplicates()\n",
    "\n",
    "p = mannwhitneyu(data[data['sex']=='female'].index.values, data[data['sex']=='male'].index.values).pvalue\n",
    "ax = sns.violinplot(x='sex', y='value', data=data, order=['female', 'male'], palette=['pink', 'lightblue'])\n",
    "\n",
    "plt.xlabel('p<{:.3}'.format(p)), plt.ylabel('Pan-cancer PHBR-II')\n",
    "plt.xticks([0,1], ['Female', 'Male'], fontsize='small')\n",
    "plt.ylim(ymin=-2.7,ymax=81)\n",
    "\n",
    "plt.text(-0.3, 1.1, 'B', transform=ax.transAxes, fontsize=16,  weight='bold')\n",
    "\n",
    "################################\n",
    "# C. - All PHBR-I scores - Age #\n",
    "################################\n",
    "plt.subplot(1,4,3)\n",
    "\n",
    "data = affinity_I_age_df.join(confident_patients_I_kept_sex_specific[['age_categorical_3070']]).reset_index()\n",
    "data = pd.melt(data, id_vars=['age_categorical_3070', 'index']).drop_duplicates()\n",
    "\n",
    "p = mannwhitneyu(data[data['age_categorical_3070']=='younger'].index.values, data[data['age_categorical_3070']=='older'].index.values).pvalue\n",
    "ax = sns.violinplot(x='age_categorical_3070', y='value', data=data, order=['younger', 'older'], palette=['lightgrey', 'darkgrey'])\n",
    "\n",
    "plt.xlabel('p<{:.3}'.format(p)), plt.ylabel('Pan-cancer PHBR-I')\n",
    "plt.xticks([0,1], ['Younger', 'Older'], fontsize='small')\n",
    "plt.ylim(ymin=-0.5, ymax=14.5)\n",
    "\n",
    "plt.text(-0.3, 1.1, 'C', transform=ax.transAxes, fontsize=16,  weight='bold')\n",
    "\n",
    "#################################\n",
    "# D. - All PHBR-II scores - Age #\n",
    "#################################\n",
    "plt.subplot(1,4,4)\n",
    "\n",
    "data = affinity_II_age_df.join(confident_patients_II_kept_sex_specific[['age_categorical_3070']]).reset_index()\n",
    "data = pd.melt(data, id_vars=['age_categorical_3070', 'index']).drop_duplicates()\n",
    "\n",
    "p = mannwhitneyu(data[data['age_categorical_3070']=='younger'].index.values, data[data['age_categorical_3070']=='older'].index.values).pvalue\n",
    "ax = sns.violinplot(x='age_categorical_3070', y='value', data=data, order=['younger', 'older'], palette=['lightgrey', 'darkgrey'])\n",
    "\n",
    "plt.xlabel('p<{:.3}'.format(p)), plt.ylabel('Pan-cancer PHBR-II')\n",
    "plt.xticks([0,1], ['Younger', 'Older'], fontsize='small')\n",
    "plt.ylim(ymin=-2.7,ymax=81)\n",
    "\n",
    "plt.text(-0.3, 1.1, 'D', transform=ax.transAxes, fontsize=16,  weight='bold')\n",
    "\n",
    "# save figure\n",
    "plt.tight_layout(pad=0.6, h_pad=1)\n",
    "\n",
    "savepath = '../figures/S4.sex_age_PHBR.{}.A-D.pdf'.format(MSS)\n",
    "print('Saving to {}'.format(savepath))\n",
    "plt.savefig(savepath, bbox_inches=\"tight\")\n",
    "plt.show()"
   ]
  },
  {
   "cell_type": "markdown",
   "metadata": {},
   "source": [
    "### 3. Plot Figure S4 E-F (ECDF)\n",
    "- See median fraction of binding drivers along various 'binding' thresholds"
   ]
  },
  {
   "cell_type": "code",
   "execution_count": 12,
   "metadata": {},
   "outputs": [],
   "source": [
    "# MHC-I \n",
    "thresholds_I = range(0,21,1)\n",
    "f_medians_list_I, m_medians_list_I = [],[]\n",
    "y_medians_list_I, o_medians_list_I = [],[]\n",
    "\n",
    "for threshold in thresholds_I:\n",
    "    # sex\n",
    "    data = pd.DataFrame((affinity_I_sex_df < threshold).sum(axis=1) / len(affinity_I_sex_df.columns), \n",
    "                        columns=['fraction'])\n",
    "    data = data.join(confident_patients_I_rm_sex_specific[['sex']])\n",
    "    \n",
    "    f_medians_list_I.append(data[data['sex']=='female'].fraction.median())\n",
    "    m_medians_list_I.append(data[data['sex']=='male'].fraction.median())\n",
    "    \n",
    "    # age\n",
    "    data = pd.DataFrame((affinity_I_age_df < threshold).sum(axis=1) / len(affinity_I_age_df.columns), \n",
    "                        columns=['fraction'])\n",
    "    data = data.join(confident_patients_I_kept_sex_specific[['age_categorical_3070']])\n",
    "    \n",
    "    y_medians_list_I.append(data[data['age_categorical_3070']=='younger'].fraction.median())\n",
    "    o_medians_list_I.append(data[data['age_categorical_3070']=='older'].fraction.median())"
   ]
  },
  {
   "cell_type": "code",
   "execution_count": 13,
   "metadata": {},
   "outputs": [],
   "source": [
    "# MHC-II\n",
    "thresholds_II = range(0,81,1)\n",
    "f_medians_list_II, m_medians_list_II = [],[]\n",
    "y_medians_list_II, o_medians_list_II = [],[]\n",
    "\n",
    "for threshold in thresholds_II:\n",
    "    # sex\n",
    "    data = pd.DataFrame((affinity_II_sex_df < threshold).sum(axis=1) / len(affinity_II_sex_df.columns), \n",
    "                        columns=['fraction'])\n",
    "    data = data.join(confident_patients_II_rm_sex_specific[['sex']])\n",
    "    \n",
    "    f_medians_list_II.append(data[data['sex']=='female'].fraction.median())\n",
    "    m_medians_list_II.append(data[data['sex']=='male'].fraction.median())\n",
    "    \n",
    "    # age\n",
    "    data = pd.DataFrame((affinity_II_age_df < threshold).sum(axis=1) / len(affinity_II_age_df.columns), \n",
    "                        columns=['fraction'])\n",
    "    data = data.join(confident_patients_II_kept_sex_specific[['age_categorical_3070']])\n",
    "    \n",
    "    y_medians_list_II.append(data[data['age_categorical_3070']=='younger'].fraction.median())\n",
    "    o_medians_list_II.append(data[data['age_categorical_3070']=='older'].fraction.median())"
   ]
  },
  {
   "cell_type": "code",
   "execution_count": 14,
   "metadata": {},
   "outputs": [
    {
     "name": "stdout",
     "output_type": "stream",
     "text": [
      "Saving to ../figures/S4_fraction_ECDF.E-F.pdf\n"
     ]
    },
    {
     "data": {
      "image/png": "[encoded data removed]",
      "text/plain": [
       "<Figure size 504x180 with 2 Axes>"
      ]
     },
     "metadata": {
      "needs_background": "light"
     },
     "output_type": "display_data"
    }
   ],
   "source": [
    "plt.figure(figsize=(7,2.5))\n",
    "\n",
    "####################\n",
    "# A. PHBR-I scores #\n",
    "####################\n",
    "fig = plt.subplot(1,2,1)\n",
    "\n",
    "plt.plot(thresholds_I, f_medians_list_I, color='lightpink')  # Females\n",
    "plt.plot(thresholds_I, m_medians_list_I, color='lightblue')  # Males\n",
    "plt.plot(thresholds_I, y_medians_list_I, color='lightgrey')  # Younger\n",
    "plt.plot(thresholds_I, o_medians_list_I, color='darkgrey')   # Older\n",
    "\n",
    "plt.text(-0.15, 1.1, 'E', transform=fig.transAxes, fontsize=16,  weight='bold')\n",
    "plt.xlabel('MHC-I Thresholds'), plt.ylabel('MHC-I Fraction binding')\n",
    "plt.ylim(0,1), plt.xlim(0,20)\n",
    "\n",
    "#####################\n",
    "# B. PHBR-II scores #\n",
    "#####################\n",
    "fig = plt.subplot(1,2,2)\n",
    "\n",
    "plt.plot(thresholds_II, f_medians_list_II, color='lightpink')  # Female\n",
    "plt.plot(thresholds_II, m_medians_list_II, color='lightblue')  # Males\n",
    "plt.plot(thresholds_II, y_medians_list_II, color='lightgrey')  # Younger\n",
    "plt.plot(thresholds_II, o_medians_list_II, color='darkgrey')   # Older\n",
    "\n",
    "plt.text(-0.15, 1.1, 'F', transform=fig.transAxes, fontsize=16,  weight='bold')\n",
    "plt.xlabel('MHC-II Thresholds'), plt.ylabel('MHC-II Fraction binding')\n",
    "plt.ylim(0,1), plt.xlim(0,80)\n",
    "\n",
    "plt.tight_layout()\n",
    "savepath = '../figures/S4_fraction_ECDF.E-F.pdf'\n",
    "print('Saving to {}'.format(savepath)), plt.savefig(savepath, bbox_inches=\"tight\")\n",
    "plt.show()"
   ]
  },
  {
   "cell_type": "code",
   "execution_count": null,
   "metadata": {},
   "outputs": [],
   "source": []
  }
 ],
 "metadata": {
  "kernelspec": {
   "display_name": "Python 3",
   "language": "python",
   "name": "python3"
  },
  "language_info": {
   "codemirror_mode": {
    "name": "ipython",
    "version": 3
   },
   "file_extension": ".py",
   "mimetype": "text/x-python",
   "name": "python",
   "nbconvert_exporter": "python",
   "pygments_lexer": "ipython3",
   "version": "3.6.8"
  }
 },
 "nbformat": 4,
 "nbformat_minor": 2
}
