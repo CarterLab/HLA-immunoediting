{
 "cells": [
  {
   "cell_type": "markdown",
   "metadata": {},
   "source": [
    "### Notebook\n",
    "- Creates boxplots from Fig. 1, 2, 4, S7"
   ]
  },
  {
   "cell_type": "code",
   "execution_count": 1,
   "metadata": {},
   "outputs": [],
   "source": [
    "import pandas as pd\n",
    "import numpy as np\n",
    "import os\n",
    "\n",
    "from scipy.stats import mannwhitneyu\n",
    "\n",
    "import matplotlib.pyplot as plt\n",
    "import seaborn as sns\n",
    "sns.set_style('white')\n",
    "%matplotlib inline\n",
    "\n",
    "import matplotlib as mpl\n",
    "mpl.rcParams['pdf.fonttype'] = 42"
   ]
  },
  {
   "cell_type": "markdown",
   "metadata": {},
   "source": [
    "### Global variables"
   ]
  },
  {
   "cell_type": "code",
   "execution_count": 2,
   "metadata": {},
   "outputs": [],
   "source": [
    "MSS = 'MSS_only' # MSS_only, MSS_and_MSI\n",
    "RM_SEX_SPECIFIC = 'remove_sex_specific' # remove_sex_specific, kept_sex_specific"
   ]
  },
  {
   "cell_type": "markdown",
   "metadata": {},
   "source": [
    "### 0. Load data"
   ]
  },
  {
   "cell_type": "markdown",
   "metadata": {},
   "source": [
    "##### 0A. Load data with sex-specific cancers removed (for sex analyses)"
   ]
  },
  {
   "cell_type": "code",
   "execution_count": 3,
   "metadata": {},
   "outputs": [
    {
     "name": "stdout",
     "output_type": "stream",
     "text": [
      "Loading confident MSS_only patients with remove_sex_specific cancers\n",
      "3870 confident MHC-I, 4061 confident MHC-II\n"
     ]
    }
   ],
   "source": [
    "RM_SEX_SPECIFIC = 'remove_sex_specific'\n",
    "print('Loading confident {} patients with {} cancers'.format(MSS, RM_SEX_SPECIFIC))\n",
    "\n",
    "exp_phbrI_score_rm_sex_specific_df = pd.read_csv('../generated_data/confident_patient_I.age_sex_disease.{}.{}.tsv'.format(MSS, RM_SEX_SPECIFIC), sep='\\t', index_col=0)\n",
    "exp_phbrII_score_rm_sex_specific_df = pd.read_csv('../generated_data/confident_patient_II.age_sex_disease.{}.{}.tsv'.format(MSS, RM_SEX_SPECIFIC), sep='\\t', index_col=0)\n",
    "\n",
    "# set previously determined age threshold\n",
    "young_thresh = 52 # 30th percentile: 52\n",
    "old_thresh = 68   # 70th percentile: 68\n",
    "\n",
    "exp_phbrI_score_rm_sex_specific_df['age_categorical_3070'] = pd.cut(exp_phbrI_score_rm_sex_specific_df['age'], [0, young_thresh, old_thresh, exp_phbrI_score_rm_sex_specific_df['age'].max()], labels=['younger', 'middle', 'older'])\n",
    "exp_phbrII_score_rm_sex_specific_df['age_categorical_3070'] = pd.cut(exp_phbrII_score_rm_sex_specific_df['age'], [0, young_thresh, old_thresh, exp_phbrII_score_rm_sex_specific_df['age'].max()], labels=['younger', 'middle', 'older'])\n",
    "\n",
    "print('{} confident MHC-I, {} confident MHC-II'.format(len(exp_phbrI_score_rm_sex_specific_df), len(exp_phbrII_score_rm_sex_specific_df)))"
   ]
  },
  {
   "cell_type": "markdown",
   "metadata": {},
   "source": [
    "##### 0B. Load data with sex-specific cancers kept (for age analyses)"
   ]
  },
  {
   "cell_type": "code",
   "execution_count": 4,
   "metadata": {},
   "outputs": [
    {
     "name": "stdout",
     "output_type": "stream",
     "text": [
      "Loading confident MSS_only patients with kept_sex_specific cancers\n",
      "4850 confident MHC-I, 4555 confident MHC-II\n"
     ]
    },
    {
     "data": {
      "text/html": [
       "<div>\n",
       "<style scoped>\n",
       "    .dataframe tbody tr th:only-of-type {\n",
       "        vertical-align: middle;\n",
       "    }\n",
       "\n",
       "    .dataframe tbody tr th {\n",
       "        vertical-align: top;\n",
       "    }\n",
       "\n",
       "    .dataframe thead th {\n",
       "        text-align: right;\n",
       "    }\n",
       "</style>\n",
       "<table border=\"1\" class=\"dataframe\">\n",
       "  <thead>\n",
       "    <tr style=\"text-align: right;\">\n",
       "      <th></th>\n",
       "      <th>scores</th>\n",
       "      <th>disease</th>\n",
       "      <th>age</th>\n",
       "      <th>sex</th>\n",
       "      <th>age_categorical</th>\n",
       "      <th>age_categorical_3070</th>\n",
       "    </tr>\n",
       "  </thead>\n",
       "  <tbody>\n",
       "    <tr>\n",
       "      <th>TCGA-85-8580</th>\n",
       "      <td>0.120879</td>\n",
       "      <td>LUSC</td>\n",
       "      <td>52.0</td>\n",
       "      <td>female</td>\n",
       "      <td>younger</td>\n",
       "      <td>younger</td>\n",
       "    </tr>\n",
       "    <tr>\n",
       "      <th>TCGA-A5-A0GV</th>\n",
       "      <td>3.524218</td>\n",
       "      <td>UCEC</td>\n",
       "      <td>67.0</td>\n",
       "      <td>female</td>\n",
       "      <td>older</td>\n",
       "      <td>middle</td>\n",
       "    </tr>\n",
       "  </tbody>\n",
       "</table>\n",
       "</div>"
      ],
      "text/plain": [
       "                scores disease   age     sex age_categorical  \\\n",
       "TCGA-85-8580  0.120879    LUSC  52.0  female         younger   \n",
       "TCGA-A5-A0GV  3.524218    UCEC  67.0  female           older   \n",
       "\n",
       "             age_categorical_3070  \n",
       "TCGA-85-8580              younger  \n",
       "TCGA-A5-A0GV               middle  "
      ]
     },
     "execution_count": 4,
     "metadata": {},
     "output_type": "execute_result"
    }
   ],
   "source": [
    "RM_SEX_SPECIFIC = 'kept_sex_specific'\n",
    "print('Loading confident {} patients with {} cancers'.format(MSS, RM_SEX_SPECIFIC))\n",
    "\n",
    "exp_phbrI_score_kept_sex_specific_df = pd.read_csv('/cellar/users/andreabc/Data/hla_sex/generated_data/confident_patient_I.age_sex_disease.{}.{}.txt'.format(MSS, RM_SEX_SPECIFIC), sep='\\t', index_col=0)\n",
    "exp_phbrII_score_kept_sex_specific_df = pd.read_csv('/cellar/users/andreabc/Data/hla_sex/generated_data/confident_patient_II.age_sex_disease.{}.{}.txt'.format(MSS, RM_SEX_SPECIFIC), sep='\\t', index_col=0)\n",
    "\n",
    "# set age threshold\n",
    "young_thresh = 52 # 30th percentile: 52, 40th: 57\n",
    "old_thresh = 68   # 70th percentile: 68, 60th: 65\n",
    "\n",
    "exp_phbrI_score_kept_sex_specific_df['age_categorical_3070'] = pd.cut(exp_phbrI_score_kept_sex_specific_df['age'], [0, young_thresh, old_thresh, exp_phbrI_score_kept_sex_specific_df['age'].max()], labels=['younger', 'middle', 'older'])\n",
    "exp_phbrII_score_kept_sex_specific_df['age_categorical_3070'] = pd.cut(exp_phbrII_score_kept_sex_specific_df['age'], [0, young_thresh, old_thresh, exp_phbrII_score_kept_sex_specific_df['age'].max()], labels=['younger', 'middle', 'older'])\n",
    "\n",
    "print('{} confident MHC-I, {} confident MHC-II'.format(len(exp_phbrI_score_kept_sex_specific_df), len(exp_phbrII_score_kept_sex_specific_df)))\n",
    "exp_phbrI_score_kept_sex_specific_df.head(2)"
   ]
  },
  {
   "cell_type": "markdown",
   "metadata": {},
   "source": [
    "### 1. Plot Figure 1\n",
    "- Discovery cohort "
   ]
  },
  {
   "cell_type": "code",
   "execution_count": 20,
   "metadata": {},
   "outputs": [
    {
     "name": "stdout",
     "output_type": "stream",
     "text": [
      "Saving to ../figures/Figure_1.pdf\n"
     ]
    },
    {
     "data": {
      "image/png": "[encoded data removed]",
      "text/plain": [
       "<Figure size 504x216 with 4 Axes>"
      ]
     },
     "metadata": {
      "needs_background": "light"
     },
     "output_type": "display_data"
    }
   ],
   "source": [
    "# props\n",
    "flierprops = dict(markerfacecolor='darkgrey', markersize=5, linestyle='none', markeredgecolor='darkgrey')\n",
    "\n",
    "\n",
    "plt.figure(figsize=(7,3))\n",
    "\n",
    "##################\n",
    "# A - Sex, MHC-I #\n",
    "##################\n",
    "plt.subplot(1,4,1)\n",
    "p = mannwhitneyu(exp_phbrI_score_rm_sex_specific_df[exp_phbrI_score_rm_sex_specific_df['sex']=='female'].scores.values, \n",
    "                 exp_phbrI_score_rm_sex_specific_df[exp_phbrI_score_rm_sex_specific_df['sex']=='male'].scores.values).pvalue\n",
    "ax = sns.boxplot(x='sex', y='scores', data=exp_phbrI_score_rm_sex_specific_df, \n",
    "                 order=['female', 'male'], palette=['lightpink', 'lightblue'], flierprops=flierprops)\n",
    "plt.xlabel('p={:.2}'.format(p)), plt.ylabel('Pancancer PHBR-I')\n",
    "plt.xticks([0,1], ['Female\\n({})'.format(len(set(exp_phbrI_score_rm_sex_specific_df[exp_phbrI_score_rm_sex_specific_df['sex']=='female'].index))), \n",
    "                   'Male\\n({})'.format(len(set(exp_phbrI_score_rm_sex_specific_df[exp_phbrI_score_rm_sex_specific_df['sex']=='male'].index)))])\n",
    "plt.ylim(-0.1,20.1)\n",
    "ax.tick_params(axis='y', pad=0)\n",
    "plt.text(-0.3, 1.1, 'A', transform=ax.transAxes, fontsize=16,  weight='bold')\n",
    "    \n",
    "###################\n",
    "# B - Sex, MHC-II #\n",
    "###################\n",
    "plt.subplot(1,4,2)\n",
    "p = mannwhitneyu(exp_phbrII_score_rm_sex_specific_df[exp_phbrII_score_rm_sex_specific_df['sex']=='female'].scores.values, \n",
    "                 exp_phbrII_score_rm_sex_specific_df[exp_phbrII_score_rm_sex_specific_df['sex']=='male'].scores.values).pvalue\n",
    "ax = sns.boxplot(x='sex', y='scores', data=exp_phbrII_score_rm_sex_specific_df, \n",
    "                 order=['female', 'male'], palette=['lightpink', 'lightblue'], flierprops=flierprops)\n",
    "plt.xlabel('p={:.2}'.format(p)), plt.ylabel('Pancancer PHBR-II')\n",
    "plt.xticks([0,1], ['Female\\n({})'.format(len(set(exp_phbrII_score_rm_sex_specific_df[exp_phbrII_score_rm_sex_specific_df['sex']=='female'].index))), \n",
    "                   'Male\\n({})'.format(len(set(exp_phbrII_score_rm_sex_specific_df[exp_phbrII_score_rm_sex_specific_df['sex']=='male'].index)))])\n",
    "plt.ylim(-0.1,100.1)\n",
    "ax.tick_params(axis='y', pad=0)\n",
    "plt.text(-0.3, 1.1, 'B', transform=ax.transAxes, fontsize=16,  weight='bold')\n",
    "\n",
    "##################\n",
    "# C - Age, MHC-I #\n",
    "##################\n",
    "plt.subplot(1,4,3)\n",
    "p = mannwhitneyu(exp_phbrI_score_kept_sex_specific_df[exp_phbrI_score_kept_sex_specific_df['age_categorical_3070']=='younger'].scores.values, \n",
    "                 exp_phbrI_score_kept_sex_specific_df[exp_phbrI_score_kept_sex_specific_df['age_categorical_3070']=='older'].scores.values).pvalue\n",
    "ax = sns.boxplot(x='age_categorical_3070', y='scores', data=exp_phbrI_score_kept_sex_specific_df, \n",
    "                 order=['younger', 'older'], palette=['lightgrey', 'darkgrey'], flierprops=flierprops)\n",
    "plt.xlabel('p={:.2}'.format(p)), plt.ylabel('Pancancer PHBR-I')\n",
    "plt.xticks([0,1], ['Younger\\n({})'.format(len(set(exp_phbrI_score_kept_sex_specific_df[exp_phbrI_score_kept_sex_specific_df['age_categorical_3070']=='younger'].index))), \n",
    "                   'Older\\n({})'.format(len(set(exp_phbrI_score_kept_sex_specific_df[exp_phbrI_score_kept_sex_specific_df['age_categorical_3070']=='older'].index)))])\n",
    "plt.ylim(-0.1,20.1)\n",
    "ax.tick_params(axis='y', pad=0)\n",
    "plt.text(-0.3, 1.1, 'C', transform=ax.transAxes, fontsize=16,  weight='bold')\n",
    "\n",
    "###################\n",
    "# D - Age, MHC-II #\n",
    "###################\n",
    "plt.subplot(1,4,4)\n",
    "p = mannwhitneyu(exp_phbrII_score_kept_sex_specific_df[exp_phbrII_score_kept_sex_specific_df['age_categorical_3070']=='younger'].scores.values, \n",
    "                 exp_phbrII_score_kept_sex_specific_df[exp_phbrII_score_kept_sex_specific_df['age_categorical_3070']=='older'].scores.values).pvalue\n",
    "ax = sns.boxplot(x='age_categorical_3070', y='scores', data=exp_phbrII_score_kept_sex_specific_df, \n",
    "                 order=['younger', 'older'], palette=['lightgrey', 'darkgrey'], flierprops=flierprops)\n",
    "plt.xlabel('p={:.2}'.format(p)), plt.ylabel('Pancancer PHBR-II')\n",
    "plt.xticks([0,1], ['Younger\\n({})'.format(len(set(exp_phbrII_score_kept_sex_specific_df[exp_phbrII_score_kept_sex_specific_df['age_categorical_3070']=='younger'].index))), \n",
    "                   'Older\\n({})'.format(len(set(exp_phbrII_score_kept_sex_specific_df[exp_phbrII_score_kept_sex_specific_df['age_categorical_3070']=='older'].index)))])\n",
    "plt.ylim(-0.1,100.1)\n",
    "ax.tick_params(axis='y', pad=0)\n",
    "plt.text(-0.3, 1.1, 'D', transform=ax.transAxes, fontsize=16,  weight='bold')\n",
    "\n",
    "\n",
    "plt.tight_layout()\n",
    "savepath = '../figures/Figure_1.pdf'\n",
    "print('Saving to {}'.format(savepath))\n",
    "plt.savefig(savepath, bbox_inches=\"tight\")\n",
    "plt.show()"
   ]
  },
  {
   "cell_type": "markdown",
   "metadata": {},
   "source": [
    "### 2. Plot Figure 2\n",
    "- Discovery cohort"
   ]
  },
  {
   "cell_type": "code",
   "execution_count": 5,
   "metadata": {},
   "outputs": [],
   "source": [
    "import sys\n",
    "sys.path.append('../scripts/')\n",
    "from benjamini_fdr import benjamini_fdr"
   ]
  },
  {
   "cell_type": "code",
   "execution_count": null,
   "metadata": {},
   "outputs": [],
   "source": []
  },
  {
   "cell_type": "code",
   "execution_count": 6,
   "metadata": {},
   "outputs": [],
   "source": [
    "def get_joint_pvals(df, score_col='scores'):\n",
    "    '''Calculates the joint p-values between all patient groups\n",
    "    @param: df: pandas dataframe \n",
    "    \n",
    "    '''\n",
    "    data = df.copy()\n",
    "    f_data = data[data['sex']=='female']\n",
    "    m_data = data[data['sex']=='male']\n",
    "\n",
    "    YF_OF = mannwhitneyu(f_data[f_data['age_categorical_3070'] == 'younger'][score_col].values, \n",
    "                         f_data[f_data['age_categorical_3070'] == 'older'][score_col].values).pvalue\n",
    "    YF_OM = mannwhitneyu(f_data[f_data['age_categorical_3070'] == 'younger'][score_col].values, \n",
    "                         m_data[m_data['age_categorical_3070'] == 'older'][score_col].values).pvalue\n",
    "    YF_YM = mannwhitneyu(f_data[f_data['age_categorical_3070'] == 'younger'][score_col].values, \n",
    "                         m_data[m_data['age_categorical_3070'] == 'younger'][score_col].values).pvalue\n",
    "\n",
    "    OF_YM = mannwhitneyu(f_data[f_data['age_categorical_3070'] == 'older'][score_col].values, \n",
    "                         m_data[m_data['age_categorical_3070'] == 'younger'][score_col].values).pvalue\n",
    "    OF_OM = mannwhitneyu(f_data[f_data['age_categorical_3070'] == 'older'][score_col].values, \n",
    "                         m_data[m_data['age_categorical_3070'] == 'older'][score_col].values).pvalue\n",
    "\n",
    "    YM_OM = mannwhitneyu(m_data[m_data['age_categorical_3070'] == 'younger'][score_col].values, \n",
    "                         m_data[m_data['age_categorical_3070'] == 'older'][score_col].values).pvalue\n",
    "\n",
    "    pvals = [['Young female, Old female', YF_OF], ['Young female, Old male', YF_OM], \n",
    "             ['Young female, Young male', YF_YM], ['Old female, Young male', OF_YM], \n",
    "             ['Old female, Old male', OF_OM], ['Young male, Old male', YM_OM]]\n",
    "    return benjamini_fdr(pvals)"
   ]
  },
  {
   "cell_type": "code",
   "execution_count": 32,
   "metadata": {},
   "outputs": [
    {
     "name": "stdout",
     "output_type": "stream",
     "text": [
      "PHBR-I corrected p-values: \n",
      "                          0         1\n",
      "0  Young female, Young male  0.000247\n",
      "1    Young female, Old male  0.000257\n",
      "2  Young female, Old female  0.027704\n",
      "3      Old female, Old male  0.162692\n",
      "4    Old female, Young male  0.163707\n",
      "5      Young male, Old male  0.424064\n",
      "\n",
      "PHBR-II corrected p-values: \n",
      "                          0             1\n",
      "0    Young female, Old male  2.275692e-07\n",
      "1  Young female, Young male  5.186816e-04\n",
      "2  Young female, Old female  9.668476e-04\n",
      "3      Young male, Old male  2.093698e-02\n",
      "4      Old female, Old male  8.324460e-02\n",
      "5    Old female, Young male  3.461662e-01\n",
      "\n",
      "Saving to ../figures/Figure_2.pdf\n"
     ]
    },
    {
     "data": {
      "image/png": "[encoded data removed]",
      "text/plain": [
       "<Figure size 432x216 with 2 Axes>"
      ]
     },
     "metadata": {
      "needs_background": "light"
     },
     "output_type": "display_data"
    }
   ],
   "source": [
    "flierprops = dict(markerfacecolor='darkgrey', markersize=5, linestyle='none', markeredgecolor='darkgrey')\n",
    "\n",
    "#############\n",
    "# A. PHBR-I #\n",
    "#############\n",
    "\n",
    "# Add age+sex category column\n",
    "data = exp_phbrI_score_rm_sex_specific_df.copy()\n",
    "data['category'] = ['{} {}'.format(data['age_categorical_3070'].values[i], \n",
    "                                   data['sex'].values[i]) for i in range(len(data.index.values))]\n",
    "\n",
    "print('PHBR-I corrected p-values: \\n{}\\n'.format(pd.DataFrame(get_joint_pvals(data))))\n",
    "\n",
    "plt.figure(figsize=(6,3))\n",
    "\n",
    "plt.subplot(1,2,1)\n",
    "ax = sns.boxplot(x='category', y='scores', data=data, \n",
    "                 order=['younger female', 'older female', 'younger male', 'older male'], \n",
    "                 palette=['lightpink', 'firebrick', 'lightblue', 'royalblue'], \n",
    "                 flierprops=flierprops)\n",
    "plt.xlabel(''), plt.ylabel('Pan-cancer PHBR-I', fontsize=12)\n",
    "plt.xticks([0,1,2,3],['Younger\\nfemale\\n({})'.format(len(data[data['category']=='younger female'])), \n",
    "                      'Older\\nfemale\\n({})'.format(len(data[data['category']=='older female'])), \n",
    "                      'Younger\\nmale\\n({})'.format(len(data[data['category']=='younger male'])), \n",
    "                      'Older\\nmale\\n({})'.format(len(data[data['category']=='older male']))])\n",
    "plt.ylim(-0.5,20)\n",
    "plt.text(-0.2, 1.1, 'A', transform=ax.transAxes, fontsize=16,  weight='bold')\n",
    "\n",
    "\n",
    "\n",
    "##############\n",
    "# B. PHBR-II #\n",
    "##############\n",
    "\n",
    "# Add age+sex category column\n",
    "data = exp_phbrII_score_rm_sex_specific_df.copy()\n",
    "data['category'] = ['{} {}'.format(data['age_categorical_3070'].values[i], \n",
    "                                   data['sex'].values[i]) for i in range(len(data.index.values))]\n",
    "\n",
    "print('PHBR-II corrected p-values: \\n{}\\n'.format(pd.DataFrame(get_joint_pvals(data))))\n",
    "\n",
    "plt.subplot(1,2,2)\n",
    "ax = sns.boxplot(x='category', y='scores', data=data, \n",
    "                 order=['younger female', 'older female', 'younger male', 'older male'], \n",
    "                 palette=['lightpink', 'firebrick', 'lightblue', 'royalblue'], \n",
    "                 flierprops=flierprops)\n",
    "\n",
    "plt.xlabel(''), plt.ylabel('Pan-cancer PHBR-II', fontsize=12)\n",
    "plt.xticks([0,1,2,3],['Younger\\nfemale\\n({})'.format(len(data[data['category']=='younger female'])), \n",
    "                      'Older\\nfemale\\n({})'.format(len(data[data['category']=='older female'])), \n",
    "                      'Younger\\nmale\\n({})'.format(len(data[data['category']=='younger male'])), \n",
    "                      'Older\\nmale\\n({})'.format(len(data[data['category']=='older male']))])\n",
    "plt.text(-0.2, 1.1, 'B', transform=ax.transAxes, fontsize=16,  weight='bold')\n",
    "plt.ylim(-3,105)\n",
    "\n",
    "plt.tight_layout()\n",
    "savepath = '../figures/Figure_2.pdf'\n",
    "print('Saving to {}'.format(savepath)), plt.savefig(savepath, bbox_inches='tight')\n",
    "plt.show()"
   ]
  },
  {
   "cell_type": "markdown",
   "metadata": {},
   "source": [
    "### 3. Plot Figure 4\n",
    "- Validation cohort "
   ]
  },
  {
   "cell_type": "code",
   "execution_count": 7,
   "metadata": {},
   "outputs": [],
   "source": [
    "mhcI_df = pd.read_csv('../generated_data/validation_patients_I.age_sex_disease.tsv', sep='\\t', index_col=0)\n",
    "mhcII_df = pd.read_csv('../generated_data/validation_patients_II.age_sex_disease.tsv', sep='\\t', index_col=0)"
   ]
  },
  {
   "cell_type": "code",
   "execution_count": 8,
   "metadata": {},
   "outputs": [],
   "source": [
    "# Drop diseases not found in the TCGA\n",
    "diseases_not_in_tcga = ['ORCA', 'BOCA', 'CMDI','PACA']\n",
    "\n",
    "mhcI_df = mhcI_df[~mhcI_df['tumor_type'].isin(diseases_not_in_tcga)]\n",
    "mhcII_df = mhcII_df[~mhcII_df['tumor_type'].isin(diseases_not_in_tcga)]"
   ]
  },
  {
   "cell_type": "code",
   "execution_count": 9,
   "metadata": {},
   "outputs": [
    {
     "data": {
      "text/plain": [
       "(330, 311)"
      ]
     },
     "execution_count": 9,
     "metadata": {},
     "output_type": "execute_result"
    }
   ],
   "source": [
    "len(mhcI_df.index.unique()), len(mhcII_df.index.unique())"
   ]
  },
  {
   "cell_type": "code",
   "execution_count": 54,
   "metadata": {},
   "outputs": [
    {
     "name": "stdout",
     "output_type": "stream",
     "text": [
      "Saving to ../figures/Figure_4A-D.pdf\n"
     ]
    },
    {
     "data": {
      "image/png": "[encoded data removed]",
      "text/plain": [
       "<Figure size 504x216 with 4 Axes>"
      ]
     },
     "metadata": {
      "needs_background": "light"
     },
     "output_type": "display_data"
    }
   ],
   "source": [
    "# flierprops\n",
    "flierprops = dict(markerfacecolor='darkgrey', markersize=5, linestyle='none', markeredgecolor='darkgrey')\n",
    "\n",
    "# figure\n",
    "\n",
    "# 1x4 plot\n",
    "plt.figure(figsize=(7,3))\n",
    "\n",
    "##################\n",
    "# A - Sex, MHC-I #\n",
    "##################\n",
    "plt.subplot(1,4,1)\n",
    "\n",
    "p = mannwhitneyu(mhcI_df[mhcI_df['sex']=='female'].PHBR_score.values, \n",
    "                 mhcI_df[mhcI_df['sex']=='male'].PHBR_score.values).pvalue\n",
    "ax = sns.boxplot(x='sex', y='PHBR_score', data=mhcI_df, order=['female', 'male'], \n",
    "                 palette=['lightpink', 'lightblue'], flierprops=flierprops)\n",
    "plt.xlabel('p<{:.3}'.format(p)), plt.ylabel('Pancancer PHBR-I')\n",
    "plt.xticks([0,1], ['Female\\n({})'.format(len(set(mhcI_df[mhcI_df['sex']=='female'].index))), \n",
    "                   'Male\\n({})'.format(len(set(mhcI_df[mhcI_df['sex']=='male'].index)))])\n",
    "plt.ylim(-0.1,20.1)\n",
    "ax.tick_params(axis='y', pad=0)\n",
    "plt.text(-0.3, 1.1, 'A', transform=ax.transAxes, fontsize=16,  weight='bold')\n",
    "\n",
    "###################\n",
    "# B - Sex, MHC-II #\n",
    "###################\n",
    "plt.subplot(1,4,2)\n",
    "\n",
    "p = mannwhitneyu(mhcII_df[mhcII_df['sex']=='female'].PHBR_score.values, \n",
    "                 mhcII_df[mhcII_df['sex']=='male'].PHBR_score.values).pvalue\n",
    "ax = sns.boxplot(x='sex', y='PHBR_score', data=mhcII_df, order=['female', 'male'], \n",
    "                 palette=['lightpink', 'lightblue'], flierprops=flierprops)\n",
    "plt.xlabel('p<{:.3}'.format(p)), plt.ylabel('Pancancer PHBR-II')\n",
    "plt.xticks([0,1], ['Female\\n({})'.format(len(set(mhcII_df[mhcII_df['sex']=='female'].index))), \n",
    "                   'Male\\n({})'.format(len(set(mhcII_df[mhcII_df['sex']=='male'].index)))])\n",
    "plt.ylim(-0.1,100.1)\n",
    "ax.tick_params(axis='y', pad=0)\n",
    "plt.text(-0.3, 1.1, 'B', transform=ax.transAxes, fontsize=16,  weight='bold')\n",
    "\n",
    "##################\n",
    "# C - Age, MHC-I #\n",
    "##################\n",
    "plt.subplot(1,4,3)\n",
    "\n",
    "data = mhcI_df[mhcI_df['age_categorical_3070']!='middle']\n",
    "p = mannwhitneyu(data[data['age_categorical_3070']=='younger'].PHBR_score.values, \n",
    "                 data[data['age_categorical_3070']=='older'].PHBR_score.values).pvalue\n",
    "ax = sns.boxplot(x='age_categorical_3070', y='PHBR_score', data=data, \n",
    "                 order=['younger', 'older'], palette=['lightgrey', 'darkgrey'], flierprops=flierprops)\n",
    "plt.xlabel('p<{:.3}'.format(p)), plt.ylabel('Pancancer PHBR-I')\n",
    "plt.xticks([0,1], ['Younger\\n({})'.format(len(set(data[data['age_categorical_3070']=='younger'].index))), \n",
    "                   'Older\\n({})'.format(len(set(data[data['age_categorical_3070']=='older'].index)))])\n",
    "plt.ylim(-0.1,20.1)\n",
    "ax.tick_params(axis='y', pad=0)\n",
    "plt.text(-0.3, 1.1, 'C', transform=ax.transAxes, fontsize=16,  weight='bold')\n",
    "\n",
    "###################\n",
    "# D - Age, MHC-II #\n",
    "###################\n",
    "plt.subplot(1,4,4)\n",
    "\n",
    "data = mhcII_df[mhcII_df['age_categorical_3070']!='middle']\n",
    "p = mannwhitneyu(data[data['age_categorical_3070']=='younger'].PHBR_score.values, \n",
    "                 data[data['age_categorical_3070']=='older'].PHBR_score.values).pvalue\n",
    "ax = sns.boxplot(x='age_categorical_3070', y='PHBR_score', data=data, order=['younger', 'older'], \n",
    "                 palette=['lightgrey', 'darkgrey'], flierprops=flierprops)\n",
    "plt.xlabel('p<{:.3}'.format(p)), plt.ylabel('Pancancer PHBR-II')\n",
    "plt.xticks([0,1], ['Younger\\n({})'.format(len(set(data[data['age_categorical_3070']=='younger'].index))), \n",
    "                   'Older\\n({})'.format(len(set(data[data['age_categorical_3070']=='older'].index)))])\n",
    "\n",
    "plt.ylim(-0.1,100.1)\n",
    "ax.tick_params(axis='y', pad=0)\n",
    "plt.text(-0.3, 1.1, 'D', transform=ax.transAxes, fontsize=16,  weight='bold')\n",
    "\n",
    "plt.tight_layout()\n",
    "savepath = '../figures/Figure_4A-D.pdf'\n",
    "print('Saving to {}'.format(savepath))\n",
    "plt.savefig(savepath, bbox_inches=\"tight\")\n",
    "plt.show()"
   ]
  },
  {
   "cell_type": "code",
   "execution_count": 56,
   "metadata": {},
   "outputs": [
    {
     "name": "stdout",
     "output_type": "stream",
     "text": [
      "PHBR-I corrected p-values: \n",
      "                          0         1\n",
      "0  Young female, Old female  0.251182\n",
      "1    Old female, Young male  0.377513\n",
      "2      Old female, Old male  0.273011\n",
      "3  Young female, Young male  0.495388\n",
      "4    Young female, Old male  0.412516\n",
      "5      Young male, Old male  0.463628\n",
      "\n",
      "PHBR-II corrected p-values: \n",
      "                          0         1\n",
      "0  Young female, Old female  0.001436\n",
      "1    Young female, Old male  0.002440\n",
      "2    Old female, Young male  0.017584\n",
      "3      Young male, Old male  0.016444\n",
      "4  Young female, Young male  0.303849\n",
      "5      Old female, Old male  0.467219\n",
      "\n",
      "Saving to ../figures/Figure_4E-F.pdf\n"
     ]
    },
    {
     "data": {
      "image/png": "[encoded data removed]",
      "text/plain": [
       "<Figure size 432x216 with 2 Axes>"
      ]
     },
     "metadata": {
      "needs_background": "light"
     },
     "output_type": "display_data"
    }
   ],
   "source": [
    "# props\n",
    "flierprops = dict(markerfacecolor='darkgrey', markersize=5, linestyle='none', markeredgecolor='darkgrey')\n",
    "\n",
    "plt.figure(figsize=(6,3))\n",
    "\n",
    "#############\n",
    "# A. PHBR-I #\n",
    "#############\n",
    "\n",
    "# Add age+sex category column\n",
    "data = mhcI_df.copy()\n",
    "data['category'] = ['{} {}'.format(data['age_categorical_3070'].values[i], \n",
    "                                   data['sex'].values[i]) for i in range(len(data.index.values))]\n",
    "print('PHBR-I corrected p-values: \\n{}\\n'.format(pd.DataFrame(get_joint_pvals(data, 'PHBR_score'))))\n",
    "\n",
    "# Plot subplot\n",
    "plt.subplot(1,2,1)\n",
    "ax = sns.boxplot(x='category', y='PHBR_score', data=data, \n",
    "                 order=['younger female', 'older female', 'younger male', 'older male'], \n",
    "                 palette=['lightpink', 'firebrick', 'lightblue', 'royalblue'],\n",
    "                 flierprops=flierprops)\n",
    "plt.xlabel(''), plt.ylabel('PHBR-I', fontsize=12)\n",
    "plt.xticks([0,1,2,3],['Younger\\nfemale\\n({})'.format(len(data[data['category']=='younger female'])), \n",
    "                      'Older\\nfemale\\n({})'.format(len(data[data['category']=='older female'])), \n",
    "                      'Younger\\nmale\\n({})'.format(len(data[data['category']=='younger male'])), \n",
    "                      'Older\\nmale\\n({})'.format(len(data[data['category']=='older male']))])\n",
    "plt.ylim(-0.5,20)\n",
    "plt.text(-0.2, 1.1, 'E', transform=ax.transAxes, fontsize=16,  weight='bold')\n",
    "\n",
    "##############\n",
    "# B. PHBR-II #\n",
    "##############\n",
    "\n",
    "# Add age+sex category column\n",
    "data = mhcII_df.copy()\n",
    "data['category'] = ['{} {}'.format(data['age_categorical_3070'].values[i], \n",
    "                                   data['sex'].values[i]) for i in range(len(data.index.values))]\n",
    "print('PHBR-II corrected p-values: \\n{}\\n'.format(pd.DataFrame(get_joint_pvals(data, 'PHBR_score'))))\n",
    "\n",
    "# Plot subplot\n",
    "plt.subplot(1,2,2)\n",
    "\n",
    "ax = sns.boxplot(x='category', y='PHBR_score', data=data, \n",
    "                 order=['younger female', 'older female', 'younger male', 'older male'], \n",
    "                 palette=['lightpink', 'firebrick', 'lightblue', 'royalblue'],\n",
    "                 flierprops=flierprops)\n",
    "plt.xlabel(''), plt.ylabel('PHBR-II', fontsize=12)\n",
    "plt.xticks([0,1,2,3],['Younger\\nfemale\\n({})'.format(len(data[data['category']=='younger female'])), \n",
    "                      'Older\\nfemale\\n({})'.format(len(data[data['category']=='older female'])), \n",
    "                      'Younger\\nmale\\n({})'.format(len(data[data['category']=='younger male'])), \n",
    "                      'Older\\nmale\\n({})'.format(len(data[data['category']=='older male']))])\n",
    "plt.text(-0.2, 1.1, 'F', transform=ax.transAxes, fontsize=16,  weight='bold')\n",
    "plt.ylim(-3,105)\n",
    "\n",
    "plt.tight_layout()\n",
    "savepath = '../figures/Figure_4E-F.pdf'\n",
    "print('Saving to {}'.format(savepath))\n",
    "plt.savefig(savepath, bbox_inches='tight')\n",
    "\n",
    "plt.show()"
   ]
  },
  {
   "cell_type": "markdown",
   "metadata": {},
   "source": [
    "### 4. Figure S7\n",
    "- Combination of discovery and validation results"
   ]
  },
  {
   "cell_type": "code",
   "execution_count": 10,
   "metadata": {},
   "outputs": [],
   "source": [
    "from itertools import cycle"
   ]
  },
  {
   "cell_type": "code",
   "execution_count": 11,
   "metadata": {},
   "outputs": [],
   "source": [
    "# Load validation data, add hue column\n",
    "\n",
    "# MHC-I\n",
    "mhcI_df['category'] = ['{} {}'.format(mhcI_df['age_categorical_3070'].values[i], \n",
    "                                      mhcI_df['sex'].values[i]) for i in range(len(mhcI_df.index.values))]\n",
    "mhcI_df['val_or_discovery'] = 'Validation'\n",
    "mhcI_df['hue_cat'] = mhcI_df['category'] + ' ' + mhcI_df['val_or_discovery']  \n",
    "mhcI_df.rename(columns={'PHBR_score':'scores'}, inplace=True)\n",
    "\n",
    "# MHC-II\n",
    "mhcII_df['category'] = ['{} {}'.format(mhcII_df['age_categorical_3070'].values[i], \n",
    "                                       mhcII_df['sex'].values[i]) for i in range(len(mhcII_df.index.values))]\n",
    "mhcII_df['val_or_discovery'] = 'Validation'\n",
    "mhcII_df['hue_cat'] = mhcII_df['category'] + ' ' + mhcII_df['val_or_discovery']  \n",
    "mhcII_df.rename(columns={'PHBR_score':'scores'}, inplace=True)"
   ]
  },
  {
   "cell_type": "code",
   "execution_count": 12,
   "metadata": {
    "scrolled": false
   },
   "outputs": [
    {
     "name": "stderr",
     "output_type": "stream",
     "text": [
      "/cellar/users/andreabc/miniconda3/lib/python3.6/site-packages/pandas/core/frame.py:6201: FutureWarning: Sorting because non-concatenation axis is not aligned. A future version\n",
      "of pandas will change to not sort by default.\n",
      "\n",
      "To accept the future behavior, pass 'sort=True'.\n",
      "\n",
      "To retain the current behavior and silence the warning, pass sort=False\n",
      "\n",
      "  sort=sort)\n"
     ]
    },
    {
     "name": "stdout",
     "output_type": "stream",
     "text": [
      "PHBR-I corrected p-values: \n",
      "                          0         1\n",
      "0  Young female, Young male  0.000282\n",
      "1    Young female, Old male  0.000229\n",
      "2  Young female, Old female  0.007494\n",
      "3      Old female, Old male  0.299215\n",
      "4    Old female, Young male  0.300562\n",
      "5      Young male, Old male  0.422046\n",
      "\n",
      "PHBR-II corrected p-values: \n",
      "                          0             1\n",
      "0    Young female, Old male  1.733490e-09\n",
      "1  Young female, Old female  3.963837e-05\n",
      "2  Young female, Young male  1.402435e-04\n",
      "3      Young male, Old male  3.621154e-03\n",
      "4      Old female, Old male  9.612097e-02\n",
      "5    Old female, Young male  1.445349e-01\n",
      "\n",
      "Saving to ../figures/S7_discovery_vs_val.pdf\n"
     ]
    },
    {
     "data": {
      "image/png": "[encoded data removed]",
      "text/plain": [
       "<Figure size 432x216 with 2 Axes>"
      ]
     },
     "metadata": {
      "needs_background": "light"
     },
     "output_type": "display_data"
    }
   ],
   "source": [
    "flierprops = dict(markerfacecolor='darkgrey', markersize=5, linestyle='none', markeredgecolor='darkgrey')\n",
    "hatches = cycle(['', '///'])\n",
    "boxplot_colors = ['lightpink', 'lightpink', 'firebrick', 'firebrick', \n",
    "                  'lightblue', 'lightblue', 'royalblue', 'royalblue']\n",
    "\n",
    "plt.figure(figsize=(6,3))\n",
    "\n",
    "#############\n",
    "# A. PHBR-I #\n",
    "#############\n",
    "\n",
    "data = exp_phbrI_score_rm_sex_specific_df.copy()\n",
    "data['category'] = ['{} {}'.format(data['age_categorical_3070'].values[i], \n",
    "                                   data['sex'].values[i]) for i in range(len(data.index.values))]\n",
    "data['val_or_discovery'] = 'Discovery'\n",
    "data['hue_cat'] = data['category'] + ' ' + data['val_or_discovery']  \n",
    "data = data.append(mhcI_df)\n",
    "\n",
    "print('PHBR-I corrected p-values: \\n{}\\n'.format(pd.DataFrame(get_joint_pvals(data))))\n",
    "\n",
    "# Plot subplot\n",
    "plt.subplot(1,2,1)\n",
    "\n",
    "ax = sns.boxplot(x='category', y='scores', data=data, \n",
    "                 order=['younger female', 'older female', 'younger male', 'older male'], \n",
    "                 palette=['lightpink', 'firebrick', 'lightblue', 'royalblue'], \n",
    "                 flierprops=flierprops, hue='val_or_discovery')\n",
    "\n",
    "plt.xlabel(''), plt.ylabel('Pan-cancer PHBR-I', fontsize=12)\n",
    "plt.xticks([0,1,2,3],['Younger\\nfemale\\n({},{})'.format(len(data[data['hue_cat']=='younger female Discovery']),len(data[data['hue_cat']=='younger female Validation'])), \n",
    "                      'Older\\nfemale\\n({},{})'.format(len(data[data['hue_cat']=='older female Discovery']),len(data[data['hue_cat']=='older female Validation'])), \n",
    "                      'Younger\\nmale\\n({},{})'.format(len(data[data['hue_cat']=='younger male Discovery']),len(data[data['hue_cat']=='younger male Validation'])), \n",
    "                      'Older\\nmale\\n({},{})'.format(len(data[data['hue_cat']=='older male Discovery']),len(data[data['hue_cat']=='older female Validation']))],\n",
    "          fontsize='small')\n",
    "\n",
    "# Set validation hatches\n",
    "for i, patch in enumerate(ax.artists):\n",
    "    hatch = next(hatches)\n",
    "    patch.set_hatch(hatch)\n",
    "    patch.set_facecolor(boxplot_colors[i])\n",
    "    \n",
    "plt.ylim(-0.5,20)\n",
    "plt.text(-0.2, 1.1, 'A', transform=ax.transAxes, fontsize=16, weight='bold')\n",
    "ax.legend_.remove()\n",
    "\n",
    "\n",
    "############## \n",
    "# B. PHBR-II #\n",
    "##############\n",
    "\n",
    "data = exp_phbrII_score_rm_sex_specific_df.copy()\n",
    "data['category'] = ['{} {}'.format(data['age_categorical_3070'].values[i], \n",
    "                                   data['sex'].values[i]) for i in range(len(data.index.values))]\n",
    "data['val_or_discovery'] = 'Discovery'\n",
    "data['hue_cat'] = data['category'] + ' ' + data['val_or_discovery'] \n",
    "data = data.append(mhcII_df)\n",
    "\n",
    "print('PHBR-II corrected p-values: \\n{}\\n'.format(pd.DataFrame(get_joint_pvals(data))))\n",
    "\n",
    "# Plot subplot\n",
    "plt.subplot(1,2,2)\n",
    "\n",
    "ax = sns.boxplot(x='category', y='scores', data=data, \n",
    "                 order=['younger female', 'older female', 'younger male', 'older male'], \n",
    "                 palette=['lightpink', 'firebrick', 'lightblue', 'royalblue'], \n",
    "                 flierprops=flierprops, hue='val_or_discovery')\n",
    "\n",
    "plt.xlabel(''), plt.ylabel('Pan-cancer PHBR-II', fontsize=12)\n",
    "plt.xticks([0,1,2,3],['Younger\\nfemale\\n({},{})'.format(len(data[data['hue_cat']=='younger female Discovery']),len(data[data['hue_cat']=='younger female Validation'])), \n",
    "                      'Older\\nfemale\\n({},{})'.format(len(data[data['hue_cat']=='older female Discovery']),len(data[data['hue_cat']=='older female Validation'])), \n",
    "                      'Younger\\nmale\\n({},{})'.format(len(data[data['hue_cat']=='younger male Discovery']),len(data[data['hue_cat']=='younger male Validation'])), \n",
    "                      'Older\\nmale\\n({},{})'.format(len(data[data['hue_cat']=='older male Discovery']),len(data[data['hue_cat']=='older male Validation']))],\n",
    "          fontsize='small')\n",
    "\n",
    "# set hatches and colors \n",
    "for i, patch in enumerate(ax.artists):\n",
    "    hatch = next(hatches)\n",
    "    patch.set_hatch(hatch)\n",
    "    patch.set_facecolor(boxplot_colors[i])\n",
    "    \n",
    "plt.text(-0.2, 1.1, 'B', transform=ax.transAxes, fontsize=16,  weight='bold')\n",
    "plt.ylim(-3,105)\n",
    "ax.legend_.remove()\n",
    "\n",
    "\n",
    "plt.tight_layout()\n",
    "savepath = '../figures/S7_discovery_vs_val.pdf'\n",
    "print('Saving to {}'.format(savepath))\n",
    "plt.savefig(savepath, bbox_inches='tight')\n",
    "plt.show()"
   ]
  },
  {
   "cell_type": "code",
   "execution_count": null,
   "metadata": {},
   "outputs": [],
   "source": []
  }
 ],
 "metadata": {
  "kernelspec": {
   "display_name": "Python 3",
   "language": "python",
   "name": "python3"
  },
  "language_info": {
   "codemirror_mode": {
    "name": "ipython",
    "version": 3
   },
   "file_extension": ".py",
   "mimetype": "text/x-python",
   "name": "python",
   "nbconvert_exporter": "python",
   "pygments_lexer": "ipython3",
   "version": "3.6.8"
  }
 },
 "nbformat": 4,
 "nbformat_minor": 2
}
