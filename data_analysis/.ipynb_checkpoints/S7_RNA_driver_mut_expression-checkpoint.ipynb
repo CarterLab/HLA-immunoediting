{
 "cells": [
  {
   "cell_type": "markdown",
   "metadata": {},
   "source": [
    "### Notebook \n",
    "- Creates Figure S7: Differences in driver mutation expression between patient groups"
   ]
  },
  {
   "cell_type": "code",
   "execution_count": 1,
   "metadata": {},
   "outputs": [],
   "source": [
    "import pandas as pd\n",
    "import numpy as np\n",
    "from scipy.stats import mannwhitneyu"
   ]
  },
  {
   "cell_type": "code",
   "execution_count": 2,
   "metadata": {},
   "outputs": [],
   "source": [
    "import sys\n",
    "sys.path.append('../scripts/')\n",
    "from benjamini_fdr import benjamini_fdr"
   ]
  },
  {
   "cell_type": "code",
   "execution_count": 3,
   "metadata": {},
   "outputs": [],
   "source": [
    "import matplotlib.pyplot as plt\n",
    "from matplotlib import gridspec\n",
    "import seaborn as sns\n",
    "sns.set_style('white')\n",
    "sns.set_style(\"ticks\")\n",
    "\n",
    "import matplotlib as mpl\n",
    "mpl.rcParams['pdf.fonttype'] = 42\n",
    "%matplotlib inline"
   ]
  },
  {
   "cell_type": "markdown",
   "metadata": {},
   "source": [
    "### Load driver mutations\n",
    "- Add RNA read count info"
   ]
  },
  {
   "cell_type": "code",
   "execution_count": 4,
   "metadata": {},
   "outputs": [
    {
     "name": "stdout",
     "output_type": "stream",
     "text": [
      "8136 patients\n",
      "7325 patients with RNA data\n"
     ]
    },
    {
     "data": {
      "text/html": [
       "<div>\n",
       "<style scoped>\n",
       "    .dataframe tbody tr th:only-of-type {\n",
       "        vertical-align: middle;\n",
       "    }\n",
       "\n",
       "    .dataframe tbody tr th {\n",
       "        vertical-align: top;\n",
       "    }\n",
       "\n",
       "    .dataframe thead th {\n",
       "        text-align: right;\n",
       "    }\n",
       "</style>\n",
       "<table border=\"1\" class=\"dataframe\">\n",
       "  <thead>\n",
       "    <tr style=\"text-align: right;\">\n",
       "      <th></th>\n",
       "      <th>PHBR-II_score</th>\n",
       "      <th>PHBR-I_score</th>\n",
       "      <th>Reference_Allele_readcounts</th>\n",
       "      <th>Total_readcounts</th>\n",
       "      <th>Tumor_Seq_Allele1_readcounts</th>\n",
       "      <th>Tumor_Seq_Allele2_readcounts</th>\n",
       "      <th>age_at_initial_pathologic_diagnosis</th>\n",
       "      <th>confidently_typed_MHC-I</th>\n",
       "      <th>confidently_typed_MHC-II</th>\n",
       "      <th>disease</th>\n",
       "      <th>driver_mutation</th>\n",
       "      <th>gender</th>\n",
       "      <th>num_tools_that_confirm</th>\n",
       "      <th>VAF</th>\n",
       "      <th>VAF_percentile_rank</th>\n",
       "      <th>t_alt_count</th>\n",
       "      <th>Complete TCGA ID</th>\n",
       "      <th>PAM50 mRNA</th>\n",
       "      <th>disease_w_BRCA_subtype</th>\n",
       "    </tr>\n",
       "    <tr>\n",
       "      <th>index</th>\n",
       "      <th></th>\n",
       "      <th></th>\n",
       "      <th></th>\n",
       "      <th></th>\n",
       "      <th></th>\n",
       "      <th></th>\n",
       "      <th></th>\n",
       "      <th></th>\n",
       "      <th></th>\n",
       "      <th></th>\n",
       "      <th></th>\n",
       "      <th></th>\n",
       "      <th></th>\n",
       "      <th></th>\n",
       "      <th></th>\n",
       "      <th></th>\n",
       "      <th></th>\n",
       "      <th></th>\n",
       "      <th></th>\n",
       "    </tr>\n",
       "  </thead>\n",
       "  <tbody>\n",
       "    <tr>\n",
       "      <td>TCGA-02-0047</td>\n",
       "      <td>6.887835865418258</td>\n",
       "      <td>1.4823198481963</td>\n",
       "      <td>26.0</td>\n",
       "      <td>39.0</td>\n",
       "      <td>26.0</td>\n",
       "      <td>13.0</td>\n",
       "      <td>78.0</td>\n",
       "      <td>True</td>\n",
       "      <td>True</td>\n",
       "      <td>TCGA-GBM</td>\n",
       "      <td>M_PIK3CA_N345K</td>\n",
       "      <td>MALE</td>\n",
       "      <td>4</td>\n",
       "      <td>0.346474</td>\n",
       "      <td>31.558442</td>\n",
       "      <td>61.5</td>\n",
       "      <td>NaN</td>\n",
       "      <td>Unknown</td>\n",
       "      <td>TCGA-GBM</td>\n",
       "    </tr>\n",
       "    <tr>\n",
       "      <td>TCGA-02-0055</td>\n",
       "      <td>8.975609756097562</td>\n",
       "      <td>0.8542955100893969</td>\n",
       "      <td>16.0</td>\n",
       "      <td>81.0</td>\n",
       "      <td>16.0</td>\n",
       "      <td>65.0</td>\n",
       "      <td>62.0</td>\n",
       "      <td>True</td>\n",
       "      <td>True</td>\n",
       "      <td>TCGA-GBM</td>\n",
       "      <td>M_TP53_V216M</td>\n",
       "      <td>FEMALE</td>\n",
       "      <td>4</td>\n",
       "      <td>0.604501</td>\n",
       "      <td>1.541746</td>\n",
       "      <td>40.5</td>\n",
       "      <td>NaN</td>\n",
       "      <td>Unknown</td>\n",
       "      <td>TCGA-GBM</td>\n",
       "    </tr>\n",
       "  </tbody>\n",
       "</table>\n",
       "</div>"
      ],
      "text/plain": [
       "                  PHBR-II_score        PHBR-I_score  \\\n",
       "index                                                 \n",
       "TCGA-02-0047  6.887835865418258     1.4823198481963   \n",
       "TCGA-02-0055  8.975609756097562  0.8542955100893969   \n",
       "\n",
       "              Reference_Allele_readcounts  Total_readcounts  \\\n",
       "index                                                         \n",
       "TCGA-02-0047                         26.0              39.0   \n",
       "TCGA-02-0055                         16.0              81.0   \n",
       "\n",
       "              Tumor_Seq_Allele1_readcounts  Tumor_Seq_Allele2_readcounts  \\\n",
       "index                                                                      \n",
       "TCGA-02-0047                          26.0                          13.0   \n",
       "TCGA-02-0055                          16.0                          65.0   \n",
       "\n",
       "              age_at_initial_pathologic_diagnosis  confidently_typed_MHC-I  \\\n",
       "index                                                                        \n",
       "TCGA-02-0047                                 78.0                     True   \n",
       "TCGA-02-0055                                 62.0                     True   \n",
       "\n",
       "              confidently_typed_MHC-II   disease driver_mutation  gender  \\\n",
       "index                                                                      \n",
       "TCGA-02-0047                      True  TCGA-GBM  M_PIK3CA_N345K    MALE   \n",
       "TCGA-02-0055                      True  TCGA-GBM    M_TP53_V216M  FEMALE   \n",
       "\n",
       "              num_tools_that_confirm       VAF  VAF_percentile_rank  \\\n",
       "index                                                                 \n",
       "TCGA-02-0047                       4  0.346474            31.558442   \n",
       "TCGA-02-0055                       4  0.604501             1.541746   \n",
       "\n",
       "              t_alt_count Complete TCGA ID PAM50 mRNA disease_w_BRCA_subtype  \n",
       "index                                                                         \n",
       "TCGA-02-0047         61.5              NaN    Unknown               TCGA-GBM  \n",
       "TCGA-02-0055         40.5              NaN    Unknown               TCGA-GBM  "
      ]
     },
     "execution_count": 4,
     "metadata": {},
     "output_type": "execute_result"
    }
   ],
   "source": [
    "data_df = pd.read_csv('../data/comprehensive_patient_df.BRCA_subtypes.tsv', sep='\\t', index_col=0)\n",
    "print('{} patients'.format(len(data_df)))\n",
    "data_df = data_df.dropna(subset=['Tumor_Seq_Allele2_readcounts']) # keep patients with RNA information\n",
    "# data_df['gender'] = data_df['gender'].apply(lambda x: )\n",
    "print('{} patients with RNA data'.format(len(data_df)))\n",
    "data_df.head(2)"
   ]
  },
  {
   "cell_type": "code",
   "execution_count": 5,
   "metadata": {},
   "outputs": [],
   "source": [
    "# add age categorical \n",
    "young_thresh = 52  # 30th percentile: 52, 40th: 57\n",
    "old_thresh = 68-1   # 70th percentile: 68, 60th: 65\n",
    "\n",
    "data_df['age_categorical_3070'] = pd.cut(data_df['age_at_initial_pathologic_diagnosis'], [0, young_thresh, old_thresh, data_df['age_at_initial_pathologic_diagnosis'].max()], labels=['younger', 'middle', 'older'])\n",
    "data_df['category'] = data_df.apply(lambda x: '{}\\n{}'.format(x.age_categorical_3070, x.gender), axis=1)"
   ]
  },
  {
   "cell_type": "markdown",
   "metadata": {},
   "source": [
    "##### Plots"
   ]
  },
  {
   "cell_type": "code",
   "execution_count": 6,
   "metadata": {},
   "outputs": [],
   "source": [
    "def get_joint_pvals(df, column):\n",
    "    data = df.copy()\n",
    "    f_data = data[data['gender']=='FEMALE']\n",
    "    m_data = data[data['gender']=='MALE']\n",
    "\n",
    "    YF_OF = mannwhitneyu(f_data[f_data['age_categorical_3070'] == 'younger'][column].values, \n",
    "                         f_data[f_data['age_categorical_3070'] == 'older'][column].values).pvalue\n",
    "    YF_OM = mannwhitneyu(f_data[f_data['age_categorical_3070'] == 'younger'][column].values, \n",
    "                         m_data[m_data['age_categorical_3070'] == 'older'][column].values).pvalue\n",
    "    YF_YM = mannwhitneyu(f_data[f_data['age_categorical_3070'] == 'younger'][column].values, \n",
    "                         m_data[m_data['age_categorical_3070'] == 'younger'][column].values).pvalue\n",
    "\n",
    "    OF_YM = mannwhitneyu(f_data[f_data['age_categorical_3070'] == 'older'][column].values, \n",
    "                         m_data[m_data['age_categorical_3070'] == 'younger'][column].values).pvalue\n",
    "    OF_OM = mannwhitneyu(f_data[f_data['age_categorical_3070'] == 'older'][column].values, \n",
    "                         m_data[m_data['age_categorical_3070'] == 'older'][column].values).pvalue\n",
    "\n",
    "    YM_OM = mannwhitneyu(m_data[m_data['age_categorical_3070'] == 'younger'][column].values, \n",
    "                         m_data[m_data['age_categorical_3070'] == 'older'][column].values).pvalue\n",
    "\n",
    "    pvals = [['Young female, Old female', YF_OF], ['Young female, Old male', YF_OM], \n",
    "             ['Young female, Young male', YF_YM], ['Old female, Young male', OF_YM], \n",
    "             ['Old female, Old male', OF_OM], ['Young male, Old male', YM_OM]]\n",
    "    return benjamini_fdr(pvals)"
   ]
  },
  {
   "cell_type": "code",
   "execution_count": 7,
   "metadata": {},
   "outputs": [
    {
     "name": "stderr",
     "output_type": "stream",
     "text": [
      "/cellar/users/andreabc/miniconda3/lib/python3.6/site-packages/ipykernel_launcher.py:2: SettingWithCopyWarning: \n",
      "A value is trying to be set on a copy of a slice from a DataFrame.\n",
      "Try using .loc[row_indexer,col_indexer] = value instead\n",
      "\n",
      "See the caveats in the documentation: http://pandas.pydata.org/pandas-docs/stable/user_guide/indexing.html#returning-a-view-versus-a-copy\n",
      "  \n",
      "/cellar/users/andreabc/miniconda3/lib/python3.6/site-packages/ipykernel_launcher.py:3: SettingWithCopyWarning: \n",
      "A value is trying to be set on a copy of a slice from a DataFrame.\n",
      "Try using .loc[row_indexer,col_indexer] = value instead\n",
      "\n",
      "See the caveats in the documentation: http://pandas.pydata.org/pandas-docs/stable/user_guide/indexing.html#returning-a-view-versus-a-copy\n",
      "  This is separate from the ipykernel package so we can avoid doing imports until\n"
     ]
    },
    {
     "name": "stdout",
     "output_type": "stream",
     "text": [
      "\n",
      "Sex medians: gender\n",
      "FEMALE    0.458333\n",
      "MALE      0.477605\n",
      "Name: RNA_fraction, dtype: float64\n",
      "\n",
      "Age medians: age_categorical_3070\n",
      "younger    0.440000\n",
      "middle     0.479730\n",
      "older      0.485332\n",
      "Name: RNA_fraction, dtype: float64\n",
      "\n",
      "Combined P-values:  [['Young female, Old male', 1.190704430394736e-08], ['Young female, Old female', 0.0002777298143229866], ['Young male, Old male', 0.0005931348418671224], ['Young female, Young male', 0.007848881355429011], ['Old female, Old male', 0.015107785548333835], ['Old female, Young male', 0.10724472055459427]]\n",
      "\n",
      "Combined medians: category\n",
      "middle\\nfemale     0.476901\n",
      "middle\\nmale       0.483657\n",
      "older\\nfemale      0.473684\n",
      "older\\nmale        0.500000\n",
      "younger\\nfemale    0.425245\n",
      "younger\\nmale      0.454545\n",
      "Name: RNA_fraction, dtype: float64\n"
     ]
    },
    {
     "data": {
      "image/png": "[encoded data removed]",
      "text/plain": [
       "<Figure size 648x216 with 3 Axes>"
      ]
     },
     "metadata": {
      "needs_background": "light"
     },
     "output_type": "display_data"
    }
   ],
   "source": [
    "data = data_df.dropna(subset=['gender','age_categorical_3070'])\n",
    "data['RNA_fraction'] = data['Tumor_Seq_Allele2_readcounts']/(data['Reference_Allele_readcounts']+data['Tumor_Seq_Allele2_readcounts'])\n",
    "data['category'] = data.apply(lambda x: '{}\\n{}'.format(x['age_categorical_3070'], x['gender'].lower()), axis=1)\n",
    "\n",
    "fig = plt.figure(figsize=(9,3)) \n",
    "gs = gridspec.GridSpec(1, 3, width_ratios=[2.5,2.5,5]) \n",
    "\n",
    "## Sex\n",
    "ax0 = plt.subplot(gs[0])\n",
    "p = mannwhitneyu(data[data['gender']=='FEMALE']['RNA_fraction'].values,\n",
    "                 data[data['gender']=='MALE']['RNA_fraction'].values).pvalue\n",
    "\n",
    "sns.boxplot(x='gender', y='RNA_fraction', data=data, order=['FEMALE','MALE'],\n",
    "            palette=['lightpink', 'lightblue'], ax=ax0)\n",
    "plt.xlabel('p<{:.3}'.format(p))\n",
    "plt.ylim(-.1,1.3)\n",
    "plt.xticks([0,1], ['Female\\n({})'.format(len(set(data[data['gender']=='FEMALE'].index))), \n",
    "                   'Male\\n({})'.format(len(set(data[data['gender']=='MALE'].index)))])\n",
    "medians = data.groupby(['gender'])['RNA_fraction'].median()\n",
    "print('\\nSex medians:', medians)\n",
    "\n",
    "## Age\n",
    "ax1 = plt.subplot(gs[1])\n",
    "p = mannwhitneyu(data[data['age_categorical_3070']=='younger']['RNA_fraction'].values,\n",
    "                 data[data['age_categorical_3070']=='older']['RNA_fraction'].values).pvalue\n",
    "\n",
    "sns.boxplot(x='age_categorical_3070', y='RNA_fraction', data=data, order=['younger','older'],\n",
    "            palette=['lightgrey', 'darkgrey'], ax=ax1)\n",
    "plt.xlabel('p<{:.3}'.format(p))\n",
    "plt.xticks([0,1], ['Younger\\n({})'.format(len(set(data[data['age_categorical_3070']=='younger'].index))), \n",
    "                   'Older\\n({})'.format(len(set(data[data['age_categorical_3070']=='older'].index)))])\n",
    "plt.ylim(-.1,1.3)\n",
    "medians = data.groupby(['age_categorical_3070'])['RNA_fraction'].median()\n",
    "print('\\nAge medians:', medians)\n",
    "\n",
    "## Both\n",
    "ax2 = plt.subplot(gs[2])\n",
    "print('\\nCombined P-values: ',get_joint_pvals(data, 'RNA_fraction'))\n",
    "\n",
    "\n",
    "sns.boxplot(x='category', y='RNA_fraction', data=data, palette=['lightpink','firebrick','lightblue','royalblue'], \n",
    "            order=['younger\\nfemale','older\\nfemale','younger\\nmale','older\\nmale'], ax=ax2)\n",
    "plt.ylim(-.1,1.3)\n",
    "plt.xticks([0,1,2,3],['Younger\\nfemale\\n({})'.format(len(data[data['category']=='younger\\nfemale'])), \n",
    "                      'Older\\nfemale\\n({})'.format(len(data[data['category']=='older\\nfemale'])), \n",
    "                      'Younger\\nmale\\n({})'.format(len(data[data['category']=='younger\\nmale'])), \n",
    "                      'Older\\nmale\\n({})'.format(len(data[data['category']=='older\\nmale']))])\n",
    "medians = data.groupby(['category'])['RNA_fraction'].median()\n",
    "print('\\nCombined medians:', medians)\n",
    "\n",
    "## save\n",
    "savepath = '../figures/S7_mut_expression.boxplot.pdf'\n",
    "plt.tight_layout()\n",
    "plt.savefig(savepath)\n",
    "plt.show()"
   ]
  },
  {
   "cell_type": "code",
   "execution_count": null,
   "metadata": {},
   "outputs": [],
   "source": []
  }
 ],
 "metadata": {
  "kernelspec": {
   "display_name": "Python 3",
   "language": "python",
   "name": "python3"
  },
  "language_info": {
   "codemirror_mode": {
    "name": "ipython",
    "version": 3
   },
   "file_extension": ".py",
   "mimetype": "text/x-python",
   "name": "python",
   "nbconvert_exporter": "python",
   "pygments_lexer": "ipython3",
   "version": "3.6.8"
  }
 },
 "nbformat": 4,
 "nbformat_minor": 2
}
