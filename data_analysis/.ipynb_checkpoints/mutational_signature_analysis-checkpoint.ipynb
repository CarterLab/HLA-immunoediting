{
 "cells": [
  {
   "cell_type": "markdown",
   "metadata": {},
   "source": [
    "### Notebook\n",
    "- Creates Figure 3: Sex-specific exposure analysis with mutational signatures"
   ]
  },
  {
   "cell_type": "code",
   "execution_count": 1,
   "metadata": {},
   "outputs": [],
   "source": [
    "import pandas as pd\n",
    "import numpy as np\n",
    "from collections import defaultdict\n",
    "from scipy.stats import mannwhitneyu\n",
    "\n",
    "import matplotlib.pyplot as plt\n",
    "from matplotlib import gridspec\n",
    "import seaborn as sns\n",
    "sns.set_style('white')\n",
    "%matplotlib inline"
   ]
  },
  {
   "cell_type": "markdown",
   "metadata": {},
   "source": [
    "### 1. Load data"
   ]
  },
  {
   "cell_type": "code",
   "execution_count": 3,
   "metadata": {},
   "outputs": [],
   "source": [
    "# Signature data from Ludmil\n",
    "total_mutations = pd.read_csv('../data/mutational_signatures/total_mutations.tsv',sep='\\t')\n",
    "simple_mutations = pd.read_csv('../data/mutational_signatures/simple_mutations.tsv',sep='\\t')\n",
    "mutational_signatures = pd.read_csv('../data/mutational_signatures/mutational_signatures.tsv',sep='\\t')"
   ]
  },
  {
   "cell_type": "code",
   "execution_count": 4,
   "metadata": {},
   "outputs": [],
   "source": [
    "# Load mutation and clinical data\n",
    "binary_mut_df = pd.read_csv('../data/patient_binary_driver.expressed_only.matrix', sep='\\t', index_col=0)\n",
    "clinical_df = pd.read_csv('../data/all_clinical_tcga.txt.gz', sep='\\t', index_col=0)"
   ]
  },
  {
   "cell_type": "markdown",
   "metadata": {},
   "source": [
    "### 2. Age analysis\n",
    "- See which tumor types have \n",
    "    - C>T mutations (predominant in Signature 1)\n",
    "    - T>C mutations (predominant in Signature 5)"
   ]
  },
  {
   "cell_type": "code",
   "execution_count": 5,
   "metadata": {},
   "outputs": [],
   "source": [
    "sig_color_dict = {\n",
    "    1: 'red',\n",
    "    0: 'grey' }\n",
    "base_sub_dict = {\n",
    "    'G>A': 'C>A',\n",
    "    'A>G': 'T>G',\n",
    "    'G>C': 'C>T',\n",
    "    'A>C': 'T>C',\n",
    "    'A>T': 'T>A',\n",
    "    'G>T': 'C>T'}"
   ]
  },
  {
   "cell_type": "code",
   "execution_count": 6,
   "metadata": {},
   "outputs": [],
   "source": [
    "driver_df = pd.read_csv('/cellar/users/ramarty/Data/hla/mutations/coordinates.mutations.csv', index_col=0)\n",
    "\n",
    "braf_v600m = pd.read_csv('/cellar/users/andreabc/Data/TCGA/MAFs/patient_MAFs_protected/TCGA-DA-A3F8.maf', sep='\\t')\n",
    "braf_v600m = braf_v600m.iloc[[2504]][driver_df.columns[:-1]]\n",
    "braf_v600m['combined'] = ['BRAF_V600M']\n",
    "\n",
    "# add missing mutation\n",
    "driver_df = driver_df.append(braf_v600m)"
   ]
  },
  {
   "cell_type": "code",
   "execution_count": 7,
   "metadata": {
    "scrolled": true
   },
   "outputs": [
    {
     "data": {
      "text/html": [
       "<div>\n",
       "<style scoped>\n",
       "    .dataframe tbody tr th:only-of-type {\n",
       "        vertical-align: middle;\n",
       "    }\n",
       "\n",
       "    .dataframe tbody tr th {\n",
       "        vertical-align: top;\n",
       "    }\n",
       "\n",
       "    .dataframe thead th {\n",
       "        text-align: right;\n",
       "    }\n",
       "</style>\n",
       "<table border=\"1\" class=\"dataframe\">\n",
       "  <thead>\n",
       "    <tr style=\"text-align: right;\">\n",
       "      <th></th>\n",
       "      <th>Hugo_Symbol</th>\n",
       "      <th>Protein_position</th>\n",
       "      <th>Amino_acids</th>\n",
       "      <th>Chromosome</th>\n",
       "      <th>Start_Position</th>\n",
       "      <th>Strand</th>\n",
       "      <th>Reference_Allele</th>\n",
       "      <th>Tumor_Seq_Allele2</th>\n",
       "      <th>combined</th>\n",
       "      <th>Base_change</th>\n",
       "      <th>Base_substitution</th>\n",
       "    </tr>\n",
       "  </thead>\n",
       "  <tbody>\n",
       "    <tr>\n",
       "      <th>398</th>\n",
       "      <td>TP53</td>\n",
       "      <td>281/393</td>\n",
       "      <td>D/E</td>\n",
       "      <td>chr17</td>\n",
       "      <td>7673777</td>\n",
       "      <td>+</td>\n",
       "      <td>G</td>\n",
       "      <td>C</td>\n",
       "      <td>M_TP53_D281E</td>\n",
       "      <td>G&gt;C</td>\n",
       "      <td>C&gt;T</td>\n",
       "    </tr>\n",
       "    <tr>\n",
       "      <th>399</th>\n",
       "      <td>TP53</td>\n",
       "      <td>272/393</td>\n",
       "      <td>V/M</td>\n",
       "      <td>chr17</td>\n",
       "      <td>7673806</td>\n",
       "      <td>+</td>\n",
       "      <td>C</td>\n",
       "      <td>T</td>\n",
       "      <td>M_TP53_V272M</td>\n",
       "      <td>C&gt;T</td>\n",
       "      <td>C&gt;T</td>\n",
       "    </tr>\n",
       "  </tbody>\n",
       "</table>\n",
       "</div>"
      ],
      "text/plain": [
       "    Hugo_Symbol Protein_position Amino_acids Chromosome  Start_Position  \\\n",
       "398        TP53          281/393         D/E      chr17         7673777   \n",
       "399        TP53          272/393         V/M      chr17         7673806   \n",
       "\n",
       "    Strand Reference_Allele Tumor_Seq_Allele2      combined Base_change  \\\n",
       "398      +                G                 C  M_TP53_D281E         G>C   \n",
       "399      +                C                 T  M_TP53_V272M         C>T   \n",
       "\n",
       "    Base_substitution  \n",
       "398               C>T  \n",
       "399               C>T  "
      ]
     },
     "execution_count": 7,
     "metadata": {},
     "output_type": "execute_result"
    }
   ],
   "source": [
    "driver_df['Base_change'] = driver_df[['Reference_Allele', 'Tumor_Seq_Allele2']].apply(lambda x: '>'.join(x), axis=1)\n",
    "driver_df['combined'] = driver_df['combined'].apply(lambda x: 'M_{}'.format(x))\n",
    "driver_df['Base_substitution'] = [change if change not in base_sub_dict.keys() else base_sub_dict[change] for change in driver_df['Base_change'].values]\n",
    "driver_df.head(2)"
   ]
  },
  {
   "cell_type": "code",
   "execution_count": 8,
   "metadata": {},
   "outputs": [],
   "source": [
    "# Compare presentability for C>T/T>C compared to other mutations\n",
    "aff_df_I = pd.read_csv('/cellar/users/andreabc/Data/refs/driver_matrix/mhc_i.driver.matrix', sep='\\t', index_col=0)\n",
    "aff_df_II = pd.read_csv('/cellar/users/andreabc/Data/refs/driver_matrix/mhc_ii.driver.matrix', sep='\\t', index_col=0)"
   ]
  },
  {
   "cell_type": "code",
   "execution_count": 9,
   "metadata": {},
   "outputs": [],
   "source": [
    "ct_muts = driver_df[driver_df['Base_change'].isin(['C>T', 'T>C'])].combined.values\n",
    "non_ct_muts = driver_df[~driver_df['Base_change'].isin(['C>T', 'T>C'])].combined.values\n",
    "\n",
    "# affinities\n",
    "ct_aff_I = aff_df_I.loc[ct_muts]\n",
    "ct_aff_I['class'] = 'I'\n",
    "ct_aff_I['mut_type'] = 'C>T/T>C mutations'\n",
    "\n",
    "ct_aff_II = aff_df_II.loc[ct_muts]\n",
    "ct_aff_II['class'] = 'II'\n",
    "ct_aff_II['mut_type'] = 'C>T/T>C mutations'\n",
    "\n",
    "non_ct_aff_I = aff_df_I.loc[non_ct_muts]\n",
    "non_ct_aff_I['class'] = 'I'\n",
    "non_ct_aff_I['mut_type'] = 'Other mutations'\n",
    "\n",
    "non_ct_aff_II = aff_df_II.loc[non_ct_muts]\n",
    "non_ct_aff_II['class'] = 'II'\n",
    "non_ct_aff_II['mut_type'] = 'Other mutations'"
   ]
  },
  {
   "cell_type": "code",
   "execution_count": 10,
   "metadata": {
    "scrolled": true
   },
   "outputs": [
    {
     "name": "stderr",
     "output_type": "stream",
     "text": [
      "/cellar/users/andreabc/miniconda3/lib/python3.6/site-packages/pandas/core/frame.py:6201: FutureWarning: Sorting because non-concatenation axis is not aligned. A future version\n",
      "of pandas will change to not sort by default.\n",
      "\n",
      "To accept the future behavior, pass 'sort=True'.\n",
      "\n",
      "To retain the current behavior and silence the warning, pass sort=False\n",
      "\n",
      "  sort=sort)\n"
     ]
    },
    {
     "data": {
      "text/html": [
       "<div>\n",
       "<style scoped>\n",
       "    .dataframe tbody tr th:only-of-type {\n",
       "        vertical-align: middle;\n",
       "    }\n",
       "\n",
       "    .dataframe tbody tr th {\n",
       "        vertical-align: top;\n",
       "    }\n",
       "\n",
       "    .dataframe thead th {\n",
       "        text-align: right;\n",
       "    }\n",
       "</style>\n",
       "<table border=\"1\" class=\"dataframe\">\n",
       "  <thead>\n",
       "    <tr style=\"text-align: right;\">\n",
       "      <th></th>\n",
       "      <th>mut_type</th>\n",
       "      <th>class</th>\n",
       "      <th>variable</th>\n",
       "      <th>value</th>\n",
       "    </tr>\n",
       "  </thead>\n",
       "  <tbody>\n",
       "    <tr>\n",
       "      <th>0</th>\n",
       "      <td>C&gt;T/T&gt;C mutations</td>\n",
       "      <td>I</td>\n",
       "      <td>DRB1_0101</td>\n",
       "      <td>NaN</td>\n",
       "    </tr>\n",
       "    <tr>\n",
       "      <th>1</th>\n",
       "      <td>C&gt;T/T&gt;C mutations</td>\n",
       "      <td>I</td>\n",
       "      <td>DRB1_0101</td>\n",
       "      <td>NaN</td>\n",
       "    </tr>\n",
       "  </tbody>\n",
       "</table>\n",
       "</div>"
      ],
      "text/plain": [
       "            mut_type class   variable  value\n",
       "0  C>T/T>C mutations     I  DRB1_0101    NaN\n",
       "1  C>T/T>C mutations     I  DRB1_0101    NaN"
      ]
     },
     "execution_count": 10,
     "metadata": {},
     "output_type": "execute_result"
    }
   ],
   "source": [
    "df = ct_aff_I.append(ct_aff_II.append(non_ct_aff_I.append(non_ct_aff_II)))\n",
    "df = pd.melt(df, id_vars=['mut_type', 'class'])\n",
    "df.head(2)"
   ]
  },
  {
   "cell_type": "code",
   "execution_count": null,
   "metadata": {},
   "outputs": [],
   "source": [
    "p_I = mannwhitneyu(df[(df['class']=='I') & (df['mut_type']=='C>T/T>C')].dropna().value.values,\n",
    "                   df[(df['class']=='I') & (df['mut_type']=='other')].dropna().value.values).pvalue\n",
    "p_II = mannwhitneyu(df[(df['class']=='II') & (df['mut_type']=='C>T/T>C')].dropna().value.values,\n",
    "                   df[(df['class']=='II') & (df['mut_type']=='other')].dropna().value.values).pvalue\n",
    "\n",
    "plt.figure(figsize=(3,4))\n",
    "sns.boxplot(x='class', y='value', hue='mut_type', data=df, palette='Set3')\n",
    "plt.xlabel(''), plt.xticks([0,1], ['MHC-I\\np<{:.3}'.format(p_I), \n",
    "                                   'MHC-II\\np<{:.3}'.format(p_II)])\n",
    "plt.ylabel('Allele-specific best-rank (BR) score')\n",
    "# plt.title('365 C>T/T>C driver mutations, 635 other')\n",
    "plt.legend(loc='upper right')\n",
    "\n",
    "savepath = '/cellar/users/andreabc/Data/hla_sex/figures/3_CT_mutation_affinities.boxplot.pdf'\n",
    "print('Saving to {}'.format(savepath)), plt.savefig(savepath, bbox_inches='tight')\n",
    "plt.show()"
   ]
  },
  {
   "cell_type": "code",
   "execution_count": 44,
   "metadata": {},
   "outputs": [
    {
     "name": "stdout",
     "output_type": "stream",
     "text": [
      "3.3241\n",
      "2.955\n"
     ]
    }
   ],
   "source": [
    "print(df[(df['class']=='I') & (df['mut_type']=='C>T/T>C')].value.median())\n",
    "print(df[(df['class']=='I') & (df['mut_type']=='other')].value.median())"
   ]
  },
  {
   "cell_type": "code",
   "execution_count": 43,
   "metadata": {},
   "outputs": [
    {
     "name": "stdout",
     "output_type": "stream",
     "text": [
      "26.0\n",
      "26.0\n"
     ]
    }
   ],
   "source": [
    "print(df[(df['class']=='II') & (df['mut_type']=='C>T/T>C')].value.median())\n",
    "print(df[(df['class']=='II') & (df['mut_type']=='other')].value.median())"
   ]
  },
  {
   "cell_type": "markdown",
   "metadata": {},
   "source": [
    "### Sex analysis\n",
    "- Examine M/F log ratios"
   ]
  },
  {
   "cell_type": "code",
   "execution_count": 11,
   "metadata": {},
   "outputs": [],
   "source": [
    "mutational_signatures['Log2_Ratio'] = np.log2(mutational_signatures['Mean Ratio (Male / Female)'])\n",
    "simple_mutations['Log2_Ratio'] = np.log2(simple_mutations['Mean Ratio (Male / Female)'])\n",
    "total_mutations['Log2_Ratio'] = np.log2(total_mutations['Mean Ratio (Male / Female)'])"
   ]
  },
  {
   "cell_type": "code",
   "execution_count": 12,
   "metadata": {
    "scrolled": true
   },
   "outputs": [],
   "source": [
    "mutational_signatures['cancer_signature'] = [mutational_signatures['Cancer Type'].values[i] + ' ' + mutational_signatures['Mutational Signatures'].values[i].split('-')[1] for i in range(len(mutational_signatures))]\n",
    "# mutational_signatures['color'] = [gender_color_dict[int(x < 0)] for x in mutational_signatures['Log2_Ratio'].values]\n",
    "mutational_signatures['Signature_short'] = [x.split('-')[1] for x in mutational_signatures['Mutational Signatures'].values]"
   ]
  },
  {
   "cell_type": "code",
   "execution_count": 13,
   "metadata": {},
   "outputs": [],
   "source": [
    "temp_data = mutational_signatures[['Cancer Type', 'Signature_short', 'Log2_Ratio']]\n",
    "temp_data = temp_data.pivot('Cancer Type', 'Signature_short', 'Log2_Ratio')"
   ]
  },
  {
   "cell_type": "code",
   "execution_count": 14,
   "metadata": {},
   "outputs": [],
   "source": [
    "labels = pd.DataFrame('', columns=temp_data.columns, index=temp_data.index)\n",
    "# add significant labels\n",
    "for i in range(len(mutational_signatures)):\n",
    "    if mutational_signatures['Q-value'].values[i] < 0.05:\n",
    "        labels.loc[mutational_signatures['Cancer Type'].values[i]][mutational_signatures['Signature_short'].values[i]] = '*'"
   ]
  },
  {
   "cell_type": "code",
   "execution_count": 15,
   "metadata": {},
   "outputs": [],
   "source": [
    "simple_mutations_SKCM = simple_mutations[simple_mutations['Cancer Type'] == 'SKCM']\n",
    "mutational_signatures_SKCM = mutational_signatures[mutational_signatures['Cancer Type'] == 'SKCM']\n",
    "\n",
    "simple_mutations_GBM = simple_mutations[simple_mutations['Cancer Type'] == 'GBM']\n",
    "mutational_signatures_GBM = mutational_signatures[mutational_signatures['Cancer Type'] == 'GBM']"
   ]
  },
  {
   "cell_type": "code",
   "execution_count": 16,
   "metadata": {},
   "outputs": [],
   "source": [
    "mutation_categories = pd.read_csv('/cellar/users/ramarty/Data/hla_sex/exposure/driver_mutation_signatures.tsv',\n",
    "                        sep='\\t', header=None)\n",
    "mutation_categories.columns = ['Mutational Signature', 'Number of Mutations',\n",
    "                              'Percentage of Mutations', 'Function']\n",
    "mutation_categories['Percentage of Mutations'] = pd.Series([x[:-1] for x in mutation_categories['Percentage of Mutations']]).astype(float)\n",
    "mutation_categories['Signature'] = [x.split('-')[1] for x in mutation_categories['Mutational Signature'].values]"
   ]
  },
  {
   "cell_type": "code",
   "execution_count": 17,
   "metadata": {},
   "outputs": [
    {
     "data": {
      "text/html": [
       "<div>\n",
       "<style scoped>\n",
       "    .dataframe tbody tr th:only-of-type {\n",
       "        vertical-align: middle;\n",
       "    }\n",
       "\n",
       "    .dataframe tbody tr th {\n",
       "        vertical-align: top;\n",
       "    }\n",
       "\n",
       "    .dataframe thead th {\n",
       "        text-align: right;\n",
       "    }\n",
       "</style>\n",
       "<table border=\"1\" class=\"dataframe\">\n",
       "  <thead>\n",
       "    <tr style=\"text-align: right;\">\n",
       "      <th></th>\n",
       "      <th>Mutational Signature</th>\n",
       "      <th>Number of Mutations</th>\n",
       "      <th>Percentage of Mutations</th>\n",
       "      <th>Function</th>\n",
       "      <th>Signature</th>\n",
       "    </tr>\n",
       "  </thead>\n",
       "  <tbody>\n",
       "    <tr>\n",
       "      <th>0</th>\n",
       "      <td>Signature Subs-01</td>\n",
       "      <td>196</td>\n",
       "      <td>19.6</td>\n",
       "      <td>Clock-like mutations that accumulate with age</td>\n",
       "      <td>01</td>\n",
       "    </tr>\n",
       "    <tr>\n",
       "      <th>1</th>\n",
       "      <td>Signature Subs-02</td>\n",
       "      <td>36</td>\n",
       "      <td>3.6</td>\n",
       "      <td>Aberrant APOBEC activity</td>\n",
       "      <td>02</td>\n",
       "    </tr>\n",
       "    <tr>\n",
       "      <th>2</th>\n",
       "      <td>Signature Subs-05</td>\n",
       "      <td>468</td>\n",
       "      <td>46.8</td>\n",
       "      <td>Clock-like mutations that accumulate with age</td>\n",
       "      <td>05</td>\n",
       "    </tr>\n",
       "    <tr>\n",
       "      <th>3</th>\n",
       "      <td>Signature Subs-10a</td>\n",
       "      <td>25</td>\n",
       "      <td>2.5</td>\n",
       "      <td>Mutations due to POLE deficiency</td>\n",
       "      <td>10a</td>\n",
       "    </tr>\n",
       "    <tr>\n",
       "      <th>4</th>\n",
       "      <td>Signature Subs-10b</td>\n",
       "      <td>240</td>\n",
       "      <td>24.0</td>\n",
       "      <td>Mutations due to POLE deficiency</td>\n",
       "      <td>10b</td>\n",
       "    </tr>\n",
       "    <tr>\n",
       "      <th>5</th>\n",
       "      <td>Signature Subs-13</td>\n",
       "      <td>35</td>\n",
       "      <td>3.5</td>\n",
       "      <td>Aberrant APOBEC activity</td>\n",
       "      <td>13</td>\n",
       "    </tr>\n",
       "  </tbody>\n",
       "</table>\n",
       "</div>"
      ],
      "text/plain": [
       "  Mutational Signature  Number of Mutations  Percentage of Mutations  \\\n",
       "0    Signature Subs-01                  196                     19.6   \n",
       "1    Signature Subs-02                   36                      3.6   \n",
       "2    Signature Subs-05                  468                     46.8   \n",
       "3   Signature Subs-10a                   25                      2.5   \n",
       "4   Signature Subs-10b                  240                     24.0   \n",
       "5    Signature Subs-13                   35                      3.5   \n",
       "\n",
       "                                        Function Signature  \n",
       "0  Clock-like mutations that accumulate with age        01  \n",
       "1                       Aberrant APOBEC activity        02  \n",
       "2  Clock-like mutations that accumulate with age        05  \n",
       "3               Mutations due to POLE deficiency       10a  \n",
       "4               Mutations due to POLE deficiency       10b  \n",
       "5                       Aberrant APOBEC activity        13  "
      ]
     },
     "execution_count": 17,
     "metadata": {},
     "output_type": "execute_result"
    }
   ],
   "source": [
    "mutation_categories"
   ]
  },
  {
   "cell_type": "code",
   "execution_count": 18,
   "metadata": {},
   "outputs": [],
   "source": [
    "p_I = 1.1\n",
    "p_II = 1.1"
   ]
  },
  {
   "cell_type": "code",
   "execution_count": 51,
   "metadata": {},
   "outputs": [
    {
     "name": "stdout",
     "output_type": "stream",
     "text": [
      "Saving to /cellar/users/andreabc/Data/hla_sex/figures/3_panel.pdf\n"
     ]
    },
    {
     "data": {
      "image/png": "[encoded data removed]",
      "text/plain": [
       "<Figure size 792x288 with 4 Axes>"
      ]
     },
     "metadata": {
      "needs_background": "light"
     },
     "output_type": "display_data"
    }
   ],
   "source": [
    "plt.figure(figsize=(11,4))\n",
    "\n",
    "#############################################\n",
    "# A. Sex-ratios of mut. signatures by tumor #\n",
    "#############################################\n",
    "plt.subplot2grid((1, 8), (0, 0), colspan=4, aspect=1)\n",
    "\n",
    "sns.heatmap(temp_data, cmap=sns.diverging_palette(1, 255, as_cmap=True), linewidths=0.1, \n",
    "            center=0, vmin=-2.5, vmax=2.5, xticklabels=True, yticklabels=True)\n",
    "\n",
    "plt.xticks(rotation=90, fontsize=8), \n",
    "plt.xlabel('Mutational Signature')\n",
    "plt.yticks(fontsize=8)\n",
    "\n",
    "################################################\n",
    "# B. Mutational signatures in driver mutations #\n",
    "################################################\n",
    "plt.subplot2grid((1, 8), (0, 4), colspan=2)\n",
    "\n",
    "sns.barplot(x='Signature', y='Percentage of Mutations', \n",
    "            data=mutation_categories.sort_values('Percentage of Mutations', ascending=False),\n",
    "            color='lightgrey')\n",
    "\n",
    "plt.xticks(rotation=45), plt.xlabel('Mutational Signature')\n",
    "plt.ylim(0,51)\n",
    "plt.subplots_adjust(wspace=0, hspace=0)\n",
    "\n",
    "###############################\n",
    "# C. Allele-specific affinity #\n",
    "###############################\n",
    "plt.subplot2grid((1, 8), (0, 6), colspan=2)\n",
    "\n",
    "p_I = mannwhitneyu(df[(df['class']=='I') & (df['mut_type']=='C>T/T>C mutations')].dropna().value.values,\n",
    "                   df[(df['class']=='I') & (df['mut_type']=='Other mutations')].dropna().value.values).pvalue\n",
    "p_II = mannwhitneyu(df[(df['class']=='II') & (df['mut_type']=='C>T/T>C mutations')].dropna().value.values,\n",
    "                   df[(df['class']=='II') & (df['mut_type']=='Other mutations')].dropna().value.values).pvalue\n",
    "\n",
    "ax = sns.boxplot(x='class', y='value', hue='mut_type', data=df, palette='Set3')\n",
    "plt.xlabel(''), plt.xticks([0,1], ['MHC-I\\np<{:.3}'.format(p_I), \n",
    "                                   'MHC-II\\np<{:.3}'.format(p_II)])\n",
    "plt.ylabel('Allele-specific best-rank (BR) score')\n",
    "plt.ylim(-5,105)\n",
    "ax.get_legend().remove()\n",
    "\n",
    "# letters\n",
    "plt.text(-9.5,110,'A', fontsize=16)\n",
    "plt.text(-4,  110,'B', fontsize=16)\n",
    "plt.text(-1.1,110,'C', fontsize=16)\n",
    "\n",
    "# save\n",
    "plt.tight_layout(pad=1.3)\n",
    "\n",
    "savepath = '../figures/Figure_3.pdf'\n",
    "print('Saving to {}'.format(savepath))\n",
    "plt.savefig(savepath, bbox_inches='tight')\n",
    "plt.show()"
   ]
  },
  {
   "cell_type": "code",
   "execution_count": null,
   "metadata": {},
   "outputs": [],
   "source": []
  },
  {
   "cell_type": "code",
   "execution_count": null,
   "metadata": {},
   "outputs": [],
   "source": []
  },
  {
   "cell_type": "code",
   "execution_count": 29,
   "metadata": {},
   "outputs": [
    {
     "data": {
      "image/png": "[encoded data removed]",
      "text/plain": [
       "<Figure size 864x288 with 4 Axes>"
      ]
     },
     "metadata": {
      "needs_background": "light"
     },
     "output_type": "display_data"
    }
   ],
   "source": [
    "plt.figure(figsize=(12,4))\n",
    "\n",
    "# A.\n",
    "plt.subplot2grid((1, 5), (0, 0), colspan=3, aspect=1)\n",
    "sns.heatmap(temp_data, cmap=sns.diverging_palette(1, 255, as_cmap=True), linewidths=0.1, \n",
    "            center=0, vmin=-2.5, vmax=2.5, xticklabels=True, yticklabels=True)\n",
    "plt.xticks(rotation=90, fontsize=8), \n",
    "plt.xlabel('Mutational Signature')\n",
    "plt.yticks(fontsize=8)\n",
    "\n",
    "# B. \n",
    "plt.subplot2grid((1, 5), (0, 3), colspan=1)\n",
    "sns.barplot(x='Signature', y='Percentage of Mutations', \n",
    "            data=mutation_categories.sort_values('Percentage of Mutations', ascending=False),\n",
    "            color='lightgrey')\n",
    "plt.xticks(rotation=45), plt.xlabel('Mutational Signature')\n",
    "plt.ylim(0,51)\n",
    "\n",
    "# C. \n",
    "plt.subplot2grid((1, 5), (0, 4), colspan=1)\n",
    "# p_I = mannwhitneyu(df[(df['class']=='I') & (df['mut_type']=='C>T/T>C')].dropna().value.values,\n",
    "#                    df[(df['class']=='I') & (df['mut_type']=='other')].dropna().value.values).pvalue\n",
    "# p_II = mannwhitneyu(df[(df['class']=='II') & (df['mut_type']=='C>T/T>C')].dropna().value.values,\n",
    "#                    df[(df['class']=='II') & (df['mut_type']=='other')].dropna().value.values).pvalue\n",
    "\n",
    "sns.boxplot(x='class', y='value', hue='mut_type', data=df, palette='Set3')\n",
    "plt.xlabel(''), plt.xticks([0,1], ['MHC-I\\np<{:.3}'.format(1.1), \n",
    "                                   'MHC-II\\np<{:.3}'.format(1.1)])\n",
    "plt.ylabel('Allele-specific best-rank (BR) score')\n",
    "plt.ylim(-5,105)\n",
    "plt.legend(loc='upper right')\n",
    "\n",
    "plt.tight_layout(pad=1)\n",
    "\n",
    "savepath = '/cellar/users/andreabc/Data/hla_sex/figures/3_panel.pdf'\n",
    "print('Saving to {}'.format(savepath)), plt.savefig(savepath, bbox_inches='tight')\n",
    "plt.show()"
   ]
  },
  {
   "cell_type": "markdown",
   "metadata": {},
   "source": [
    "### SKCM"
   ]
  },
  {
   "cell_type": "code",
   "execution_count": 6,
   "metadata": {},
   "outputs": [],
   "source": [
    "# # make a dictionary with colors for the mutation signatures\n",
    "# colors_for_signatures = ['#3a65b0', '#dc141c', '#55acee', '#00cd00', '#e0a955',\n",
    "#                          '#fbe68b', '#ff5300', '#577a55', '#99cc99', '#b99f97',\n",
    "#                          '#e6dbde', '#20b2aa', '#fa8072']\n",
    "# all_signatures = list(set(list(mutational_signatures_SKCM['Mutational Signatures']) + \\\n",
    "# list(mutation_categories['Mutational Signature'])))\n",
    "\n",
    "# signature_color_dictionary = {}\n",
    "# for i, signature in enumerate(all_signatures):\n",
    "#     signature_color_dictionary[signature] = colors_for_signatures[i]"
   ]
  },
  {
   "cell_type": "code",
   "execution_count": 14,
   "metadata": {},
   "outputs": [
    {
     "name": "stderr",
     "output_type": "stream",
     "text": [
      "/cellar/users/andreabc/miniconda3/lib/python3.6/site-packages/ipykernel_launcher.py:2: SettingWithCopyWarning: \n",
      "A value is trying to be set on a copy of a slice from a DataFrame.\n",
      "Try using .loc[row_indexer,col_indexer] = value instead\n",
      "\n",
      "See the caveats in the documentation: http://pandas.pydata.org/pandas-docs/stable/indexing.html#indexing-view-versus-copy\n",
      "  \n"
     ]
    }
   ],
   "source": [
    "# mutational_signatures_SKCM.loc[:,'Colors'] = list(mutational_signatures_SKCM.loc[:,'Mutational Signatures'].map(signature_color_dictionary))\n",
    "mutational_signatures_SKCM['Signature'] = [x.split('-')[1] for x in mutational_signatures_SKCM['Mutational Signatures'].values]"
   ]
  },
  {
   "cell_type": "code",
   "execution_count": 15,
   "metadata": {},
   "outputs": [],
   "source": [
    "mutation_categories['Signature'] = mutation_categories['Mutational Signature'].str.split('-').str.get(1)\n",
    "# mutation_categories.loc[:,'Colors'] = list(mutation_categories.loc[:,'Mutational Signature'].map(signature_color_dictionary))"
   ]
  },
  {
   "cell_type": "markdown",
   "metadata": {},
   "source": [
    "### Plot"
   ]
  },
  {
   "cell_type": "code",
   "execution_count": 13,
   "metadata": {},
   "outputs": [
    {
     "data": {
      "text/plain": [
       "Text(0.46,0.435,'*')"
      ]
     },
     "execution_count": 13,
     "metadata": {},
     "output_type": "execute_result"
    },
    {
     "data": {
      "image/png": "[encoded data removed]",
      "text/plain": [
       "<Figure size 594x360 with 4 Axes>"
      ]
     },
     "metadata": {
      "needs_background": "light"
     },
     "output_type": "display_data"
    }
   ],
   "source": [
    "fig = plt.figure(figsize=(8.25, 5))\n",
    "fig.text(0, 1, 'A', fontsize=16)\n",
    "fig.text(0.68, 1, 'B', fontsize=16)\n",
    "fig.text(0, 0.48, 'C', fontsize=16)\n",
    "fig.text(0.53, 0.48, 'D', fontsize=16)\n",
    "\n",
    "# rows, columns\n",
    "ax1 = plt.subplot2grid((2, 6), (0, 0), colspan=4)\n",
    "bar_colors = ['pink']*13 + ['lightblue']*10\n",
    "sns.barplot(x='Cancer Type', y='Log2_Ratio', \n",
    "            data = total_mutations.sort_values('Log2_Ratio'),\n",
    "           palette=bar_colors)\n",
    "plt.xticks(rotation=45, fontsize=8)\n",
    "plt.ylim(-3, 2)\n",
    "plt.xlabel('')\n",
    "plt.ylabel('Log2 Ratio of Total\\nSingle Point Mutations\\n(Male/Female)')\n",
    "plt.tight_layout()\n",
    "\n",
    "bar_colors = ['pink'] + ['lightblue']*5\n",
    "ax2 = plt.subplot2grid((2, 6), (0, 4), colspan=2)\n",
    "sns.barplot(x='Type', y='Log2_Ratio', \n",
    "            data = simple_mutations[simple_mutations['Cancer Type'] == 'SKCM'].sort_values('Log2_Ratio'),\n",
    "           palette=bar_colors)\n",
    "plt.xticks(rotation=45)\n",
    "plt.xlabel('')\n",
    "plt.ylim(-0.2, 1.3)\n",
    "plt.ylabel('Log2 Ratio of\\nMutation Types\\n(Male/Female) in Melanoma')\n",
    "plt.tight_layout()\n",
    "\n",
    "bar_colors = ['pink'] + ['lightblue']*8\n",
    "ax3 = plt.subplot2grid((2, 6), (1, 0), colspan=3)\n",
    "sns.barplot(x='Signature', y='Log2_Ratio', \n",
    "            data = mutational_signatures_SKCM.sort_values('Mean Ratio (Male / Female)'),\n",
    "           palette=bar_colors)\n",
    "plt.xticks(rotation=45)\n",
    "plt.ylim(-1, 1.5)\n",
    "plt.ylabel('Log2 Ratio of\\nMutational Signatures\\n(Male/Female) in Melanoma')\n",
    "plt.tight_layout()\n",
    "\n",
    "bar_colors = ['lightgrey']*6\n",
    "ax4 = plt.subplot2grid((2, 6), (1, 3), colspan=3)\n",
    "sns.barplot(x='Signature', y='Percentage of Mutations', \n",
    "            data=mutation_categories.sort_values('Percentage of Mutations', ascending=False),\n",
    "            palette=bar_colors)\n",
    "plt.xticks(rotation=45)\n",
    "plt.tight_layout()\n",
    "\n",
    "# Adding Significance astricks\n",
    "#  Width: left = 0; Height: top = 1\n",
    "fig.text(0.152, 0.65, '*', fontsize=16)  # GBM\n",
    "fig.text(0.565, 0.86, '*', fontsize=16)  # SKCM\n",
    "\n",
    "fig.text(0.96, 0.89, '*', fontsize=16)  # C>T\n",
    "fig.text(0.42, 0.42, '*', fontsize=16)  # 07a\n",
    "fig.text(0.46, 0.435, '*', fontsize=16)  # 07b\n",
    "\n",
    "\n",
    "# plt.savefig('/cellar/users/ramarty/Data/hla_sex/generated_figures/exposure.pdf',\n",
    "#            bbox_inches='tight')"
   ]
  },
  {
   "cell_type": "code",
   "execution_count": 23,
   "metadata": {},
   "outputs": [
    {
     "data": {
      "text/html": [
       "<div>\n",
       "<style scoped>\n",
       "    .dataframe tbody tr th:only-of-type {\n",
       "        vertical-align: middle;\n",
       "    }\n",
       "\n",
       "    .dataframe tbody tr th {\n",
       "        vertical-align: top;\n",
       "    }\n",
       "\n",
       "    .dataframe thead th {\n",
       "        text-align: right;\n",
       "    }\n",
       "</style>\n",
       "<table border=\"1\" class=\"dataframe\">\n",
       "  <thead>\n",
       "    <tr style=\"text-align: right;\">\n",
       "      <th></th>\n",
       "      <th>Mutational Signature</th>\n",
       "      <th>Number of Mutations</th>\n",
       "      <th>Percentage of Mutations</th>\n",
       "      <th>Function</th>\n",
       "      <th>Signature</th>\n",
       "    </tr>\n",
       "  </thead>\n",
       "  <tbody>\n",
       "    <tr>\n",
       "      <th>0</th>\n",
       "      <td>Signature Subs-01</td>\n",
       "      <td>196</td>\n",
       "      <td>19.6</td>\n",
       "      <td>Clock-like mutations that accumulate with age</td>\n",
       "      <td>01</td>\n",
       "    </tr>\n",
       "    <tr>\n",
       "      <th>1</th>\n",
       "      <td>Signature Subs-02</td>\n",
       "      <td>36</td>\n",
       "      <td>3.6</td>\n",
       "      <td>Aberrant APOBEC activity</td>\n",
       "      <td>02</td>\n",
       "    </tr>\n",
       "    <tr>\n",
       "      <th>2</th>\n",
       "      <td>Signature Subs-05</td>\n",
       "      <td>468</td>\n",
       "      <td>46.8</td>\n",
       "      <td>Clock-like mutations that accumulate with age</td>\n",
       "      <td>05</td>\n",
       "    </tr>\n",
       "    <tr>\n",
       "      <th>3</th>\n",
       "      <td>Signature Subs-10a</td>\n",
       "      <td>25</td>\n",
       "      <td>2.5</td>\n",
       "      <td>Mutations due to POLE deficiency</td>\n",
       "      <td>10a</td>\n",
       "    </tr>\n",
       "    <tr>\n",
       "      <th>4</th>\n",
       "      <td>Signature Subs-10b</td>\n",
       "      <td>240</td>\n",
       "      <td>24.0</td>\n",
       "      <td>Mutations due to POLE deficiency</td>\n",
       "      <td>10b</td>\n",
       "    </tr>\n",
       "    <tr>\n",
       "      <th>5</th>\n",
       "      <td>Signature Subs-13</td>\n",
       "      <td>35</td>\n",
       "      <td>3.5</td>\n",
       "      <td>Aberrant APOBEC activity</td>\n",
       "      <td>13</td>\n",
       "    </tr>\n",
       "  </tbody>\n",
       "</table>\n",
       "</div>"
      ],
      "text/plain": [
       "  Mutational Signature  Number of Mutations  Percentage of Mutations  \\\n",
       "0    Signature Subs-01                  196                     19.6   \n",
       "1    Signature Subs-02                   36                      3.6   \n",
       "2    Signature Subs-05                  468                     46.8   \n",
       "3   Signature Subs-10a                   25                      2.5   \n",
       "4   Signature Subs-10b                  240                     24.0   \n",
       "5    Signature Subs-13                   35                      3.5   \n",
       "\n",
       "                                        Function Signature  \n",
       "0  Clock-like mutations that accumulate with age        01  \n",
       "1                       Aberrant APOBEC activity        02  \n",
       "2  Clock-like mutations that accumulate with age        05  \n",
       "3               Mutations due to POLE deficiency       10a  \n",
       "4               Mutations due to POLE deficiency       10b  \n",
       "5                       Aberrant APOBEC activity        13  "
      ]
     },
     "execution_count": 23,
     "metadata": {},
     "output_type": "execute_result"
    }
   ],
   "source": [
    "mutation_categories#['Percentage of Mutations']"
   ]
  },
  {
   "cell_type": "markdown",
   "metadata": {},
   "source": [
    "### GBM"
   ]
  },
  {
   "cell_type": "code",
   "execution_count": 16,
   "metadata": {},
   "outputs": [],
   "source": [
    "# # make a dictionary with colors for the mutation signatures\n",
    "# colors_for_signatures = ['#3a65b0', '#dc141c', '#55acee', '#00cd00', '#e0a955',\n",
    "#                          '#fbe68b', '#ff5300', '#577a55', '#99cc99', '#b99f97',\n",
    "#                          '#e6dbde', '#20b2aa', '#fa8072']\n",
    "# all_signatures = list(set(list(mutational_signatures_GBM['Mutational Signatures']) + \\\n",
    "# list(mutation_categories['Mutational Signature'])))\n",
    "\n",
    "# signature_color_dictionary = {}\n",
    "# for i, signature in enumerate(all_signatures):\n",
    "#     signature_color_dictionary[signature] = colors_for_signatures[i]"
   ]
  },
  {
   "cell_type": "code",
   "execution_count": 17,
   "metadata": {},
   "outputs": [
    {
     "name": "stderr",
     "output_type": "stream",
     "text": [
      "/cellar/users/andreabc/miniconda3/lib/python3.6/site-packages/pandas/core/indexing.py:362: SettingWithCopyWarning: \n",
      "A value is trying to be set on a copy of a slice from a DataFrame.\n",
      "Try using .loc[row_indexer,col_indexer] = value instead\n",
      "\n",
      "See the caveats in the documentation: http://pandas.pydata.org/pandas-docs/stable/indexing.html#indexing-view-versus-copy\n",
      "  self.obj[key] = _infer_fill_value(value)\n",
      "/cellar/users/andreabc/miniconda3/lib/python3.6/site-packages/pandas/core/indexing.py:543: SettingWithCopyWarning: \n",
      "A value is trying to be set on a copy of a slice from a DataFrame.\n",
      "Try using .loc[row_indexer,col_indexer] = value instead\n",
      "\n",
      "See the caveats in the documentation: http://pandas.pydata.org/pandas-docs/stable/indexing.html#indexing-view-versus-copy\n",
      "  self.obj[item] = s\n"
     ]
    }
   ],
   "source": [
    "# mutational_signatures_GBM.loc[:,'Colors'] = list(mutational_signatures_GBM.loc[:,'Mutational Signatures'].map(signature_color_dictionary))\n",
    "mutational_signatures_GBM.loc[:,'Signature'] = mutational_signatures_GBM.loc[:,'Mutational Signatures'].str.split('-').str.get(1)"
   ]
  },
  {
   "cell_type": "code",
   "execution_count": 18,
   "metadata": {},
   "outputs": [],
   "source": [
    "mutation_categories['Signature'] = mutation_categories['Mutational Signature'].str.split('-').str.get(1)\n",
    "# mutation_categories.loc[:,'Colors'] = list(mutation_categories.loc[:,'Mutational Signature'].map(signature_color_dictionary))"
   ]
  },
  {
   "cell_type": "code",
   "execution_count": 54,
   "metadata": {},
   "outputs": [
    {
     "name": "stdout",
     "output_type": "stream",
     "text": [
      "Savepath: /cellar/users/andreabc/Data/hla_sex/figures/3_mutational_signature.GBM.pdf\n"
     ]
    },
    {
     "data": {
      "image/png": "[encoded data removed]",
      "text/plain": [
       "<Figure size 594x360 with 4 Axes>"
      ]
     },
     "metadata": {
      "needs_background": "light"
     },
     "output_type": "display_data"
    }
   ],
   "source": [
    "fig = plt.figure(figsize=(8.25, 5))\n",
    "fig.text(0, 1, 'A', fontsize=16)\n",
    "fig.text(0.68, 1, 'B', fontsize=16)\n",
    "fig.text(0, 0.48, 'C', fontsize=16)\n",
    "fig.text(0.53, 0.48, 'D', fontsize=16)\n",
    "\n",
    "# A\n",
    "ax1 = plt.subplot2grid((2, 6), (0, 0), colspan=4)\n",
    "bar_colors = ['pink']*13 + ['lightblue']*10\n",
    "sns.barplot(x='Cancer Type', y='Log2_Ratio', \n",
    "            data = total_mutations.sort_values('Log2_Ratio'),\n",
    "           palette=bar_colors)\n",
    "plt.xticks(rotation=45, fontsize=8)\n",
    "plt.ylim(-3, 2)\n",
    "plt.xlabel('')\n",
    "plt.ylabel('Log2 Ratio of Total\\nSingle Point Mutations\\n(Male/Female)')\n",
    "plt.tight_layout()\n",
    "\n",
    "# B\n",
    "temp_data = simple_mutations[simple_mutations['Cancer Type'] == 'GBM'].sort_values('Log2_Ratio')\n",
    "bar_colors = ['pink']*len(temp_data)\n",
    "ax2 = plt.subplot2grid((2, 6), (0, 4), colspan=2)\n",
    "sns.barplot(x='Type', y='Log2_Ratio', \n",
    "            data = temp_data,\n",
    "           palette=bar_colors)\n",
    "plt.xticks(rotation=45)\n",
    "plt.xlabel('')\n",
    "plt.ylim(-2.5, 0.2)\n",
    "plt.ylabel('Log2 Ratio of\\nMutation Types\\n(Male/Female) in GBM')\n",
    "plt.tight_layout()\n",
    "\n",
    "# C\n",
    "temp_data = mutational_signatures_GBM.sort_values('Mean Ratio (Male / Female)')\n",
    "bar_colors = ['pink'] *8\n",
    "ax3 = plt.subplot2grid((2, 6), (1, 0), colspan=3)\n",
    "sns.barplot(x='Signature', y='Log2_Ratio', \n",
    "            data = temp_data,\n",
    "           palette=bar_colors)\n",
    "plt.xticks(rotation=45)\n",
    "# plt.ylim(-1, 1.5)\n",
    "plt.ylabel('Log2 Ratio of\\nMutational Signatures\\n(Male/Female) in GBM')\n",
    "plt.tight_layout()\n",
    "\n",
    "# D\n",
    "bar_colors = ['lightgrey']*6\n",
    "ax4 = plt.subplot2grid((2, 6), (1, 3), colspan=3)\n",
    "sns.barplot(x='Signature', y='Percentage of Mutations', \n",
    "            data=mutation_categories.sort_values('Percentage of Mutations', ascending=False),\n",
    "            palette=bar_colors)\n",
    "plt.xticks(rotation=45)\n",
    "plt.tight_layout()\n",
    "\n",
    "# Adding Significance astricks\n",
    "#  Width: left = 0; Height: top = 1\n",
    "fig.text(0.152, 0.65, '*', fontsize=16)  # GBM\n",
    "fig.text(0.565, 0.86, '*', fontsize=16)  # SKCM\n",
    "\n",
    "fig.text(0.828, 0.65, '*', fontsize=16)  # C>T\n",
    "fig.text(0.168, 0.3, '*', fontsize=16)  # 01\n",
    "\n",
    "savepath = '/cellar/users/andreabc/Data/hla_sex/figures/3_mutational_signature.GBM.pdf'\n",
    "print('Savepath: {}'.format(savepath))\n",
    "plt.savefig(savepath, bbox_inches='tight')\n",
    "# plt.savefig('/cellar/users/ramarty/Data/hla_sex/generated_figures/exposure.pdf',\n",
    "#            bbox_inches='tight')"
   ]
  },
  {
   "cell_type": "code",
   "execution_count": null,
   "metadata": {},
   "outputs": [],
   "source": []
  }
 ],
 "metadata": {
  "kernelspec": {
   "display_name": "Python 3",
   "language": "python",
   "name": "python3"
  },
  "language_info": {
   "codemirror_mode": {
    "name": "ipython",
    "version": 3
   },
   "file_extension": ".py",
   "mimetype": "text/x-python",
   "name": "python",
   "nbconvert_exporter": "python",
   "pygments_lexer": "ipython3",
   "version": "3.6.8"
  }
 },
 "nbformat": 4,
 "nbformat_minor": 1
}
