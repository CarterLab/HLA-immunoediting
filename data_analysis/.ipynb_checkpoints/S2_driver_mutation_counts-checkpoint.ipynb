{
 "cells": [
  {
   "cell_type": "markdown",
   "metadata": {},
   "source": [
    "### Notebook\n",
    "- Creates Figure S2: The average number of driver mutations pan-cancer per cohort"
   ]
  },
  {
   "cell_type": "code",
   "execution_count": 1,
   "metadata": {},
   "outputs": [],
   "source": [
    "import pandas as pd\n",
    "import numpy as np\n",
    "\n",
    "import matplotlib.pyplot as plt\n",
    "from matplotlib import gridspec \n",
    "import seaborn as sns\n",
    "sns.set_style('white')\n",
    "%matplotlib inline"
   ]
  },
  {
   "cell_type": "markdown",
   "metadata": {},
   "source": [
    "### 0. Global variables"
   ]
  },
  {
   "cell_type": "code",
   "execution_count": 3,
   "metadata": {},
   "outputs": [],
   "source": [
    "MSS = 'MSS_only' # MSS_only, MSS_and_MSI\n",
    "\n",
    "mss_patients = np.loadtxt('/cellar/users/andreabc/Data/b2m/mss_tcga_patients.txt', dtype=str)"
   ]
  },
  {
   "cell_type": "markdown",
   "metadata": {},
   "source": [
    "### 1. Load data"
   ]
  },
  {
   "cell_type": "markdown",
   "metadata": {},
   "source": [
    "##### 1A. Load patients"
   ]
  },
  {
   "cell_type": "code",
   "execution_count": 4,
   "metadata": {},
   "outputs": [
    {
     "name": "stdout",
     "output_type": "stream",
     "text": [
      "Loading confident MSS_only patients with removed sex-specific cancers \n",
      "2554 confident MHC-I, 2681 confident MHC-II\n"
     ]
    },
    {
     "data": {
      "text/html": [
       "<div>\n",
       "<style scoped>\n",
       "    .dataframe tbody tr th:only-of-type {\n",
       "        vertical-align: middle;\n",
       "    }\n",
       "\n",
       "    .dataframe tbody tr th {\n",
       "        vertical-align: top;\n",
       "    }\n",
       "\n",
       "    .dataframe thead th {\n",
       "        text-align: right;\n",
       "    }\n",
       "</style>\n",
       "<table border=\"1\" class=\"dataframe\">\n",
       "  <thead>\n",
       "    <tr style=\"text-align: right;\">\n",
       "      <th></th>\n",
       "      <th>scores</th>\n",
       "      <th>disease</th>\n",
       "      <th>age</th>\n",
       "      <th>sex</th>\n",
       "    </tr>\n",
       "  </thead>\n",
       "  <tbody>\n",
       "    <tr>\n",
       "      <th>TCGA-85-8580</th>\n",
       "      <td>0.120879</td>\n",
       "      <td>LUSC</td>\n",
       "      <td>52.0</td>\n",
       "      <td>female</td>\n",
       "    </tr>\n",
       "    <tr>\n",
       "      <th>TCGA-IB-AAUM</th>\n",
       "      <td>1.249676</td>\n",
       "      <td>PAAD</td>\n",
       "      <td>76.0</td>\n",
       "      <td>male</td>\n",
       "    </tr>\n",
       "  </tbody>\n",
       "</table>\n",
       "</div>"
      ],
      "text/plain": [
       "                scores disease   age     sex\n",
       "TCGA-85-8580  0.120879    LUSC  52.0  female\n",
       "TCGA-IB-AAUM  1.249676    PAAD  76.0    male"
      ]
     },
     "execution_count": 4,
     "metadata": {},
     "output_type": "execute_result"
    }
   ],
   "source": [
    "# Remove sex-specific cancers for sex-specific analyses\n",
    "print('Loading confident {} patients with removed sex-specific cancers '.format(MSS))\n",
    "confident_patients_I_rm_sex_specific = pd.read_csv('../generated_data/confident_patient_I.age_sex_disease.{}.remove_sex_specific.tsv'.format(MSS), sep='\\t', index_col=0)\n",
    "confident_patients_II_rm_sex_specific = pd.read_csv('../generated_data/confident_patient_II.age_sex_disease.{}.remove_sex_specific.tsv'.format(MSS), sep='\\t', index_col=0)\n",
    "\n",
    "print('{} confident MHC-I, {} confident MHC-II'.format(len(set(confident_patients_I_rm_sex_specific.index)), \n",
    "                                                       len(set(confident_patients_II_rm_sex_specific.index))))\n",
    "confident_patients_I_rm_sex_specific.head(2)"
   ]
  },
  {
   "cell_type": "code",
   "execution_count": 11,
   "metadata": {},
   "outputs": [
    {
     "name": "stdout",
     "output_type": "stream",
     "text": [
      "Loading confident MSS_only patients with kept sex-specific cancers\n",
      "1881 confident MHC-I, 1834 confident MHC-II\n"
     ]
    },
    {
     "data": {
      "text/html": [
       "<div>\n",
       "<style scoped>\n",
       "    .dataframe tbody tr th:only-of-type {\n",
       "        vertical-align: middle;\n",
       "    }\n",
       "\n",
       "    .dataframe tbody tr th {\n",
       "        vertical-align: top;\n",
       "    }\n",
       "\n",
       "    .dataframe thead th {\n",
       "        text-align: right;\n",
       "    }\n",
       "</style>\n",
       "<table border=\"1\" class=\"dataframe\">\n",
       "  <thead>\n",
       "    <tr style=\"text-align: right;\">\n",
       "      <th></th>\n",
       "      <th>scores</th>\n",
       "      <th>disease</th>\n",
       "      <th>age</th>\n",
       "      <th>sex</th>\n",
       "      <th>age_categorical_3070</th>\n",
       "    </tr>\n",
       "  </thead>\n",
       "  <tbody>\n",
       "    <tr>\n",
       "      <th>TCGA-85-8580</th>\n",
       "      <td>0.120879</td>\n",
       "      <td>LUSC</td>\n",
       "      <td>52.0</td>\n",
       "      <td>female</td>\n",
       "      <td>younger</td>\n",
       "    </tr>\n",
       "    <tr>\n",
       "      <th>TCGA-IB-AAUM</th>\n",
       "      <td>1.249676</td>\n",
       "      <td>PAAD</td>\n",
       "      <td>76.0</td>\n",
       "      <td>male</td>\n",
       "      <td>older</td>\n",
       "    </tr>\n",
       "  </tbody>\n",
       "</table>\n",
       "</div>"
      ],
      "text/plain": [
       "                scores disease   age     sex age_categorical_3070\n",
       "TCGA-85-8580  0.120879    LUSC  52.0  female              younger\n",
       "TCGA-IB-AAUM  1.249676    PAAD  76.0    male                older"
      ]
     },
     "execution_count": 11,
     "metadata": {},
     "output_type": "execute_result"
    }
   ],
   "source": [
    "# Keep sex-specific cancers for age-specific analyses\n",
    "print('Loading confident {} patients with kept sex-specific cancers'.format(MSS))\n",
    "confident_patients_I_kept_sex_specific = pd.read_csv('../generated_data/confident_patient_I.age_sex_disease.{}.kept_sex_specific.tsv'.format(MSS), sep='\\t', index_col=0)\n",
    "confident_patients_II_kept_sex_specific = pd.read_csv('../generated_data/confident_patient_II.age_sex_disease.{}.kept_sex_specific.tsv'.format(MSS), sep='\\t', index_col=0)\n",
    "\n",
    "# set age threshold\n",
    "young_thresh = 52 # 30th percentile: 52, 40th: 57\n",
    "old_thresh = 68   # 70th percentile: 68, 60th: 65\n",
    "\n",
    "# create categorical age value\n",
    "confident_patients_I_kept_sex_specific['age_categorical_3070'] = pd.cut(confident_patients_I_kept_sex_specific['age'], [0, young_thresh, old_thresh, confident_patients_I_kept_sex_specific['age'].max()], labels=['younger', 'middle', 'older'])\n",
    "confident_patients_II_kept_sex_specific['age_categorical_3070'] = pd.cut(confident_patients_II_kept_sex_specific['age'], [0, young_thresh, old_thresh, confident_patients_II_kept_sex_specific['age'].max()], labels=['younger', 'middle', 'older'])\n",
    "\n",
    "confident_patients_I_kept_sex_specific = confident_patients_I_kept_sex_specific[confident_patients_I_kept_sex_specific['age_categorical_3070']!='middle']\n",
    "confident_patients_II_kept_sex_specific = confident_patients_II_kept_sex_specific[confident_patients_II_kept_sex_specific['age_categorical_3070']!='middle']\n",
    "\n",
    "print('{} confident MHC-I, {} confident MHC-II'.format(len(set(confident_patients_I_kept_sex_specific.index)), \n",
    "                                                       len(set(confident_patients_II_kept_sex_specific.index))))\n",
    "confident_patients_I_kept_sex_specific.head(2)"
   ]
  },
  {
   "cell_type": "markdown",
   "metadata": {},
   "source": [
    "##### 1B. Load mutation data\n",
    "- Subset to sex-specific patients or not, for the sex and age analyses, respectively"
   ]
  },
  {
   "cell_type": "code",
   "execution_count": 7,
   "metadata": {},
   "outputs": [],
   "source": [
    "# sex analysis\n",
    "binary_mut_I_sex_df = pd.read_csv('../data/patient_binary_driver.matrix', sep='\\t', index_col=0)\n",
    "binary_mut_I_sex_df = binary_mut_I_sex_df[binary_mut_I_sex_df.index.isin(confident_patients_I_rm_sex_specific.index)]\n",
    "\n",
    "binary_mut_II_sex_df = pd.read_csv('../data/patient_binary_driver.matrix', sep='\\t', index_col=0)\n",
    "binary_mut_II_sex_df = binary_mut_II_sex_df[binary_mut_II_sex_df.index.isin(confident_patients_II_rm_sex_specific.index)]"
   ]
  },
  {
   "cell_type": "code",
   "execution_count": 9,
   "metadata": {},
   "outputs": [],
   "source": [
    "# age analysis\n",
    "binary_mut_I_age_df = pd.read_csv('../data/patient_binary_driver.matrix', sep='\\t', index_col=0)\n",
    "binary_mut_I_age_df = binary_mut_I_age_df[binary_mut_I_age_df.index.isin(confident_patients_I_kept_sex_specific.index)]\n",
    "\n",
    "binary_mut_II_age_df = pd.read_csv('../data/patient_binary_driver.matrix', sep='\\t', index_col=0)\n",
    "binary_mut_II_age_df = binary_mut_II_age_df[binary_mut_II_age_df.index.isin(confident_patients_II_kept_sex_specific.index)]"
   ]
  },
  {
   "cell_type": "markdown",
   "metadata": {},
   "source": [
    "##### 1C. Subset to male/female and younger/older patients"
   ]
  },
  {
   "cell_type": "code",
   "execution_count": 12,
   "metadata": {
    "scrolled": true
   },
   "outputs": [],
   "source": [
    "# sex\n",
    "female_I = binary_mut_I_sex_df[binary_mut_I_sex_df.index.isin(confident_patients_I_rm_sex_specific[confident_patients_I_rm_sex_specific['sex']=='female'].index)].sum(axis=1).mean()\n",
    "male_I = binary_mut_I_sex_df[binary_mut_I_sex_df.index.isin(confident_patients_I_rm_sex_specific[confident_patients_I_rm_sex_specific['sex']=='male'].index)].sum(axis=1).mean()\n",
    "\n",
    "female_II = binary_mut_II_sex_df[binary_mut_II_sex_df.index.isin(confident_patients_II_rm_sex_specific[confident_patients_II_rm_sex_specific['sex']=='female'].index)].sum(axis=1).mean()\n",
    "male_II = binary_mut_II_sex_df[binary_mut_II_sex_df.index.isin(confident_patients_II_rm_sex_specific[confident_patients_II_rm_sex_specific['sex']=='male'].index)].sum(axis=1).mean()\n",
    "\n",
    "# age\n",
    "younger_I = binary_mut_I_age_df[binary_mut_I_age_df.index.isin(confident_patients_I_kept_sex_specific[confident_patients_I_kept_sex_specific['age_categorical_3070']=='younger'].index)].sum(axis=1).mean()\n",
    "older_I = binary_mut_I_age_df[binary_mut_I_age_df.index.isin(confident_patients_I_kept_sex_specific[confident_patients_I_kept_sex_specific['age_categorical_3070']=='older'].index)].sum(axis=1).mean()\n",
    "\n",
    "younger_II = binary_mut_II_age_df[binary_mut_II_age_df.index.isin(confident_patients_II_kept_sex_specific[confident_patients_II_kept_sex_specific['age_categorical_3070']=='younger'].index)].sum(axis=1).mean()\n",
    "older_II = binary_mut_II_age_df[binary_mut_II_age_df.index.isin(confident_patients_II_kept_sex_specific[confident_patients_II_kept_sex_specific['age_categorical_3070']=='older'].index)].sum(axis=1).mean()"
   ]
  },
  {
   "cell_type": "code",
   "execution_count": 13,
   "metadata": {
    "scrolled": true
   },
   "outputs": [
    {
     "data": {
      "text/html": [
       "<div>\n",
       "<style scoped>\n",
       "    .dataframe tbody tr th:only-of-type {\n",
       "        vertical-align: middle;\n",
       "    }\n",
       "\n",
       "    .dataframe tbody tr th {\n",
       "        vertical-align: top;\n",
       "    }\n",
       "\n",
       "    .dataframe thead th {\n",
       "        text-align: right;\n",
       "    }\n",
       "</style>\n",
       "<table border=\"1\" class=\"dataframe\">\n",
       "  <thead>\n",
       "    <tr style=\"text-align: right;\">\n",
       "      <th></th>\n",
       "      <th>count</th>\n",
       "      <th>class</th>\n",
       "      <th>category</th>\n",
       "    </tr>\n",
       "  </thead>\n",
       "  <tbody>\n",
       "    <tr>\n",
       "      <th>0</th>\n",
       "      <td>1.509039</td>\n",
       "      <td>I</td>\n",
       "      <td>Female</td>\n",
       "    </tr>\n",
       "    <tr>\n",
       "      <th>1</th>\n",
       "      <td>1.699933</td>\n",
       "      <td>I</td>\n",
       "      <td>Male</td>\n",
       "    </tr>\n",
       "    <tr>\n",
       "      <th>2</th>\n",
       "      <td>1.536430</td>\n",
       "      <td>II</td>\n",
       "      <td>Female</td>\n",
       "    </tr>\n",
       "    <tr>\n",
       "      <th>3</th>\n",
       "      <td>1.684776</td>\n",
       "      <td>II</td>\n",
       "      <td>Male</td>\n",
       "    </tr>\n",
       "    <tr>\n",
       "      <th>4</th>\n",
       "      <td>1.618201</td>\n",
       "      <td>I</td>\n",
       "      <td>Younger</td>\n",
       "    </tr>\n",
       "    <tr>\n",
       "      <th>5</th>\n",
       "      <td>1.640000</td>\n",
       "      <td>I</td>\n",
       "      <td>Older</td>\n",
       "    </tr>\n",
       "    <tr>\n",
       "      <th>6</th>\n",
       "      <td>1.586751</td>\n",
       "      <td>II</td>\n",
       "      <td>Younger</td>\n",
       "    </tr>\n",
       "    <tr>\n",
       "      <th>7</th>\n",
       "      <td>1.643262</td>\n",
       "      <td>II</td>\n",
       "      <td>Older</td>\n",
       "    </tr>\n",
       "  </tbody>\n",
       "</table>\n",
       "</div>"
      ],
      "text/plain": [
       "      count class category\n",
       "0  1.509039     I   Female\n",
       "1  1.699933     I     Male\n",
       "2  1.536430    II   Female\n",
       "3  1.684776    II     Male\n",
       "4  1.618201     I  Younger\n",
       "5  1.640000     I    Older\n",
       "6  1.586751    II  Younger\n",
       "7  1.643262    II    Older"
      ]
     },
     "execution_count": 13,
     "metadata": {},
     "output_type": "execute_result"
    }
   ],
   "source": [
    "# join data\n",
    "data = pd.DataFrame({'count': [female_I, male_I, female_II, male_II, younger_I, older_I, younger_II, older_II],\n",
    "                     'class': ['I', 'I', 'II', 'II', 'I', 'I', 'II', 'II'],\n",
    "                     'category': ['Female', 'Male', 'Female', 'Male', 'Younger', 'Older', 'Younger', 'Older']})\n",
    "data"
   ]
  },
  {
   "cell_type": "code",
   "execution_count": 14,
   "metadata": {},
   "outputs": [
    {
     "name": "stdout",
     "output_type": "stream",
     "text": [
      "Saving to ../figures/S2.driver_counts.MSS_only.pdf\n"
     ]
    },
    {
     "data": {
      "image/png": "[encoded data removed]",
      "text/plain": [
       "<Figure size 648x216 with 2 Axes>"
      ]
     },
     "metadata": {
      "needs_background": "light"
     },
     "output_type": "display_data"
    }
   ],
   "source": [
    "############\n",
    "# A. MHC-I #\n",
    "############\n",
    "\n",
    "plt.figure(figsize=(9,3))\n",
    "plt.subplot(1,2,1)\n",
    "ax = sns.barplot(x='category', y='count', data=data[data['class']=='I'], \n",
    "            palette=['lightpink', 'lightblue', 'lightgrey', 'darkgrey'])\n",
    "plt.xlabel(''), plt.ylabel('Average driver count pan-cancer\\nfor MHC-I patients')\n",
    "plt.text(-0.2, 1.1, 'A', transform=ax.transAxes, fontsize=16,  weight='bold')\n",
    "\n",
    "#############\n",
    "# B. MHC-II #\n",
    "#############\n",
    "\n",
    "plt.subplot(1,2,2)\n",
    "ax = sns.barplot(x='category', y='count', data=data[data['class']=='II'], \n",
    "            palette=['lightpink', 'lightblue', 'lightgrey', 'darkgrey'])\n",
    "plt.xlabel(''), plt.ylabel('Average driver count pan-cancer\\nfor MHC-II patients')\n",
    "plt.text(-0.2, 1.1, 'B', transform=ax.transAxes, fontsize=16,  weight='bold')\n",
    "\n",
    "plt.tight_layout()\n",
    "savepath = '../figures/S2.driver_counts.MSS_only.pdf'\n",
    "print('Saving to {}'.format(savepath))\n",
    "plt.savefig(savepath, bbox_inches='tight')\n",
    "plt.show()"
   ]
  },
  {
   "cell_type": "code",
   "execution_count": null,
   "metadata": {},
   "outputs": [],
   "source": []
  }
 ],
 "metadata": {
  "kernelspec": {
   "display_name": "Python 3",
   "language": "python",
   "name": "python3"
  },
  "language_info": {
   "codemirror_mode": {
    "name": "ipython",
    "version": 3
   },
   "file_extension": ".py",
   "mimetype": "text/x-python",
   "name": "python",
   "nbconvert_exporter": "python",
   "pygments_lexer": "ipython3",
   "version": "3.6.8"
  }
 },
 "nbformat": 4,
 "nbformat_minor": 2
}
