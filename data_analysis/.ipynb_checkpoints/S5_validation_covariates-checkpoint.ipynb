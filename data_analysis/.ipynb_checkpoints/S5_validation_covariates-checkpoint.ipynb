{
 "cells": [
  {
   "cell_type": "markdown",
   "metadata": {},
   "source": [
    "### Notebook\n",
    "- Creates the panel for Figure S5: Overview of validation cohort covariates"
   ]
  },
  {
   "cell_type": "code",
   "execution_count": 57,
   "metadata": {},
   "outputs": [],
   "source": [
    "import pandas as pd\n",
    "import os\n",
    "from scipy.stats import mannwhitneyu, ks_2samp\n",
    "\n",
    "import matplotlib.pyplot as plt\n",
    "from matplotlib import gridspec\n",
    "import seaborn as sns\n",
    "sns.set_style('white')\n",
    "%matplotlib inline"
   ]
  },
  {
   "cell_type": "markdown",
   "metadata": {},
   "source": [
    "### 1. Plot A-B: Sex and Age distributions"
   ]
  },
  {
   "cell_type": "code",
   "execution_count": 3,
   "metadata": {},
   "outputs": [
    {
     "name": "stdout",
     "output_type": "stream",
     "text": [
      "540\n"
     ]
    },
    {
     "data": {
      "text/html": [
       "<div>\n",
       "<style scoped>\n",
       "    .dataframe tbody tr th:only-of-type {\n",
       "        vertical-align: middle;\n",
       "    }\n",
       "\n",
       "    .dataframe tbody tr th {\n",
       "        vertical-align: top;\n",
       "    }\n",
       "\n",
       "    .dataframe thead th {\n",
       "        text-align: right;\n",
       "    }\n",
       "</style>\n",
       "<table border=\"1\" class=\"dataframe\">\n",
       "  <thead>\n",
       "    <tr style=\"text-align: right;\">\n",
       "      <th></th>\n",
       "      <th>PHBR_score</th>\n",
       "      <th>age</th>\n",
       "      <th>age_categorical_3070</th>\n",
       "      <th>mutation_id</th>\n",
       "      <th>project_code</th>\n",
       "      <th>sex</th>\n",
       "      <th>tumor_type</th>\n",
       "    </tr>\n",
       "    <tr>\n",
       "      <th>index</th>\n",
       "      <th></th>\n",
       "      <th></th>\n",
       "      <th></th>\n",
       "      <th></th>\n",
       "      <th></th>\n",
       "      <th></th>\n",
       "      <th></th>\n",
       "    </tr>\n",
       "  </thead>\n",
       "  <tbody>\n",
       "    <tr>\n",
       "      <th>DO10839</th>\n",
       "      <td>1.598507</td>\n",
       "      <td>79.0</td>\n",
       "      <td>older</td>\n",
       "      <td>M_TP53_R248W</td>\n",
       "      <td>ESAD-UK</td>\n",
       "      <td>female</td>\n",
       "      <td>ESAD</td>\n",
       "    </tr>\n",
       "    <tr>\n",
       "      <th>DO10840</th>\n",
       "      <td>5.562510</td>\n",
       "      <td>73.0</td>\n",
       "      <td>older</td>\n",
       "      <td>M_TP53_R273H</td>\n",
       "      <td>ESAD-UK</td>\n",
       "      <td>male</td>\n",
       "      <td>ESAD</td>\n",
       "    </tr>\n",
       "  </tbody>\n",
       "</table>\n",
       "</div>"
      ],
      "text/plain": [
       "         PHBR_score   age age_categorical_3070   mutation_id project_code  \\\n",
       "index                                                                       \n",
       "DO10839    1.598507  79.0                older  M_TP53_R248W      ESAD-UK   \n",
       "DO10840    5.562510  73.0                older  M_TP53_R273H      ESAD-UK   \n",
       "\n",
       "            sex tumor_type  \n",
       "index                       \n",
       "DO10839  female       ESAD  \n",
       "DO10840    male       ESAD  "
      ]
     },
     "execution_count": 3,
     "metadata": {},
     "output_type": "execute_result"
    }
   ],
   "source": [
    "mhc_df = pd.read_csv('../generated_data/validation_patients_I.age_sex_disease.tsv', sep='\\t', index_col=0)\n",
    "mhc_df = mhc_df.append(pd.read_csv('../generated_data/validation_patients_II.age_sex_disease.tsv', sep='\\t', index_col=0))\n",
    "\n",
    "mhc_df.reset_index(inplace=True)\n",
    "mhc_df = mhc_df.drop_duplicates(subset=['index']).set_index('index')\n",
    "print(len(mhc_df))\n",
    "mhc_df.head(2)"
   ]
  },
  {
   "cell_type": "code",
   "execution_count": 5,
   "metadata": {},
   "outputs": [
    {
     "name": "stdout",
     "output_type": "stream",
     "text": [
      "Saving to ../figures/S5_sex_age_counts.A-B.pdf\n"
     ]
    },
    {
     "data": {
      "image/png": "[encoded data removed]",
      "text/plain": [
       "<Figure size 360x360 with 2 Axes>"
      ]
     },
     "metadata": {
      "needs_background": "light"
     },
     "output_type": "display_data"
    }
   ],
   "source": [
    "plt.figure(figsize=(5,5))\n",
    "gs = gridspec.GridSpec(2, 2, width_ratios=[1.2, 3]) \n",
    "\n",
    "###########################\n",
    "# A. Pancancer sex counts #\n",
    "###########################\n",
    "plt.subplot(gs[0])\n",
    "\n",
    "data = pd.DataFrame(mhc_df['sex'].value_counts()).T\n",
    "ax = sns.barplot(data=data, order=['female', 'male'], palette=['pink', 'lightblue'])\n",
    "\n",
    "plt.xlabel('Sex'), plt.ylabel('Number of non-sex-specific\\npan-cancer patients')\n",
    "plt.xticks([0,1], ['Female', 'Male'])\n",
    "\n",
    "plt.text(-0.3, 1.1, 'A', transform=ax.transAxes, fontsize=16,  weight='bold')\n",
    "\n",
    "#################################\n",
    "# B. Pancancer age distribution #\n",
    "#################################\n",
    "fig = plt.subplot(gs[1])\n",
    "\n",
    "age_df = mhc_df.dropna(subset=['age'])\n",
    "plt.hist(x=age_df['age'].values, bins=10, color='grey')\n",
    "\n",
    "plt.xlabel('Age')\n",
    "plt.ylabel('Number of\\npan-cancer patients')\n",
    "\n",
    "plt.text(-0.3, 1.1, 'B', transform=fig.transAxes, fontsize=16,  weight='bold')\n",
    "\n",
    "# save \n",
    "plt.tight_layout(pad=0.6, h_pad=1)\n",
    "\n",
    "savepath = '../figures/S5_sex_age_counts.A-B.pdf'\n",
    "print('Saving to {}'.format(savepath))\n",
    "plt.savefig(savepath, bbox_inches='tight')\n",
    "plt.show()"
   ]
  },
  {
   "cell_type": "markdown",
   "metadata": {},
   "source": [
    "### 2. Plot C-D: Driver mutation counts for MHC-I and MHC-II"
   ]
  },
  {
   "cell_type": "code",
   "execution_count": 29,
   "metadata": {},
   "outputs": [
    {
     "name": "stdout",
     "output_type": "stream",
     "text": [
      "540\n"
     ]
    }
   ],
   "source": [
    "# load patients\n",
    "mhcI = pd.read_csv('../generated_data/validation_patients_I.age_sex_disease.tsv', sep='\\t', index_col=0)\n",
    "mhcII = pd.read_csv('../generated_data/validation_patients_II.age_sex_disease.tsv', sep='\\t', index_col=0)\n",
    "\n",
    "all_patients = list(set(mhcI.index.values).union(set(mhcII.index.values)))\n",
    "all_patients = [str(x) for x in all_patients]\n",
    "print(len(all_patients))"
   ]
  },
  {
   "cell_type": "code",
   "execution_count": 42,
   "metadata": {},
   "outputs": [
    {
     "name": "stdout",
     "output_type": "stream",
     "text": [
      "2371\n"
     ]
    }
   ],
   "source": [
    "data_dir = '../data/validation_data/'\n",
    "project_list = list(set(['.'.join(x.split('.')[1:-1]) for x in os.listdir(data_dir) if x.startswith('binary')]))\n",
    "\n",
    "binary_mut_df = pd.DataFrame()\n",
    "for project in project_list:\n",
    "    filepath = os.path.join(data_dir, 'binary_driver_mut.{}.matrix'.format(project))\n",
    "    binary_mut_df = binary_mut_df.append(pd.read_csv(filepath, sep='\\t', index_col=0), sort=True)\n",
    "    \n",
    "binary_mut_df = binary_mut_df.reset_index().drop_duplicates(subset=['index']).set_index('index')\n",
    "binary_mut_df.index = binary_mut_df.index.map(str)\n",
    "\n",
    "print(len(binary_mut_df))"
   ]
  },
  {
   "cell_type": "code",
   "execution_count": 50,
   "metadata": {},
   "outputs": [
    {
     "data": {
      "text/plain": [
       "(476, 438)"
      ]
     },
     "execution_count": 50,
     "metadata": {},
     "output_type": "execute_result"
    }
   ],
   "source": [
    "# subset mutation matrix\n",
    "binary_mut_I_df = binary_mut_df[binary_mut_df.index.isin(mhcI.index)]\n",
    "binary_mut_II_df = binary_mut_df[binary_mut_df.index.isin(mhcII.index)]\n",
    "\n",
    "len(binary_mut_I_df), len(binary_mut_II_df)"
   ]
  },
  {
   "cell_type": "code",
   "execution_count": 51,
   "metadata": {},
   "outputs": [],
   "source": [
    "female_I = binary_mut_I_df[binary_mut_I_df.index.isin(mhcI[mhcI['sex']=='female'].index)].sum(axis=1).mean()\n",
    "male_I = binary_mut_I_df[binary_mut_I_df.index.isin(mhcI[mhcI['sex']=='male'].index)].sum(axis=1).mean()\n",
    "\n",
    "female_II = binary_mut_II_df[binary_mut_II_df.index.isin(mhcII[mhcII['sex']=='female'].index)].sum(axis=1).mean()\n",
    "male_II = binary_mut_II_df[binary_mut_II_df.index.isin(mhcII[mhcII['sex']=='male'].index)].sum(axis=1).mean()\n",
    "\n",
    "younger_I = binary_mut_I_df[binary_mut_I_df.index.isin(mhcI[mhcI['age_categorical_3070']=='younger'].index)].sum(axis=1).mean()\n",
    "older_I = binary_mut_I_df[binary_mut_I_df.index.isin(mhcI[mhcI['age_categorical_3070']=='older'].index)].sum(axis=1).mean()\n",
    "\n",
    "younger_II = binary_mut_II_df[binary_mut_II_df.index.isin(mhcII[mhcII['age_categorical_3070']=='younger'].index)].sum(axis=1).mean()\n",
    "older_II = binary_mut_II_df[binary_mut_II_df.index.isin(mhcII[mhcII['age_categorical_3070']=='older'].index)].sum(axis=1).mean()"
   ]
  },
  {
   "cell_type": "code",
   "execution_count": 52,
   "metadata": {},
   "outputs": [
    {
     "data": {
      "text/html": [
       "<div>\n",
       "<style scoped>\n",
       "    .dataframe tbody tr th:only-of-type {\n",
       "        vertical-align: middle;\n",
       "    }\n",
       "\n",
       "    .dataframe tbody tr th {\n",
       "        vertical-align: top;\n",
       "    }\n",
       "\n",
       "    .dataframe thead th {\n",
       "        text-align: right;\n",
       "    }\n",
       "</style>\n",
       "<table border=\"1\" class=\"dataframe\">\n",
       "  <thead>\n",
       "    <tr style=\"text-align: right;\">\n",
       "      <th></th>\n",
       "      <th>count</th>\n",
       "      <th>class</th>\n",
       "      <th>category</th>\n",
       "    </tr>\n",
       "  </thead>\n",
       "  <tbody>\n",
       "    <tr>\n",
       "      <th>0</th>\n",
       "      <td>1.397959</td>\n",
       "      <td>I</td>\n",
       "      <td>Female</td>\n",
       "    </tr>\n",
       "    <tr>\n",
       "      <th>1</th>\n",
       "      <td>1.328571</td>\n",
       "      <td>I</td>\n",
       "      <td>Male</td>\n",
       "    </tr>\n",
       "    <tr>\n",
       "      <th>2</th>\n",
       "      <td>1.360215</td>\n",
       "      <td>II</td>\n",
       "      <td>Female</td>\n",
       "    </tr>\n",
       "    <tr>\n",
       "      <th>3</th>\n",
       "      <td>1.321429</td>\n",
       "      <td>II</td>\n",
       "      <td>Male</td>\n",
       "    </tr>\n",
       "    <tr>\n",
       "      <th>4</th>\n",
       "      <td>1.314286</td>\n",
       "      <td>I</td>\n",
       "      <td>Younger</td>\n",
       "    </tr>\n",
       "    <tr>\n",
       "      <th>5</th>\n",
       "      <td>1.422222</td>\n",
       "      <td>I</td>\n",
       "      <td>Older</td>\n",
       "    </tr>\n",
       "    <tr>\n",
       "      <th>6</th>\n",
       "      <td>1.280576</td>\n",
       "      <td>II</td>\n",
       "      <td>Younger</td>\n",
       "    </tr>\n",
       "    <tr>\n",
       "      <th>7</th>\n",
       "      <td>1.396694</td>\n",
       "      <td>II</td>\n",
       "      <td>Older</td>\n",
       "    </tr>\n",
       "  </tbody>\n",
       "</table>\n",
       "</div>"
      ],
      "text/plain": [
       "      count class category\n",
       "0  1.397959     I   Female\n",
       "1  1.328571     I     Male\n",
       "2  1.360215    II   Female\n",
       "3  1.321429    II     Male\n",
       "4  1.314286     I  Younger\n",
       "5  1.422222     I    Older\n",
       "6  1.280576    II  Younger\n",
       "7  1.396694    II    Older"
      ]
     },
     "execution_count": 52,
     "metadata": {},
     "output_type": "execute_result"
    }
   ],
   "source": [
    "data = pd.DataFrame({'count': [female_I, male_I, female_II, male_II, younger_I, older_I, younger_II, older_II],\n",
    "                     'class': ['I', 'I', 'II', 'II', 'I', 'I', 'II', 'II'],\n",
    "                     'category': ['Female', 'Male', 'Female', 'Male', 'Younger', 'Older', 'Younger', 'Older']})\n",
    "data"
   ]
  },
  {
   "cell_type": "code",
   "execution_count": 53,
   "metadata": {},
   "outputs": [
    {
     "name": "stdout",
     "output_type": "stream",
     "text": [
      "Saving to ../figures/S5_val_driver_counts.C-D.pdf\n"
     ]
    },
    {
     "data": {
      "image/png": "[encoded data removed]",
      "text/plain": [
       "<Figure size 576x198 with 2 Axes>"
      ]
     },
     "metadata": {
      "needs_background": "light"
     },
     "output_type": "display_data"
    }
   ],
   "source": [
    "plt.figure(figsize=(8,2.75))\n",
    "\n",
    "############\n",
    "# A. MHC-I #\n",
    "############\n",
    "plt.subplot(1,2,1)\n",
    "\n",
    "ax = sns.barplot(x='category', y='count', data=data[data['class']=='I'], \n",
    "            palette=['lightpink', 'lightblue', 'lightgrey', 'darkgrey'])\n",
    "\n",
    "plt.xlabel(''), plt.ylabel('Average driver count pan-cancer\\nfor MHC-I patients')\n",
    "plt.text(-0.2, 1.1, 'C', transform=ax.transAxes, fontsize=16,  weight='bold')\n",
    "\n",
    "#############\n",
    "# B. MHC-II #\n",
    "#############\n",
    "plt.subplot(1,2,2)\n",
    "\n",
    "ax = sns.barplot(x='category', y='count', data=data[data['class']=='II'], \n",
    "            palette=['lightpink', 'lightblue', 'lightgrey', 'darkgrey'])\n",
    "\n",
    "plt.xlabel(''), plt.ylabel('Average driver count pan-cancer\\nfor MHC-II patients')\n",
    "plt.text(-0.2, 1.1, 'D', transform=ax.transAxes, fontsize=16,  weight='bold')\n",
    "\n",
    "# save\n",
    "plt.tight_layout()\n",
    "\n",
    "savepath = '../figures/S5_val_driver_counts.C-D.pdf'\n",
    "print('Saving to {}'.format(savepath))\n",
    "plt.savefig(savepath, bbox_inches='tight')\n",
    "plt.show()"
   ]
  },
  {
   "cell_type": "markdown",
   "metadata": {},
   "source": [
    "### 3. Plot E-H: validation PHBR distribution"
   ]
  },
  {
   "cell_type": "code",
   "execution_count": 61,
   "metadata": {},
   "outputs": [],
   "source": [
    "data_dir = '../data/validation_data/'\n",
    "project_list = list(set(['.'.join(x.split('.')[1:-1]) for x in os.listdir(data_dir) if x.startswith('binary')]))\n",
    "\n",
    "affinity_I_df  = pd.DataFrame()\n",
    "affinity_II_df = pd.DataFrame()\n",
    "\n",
    "for project in project_list:\n",
    "    # MHC-I\n",
    "    filepath = os.path.join(data_dir, 'driver_mut.class_i.{}.affinities'.format(project))\n",
    "    affinity_I_df = affinity_I_df.append(pd.read_csv(filepath, sep='\\t', index_col=0), sort=True)\n",
    "    \n",
    "    # MHC-II\n",
    "    filepath = os.path.join(data_dir, 'driver_mut.class_ii.{}.affinities'.format(project))\n",
    "    affinity_II_df = affinity_II_df.append(pd.read_csv(filepath, sep='\\t', index_col=0), sort=True)\n",
    "    \n",
    "affinity_I_df = affinity_I_df.reset_index().drop_duplicates(subset=['index']).set_index('index')\n",
    "affinity_I_df.index = affinity_I_df.index.map(str)\n",
    "\n",
    "affinity_II_df = affinity_II_df.reset_index().drop_duplicates(subset=['index']).set_index('index')\n",
    "affinity_II_df.index = affinity_II_df.index.map(str)"
   ]
  },
  {
   "cell_type": "code",
   "execution_count": 62,
   "metadata": {},
   "outputs": [
    {
     "name": "stdout",
     "output_type": "stream",
     "text": [
      "Saving to ../figures/S5_driver_PHBR.E-H.pdf\n"
     ]
    },
    {
     "data": {
      "image/png": "[encoded data removed]",
      "text/plain": [
       "<Figure size 504x360 with 4 Axes>"
      ]
     },
     "metadata": {
      "needs_background": "light"
     },
     "output_type": "display_data"
    }
   ],
   "source": [
    "plt.figure(figsize=(7,5))\n",
    "\n",
    "##############################\n",
    "# A. All PHBR-I scores - Sex #\n",
    "##############################\n",
    "plt.subplot(2,4,1)\n",
    "\n",
    "data = affinity_I_df.join(mhcI[['sex']]).reset_index()\n",
    "data = pd.melt(data, id_vars=['sex', 'index']).drop_duplicates()\n",
    "\n",
    "p = mannwhitneyu(data[data['sex']=='female'].index.values, data[data['sex']=='male'].index.values).pvalue\n",
    "ax = sns.violinplot(x='sex', y='value', data=data, order=['female', 'male'], palette=['pink', 'lightblue'])\n",
    "\n",
    "plt.xlabel('p<{:.3}'.format(p)), plt.ylabel('Pan-cancer PHBR-I')\n",
    "plt.xticks([0,1], ['Female', 'Male'], fontsize='small')\n",
    "plt.ylim(ymin=-0.5, ymax=14.5)\n",
    "\n",
    "plt.text(-0.3, 1.1, 'E', transform=ax.transAxes, fontsize=16,  weight='bold')\n",
    "\n",
    "###############################\n",
    "# B. All PHBR-II scores - Sex #\n",
    "###############################\n",
    "plt.subplot(2,4,2)\n",
    "\n",
    "data = affinity_II_df.join(mhcII[['sex']]).reset_index()\n",
    "data = pd.melt(data, id_vars=['sex', 'index']).drop_duplicates()\n",
    "\n",
    "p = mannwhitneyu(data[data['sex']=='female'].index.values, data[data['sex']=='male'].index.values).pvalue\n",
    "ax = sns.violinplot(x='sex', y='value', data=data, order=['female', 'male'], palette=['pink', 'lightblue'])\n",
    "\n",
    "plt.xlabel('p<{:.3}'.format(p)), plt.ylabel('Pan-cancer PHBR-II')\n",
    "plt.xticks([0,1], ['Female', 'Male'], fontsize='small')\n",
    "plt.ylim(ymin=-2.7,ymax=81)\n",
    "\n",
    "plt.text(-0.3, 1.1, 'F', transform=ax.transAxes, fontsize=16,  weight='bold')\n",
    "\n",
    "##############################\n",
    "# C. All PHBR-I scores - Age #\n",
    "##############################\n",
    "plt.subplot(2,4,3)\n",
    "\n",
    "data = affinity_I_df.join(mhcI[['age_categorical_3070']]).reset_index()\n",
    "data = pd.melt(data, id_vars=['age_categorical_3070', 'index']).drop_duplicates()\n",
    "\n",
    "p = mannwhitneyu(data[data['age_categorical_3070']=='younger'].index.values, data[data['age_categorical_3070']=='older'].index.values).pvalue\n",
    "ax = sns.violinplot(x='age_categorical_3070', y='value', data=data, order=['younger', 'older'], palette=['lightgrey', 'darkgrey'])\n",
    "\n",
    "plt.xlabel('p<{:.3}'.format(p)), plt.ylabel('Pan-cancer PHBR-I')\n",
    "plt.xticks([0,1], ['Younger', 'Older'], fontsize='small')\n",
    "plt.ylim(ymin=-0.5, ymax=14.5)\n",
    "\n",
    "plt.text(-0.3, 1.1, 'G', transform=ax.transAxes, fontsize=16,  weight='bold')\n",
    "\n",
    "###############################\n",
    "# D. All PHBR-II scores - Age #\n",
    "###############################\n",
    "plt.subplot(2,4,4)\n",
    "\n",
    "data = affinity_II_df.join(mhcII[['age_categorical_3070']]).reset_index()\n",
    "data = pd.melt(data, id_vars=['age_categorical_3070', 'index']).drop_duplicates()\n",
    "\n",
    "p = mannwhitneyu(data[data['age_categorical_3070']=='younger'].index.values, data[data['age_categorical_3070']=='older'].index.values).pvalue\n",
    "ax = sns.violinplot(x='age_categorical_3070', y='value', data=data, order=['younger', 'older'], palette=['lightgrey', 'darkgrey'])\n",
    "\n",
    "plt.xlabel('p<{:.3}'.format(p)), plt.ylabel('Pan-cancer PHBR-II')\n",
    "plt.xticks([0,1], ['Younger', 'Older'], fontsize='small')\n",
    "plt.ylim(ymin=-2.7,ymax=81)\n",
    "\n",
    "plt.text(-0.3, 1.1, 'H', transform=ax.transAxes, fontsize=16,  weight='bold')\n",
    "\n",
    "# save\n",
    "plt.tight_layout(pad=0.6, h_pad=1)\n",
    "\n",
    "savepath = '../figures/S5_driver_PHBR.E-H.pdf'\n",
    "print('Saving to {}'.format(savepath))\n",
    "plt.savefig(savepath, bbox_inches='tight')\n",
    "plt.show()"
   ]
  },
  {
   "cell_type": "markdown",
   "metadata": {},
   "source": [
    "### 4. Plot I-J: validation PHBR fraction binding "
   ]
  },
  {
   "cell_type": "code",
   "execution_count": 63,
   "metadata": {},
   "outputs": [],
   "source": [
    "# mhcI \n",
    "thresholds_I = range(0,21,1)\n",
    "f_medians_list_I, m_medians_list_I = [],[]\n",
    "y_medians_list_I, o_medians_list_I = [],[]\n",
    "\n",
    "for threshold in thresholds_I:\n",
    "    # sex\n",
    "    data = pd.DataFrame((affinity_I_df < threshold).sum(axis=1) / len(affinity_I_df.columns), columns=['fraction'])\n",
    "    data = data.join(mhcI[['sex']])\n",
    "    \n",
    "    f_medians_list_I.append(data[data['sex']=='female'].fraction.median())\n",
    "    m_medians_list_I.append(data[data['sex']=='male'].fraction.median())\n",
    "    \n",
    "    # age\n",
    "    data = pd.DataFrame((affinity_I_df < threshold).sum(axis=1) / len(affinity_I_df.columns), columns=['fraction'])\n",
    "    data = data.join(mhcI[['age_categorical_3070']])\n",
    "    \n",
    "    y_medians_list_I.append(data[data['age_categorical_3070']=='younger'].fraction.median())\n",
    "    o_medians_list_I.append(data[data['age_categorical_3070']=='older'].fraction.median())"
   ]
  },
  {
   "cell_type": "code",
   "execution_count": 64,
   "metadata": {},
   "outputs": [],
   "source": [
    "# mhcII\n",
    "thresholds_II = range(0,81,1)\n",
    "f_medians_list_II, m_medians_list_II = [],[]\n",
    "y_medians_list_II, o_medians_list_II = [],[]\n",
    "\n",
    "for threshold in thresholds_II:\n",
    "    # sex\n",
    "    data = pd.DataFrame((affinity_II_df < threshold).sum(axis=1) / len(affinity_II_df.columns), columns=['fraction'])\n",
    "    data = data.join(mhcII[['sex']])\n",
    "    \n",
    "    f_medians_list_II.append(data[data['sex']=='female'].fraction.median())\n",
    "    m_medians_list_II.append(data[data['sex']=='male'].fraction.median())\n",
    "    \n",
    "    # age\n",
    "    data = pd.DataFrame((affinity_II_df < threshold).sum(axis=1) / len(affinity_II_df.columns), columns=['fraction'])\n",
    "    data = data.join(mhcII[['age_categorical_3070']])\n",
    "    \n",
    "    y_medians_list_II.append(data[data['age_categorical_3070']=='younger'].fraction.median())\n",
    "    o_medians_list_II.append(data[data['age_categorical_3070']=='older'].fraction.median())"
   ]
  },
  {
   "cell_type": "code",
   "execution_count": 65,
   "metadata": {},
   "outputs": [
    {
     "name": "stdout",
     "output_type": "stream",
     "text": [
      "Saving to ../figures/S5_val_fraction_ECDF.I-J.pdf\n"
     ]
    },
    {
     "data": {
      "image/png": "[encoded data removed]",
      "text/plain": [
       "<Figure size 504x180 with 2 Axes>"
      ]
     },
     "metadata": {
      "needs_background": "light"
     },
     "output_type": "display_data"
    }
   ],
   "source": [
    "plt.figure(figsize=(7,2.5))\n",
    "\n",
    "#################\n",
    "# A. All PHBR-I #\n",
    "#################\n",
    "fig = plt.subplot(1,2,1)\n",
    "\n",
    "plt.plot(thresholds_I, f_medians_list_I, color='lightpink') # Female\n",
    "plt.plot(thresholds_I, m_medians_list_I, color='lightblue') # Male\n",
    "plt.plot(thresholds_I, y_medians_list_I, color='lightgrey') # Younger\n",
    "plt.plot(thresholds_I, o_medians_list_I, color='darkgrey')  # Older\n",
    "\n",
    "plt.text(-0.15, 1.1, 'I', transform=fig.transAxes, fontsize=16,  weight='bold')\n",
    "plt.xlabel('MHC-I Thresholds'), plt.ylabel('MHC-I Fraction binding')\n",
    "plt.ylim(0,1), plt.xlim(0,20)\n",
    "\n",
    "##################\n",
    "# A. All PHBR-II #\n",
    "##################\n",
    "fig = plt.subplot(1,2,2)\n",
    "\n",
    "plt.plot(thresholds_II, f_medians_list_II, color='lightpink') # Female\n",
    "plt.plot(thresholds_II, m_medians_list_II, color='lightblue') # Male\n",
    "plt.plot(thresholds_II, y_medians_list_II, color='lightgrey') # Younger\n",
    "plt.plot(thresholds_II, o_medians_list_II, color='darkgrey')  # Older\n",
    "\n",
    "plt.text(-0.15, 1.1, 'J', transform=fig.transAxes, fontsize=16,  weight='bold')\n",
    "plt.xlabel('MHC-II Thresholds'), plt.ylabel('MHC-II Fraction binding')\n",
    "plt.ylim(0,1), plt.xlim(0,80)\n",
    "\n",
    "# Save\n",
    "plt.tight_layout()\n",
    "\n",
    "savepath = '../figures/S5_val_fraction_ECDF.I-J.pdf'\n",
    "print('Saving to {}'.format(savepath))\n",
    "plt.savefig(savepath, bbox_inches=\"tight\")\n",
    "plt.show()"
   ]
  },
  {
   "cell_type": "code",
   "execution_count": null,
   "metadata": {},
   "outputs": [],
   "source": []
  }
 ],
 "metadata": {
  "kernelspec": {
   "display_name": "Python 3",
   "language": "python",
   "name": "python3"
  },
  "language_info": {
   "codemirror_mode": {
    "name": "ipython",
    "version": 3
   },
   "file_extension": ".py",
   "mimetype": "text/x-python",
   "name": "python",
   "nbconvert_exporter": "python",
   "pygments_lexer": "ipython3",
   "version": "3.6.8"
  }
 },
 "nbformat": 4,
 "nbformat_minor": 2
}
