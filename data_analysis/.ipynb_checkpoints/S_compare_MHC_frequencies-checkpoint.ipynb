{
 "cells": [
  {
   "cell_type": "markdown",
   "metadata": {},
   "source": [
    "### Notebook\n",
    "- Analysis of MHC genotype frequencies (in Intro)"
   ]
  },
  {
   "cell_type": "code",
   "execution_count": 1,
   "metadata": {},
   "outputs": [],
   "source": [
    "import pandas as pd\n",
    "from scipy.stats import pearsonr"
   ]
  },
  {
   "cell_type": "markdown",
   "metadata": {},
   "source": [
    "### 1. Load data"
   ]
  },
  {
   "cell_type": "markdown",
   "metadata": {},
   "source": [
    "##### 1A. Load MHC types"
   ]
  },
  {
   "cell_type": "code",
   "execution_count": 7,
   "metadata": {},
   "outputs": [],
   "source": [
    "mhcI_types = pd.read_csv('../data/confidently_typed_patients.class_i.csv', index_col=0)\n",
    "mhcII_types = pd.read_csv('../data/confidently_typed_patients.class_ii.csv', index_col=0)"
   ]
  },
  {
   "cell_type": "markdown",
   "metadata": {},
   "source": [
    "##### 1B. Load patients \n",
    "- Remove sex-specific cancers for sex analyses"
   ]
  },
  {
   "cell_type": "code",
   "execution_count": 2,
   "metadata": {},
   "outputs": [],
   "source": [
    "MSS_only = 'MSS_only'\n",
    "remove_sex_specific = 'remove_sex_specific.'"
   ]
  },
  {
   "cell_type": "code",
   "execution_count": 3,
   "metadata": {},
   "outputs": [],
   "source": [
    "confident_patients_rm_sex_I = pd.read_csv('../generated_data/confident_patient_I.age_sex_disease.{}.{}tsv'.format(MSS_only, remove_sex_specific), sep='\\t', index_col=0)\n",
    "confident_patients_rm_sex_II = pd.read_csv('../generated_data/confident_patient_II.age_sex_disease.{}.{}tsv'.format(MSS_only, remove_sex_specific), sep='\\t', index_col=0)\n",
    "\n",
    "# set age threshold\n",
    "young_thresh = 52 # 30th percentile: 52, 40th: 57\n",
    "old_thresh = 68   # 70th percentile: 68, 60th: 65\n",
    "\n",
    "confident_patients_rm_sex_I['age_categorical_3070'] = pd.cut(confident_patients_rm_sex_I['age'], [0, young_thresh, old_thresh, confident_patients_rm_sex_I['age'].max()], labels=['younger', 'middle', 'older'])\n",
    "confident_patients_rm_sex_II['age_categorical_3070'] = pd.cut(confident_patients_rm_sex_II['age'], [0, young_thresh, old_thresh, confident_patients_rm_sex_II['age'].max()], labels=['younger', 'middle', 'older'])"
   ]
  },
  {
   "cell_type": "markdown",
   "metadata": {},
   "source": [
    "##### 1C. Load patients\n",
    "- Keep sex-specific cancers for age analyses"
   ]
  },
  {
   "cell_type": "code",
   "execution_count": 4,
   "metadata": {},
   "outputs": [],
   "source": [
    "MSS_only = 'MSS_only'\n",
    "remove_sex_specific = 'kept_sex_specific.'"
   ]
  },
  {
   "cell_type": "code",
   "execution_count": 5,
   "metadata": {},
   "outputs": [],
   "source": [
    "confident_patients_kept_sex_I = pd.read_csv('../generated_data/confident_patient_I.age_sex_disease.{}.{}tsv'.format(MSS_only, remove_sex_specific), sep='\\t', index_col=0)\n",
    "confident_patients_kept_sex_II = pd.read_csv('../generated_data/confident_patient_II.age_sex_disease.{}.{}tsv'.format(MSS_only, remove_sex_specific), sep='\\t', index_col=0)\n",
    "\n",
    "# set age threshold\n",
    "young_thresh = 52 # 30th percentile: 52, 40th: 57\n",
    "old_thresh = 68   # 70th percentile: 68, 60th: 65\n",
    "\n",
    "confident_patients_kept_sex_I['age_categorical_3070'] = pd.cut(confident_patients_kept_sex_I['age'], [0, young_thresh, old_thresh, confident_patients_kept_sex_I['age'].max()], labels=['younger', 'middle', 'older'])\n",
    "confident_patients_kept_sex_II['age_categorical_3070'] = pd.cut(confident_patients_kept_sex_II['age'], [0, young_thresh, old_thresh, confident_patients_kept_sex_II['age'].max()], labels=['younger', 'middle', 'older'])"
   ]
  },
  {
   "cell_type": "markdown",
   "metadata": {},
   "source": [
    "### 2. Format data"
   ]
  },
  {
   "cell_type": "markdown",
   "metadata": {},
   "source": [
    "##### 2A. Sex-specific analyses \n",
    "- Remove sex-specific cancers"
   ]
  },
  {
   "cell_type": "code",
   "execution_count": 8,
   "metadata": {},
   "outputs": [
    {
     "name": "stdout",
     "output_type": "stream",
     "text": [
      "2554 2681\n"
     ]
    }
   ],
   "source": [
    "# subset types\n",
    "mhcI_types_rm_sex = mhcI_types[mhcI_types.index.isin(confident_patients_rm_sex_I.index)]\n",
    "mhcII_types_rm_sex = mhcII_types[mhcII_types.index.isin(confident_patients_rm_sex_II.index)]\n",
    "print(len(mhcI_types_rm_sex), len(mhcII_types_rm_sex))"
   ]
  },
  {
   "cell_type": "markdown",
   "metadata": {},
   "source": [
    "##### 2B. Age-specific analyses \n",
    "- Keep sex-specific cancers"
   ]
  },
  {
   "cell_type": "code",
   "execution_count": 9,
   "metadata": {},
   "outputs": [
    {
     "name": "stdout",
     "output_type": "stream",
     "text": [
      "3166 3036\n"
     ]
    }
   ],
   "source": [
    "# subset types\n",
    "mhcI_types_kept_sex = mhcI_types[mhcI_types.index.isin(confident_patients_kept_sex_I.index)]\n",
    "mhcII_types_kept_sex = mhcII_types[mhcII_types.index.isin(confident_patients_kept_sex_II.index)]\n",
    "print(len(mhcI_types_kept_sex), len(mhcII_types_kept_sex))"
   ]
  },
  {
   "cell_type": "markdown",
   "metadata": {},
   "source": [
    "### 3. Compare allele frequency for each group"
   ]
  },
  {
   "cell_type": "code",
   "execution_count": 10,
   "metadata": {},
   "outputs": [],
   "source": [
    "# get female/male patients\n",
    "female_I = confident_patients_rm_sex_I[confident_patients_rm_sex_I['sex']=='female'].index.unique()\n",
    "male_I = confident_patients_rm_sex_I[confident_patients_rm_sex_I['sex']=='male'].index.unique()\n",
    "\n",
    "female_II = confident_patients_rm_sex_II[confident_patients_rm_sex_II['sex']=='female'].index.unique()\n",
    "male_II = confident_patients_rm_sex_II[confident_patients_rm_sex_II['sex']=='male'].index.unique()\n",
    "\n",
    "# get young/old patients\n",
    "young_I = confident_patients_kept_sex_I[confident_patients_kept_sex_I['age_categorical_3070']=='younger'].index.unique()\n",
    "old_I = confident_patients_kept_sex_I[confident_patients_kept_sex_I['age_categorical_3070']=='older'].index.unique()\n",
    "\n",
    "young_II = confident_patients_kept_sex_II[confident_patients_kept_sex_II['age_categorical_3070']=='younger'].index.unique()\n",
    "old_II = confident_patients_kept_sex_II[confident_patients_kept_sex_II['age_categorical_3070']=='older'].index.unique()"
   ]
  },
  {
   "cell_type": "code",
   "execution_count": 11,
   "metadata": {},
   "outputs": [],
   "source": [
    "# subset MHC types for sex\n",
    "female_I_types = mhcI_types_rm_sex[mhcI_types_rm_sex.index.isin(female_I)].values.reshape(-1).tolist()\n",
    "male_I_types = mhcI_types_rm_sex[mhcI_types_rm_sex.index.isin(male_I)].values.reshape(-1).tolist()\n",
    "\n",
    "female_II_types = mhcII_types_rm_sex[mhcII_types_rm_sex.index.isin(female_I)].values.reshape(-1).tolist()\n",
    "male_II_types = mhcII_types_rm_sex[mhcII_types_rm_sex.index.isin(male_I)].values.reshape(-1).tolist()\n",
    "\n",
    "# subset MHC types for age\n",
    "young_I_types = mhcI_types_kept_sex[mhcI_types_kept_sex.index.isin(young_I)].values.reshape(-1).tolist()\n",
    "old_I_types = mhcI_types_kept_sex[mhcI_types_kept_sex.index.isin(old_I)].values.reshape(-1).tolist()\n",
    "\n",
    "young_II_types = mhcII_types_kept_sex[mhcII_types_kept_sex.index.isin(young_I)].values.reshape(-1).tolist()\n",
    "old_II_types = mhcII_types_kept_sex[mhcII_types_kept_sex.index.isin(old_I)].values.reshape(-1).tolist()"
   ]
  },
  {
   "cell_type": "code",
   "execution_count": 12,
   "metadata": {},
   "outputs": [],
   "source": [
    "# get frequencies for sex\n",
    "male_I_freq = pd.Series(male_I_types, name='male_freq')\n",
    "male_I_freq = pd.DataFrame(male_I_freq.value_counts() / len(male_I_freq))\n",
    "\n",
    "female_I_freq = pd.Series(female_I_types, name='female_freq')\n",
    "female_I_freq = pd.DataFrame(female_I_freq.value_counts() / len(female_I_freq))\n",
    "\n",
    "male_II_freq = pd.Series(male_II_types, name='male_freq')\n",
    "male_II_freq = pd.DataFrame(male_II_freq.value_counts() / len(male_II_freq))\n",
    "\n",
    "female_II_freq = pd.Series(female_II_types, name='female_freq')\n",
    "female_II_freq = pd.DataFrame(female_II_freq.value_counts() / len(female_II_freq))"
   ]
  },
  {
   "cell_type": "code",
   "execution_count": 13,
   "metadata": {},
   "outputs": [],
   "source": [
    "# get frequencies for age\n",
    "old_I_freq = pd.Series(old_I_types, name='old_freq')\n",
    "old_I_freq = pd.DataFrame(old_I_freq.value_counts() / len(old_I_freq))\n",
    "\n",
    "young_I_freq = pd.Series(young_I_types, name='young_freq')\n",
    "young_I_freq = pd.DataFrame(young_I_freq.value_counts() / len(young_I_freq))\n",
    "\n",
    "old_II_freq = pd.Series(old_II_types, name='old_freq')\n",
    "old_II_freq = pd.DataFrame(old_II_freq.value_counts() / len(old_II_freq))\n",
    "\n",
    "young_II_freq = pd.Series(young_II_types, name='young_freq')\n",
    "young_II_freq = pd.DataFrame(young_II_freq.value_counts() / len(young_II_freq))"
   ]
  },
  {
   "cell_type": "code",
   "execution_count": 14,
   "metadata": {},
   "outputs": [
    {
     "name": "stdout",
     "output_type": "stream",
     "text": [
      "MHC-I: Sex\n",
      "(0.9910125920979792, 1.4104563651723024e-114)\n",
      "MHC-II: Sex\n",
      "(0.9977357306032135, 2.848642999557856e-127)\n"
     ]
    }
   ],
   "source": [
    "# get outputs - sex\n",
    "mhcI_output_df = pd.merge(male_I_freq, female_I_freq, left_index=True, right_index=True)\n",
    "mhcII_output_df = pd.merge(male_II_freq, female_II_freq, left_index=True, right_index=True)\n",
    "\n",
    "print('MHC-I: Sex')\n",
    "print(pearsonr(mhcI_output_df['male_freq'], \n",
    "               mhcI_output_df['female_freq']))\n",
    "\n",
    "print('MHC-II: Sex')\n",
    "print(pearsonr(mhcII_output_df['male_freq'], \n",
    "               mhcII_output_df['female_freq']))"
   ]
  },
  {
   "cell_type": "code",
   "execution_count": 15,
   "metadata": {},
   "outputs": [
    {
     "name": "stdout",
     "output_type": "stream",
     "text": [
      "MHC-I: Age\n",
      "(0.9841260895416479, 3.2026728001264255e-94)\n",
      "MHC-II: Age\n",
      "(0.9976420118620409, 3.587760253578673e-118)\n"
     ]
    }
   ],
   "source": [
    "# get outputs - age\n",
    "mhcI_output_df = pd.merge(old_I_freq, young_I_freq, left_index=True, right_index=True)\n",
    "mhcII_output_df = pd.merge(old_II_freq, young_II_freq, left_index=True, right_index=True)\n",
    "\n",
    "print('MHC-I: Age')\n",
    "print(pearsonr(mhcI_output_df['old_freq'], \n",
    "               mhcI_output_df['young_freq']))\n",
    "\n",
    "print('MHC-II: Age')\n",
    "print(pearsonr(mhcII_output_df['old_freq'], \n",
    "               mhcII_output_df['young_freq']))"
   ]
  },
  {
   "cell_type": "code",
   "execution_count": null,
   "metadata": {},
   "outputs": [],
   "source": []
  }
 ],
 "metadata": {
  "kernelspec": {
   "display_name": "Python 3",
   "language": "python",
   "name": "python3"
  },
  "language_info": {
   "codemirror_mode": {
    "name": "ipython",
    "version": 3
   },
   "file_extension": ".py",
   "mimetype": "text/x-python",
   "name": "python",
   "nbconvert_exporter": "python",
   "pygments_lexer": "ipython3",
   "version": "3.6.8"
  }
 },
 "nbformat": 4,
 "nbformat_minor": 2
}
