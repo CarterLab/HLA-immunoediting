{
 "cells": [
  {
   "cell_type": "markdown",
   "metadata": {},
   "source": [
    "### Notebook:\n",
    "- Fits linear model (gam) to discovery and validation cohorts\n",
    "    - P(mutation) ~ $log$(PHBR-I) * $log$(PHBR-II) * sex\n",
    "    - P(mutation) ~ $log$(PHBR-I) * $log$(PHBR-II) * age"
   ]
  },
  {
   "cell_type": "code",
   "execution_count": 1,
   "metadata": {},
   "outputs": [
    {
     "name": "stderr",
     "output_type": "stream",
     "text": [
      "Loading required package: nlme\n",
      "This is mgcv 1.8-23. For overview type 'help(\"mgcv-package\")'.\n"
     ]
    }
   ],
   "source": [
    "library(mgcv)\n",
    "library(oddsratio)"
   ]
  },
  {
   "cell_type": "code",
   "execution_count": 22,
   "metadata": {},
   "outputs": [],
   "source": [
    "# install.packages('oddsratio')"
   ]
  },
  {
   "cell_type": "markdown",
   "metadata": {},
   "source": [
    "### 1. Discovery cohort\n",
    "- TCGA"
   ]
  },
  {
   "cell_type": "markdown",
   "metadata": {},
   "source": [
    "##### 1A. Load discovery cohort"
   ]
  },
  {
   "cell_type": "code",
   "execution_count": 4,
   "metadata": {},
   "outputs": [
    {
     "name": "stdout",
     "output_type": "stream",
     "text": [
      "472264 15"
     ]
    },
    {
     "data": {
      "text/html": [
       "<table>\n",
       "<thead><tr><th scope=col>y..has_mutation.</th><th scope=col>centered_log_phbrI</th><th scope=col>centered_log_phbrII</th><th scope=col>centered_sex</th><th scope=col>patient_ids</th><th scope=col>disease</th></tr></thead>\n",
       "<tbody>\n",
       "\t<tr><td>0           </td><td> 3.8900150  </td><td> 1.7543377  </td><td>-0.4079498  </td><td>TCGA-02-0047</td><td>TCGA-GBM    </td></tr>\n",
       "\t<tr><td>0           </td><td> 0.5786314  </td><td> 0.7571816  </td><td>-0.4079498  </td><td>TCGA-02-0047</td><td>TCGA-GBM    </td></tr>\n",
       "\t<tr><td>0           </td><td> 1.6918168  </td><td> 0.3475884  </td><td>-0.4079498  </td><td>TCGA-02-0047</td><td>TCGA-GBM    </td></tr>\n",
       "\t<tr><td>0           </td><td> 0.3443303  </td><td>-0.6320063  </td><td>-0.4079498  </td><td>TCGA-02-0047</td><td>TCGA-GBM    </td></tr>\n",
       "\t<tr><td>0           </td><td>-3.7273039  </td><td> 1.1537346  </td><td>-0.4079498  </td><td>TCGA-02-0047</td><td>TCGA-GBM    </td></tr>\n",
       "\t<tr><td>0           </td><td>-4.1717617  </td><td> 0.7393688  </td><td>-0.4079498  </td><td>TCGA-02-0047</td><td>TCGA-GBM    </td></tr>\n",
       "</tbody>\n",
       "</table>\n"
      ],
      "text/latex": [
       "\\begin{tabular}{r|llllll}\n",
       " y..has\\_mutation. & centered\\_log\\_phbrI & centered\\_log\\_phbrII & centered\\_sex & patient\\_ids & disease\\\\\n",
       "\\hline\n",
       "\t 0            &  3.8900150   &  1.7543377   & -0.4079498   & TCGA-02-0047 & TCGA-GBM    \\\\\n",
       "\t 0            &  0.5786314   &  0.7571816   & -0.4079498   & TCGA-02-0047 & TCGA-GBM    \\\\\n",
       "\t 0            &  1.6918168   &  0.3475884   & -0.4079498   & TCGA-02-0047 & TCGA-GBM    \\\\\n",
       "\t 0            &  0.3443303   & -0.6320063   & -0.4079498   & TCGA-02-0047 & TCGA-GBM    \\\\\n",
       "\t 0            & -3.7273039   &  1.1537346   & -0.4079498   & TCGA-02-0047 & TCGA-GBM    \\\\\n",
       "\t 0            & -4.1717617   &  0.7393688   & -0.4079498   & TCGA-02-0047 & TCGA-GBM    \\\\\n",
       "\\end{tabular}\n"
      ],
      "text/markdown": [
       "\n",
       "y..has_mutation. | centered_log_phbrI | centered_log_phbrII | centered_sex | patient_ids | disease | \n",
       "|---|---|---|---|---|---|\n",
       "| 0            |  3.8900150   |  1.7543377   | -0.4079498   | TCGA-02-0047 | TCGA-GBM     | \n",
       "| 0            |  0.5786314   |  0.7571816   | -0.4079498   | TCGA-02-0047 | TCGA-GBM     | \n",
       "| 0            |  1.6918168   |  0.3475884   | -0.4079498   | TCGA-02-0047 | TCGA-GBM     | \n",
       "| 0            |  0.3443303   | -0.6320063   | -0.4079498   | TCGA-02-0047 | TCGA-GBM     | \n",
       "| 0            | -3.7273039   |  1.1537346   | -0.4079498   | TCGA-02-0047 | TCGA-GBM     | \n",
       "| 0            | -4.1717617   |  0.7393688   | -0.4079498   | TCGA-02-0047 | TCGA-GBM     | \n",
       "\n",
       "\n"
      ],
      "text/plain": [
       "  y..has_mutation. centered_log_phbrI centered_log_phbrII centered_sex\n",
       "1 0                 3.8900150          1.7543377          -0.4079498  \n",
       "2 0                 0.5786314          0.7571816          -0.4079498  \n",
       "3 0                 1.6918168          0.3475884          -0.4079498  \n",
       "4 0                 0.3443303         -0.6320063          -0.4079498  \n",
       "5 0                -3.7273039          1.1537346          -0.4079498  \n",
       "6 0                -4.1717617          0.7393688          -0.4079498  \n",
       "  patient_ids  disease \n",
       "1 TCGA-02-0047 TCGA-GBM\n",
       "2 TCGA-02-0047 TCGA-GBM\n",
       "3 TCGA-02-0047 TCGA-GBM\n",
       "4 TCGA-02-0047 TCGA-GBM\n",
       "5 TCGA-02-0047 TCGA-GBM\n",
       "6 TCGA-02-0047 TCGA-GBM"
      ]
     },
     "metadata": {},
     "output_type": "display_data"
    }
   ],
   "source": [
    "discovery_data = read.csv('../generated_data/gam_input.expressed_mutations.2.csv.gz')\n",
    "cat(dim(discovery_data))\n",
    "head(discovery_data[c('y..has_mutation.', 'centered_log_phbrI', 'centered_log_phbrII', 'centered_sex', 'patient_ids', 'disease')])"
   ]
  },
  {
   "cell_type": "markdown",
   "metadata": {},
   "source": [
    "### 1B. Table 1"
   ]
  },
  {
   "cell_type": "markdown",
   "metadata": {},
   "source": [
    "##### Age"
   ]
  },
  {
   "cell_type": "code",
   "execution_count": 5,
   "metadata": {},
   "outputs": [
    {
     "data": {
      "text/plain": [
       "\n",
       "Family: binomial \n",
       "Link function: logit \n",
       "\n",
       "Formula:\n",
       "y..has_mutation. ~ centered_log_phbrI * centered_log_phbrII * \n",
       "    centered_age\n",
       "\n",
       "Parametric coefficients:\n",
       "                                                     Estimate Std. Error\n",
       "(Intercept)                                         -5.324911   0.022854\n",
       "centered_log_phbrI                                   0.095362   0.018580\n",
       "centered_log_phbrII                                  0.278578   0.023209\n",
       "centered_age                                        -0.002545   0.001495\n",
       "centered_log_phbrI:centered_log_phbrII              -0.067884   0.016343\n",
       "centered_log_phbrI:centered_age                     -0.001148   0.001221\n",
       "centered_log_phbrII:centered_age                    -0.004346   0.001532\n",
       "centered_log_phbrI:centered_log_phbrII:centered_age  0.002300   0.001081\n",
       "                                                     z value Pr(>|z|)    \n",
       "(Intercept)                                         -232.999  < 2e-16 ***\n",
       "centered_log_phbrI                                     5.133 2.86e-07 ***\n",
       "centered_log_phbrII                                   12.003  < 2e-16 ***\n",
       "centered_age                                          -1.702  0.08870 .  \n",
       "centered_log_phbrI:centered_log_phbrII                -4.154 3.27e-05 ***\n",
       "centered_log_phbrI:centered_age                       -0.940  0.34729    \n",
       "centered_log_phbrII:centered_age                      -2.837  0.00455 ** \n",
       "centered_log_phbrI:centered_log_phbrII:centered_age    2.127  0.03344 *  \n",
       "---\n",
       "Signif. codes:  0 ‘***’ 0.001 ‘**’ 0.01 ‘*’ 0.05 ‘.’ 0.1 ‘ ’ 1\n",
       "\n",
       "\n",
       "R-sq.(adj) =  0.000574   Deviance explained = 0.955%\n",
       "UBRE = -0.93757  Scale est. = 1         n = 472264"
      ]
     },
     "metadata": {},
     "output_type": "display_data"
    }
   ],
   "source": [
    "g_age <- mgcv::gam(y..has_mutation. ~ centered_log_phbrI * centered_log_phbrII * centered_age, \n",
    "                   random=list(patient_ids=~1), \n",
    "                   family=binomial(link='logit'), \n",
    "                   data=discovery_data)\n",
    "summary(g_age)"
   ]
  },
  {
   "cell_type": "markdown",
   "metadata": {},
   "source": [
    "##### Sex \n"
   ]
  },
  {
   "cell_type": "code",
   "execution_count": 6,
   "metadata": {},
   "outputs": [
    {
     "data": {
      "text/plain": [
       "\n",
       "Family: binomial \n",
       "Link function: logit \n",
       "\n",
       "Formula:\n",
       "y..has_mutation. ~ centered_log_phbrI * centered_log_phbrII * \n",
       "    centered_sex\n",
       "\n",
       "Parametric coefficients:\n",
       "                                                    Estimate Std. Error\n",
       "(Intercept)                                         -5.32352    0.02283\n",
       "centered_log_phbrI                                   0.09454    0.01859\n",
       "centered_log_phbrII                                  0.27929    0.02324\n",
       "centered_sex                                        -0.04618    0.04676\n",
       "centered_log_phbrI:centered_log_phbrII              -0.06717    0.01638\n",
       "centered_log_phbrI:centered_sex                      0.04004    0.03828\n",
       "centered_log_phbrII:centered_sex                     0.11891    0.04800\n",
       "centered_log_phbrI:centered_log_phbrII:centered_sex -0.01882    0.03381\n",
       "                                                     z value Pr(>|z|)    \n",
       "(Intercept)                                         -233.137  < 2e-16 ***\n",
       "centered_log_phbrI                                     5.085 3.68e-07 ***\n",
       "centered_log_phbrII                                   12.017  < 2e-16 ***\n",
       "centered_sex                                          -0.987   0.3234    \n",
       "centered_log_phbrI:centered_log_phbrII                -4.102 4.10e-05 ***\n",
       "centered_log_phbrI:centered_sex                        1.046   0.2955    \n",
       "centered_log_phbrII:centered_sex                       2.477   0.0132 *  \n",
       "centered_log_phbrI:centered_log_phbrII:centered_sex   -0.557   0.5777    \n",
       "---\n",
       "Signif. codes:  0 ‘***’ 0.001 ‘**’ 0.01 ‘*’ 0.05 ‘.’ 0.1 ‘ ’ 1\n",
       "\n",
       "\n",
       "R-sq.(adj) =  0.000546   Deviance explained = 0.928%\n",
       "UBRE = -0.93756  Scale est. = 1         n = 472264"
      ]
     },
     "metadata": {},
     "output_type": "display_data"
    }
   ],
   "source": [
    "g_sex <- mgcv::gam(y..has_mutation. ~ centered_log_phbrI * centered_log_phbrII * centered_sex, \n",
    "                   random=list(patient_ids=~1), \n",
    "                   family=binomial(link='logit'), \n",
    "                   data=discovery_data)\n",
    "summary(g_sex)"
   ]
  },
  {
   "cell_type": "markdown",
   "metadata": {},
   "source": [
    "##### Odds ratio analysis\n",
    "- Quantifies the influence of both PHBR-I and PHBR-II scores on probability of mutation using odds ratios between respective 25th and 75th percentiles"
   ]
  },
  {
   "cell_type": "code",
   "execution_count": 14,
   "metadata": {},
   "outputs": [],
   "source": [
    "gam_compare = mgcv::gam(y..has_mutation. ~ s(centered_log_phbrI, centered_log_phbrII), \n",
    "                        data=discovery_data, \n",
    "                        random=list(patient_ids=~1), \n",
    "                        family='binomial')"
   ]
  },
  {
   "cell_type": "code",
   "execution_count": 15,
   "metadata": {},
   "outputs": [],
   "source": [
    "low_x = quantile(discovery_data[['centered_log_phbrI']], 0.25, names=FALSE)\n",
    "high_x = quantile(discovery_data[['centered_log_phbrI']], 0.75, names=FALSE)\n",
    "low_z = quantile(discovery_data[['centered_log_phbrII']], 0.25, names=FALSE)\n",
    "high_z = quantile(discovery_data[['centered_log_phbrII']], 0.75, names=FALSE)"
   ]
  },
  {
   "cell_type": "code",
   "execution_count": 23,
   "metadata": {},
   "outputs": [],
   "source": [
    "results1 = or_gam(data=discovery_data, model=gam_compare, pred=c(\"centered_log_phbrI\"), values=c(low_x, high_x))\n",
    "results2 = or_gam(data=discovery_data, model=gam_compare, pred=c(\"centered_log_phbrII\"), values=c(low_z, high_z))"
   ]
  },
  {
   "cell_type": "code",
   "execution_count": 24,
   "metadata": {},
   "outputs": [],
   "source": [
    "OR <- CI_low <- CI_high <-  predicted <- vector(\"list\",2)"
   ]
  },
  {
   "cell_type": "code",
   "execution_count": 25,
   "metadata": {},
   "outputs": [],
   "source": [
    "OR[[1]] <- results1[['oddsratio']]\n",
    "CI_low[[1]] <- results1[['CI_low (2.5%)']]\n",
    "CI_high[[1]] <- results1[['CI_high (97.5%)']]\n",
    "predicted[[1]] <- results1[['predictor']]\n",
    "\n",
    "OR[[2]] <- results2[['oddsratio']]\n",
    "CI_low[[2]] <- results2[['CI_low (2.5%)']]\n",
    "CI_high[[2]] <- results2[['CI_high (97.5%)']]\n",
    "predicted[[2]] <- results2[['predictor']]"
   ]
  },
  {
   "cell_type": "code",
   "execution_count": 26,
   "metadata": {
    "scrolled": true
   },
   "outputs": [
    {
     "data": {
      "text/html": [
       "<table>\n",
       "<thead><tr><th scope=col>OR</th><th scope=col>CI_low</th><th scope=col>CI_high</th><th scope=col>predicted</th></tr></thead>\n",
       "<tbody>\n",
       "\t<tr><td>1.252424          </td><td>1.232899          </td><td>1.272258          </td><td>centered_log_phbrI</td></tr>\n",
       "\t<tr><td>2.1066             </td><td>2.012956           </td><td>2.204599           </td><td>centered_log_phbrII</td></tr>\n",
       "</tbody>\n",
       "</table>\n"
      ],
      "text/latex": [
       "\\begin{tabular}{llll}\n",
       " OR & CI\\_low & CI\\_high & predicted\\\\\n",
       "\\hline\n",
       "\t 1.252424               & 1.232899               & 1.272258               & centered\\_log\\_phbrI\\\\\n",
       "\t 2.1066                  & 2.012956                & 2.204599                & centered\\_log\\_phbrII\\\\\n",
       "\\end{tabular}\n"
      ],
      "text/markdown": [
       "\n",
       "OR | CI_low | CI_high | predicted | \n",
       "|---|---|\n",
       "| 1.252424           | 1.232899           | 1.272258           | centered_log_phbrI | \n",
       "| 2.1066              | 2.012956            | 2.204599            | centered_log_phbrII | \n",
       "\n",
       "\n"
      ],
      "text/plain": [
       "     OR       CI_low   CI_high  predicted          \n",
       "[1,] 1.252424 1.232899 1.272258 centered_log_phbrI \n",
       "[2,] 2.1066   2.012956 2.204599 centered_log_phbrII"
      ]
     },
     "metadata": {},
     "output_type": "display_data"
    }
   ],
   "source": [
    "cbind(cbind(cbind(OR, CI_low), CI_high), predicted)"
   ]
  },
  {
   "cell_type": "markdown",
   "metadata": {},
   "source": [
    "### 1C. Table S1: PHBR-II * sex * age"
   ]
  },
  {
   "cell_type": "code",
   "execution_count": 7,
   "metadata": {},
   "outputs": [
    {
     "data": {
      "text/plain": [
       "\n",
       "Family: binomial \n",
       "Link function: logit \n",
       "\n",
       "Formula:\n",
       "y..has_mutation. ~ centered_log_phbrII * centered_sex * centered_age\n",
       "\n",
       "Parametric coefficients:\n",
       "                                               Estimate Std. Error  z value\n",
       "(Intercept)                                   -5.351721   0.021996 -243.299\n",
       "centered_log_phbrII                            0.306101   0.021243   14.409\n",
       "centered_sex                                  -0.053199   0.045179   -1.178\n",
       "centered_age                                  -0.002007   0.001449   -1.386\n",
       "centered_log_phbrII:centered_sex               0.122354   0.043764    2.796\n",
       "centered_log_phbrII:centered_age              -0.003560   0.001398   -2.546\n",
       "centered_sex:centered_age                      0.004639   0.002946    1.575\n",
       "centered_log_phbrII:centered_sex:centered_age -0.003794   0.002852   -1.330\n",
       "                                              Pr(>|z|)    \n",
       "(Intercept)                                    < 2e-16 ***\n",
       "centered_log_phbrII                            < 2e-16 ***\n",
       "centered_sex                                   0.23899    \n",
       "centered_age                                   0.16588    \n",
       "centered_log_phbrII:centered_sex               0.00518 ** \n",
       "centered_log_phbrII:centered_age               0.01090 *  \n",
       "centered_sex:centered_age                      0.11532    \n",
       "centered_log_phbrII:centered_sex:centered_age  0.18340    \n",
       "---\n",
       "Signif. codes:  0 ‘***’ 0.001 ‘**’ 0.01 ‘*’ 0.05 ‘.’ 0.1 ‘ ’ 1\n",
       "\n",
       "\n",
       "R-sq.(adj) =  0.000468   Deviance explained = 0.869%\n",
       "UBRE = -0.93752  Scale est. = 1         n = 472264"
      ]
     },
     "metadata": {},
     "output_type": "display_data"
    }
   ],
   "source": [
    "g_sex_age_II <- mgcv::gam(y..has_mutation. ~ centered_log_phbrII * centered_sex * centered_age, \n",
    "                          random=list(patient_ids=~1), \n",
    "                          family=binomial(link='logit'), \n",
    "                          data=discovery_data)\n",
    "summary(g_sex_age_II)"
   ]
  },
  {
   "cell_type": "markdown",
   "metadata": {},
   "source": [
    "### 1D. Table S2: Without cancer types with significant mutational signature ratios"
   ]
  },
  {
   "cell_type": "code",
   "execution_count": 8,
   "metadata": {},
   "outputs": [
    {
     "name": "stdout",
     "output_type": "stream",
     "text": [
      "319865 15"
     ]
    }
   ],
   "source": [
    "sig_mutsig_tumor_types = c('TCGA-LIHC', 'TCGA-GBM', 'TCGA-HNSC', 'TCGA-SKCM', 'TCGA-STAD')\n",
    "\n",
    "# subset\n",
    "discovery_data_mutsig = subset(discovery_data, !(disease %in% sig_mutsig_tumor_types))\n",
    "cat(dim(discovery_data_mutsig))"
   ]
  },
  {
   "cell_type": "markdown",
   "metadata": {},
   "source": [
    "##### Age"
   ]
  },
  {
   "cell_type": "code",
   "execution_count": 9,
   "metadata": {},
   "outputs": [
    {
     "data": {
      "text/plain": [
       "\n",
       "Family: binomial \n",
       "Link function: logit \n",
       "\n",
       "Formula:\n",
       "y..has_mutation. ~ centered_log_phbrI * centered_log_phbrII * \n",
       "    centered_age\n",
       "\n",
       "Parametric coefficients:\n",
       "                                                     Estimate Std. Error\n",
       "(Intercept)                                         -5.316521   0.027690\n",
       "centered_log_phbrI                                   0.149520   0.023222\n",
       "centered_log_phbrII                                  0.306862   0.028765\n",
       "centered_age                                        -0.001905   0.001758\n",
       "centered_log_phbrI:centered_log_phbrII              -0.117922   0.021048\n",
       "centered_log_phbrI:centered_age                     -0.002548   0.001483\n",
       "centered_log_phbrII:centered_age                    -0.004670   0.001842\n",
       "centered_log_phbrI:centered_log_phbrII:centered_age  0.002755   0.001349\n",
       "                                                     z value Pr(>|z|)    \n",
       "(Intercept)                                         -192.004  < 2e-16 ***\n",
       "centered_log_phbrI                                     6.439 1.21e-10 ***\n",
       "centered_log_phbrII                                   10.668  < 2e-16 ***\n",
       "centered_age                                          -1.084   0.2785    \n",
       "centered_log_phbrI:centered_log_phbrII                -5.603 2.11e-08 ***\n",
       "centered_log_phbrI:centered_age                       -1.719   0.0857 .  \n",
       "centered_log_phbrII:centered_age                      -2.535   0.0113 *  \n",
       "centered_log_phbrI:centered_log_phbrII:centered_age    2.042   0.0411 *  \n",
       "---\n",
       "Signif. codes:  0 ‘***’ 0.001 ‘**’ 0.01 ‘*’ 0.05 ‘.’ 0.1 ‘ ’ 1\n",
       "\n",
       "\n",
       "R-sq.(adj) =  0.000711   Deviance explained = 1.27%\n",
       "UBRE = -0.93712  Scale est. = 1         n = 319865"
      ]
     },
     "metadata": {},
     "output_type": "display_data"
    }
   ],
   "source": [
    "g_age_mutsig <- mgcv::gam(y..has_mutation. ~ centered_log_phbrI * centered_log_phbrII * centered_age, \n",
    "                          random=list(patient_ids=~1), \n",
    "                          family=binomial(link='logit'), \n",
    "                          data=discovery_data_mutsig)\n",
    "summary(g_age_mutsig)"
   ]
  },
  {
   "cell_type": "markdown",
   "metadata": {},
   "source": [
    "##### Sex"
   ]
  },
  {
   "cell_type": "code",
   "execution_count": 10,
   "metadata": {},
   "outputs": [
    {
     "data": {
      "text/plain": [
       "\n",
       "Family: binomial \n",
       "Link function: logit \n",
       "\n",
       "Formula:\n",
       "y..has_mutation. ~ centered_log_phbrI * centered_log_phbrII * \n",
       "    centered_sex\n",
       "\n",
       "Parametric coefficients:\n",
       "                                                    Estimate Std. Error\n",
       "(Intercept)                                         -5.30919    0.02759\n",
       "centered_log_phbrI                                   0.14787    0.02318\n",
       "centered_log_phbrII                                  0.30264    0.02867\n",
       "centered_sex                                        -0.06717    0.05558\n",
       "centered_log_phbrI:centered_log_phbrII              -0.11556    0.02104\n",
       "centered_log_phbrI:centered_sex                      0.04263    0.04695\n",
       "centered_log_phbrII:centered_sex                     0.10378    0.05817\n",
       "centered_log_phbrI:centered_log_phbrII:centered_sex -0.02519    0.04268\n",
       "                                                     z value Pr(>|z|)    \n",
       "(Intercept)                                         -192.450  < 2e-16 ***\n",
       "centered_log_phbrI                                     6.378 1.80e-10 ***\n",
       "centered_log_phbrII                                   10.558  < 2e-16 ***\n",
       "centered_sex                                          -1.208   0.2269    \n",
       "centered_log_phbrI:centered_log_phbrII                -5.492 3.98e-08 ***\n",
       "centered_log_phbrI:centered_sex                        0.908   0.3639    \n",
       "centered_log_phbrII:centered_sex                       1.784   0.0744 .  \n",
       "centered_log_phbrI:centered_log_phbrII:centered_sex   -0.590   0.5551    \n",
       "---\n",
       "Signif. codes:  0 ‘***’ 0.001 ‘**’ 0.01 ‘*’ 0.05 ‘.’ 0.1 ‘ ’ 1\n",
       "\n",
       "\n",
       "R-sq.(adj) =  0.000668   Deviance explained = 1.22%\n",
       "UBRE = -0.93708  Scale est. = 1         n = 319865"
      ]
     },
     "metadata": {},
     "output_type": "display_data"
    }
   ],
   "source": [
    "g_sex_mutsig <- mgcv::gam(y..has_mutation. ~ centered_log_phbrI * centered_log_phbrII * centered_sex, \n",
    "                          random=list(patient_ids=~1), \n",
    "                          family=binomial(link='logit'), \n",
    "                          data=discovery_data_mutsig)\n",
    "summary(g_sex_mutsig)"
   ]
  },
  {
   "cell_type": "markdown",
   "metadata": {},
   "source": [
    "### 1E. Table S3: Discovery cohort without expressed mutation requirement"
   ]
  },
  {
   "cell_type": "code",
   "execution_count": 11,
   "metadata": {},
   "outputs": [
    {
     "name": "stdout",
     "output_type": "stream",
     "text": [
      "472264 15"
     ]
    },
    {
     "data": {
      "text/html": [
       "<table>\n",
       "<thead><tr><th scope=col>y..has_mutation.</th><th scope=col>centered_log_phbrI</th><th scope=col>centered_log_phbrII</th><th scope=col>centered_sex</th><th scope=col>patient_ids</th><th scope=col>disease</th></tr></thead>\n",
       "<tbody>\n",
       "\t<tr><td>0           </td><td> 3.8900150  </td><td> 1.7543377  </td><td>-0.4079498  </td><td>TCGA-02-0047</td><td>TCGA-GBM    </td></tr>\n",
       "\t<tr><td>0           </td><td> 0.5786314  </td><td> 0.7571816  </td><td>-0.4079498  </td><td>TCGA-02-0047</td><td>TCGA-GBM    </td></tr>\n",
       "\t<tr><td>0           </td><td> 1.6918168  </td><td> 0.3475884  </td><td>-0.4079498  </td><td>TCGA-02-0047</td><td>TCGA-GBM    </td></tr>\n",
       "\t<tr><td>0           </td><td> 0.3443303  </td><td>-0.6320063  </td><td>-0.4079498  </td><td>TCGA-02-0047</td><td>TCGA-GBM    </td></tr>\n",
       "\t<tr><td>0           </td><td>-3.7273039  </td><td> 1.1537346  </td><td>-0.4079498  </td><td>TCGA-02-0047</td><td>TCGA-GBM    </td></tr>\n",
       "\t<tr><td>0           </td><td>-4.1717617  </td><td> 0.7393688  </td><td>-0.4079498  </td><td>TCGA-02-0047</td><td>TCGA-GBM    </td></tr>\n",
       "</tbody>\n",
       "</table>\n"
      ],
      "text/latex": [
       "\\begin{tabular}{r|llllll}\n",
       " y..has\\_mutation. & centered\\_log\\_phbrI & centered\\_log\\_phbrII & centered\\_sex & patient\\_ids & disease\\\\\n",
       "\\hline\n",
       "\t 0            &  3.8900150   &  1.7543377   & -0.4079498   & TCGA-02-0047 & TCGA-GBM    \\\\\n",
       "\t 0            &  0.5786314   &  0.7571816   & -0.4079498   & TCGA-02-0047 & TCGA-GBM    \\\\\n",
       "\t 0            &  1.6918168   &  0.3475884   & -0.4079498   & TCGA-02-0047 & TCGA-GBM    \\\\\n",
       "\t 0            &  0.3443303   & -0.6320063   & -0.4079498   & TCGA-02-0047 & TCGA-GBM    \\\\\n",
       "\t 0            & -3.7273039   &  1.1537346   & -0.4079498   & TCGA-02-0047 & TCGA-GBM    \\\\\n",
       "\t 0            & -4.1717617   &  0.7393688   & -0.4079498   & TCGA-02-0047 & TCGA-GBM    \\\\\n",
       "\\end{tabular}\n"
      ],
      "text/markdown": [
       "\n",
       "y..has_mutation. | centered_log_phbrI | centered_log_phbrII | centered_sex | patient_ids | disease | \n",
       "|---|---|---|---|---|---|\n",
       "| 0            |  3.8900150   |  1.7543377   | -0.4079498   | TCGA-02-0047 | TCGA-GBM     | \n",
       "| 0            |  0.5786314   |  0.7571816   | -0.4079498   | TCGA-02-0047 | TCGA-GBM     | \n",
       "| 0            |  1.6918168   |  0.3475884   | -0.4079498   | TCGA-02-0047 | TCGA-GBM     | \n",
       "| 0            |  0.3443303   | -0.6320063   | -0.4079498   | TCGA-02-0047 | TCGA-GBM     | \n",
       "| 0            | -3.7273039   |  1.1537346   | -0.4079498   | TCGA-02-0047 | TCGA-GBM     | \n",
       "| 0            | -4.1717617   |  0.7393688   | -0.4079498   | TCGA-02-0047 | TCGA-GBM     | \n",
       "\n",
       "\n"
      ],
      "text/plain": [
       "  y..has_mutation. centered_log_phbrI centered_log_phbrII centered_sex\n",
       "1 0                 3.8900150          1.7543377          -0.4079498  \n",
       "2 0                 0.5786314          0.7571816          -0.4079498  \n",
       "3 0                 1.6918168          0.3475884          -0.4079498  \n",
       "4 0                 0.3443303         -0.6320063          -0.4079498  \n",
       "5 0                -3.7273039          1.1537346          -0.4079498  \n",
       "6 0                -4.1717617          0.7393688          -0.4079498  \n",
       "  patient_ids  disease \n",
       "1 TCGA-02-0047 TCGA-GBM\n",
       "2 TCGA-02-0047 TCGA-GBM\n",
       "3 TCGA-02-0047 TCGA-GBM\n",
       "4 TCGA-02-0047 TCGA-GBM\n",
       "5 TCGA-02-0047 TCGA-GBM\n",
       "6 TCGA-02-0047 TCGA-GBM"
      ]
     },
     "metadata": {},
     "output_type": "display_data"
    }
   ],
   "source": [
    "discovery_data_S3 = read.csv('../generated_data/gam_input.all_mutations.2.csv.gz')\n",
    "cat(dim(discovery_data))\n",
    "head(discovery_data[c('y..has_mutation.', 'centered_log_phbrI', 'centered_log_phbrII', 'centered_sex', 'patient_ids', 'disease')])"
   ]
  },
  {
   "cell_type": "markdown",
   "metadata": {},
   "source": [
    "##### Age"
   ]
  },
  {
   "cell_type": "code",
   "execution_count": 12,
   "metadata": {},
   "outputs": [
    {
     "data": {
      "text/plain": [
       "\n",
       "Family: binomial \n",
       "Link function: logit \n",
       "\n",
       "Formula:\n",
       "y..has_mutation. ~ centered_log_phbrI * centered_log_phbrII * \n",
       "    centered_age\n",
       "\n",
       "Parametric coefficients:\n",
       "                                                     Estimate Std. Error\n",
       "(Intercept)                                         -5.361188   0.022126\n",
       "centered_log_phbrI                                   0.075500   0.017359\n",
       "centered_log_phbrII                                  0.273793   0.022449\n",
       "centered_age                                        -0.001723   0.001451\n",
       "centered_log_phbrI:centered_log_phbrII              -0.078044   0.015488\n",
       "centered_log_phbrI:centered_age                     -0.001145   0.001144\n",
       "centered_log_phbrII:centered_age                    -0.004537   0.001485\n",
       "centered_log_phbrI:centered_log_phbrII:centered_age  0.002549   0.001026\n",
       "                                                     z value Pr(>|z|)    \n",
       "(Intercept)                                         -242.301  < 2e-16 ***\n",
       "centered_log_phbrI                                     4.349 1.37e-05 ***\n",
       "centered_log_phbrII                                   12.196  < 2e-16 ***\n",
       "centered_age                                          -1.188  0.23502    \n",
       "centered_log_phbrI:centered_log_phbrII                -5.039 4.68e-07 ***\n",
       "centered_log_phbrI:centered_age                       -1.001  0.31675    \n",
       "centered_log_phbrII:centered_age                      -3.055  0.00225 ** \n",
       "centered_log_phbrI:centered_log_phbrII:centered_age    2.484  0.01301 *  \n",
       "---\n",
       "Signif. codes:  0 ‘***’ 0.001 ‘**’ 0.01 ‘*’ 0.05 ‘.’ 0.1 ‘ ’ 1\n",
       "\n",
       "\n",
       "R-sq.(adj) =  0.000494   Deviance explained = 0.852%\n",
       "UBRE = -0.94007  Scale est. = 1         n = 520064"
      ]
     },
     "metadata": {},
     "output_type": "display_data"
    }
   ],
   "source": [
    "g_age_allmut <- mgcv::gam(y..has_mutation. ~ centered_log_phbrI * centered_log_phbrII * centered_age, \n",
    "                          random=list(patient_ids=~1), \n",
    "                          family=binomial(link='logit'), \n",
    "                          data=discovery_data_S3)\n",
    "summary(g_age_allmut)"
   ]
  },
  {
   "cell_type": "markdown",
   "metadata": {},
   "source": [
    "##### Sex"
   ]
  },
  {
   "cell_type": "code",
   "execution_count": 13,
   "metadata": {},
   "outputs": [
    {
     "data": {
      "text/plain": [
       "\n",
       "Family: binomial \n",
       "Link function: logit \n",
       "\n",
       "Formula:\n",
       "y..has_mutation. ~ centered_log_phbrI * centered_log_phbrII * \n",
       "    centered_sex\n",
       "\n",
       "Parametric coefficients:\n",
       "                                                    Estimate Std. Error\n",
       "(Intercept)                                         -5.36063    0.02213\n",
       "centered_log_phbrI                                   0.07401    0.01738\n",
       "centered_log_phbrII                                  0.27435    0.02249\n",
       "centered_sex                                        -0.06383    0.04540\n",
       "centered_log_phbrI:centered_log_phbrII              -0.07681    0.01551\n",
       "centered_log_phbrI:centered_sex                      0.03605    0.03584\n",
       "centered_log_phbrII:centered_sex                     0.13477    0.04659\n",
       "centered_log_phbrI:centered_log_phbrII:centered_sex -0.01739    0.03206\n",
       "                                                     z value Pr(>|z|)    \n",
       "(Intercept)                                         -242.271  < 2e-16 ***\n",
       "centered_log_phbrI                                     4.259 2.05e-05 ***\n",
       "centered_log_phbrII                                   12.198  < 2e-16 ***\n",
       "centered_sex                                          -1.406  0.15979    \n",
       "centered_log_phbrI:centered_log_phbrII                -4.951 7.39e-07 ***\n",
       "centered_log_phbrI:centered_sex                        1.006  0.31440    \n",
       "centered_log_phbrII:centered_sex                       2.892  0.00382 ** \n",
       "centered_log_phbrI:centered_log_phbrII:centered_sex   -0.542  0.58757    \n",
       "---\n",
       "Signif. codes:  0 ‘***’ 0.001 ‘**’ 0.01 ‘*’ 0.05 ‘.’ 0.1 ‘ ’ 1\n",
       "\n",
       "\n",
       "R-sq.(adj) =  0.000478   Deviance explained = 0.837%\n",
       "UBRE = -0.94006  Scale est. = 1         n = 520064"
      ]
     },
     "metadata": {},
     "output_type": "display_data"
    }
   ],
   "source": [
    "g_sex_allmut <- mgcv::gam(y..has_mutation. ~ centered_log_phbrI * centered_log_phbrII * centered_sex, \n",
    "                          random=list(patient_ids=~1), \n",
    "                          family=binomial(link='logit'), \n",
    "                          data=discovery_data_S3)\n",
    "summary(g_sex_allmut)"
   ]
  },
  {
   "cell_type": "markdown",
   "metadata": {},
   "source": [
    "# 2. Validation cohort"
   ]
  },
  {
   "cell_type": "code",
   "execution_count": 2,
   "metadata": {
    "scrolled": true
   },
   "outputs": [
    {
     "data": {
      "text/html": [
       "<table>\n",
       "<thead><tr><th scope=col>y..has_mutation.</th><th scope=col>log_phbr_i</th><th scope=col>log_phbr_ii</th><th scope=col>phbr_i</th><th scope=col>phbr_ii</th><th scope=col>patient_ids</th><th scope=col>sex</th><th scope=col>age</th><th scope=col>centered_log_phbr_i</th><th scope=col>centered_log_phbr_ii</th><th scope=col>centered_sex</th><th scope=col>centered_age</th></tr></thead>\n",
       "<tbody>\n",
       "\t<tr><td>0         </td><td> 0.4360090</td><td>1.2207901 </td><td>1.5465227 </td><td> 3.389865 </td><td>1         </td><td>1         </td><td>48        </td><td> 0.1070133</td><td>-1.4116194</td><td>0.5801282 </td><td>-11.02132 </td></tr>\n",
       "\t<tr><td>0         </td><td> 1.0962891</td><td>1.0089661 </td><td>2.9930387 </td><td> 2.742764 </td><td>1         </td><td>1         </td><td>48        </td><td> 0.7672935</td><td>-1.6234434</td><td>0.5801282 </td><td>-11.02132 </td></tr>\n",
       "\t<tr><td>0         </td><td> 0.1366724</td><td>1.9118222 </td><td>1.1464525 </td><td> 6.765405 </td><td>1         </td><td>1         </td><td>48        </td><td>-0.1923233</td><td>-0.7205873</td><td>0.5801282 </td><td>-11.02132 </td></tr>\n",
       "\t<tr><td>0         </td><td> 1.4222226</td><td>3.7839778 </td><td>4.1463258 </td><td>43.990679 </td><td>1         </td><td>1         </td><td>48        </td><td> 1.0932269</td><td> 1.1515683</td><td>0.5801282 </td><td>-11.02132 </td></tr>\n",
       "\t<tr><td>0         </td><td>-0.2307330</td><td>0.9104665 </td><td>0.7939514 </td><td> 2.485482 </td><td>1         </td><td>1         </td><td>48        </td><td>-0.5597287</td><td>-1.7219430</td><td>0.5801282 </td><td>-11.02132 </td></tr>\n",
       "\t<tr><td>0         </td><td> 0.9009311</td><td>4.1053750 </td><td>2.4618944 </td><td>60.665489 </td><td>1         </td><td>1         </td><td>48        </td><td> 0.5719354</td><td> 1.4729655</td><td>0.5801282 </td><td>-11.02132 </td></tr>\n",
       "</tbody>\n",
       "</table>\n"
      ],
      "text/latex": [
       "\\begin{tabular}{r|llllllllllll}\n",
       " y..has\\_mutation. & log\\_phbr\\_i & log\\_phbr\\_ii & phbr\\_i & phbr\\_ii & patient\\_ids & sex & age & centered\\_log\\_phbr\\_i & centered\\_log\\_phbr\\_ii & centered\\_sex & centered\\_age\\\\\n",
       "\\hline\n",
       "\t 0          &  0.4360090 & 1.2207901  & 1.5465227  &  3.389865  & 1          & 1          & 48         &  0.1070133 & -1.4116194 & 0.5801282  & -11.02132 \\\\\n",
       "\t 0          &  1.0962891 & 1.0089661  & 2.9930387  &  2.742764  & 1          & 1          & 48         &  0.7672935 & -1.6234434 & 0.5801282  & -11.02132 \\\\\n",
       "\t 0          &  0.1366724 & 1.9118222  & 1.1464525  &  6.765405  & 1          & 1          & 48         & -0.1923233 & -0.7205873 & 0.5801282  & -11.02132 \\\\\n",
       "\t 0          &  1.4222226 & 3.7839778  & 4.1463258  & 43.990679  & 1          & 1          & 48         &  1.0932269 &  1.1515683 & 0.5801282  & -11.02132 \\\\\n",
       "\t 0          & -0.2307330 & 0.9104665  & 0.7939514  &  2.485482  & 1          & 1          & 48         & -0.5597287 & -1.7219430 & 0.5801282  & -11.02132 \\\\\n",
       "\t 0          &  0.9009311 & 4.1053750  & 2.4618944  & 60.665489  & 1          & 1          & 48         &  0.5719354 &  1.4729655 & 0.5801282  & -11.02132 \\\\\n",
       "\\end{tabular}\n"
      ],
      "text/markdown": [
       "\n",
       "y..has_mutation. | log_phbr_i | log_phbr_ii | phbr_i | phbr_ii | patient_ids | sex | age | centered_log_phbr_i | centered_log_phbr_ii | centered_sex | centered_age | \n",
       "|---|---|---|---|---|---|\n",
       "| 0          |  0.4360090 | 1.2207901  | 1.5465227  |  3.389865  | 1          | 1          | 48         |  0.1070133 | -1.4116194 | 0.5801282  | -11.02132  | \n",
       "| 0          |  1.0962891 | 1.0089661  | 2.9930387  |  2.742764  | 1          | 1          | 48         |  0.7672935 | -1.6234434 | 0.5801282  | -11.02132  | \n",
       "| 0          |  0.1366724 | 1.9118222  | 1.1464525  |  6.765405  | 1          | 1          | 48         | -0.1923233 | -0.7205873 | 0.5801282  | -11.02132  | \n",
       "| 0          |  1.4222226 | 3.7839778  | 4.1463258  | 43.990679  | 1          | 1          | 48         |  1.0932269 |  1.1515683 | 0.5801282  | -11.02132  | \n",
       "| 0          | -0.2307330 | 0.9104665  | 0.7939514  |  2.485482  | 1          | 1          | 48         | -0.5597287 | -1.7219430 | 0.5801282  | -11.02132  | \n",
       "| 0          |  0.9009311 | 4.1053750  | 2.4618944  | 60.665489  | 1          | 1          | 48         |  0.5719354 |  1.4729655 | 0.5801282  | -11.02132  | \n",
       "\n",
       "\n"
      ],
      "text/plain": [
       "  y..has_mutation. log_phbr_i log_phbr_ii phbr_i    phbr_ii   patient_ids sex\n",
       "1 0                 0.4360090 1.2207901   1.5465227  3.389865 1           1  \n",
       "2 0                 1.0962891 1.0089661   2.9930387  2.742764 1           1  \n",
       "3 0                 0.1366724 1.9118222   1.1464525  6.765405 1           1  \n",
       "4 0                 1.4222226 3.7839778   4.1463258 43.990679 1           1  \n",
       "5 0                -0.2307330 0.9104665   0.7939514  2.485482 1           1  \n",
       "6 0                 0.9009311 4.1053750   2.4618944 60.665489 1           1  \n",
       "  age centered_log_phbr_i centered_log_phbr_ii centered_sex centered_age\n",
       "1 48   0.1070133          -1.4116194           0.5801282    -11.02132   \n",
       "2 48   0.7672935          -1.6234434           0.5801282    -11.02132   \n",
       "3 48  -0.1923233          -0.7205873           0.5801282    -11.02132   \n",
       "4 48   1.0932269           1.1515683           0.5801282    -11.02132   \n",
       "5 48  -0.5597287          -1.7219430           0.5801282    -11.02132   \n",
       "6 48   0.5719354           1.4729655           0.5801282    -11.02132   "
      ]
     },
     "metadata": {},
     "output_type": "display_data"
    }
   ],
   "source": [
    "validation_data = read.csv('../generated_data/gam_input.validation.all.csv.gz')\n",
    "head(validation_data)"
   ]
  },
  {
   "cell_type": "markdown",
   "metadata": {},
   "source": [
    "### 2A. Table S4"
   ]
  },
  {
   "cell_type": "markdown",
   "metadata": {},
   "source": [
    "##### Age"
   ]
  },
  {
   "cell_type": "code",
   "execution_count": 3,
   "metadata": {},
   "outputs": [
    {
     "data": {
      "text/plain": [
       "\n",
       "Family: binomial \n",
       "Link function: logit \n",
       "\n",
       "Formula:\n",
       "y..has_mutation. ~ centered_log_phbr_i * centered_log_phbr_ii * \n",
       "    centered_age\n",
       "\n",
       "Parametric coefficients:\n",
       "                                                       Estimate Std. Error\n",
       "(Intercept)                                           -7.430063   0.047020\n",
       "centered_log_phbr_i                                    0.107785   0.038031\n",
       "centered_log_phbr_ii                                   0.148932   0.043206\n",
       "centered_age                                           0.006536   0.003273\n",
       "centered_log_phbr_i:centered_log_phbr_ii              -0.039020   0.030469\n",
       "centered_log_phbr_i:centered_age                       0.002881   0.002628\n",
       "centered_log_phbr_ii:centered_age                     -0.008808   0.003020\n",
       "centered_log_phbr_i:centered_log_phbr_ii:centered_age -0.001410   0.002094\n",
       "                                                       z value Pr(>|z|)    \n",
       "(Intercept)                                           -158.018  < 2e-16 ***\n",
       "centered_log_phbr_i                                      2.834 0.004595 ** \n",
       "centered_log_phbr_ii                                     3.447 0.000567 ***\n",
       "centered_age                                             1.997 0.045834 *  \n",
       "centered_log_phbr_i:centered_log_phbr_ii                -1.281 0.200314    \n",
       "centered_log_phbr_i:centered_age                         1.096 0.272966    \n",
       "centered_log_phbr_ii:centered_age                       -2.916 0.003545 ** \n",
       "centered_log_phbr_i:centered_log_phbr_ii:centered_age   -0.673 0.500749    \n",
       "---\n",
       "Signif. codes:  0 ‘***’ 0.001 ‘**’ 0.01 ‘*’ 0.05 ‘.’ 0.1 ‘ ’ 1\n",
       "\n",
       "\n",
       "R-sq.(adj) =  3.82e-05   Deviance explained = 0.467%\n",
       "UBRE = -0.98984  Scale est. = 1         n = 906147"
      ]
     },
     "metadata": {},
     "output_type": "display_data"
    }
   ],
   "source": [
    "g_age_val <- mgcv::gam(y..has_mutation. ~ centered_log_phbr_i * centered_log_phbr_ii * centered_age, \n",
    "                       random=list(patient_ids=~1), \n",
    "                       family=binomial(link='logit'), \n",
    "                       data=validation_data)\n",
    "summary(g_age_val)"
   ]
  },
  {
   "cell_type": "markdown",
   "metadata": {},
   "source": [
    "##### Sex"
   ]
  },
  {
   "cell_type": "code",
   "execution_count": 4,
   "metadata": {
    "scrolled": false
   },
   "outputs": [
    {
     "data": {
      "text/plain": [
       "\n",
       "Family: binomial \n",
       "Link function: logit \n",
       "\n",
       "Formula:\n",
       "y..has_mutation. ~ centered_log_phbr_i * centered_log_phbr_ii * \n",
       "    centered_sex\n",
       "\n",
       "Parametric coefficients:\n",
       "                                                       Estimate Std. Error\n",
       "(Intercept)                                           -7.447859   0.045993\n",
       "centered_log_phbr_i                                    0.102842   0.036822\n",
       "centered_log_phbr_ii                                   0.144100   0.042402\n",
       "centered_sex                                           0.233978   0.091317\n",
       "centered_log_phbr_i:centered_log_phbr_ii              -0.046528   0.029213\n",
       "centered_log_phbr_i:centered_sex                       0.194812   0.074351\n",
       "centered_log_phbr_ii:centered_sex                      0.003549   0.084854\n",
       "centered_log_phbr_i:centered_log_phbr_ii:centered_sex -0.155578   0.060398\n",
       "                                                       z value Pr(>|z|)    \n",
       "(Intercept)                                           -161.936  < 2e-16 ***\n",
       "centered_log_phbr_i                                      2.793 0.005224 ** \n",
       "centered_log_phbr_ii                                     3.398 0.000678 ***\n",
       "centered_sex                                             2.562 0.010399 *  \n",
       "centered_log_phbr_i:centered_log_phbr_ii                -1.593 0.111226    \n",
       "centered_log_phbr_i:centered_sex                         2.620 0.008788 ** \n",
       "centered_log_phbr_ii:centered_sex                        0.042 0.966642    \n",
       "centered_log_phbr_i:centered_log_phbr_ii:centered_sex   -2.576 0.009999 ** \n",
       "---\n",
       "Signif. codes:  0 ‘***’ 0.001 ‘**’ 0.01 ‘*’ 0.05 ‘.’ 0.1 ‘ ’ 1\n",
       "\n",
       "\n",
       "R-sq.(adj) =  3.51e-05   Deviance explained = 0.483%\n",
       "UBRE = -0.99004  Scale est. = 1         n = 951912"
      ]
     },
     "metadata": {},
     "output_type": "display_data"
    }
   ],
   "source": [
    "g_sex_val <- mgcv::gam(y..has_mutation. ~ centered_log_phbr_i * centered_log_phbr_ii * centered_sex, \n",
    "                       random=list(patient_ids=~1), \n",
    "                       family=binomial(link='logit'), \n",
    "                       data=validation_data)\n",
    "summary(g_sex_val)"
   ]
  }
 ],
 "metadata": {
  "kernelspec": {
   "display_name": "R 3.4",
   "language": "R",
   "name": "ir34"
  },
  "language_info": {
   "codemirror_mode": "r",
   "file_extension": ".r",
   "mimetype": "text/x-r-source",
   "name": "R",
   "pygments_lexer": "r",
   "version": "3.4.3"
  }
 },
 "nbformat": 4,
 "nbformat_minor": 2
}
