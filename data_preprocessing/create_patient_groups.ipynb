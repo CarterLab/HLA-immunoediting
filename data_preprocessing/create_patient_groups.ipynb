{
 "cells": [
  {
   "cell_type": "markdown",
   "metadata": {},
   "source": [
    "### Notebook\n",
    "- Generates dataframes with patient barcode, driver mutation ID, driver mutation affinity, and patient sex and age for easy processing.\n",
    "- Choose between excluding/including:\n",
    "    - MSI-H patients\n",
    "    - Expressed-only driver mutations"
   ]
  },
  {
   "cell_type": "code",
   "execution_count": 2,
   "metadata": {},
   "outputs": [],
   "source": [
    "import pandas as pd\n",
    "import numpy as np\n",
    "import os"
   ]
  },
  {
   "cell_type": "markdown",
   "metadata": {},
   "source": [
    "# Global variables"
   ]
  },
  {
   "cell_type": "code",
   "execution_count": 3,
   "metadata": {},
   "outputs": [],
   "source": [
    "MSS = 'MSS_only' # MSS_only, MSS_and_MSI\n",
    "RM_SEX_SPECIFIC = 'kept_sex_specific' # remove_sex_specific, kept_sex_specific\n",
    "EXPRESSED_MUT_ONLY = True "
   ]
  },
  {
   "cell_type": "code",
   "execution_count": 5,
   "metadata": {},
   "outputs": [
    {
     "name": "stdout",
     "output_type": "stream",
     "text": [
      "6545 confident MHC-I, 7567 MHC-II patients\n"
     ]
    }
   ],
   "source": [
    "# keep only confidently typed patients\n",
    "confident_patients_I = pd.read_csv('../data/confidently_typed_patients.class_i.csv', index_col=0).index.values\n",
    "confident_patients_II = pd.read_csv('../data/confidently_typed_patients.class_ii.csv', index_col=0).index.values\n",
    "\n",
    "driver_phbr_affinities_I = pd.read_csv('../data/driver_mut.class_i.affinities.tsv.gz', sep='\\t', index_col=0)\n",
    "driver_phbr_affinities_II = pd.read_csv('../data/driver_mut.class_ii.affinities.tsv.gz', sep='\\t', index_col=0)\n",
    "\n",
    "print('{} confident MHC-I, {} MHC-II patients'.format(len(set(confident_patients_I)), \n",
    "                                                      len(set(confident_patients_II))))"
   ]
  },
  {
   "cell_type": "markdown",
   "metadata": {},
   "source": [
    "## Binary mutation matrix\n",
    "- Create binary matrix with rows=patients and cols=driver mutations\n",
    "- Create different matrices for \n",
    "    - Expressed mutations (≥50% tumor allele and 5+ RNA reads)\n",
    "    - Late drivers (≥50 percentile rank VAF within patients)\n",
    "    - Combinations"
   ]
  },
  {
   "cell_type": "code",
   "execution_count": 33,
   "metadata": {},
   "outputs": [
    {
     "name": "stdout",
     "output_type": "stream",
     "text": [
      "167\n"
     ]
    }
   ],
   "source": [
    "maf_dir = '/cellar/users/andreabc/Data/TCGA/MAFs/patient_MAFs_masked/'\n",
    "\n",
    "todo_patients = []\n",
    "for patient in confident_patients_I:\n",
    "    maf_path = os.path.join(maf_dir, '{}.all_tools.perVAF.mut_ID.maf'.format(patient))\n",
    "    if not os.path.isfile(maf_path):\n",
    "        todo_patients.append(patient)\n",
    "print(len(todo_patients))"
   ]
  },
  {
   "cell_type": "code",
   "execution_count": 34,
   "metadata": {},
   "outputs": [
    {
     "name": "stdout",
     "output_type": "stream",
     "text": [
      "179\n"
     ]
    }
   ],
   "source": [
    "maf_dir = '/cellar/users/andreabc/Data/TCGA/MAFs/patient_MAFs_masked/'\n",
    "\n",
    "todo_patients = []\n",
    "for patient in confident_patients_II:\n",
    "    maf_path = os.path.join(maf_dir, '{}.all_tools.perVAF.mut_ID.maf'.format(patient))\n",
    "    if not os.path.isfile(maf_path):\n",
    "        todo_patients.append(patient)\n",
    "print(len(todo_patients))"
   ]
  },
  {
   "cell_type": "code",
   "execution_count": 32,
   "metadata": {},
   "outputs": [
    {
     "data": {
      "text/plain": [
       "['TCGA-04-1371',\n",
       " 'TCGA-10-0936',\n",
       " 'TCGA-15-1444',\n",
       " 'TCGA-17-Z012',\n",
       " 'TCGA-17-Z024',\n",
       " 'TCGA-17-Z038',\n",
       " 'TCGA-17-Z040',\n",
       " 'TCGA-21-1072',\n",
       " 'TCGA-25-1322',\n",
       " 'TCGA-2Z-A9J9',\n",
       " 'TCGA-30-1859',\n",
       " 'TCGA-46-3766',\n",
       " 'TCGA-56-8623',\n",
       " 'TCGA-5P-A9K9',\n",
       " 'TCGA-5P-A9KF',\n",
       " 'TCGA-60-2696',\n",
       " 'TCGA-61-1743',\n",
       " 'TCGA-61-2097',\n",
       " 'TCGA-64-1678',\n",
       " 'TCGA-77-A5FZ',\n",
       " 'TCGA-86-A4D0',\n",
       " 'TCGA-90-6837',\n",
       " 'TCGA-98-A53D',\n",
       " 'TCGA-A2-A0CO',\n",
       " 'TCGA-A2-A3KC',\n",
       " 'TCGA-A2-A3XS',\n",
       " 'TCGA-A2-A4RW',\n",
       " 'TCGA-A2-A4RX',\n",
       " 'TCGA-A2-A4RY',\n",
       " 'TCGA-A4-8518',\n",
       " 'TCGA-A6-2676',\n",
       " 'TCGA-A6-2683',\n",
       " 'TCGA-A6-6140',\n",
       " 'TCGA-A7-A13H',\n",
       " 'TCGA-A7-A3IY',\n",
       " 'TCGA-A7-A426',\n",
       " 'TCGA-A7-A4SB',\n",
       " 'TCGA-AA-3520',\n",
       " 'TCGA-AA-3521',\n",
       " 'TCGA-AA-3525',\n",
       " 'TCGA-AA-3526',\n",
       " 'TCGA-AA-3527',\n",
       " 'TCGA-AA-3531',\n",
       " 'TCGA-AA-3534',\n",
       " 'TCGA-AA-3710',\n",
       " 'TCGA-AA-A01D',\n",
       " 'TCGA-AB-2823',\n",
       " 'TCGA-AB-2832',\n",
       " 'TCGA-AB-2837',\n",
       " 'TCGA-AB-2941',\n",
       " 'TCGA-AC-A23G',\n",
       " 'TCGA-AC-A2QJ',\n",
       " 'TCGA-AC-A3BB',\n",
       " 'TCGA-AC-A3EH',\n",
       " 'TCGA-AC-A3TN',\n",
       " 'TCGA-AC-A3W6',\n",
       " 'TCGA-AC-A3W7',\n",
       " 'TCGA-AF-2689',\n",
       " 'TCGA-AF-2691',\n",
       " 'TCGA-AG-A025',\n",
       " 'TCGA-AG-A02G',\n",
       " 'TCGA-AJ-A3NH',\n",
       " 'TCGA-AO-A0JL',\n",
       " 'TCGA-AQ-A54N',\n",
       " 'TCGA-AR-A1AM',\n",
       " 'TCGA-AR-A2LJ',\n",
       " 'TCGA-B4-5378',\n",
       " 'TCGA-B6-A408',\n",
       " 'TCGA-BB-7861',\n",
       " 'TCGA-BB-7862',\n",
       " 'TCGA-BB-7863',\n",
       " 'TCGA-BB-7866',\n",
       " 'TCGA-BB-7871',\n",
       " 'TCGA-BB-7872',\n",
       " 'TCGA-BC-A10S',\n",
       " 'TCGA-BC-A112',\n",
       " 'TCGA-BC-A3KG',\n",
       " 'TCGA-BC-A69I',\n",
       " 'TCGA-BH-A28O',\n",
       " 'TCGA-BJ-A28W',\n",
       " 'TCGA-BR-4367',\n",
       " 'TCGA-C5-A2LZ',\n",
       " 'TCGA-C5-A3HL',\n",
       " 'TCGA-CC-5261',\n",
       " 'TCGA-CG-4472',\n",
       " 'TCGA-CJ-4897',\n",
       " 'TCGA-CQ-7067',\n",
       " 'TCGA-CQ-A4CA',\n",
       " 'TCGA-CV-7409',\n",
       " 'TCGA-CW-5590',\n",
       " 'TCGA-CW-6088',\n",
       " 'TCGA-D5-6923',\n",
       " 'TCGA-DD-A1EG',\n",
       " 'TCGA-DD-A39Y',\n",
       " 'TCGA-DD-A3A0',\n",
       " 'TCGA-DD-A3A1',\n",
       " 'TCGA-DF-A2KY',\n",
       " 'TCGA-DQ-7589',\n",
       " 'TCGA-DQ-7590',\n",
       " 'TCGA-DQ-7594',\n",
       " 'TCGA-DQ-7595',\n",
       " 'TCGA-DU-7014',\n",
       " 'TCGA-DU-A7TI',\n",
       " 'TCGA-DX-A1L3',\n",
       " 'TCGA-DX-A1L4',\n",
       " 'TCGA-DX-A23T',\n",
       " 'TCGA-DX-A23U',\n",
       " 'TCGA-E2-A2P5',\n",
       " 'TCGA-E2-A3DX',\n",
       " 'TCGA-E9-A54X',\n",
       " 'TCGA-EA-A4BA',\n",
       " 'TCGA-EA-A50E',\n",
       " 'TCGA-EL-A3ZM',\n",
       " 'TCGA-ET-A40R',\n",
       " 'TCGA-EW-A3E8',\n",
       " 'TCGA-FC-A66V',\n",
       " 'TCGA-FF-8062',\n",
       " 'TCGA-FL-A1YG',\n",
       " 'TCGA-FL-A1YH',\n",
       " 'TCGA-FL-A1YI',\n",
       " 'TCGA-FL-A1YL',\n",
       " 'TCGA-FL-A1YV',\n",
       " 'TCGA-FM-8000',\n",
       " 'TCGA-FP-8209',\n",
       " 'TCGA-FS-A4F2',\n",
       " 'TCGA-FY-A4B0',\n",
       " 'TCGA-G3-A3CJ',\n",
       " 'TCGA-G8-6324',\n",
       " 'TCGA-G8-6326',\n",
       " 'TCGA-G8-6906',\n",
       " 'TCGA-G8-6907',\n",
       " 'TCGA-G8-6909',\n",
       " 'TCGA-G8-6914',\n",
       " 'TCGA-GM-A3XN',\n",
       " 'TCGA-GR-7351',\n",
       " 'TCGA-H7-8502',\n",
       " 'TCGA-HC-7079',\n",
       " 'TCGA-HD-7917',\n",
       " 'TCGA-HL-7533',\n",
       " 'TCGA-HM-A4S6',\n",
       " 'TCGA-HS-A5N7',\n",
       " 'TCGA-HS-A5N9',\n",
       " 'TCGA-HT-8019',\n",
       " 'TCGA-HW-7493',\n",
       " 'TCGA-HZ-8519',\n",
       " 'TCGA-IE-A4EK',\n",
       " 'TCGA-IM-A41Z',\n",
       " 'TCGA-K1-A3PO',\n",
       " 'TCGA-K1-A42W',\n",
       " 'TCGA-KB-A6F5',\n",
       " 'TCGA-L1-A7W4',\n",
       " 'TCGA-LL-A441',\n",
       " 'TCGA-LQ-A4E4',\n",
       " 'TCGA-LUSC-26',\n",
       " 'TCGA-LUSC-27',\n",
       " 'TCGA-LUSC-45',\n",
       " 'TCGA-LUSC-56',\n",
       " 'TCGA-LUSC-57',\n",
       " 'TCGA-LUSC-68',\n",
       " 'TCGA-LUSC-71',\n",
       " 'TCGA-LUSC-74',\n",
       " 'TCGA-LUSC-77',\n",
       " 'TCGA-LUSC-78',\n",
       " 'TCGA-LUSC-79',\n",
       " 'TCGA-MU-A51Y',\n",
       " 'TCGA-MY-A5BD',\n",
       " 'TCGA-P4-AAVK',\n",
       " 'TCGA-P4-AAVO',\n",
       " 'TCGA-PC-A5DO',\n",
       " 'TCGA-PC-A5DP',\n",
       " 'TCGA-RD-A8N2',\n",
       " 'TCGA-RL-AAAS',\n",
       " 'TCGA-UZ-A9PQ',\n",
       " 'TCGA-VF-A8A9',\n",
       " 'TCGA-W4-A7U2',\n",
       " 'TCGA-W4-A7U3',\n",
       " 'TCGA-WZ-A7V4',\n",
       " 'TCGA-ZJ-A8QQ',\n",
       " 'TCGA-ZN-A9VQ']"
      ]
     },
     "execution_count": 32,
     "metadata": {},
     "output_type": "execute_result"
    }
   ],
   "source": [
    "todo_patients"
   ]
  },
  {
   "cell_type": "code",
   "execution_count": 4,
   "metadata": {},
   "outputs": [],
   "source": [
    "# load expressed patients/mutations\n",
    "if EXPRESSED_MUT_ONLY:\n",
    "    print('Loading mutation expression info')\n",
    "    exp_mut_df = pd.read_csv('../data/expressed_driver_mutations.csv', index_col=0)\n",
    "    unexp_mut_df = pd.read_csv('../data/unexpressed_driver_mutations.csv', index_col=0)"
   ]
  },
  {
   "cell_type": "markdown",
   "metadata": {},
   "source": [
    "## MHC-I\n",
    "- Create expressed dataframe with patients and their respective driver mutation affinities"
   ]
  },
  {
   "cell_type": "code",
   "execution_count": 5,
   "metadata": {},
   "outputs": [
    {
     "data": {
      "text/html": [
       "<div>\n",
       "<style scoped>\n",
       "    .dataframe tbody tr th:only-of-type {\n",
       "        vertical-align: middle;\n",
       "    }\n",
       "\n",
       "    .dataframe tbody tr th {\n",
       "        vertical-align: top;\n",
       "    }\n",
       "\n",
       "    .dataframe thead th {\n",
       "        text-align: right;\n",
       "    }\n",
       "</style>\n",
       "<table border=\"1\" class=\"dataframe\">\n",
       "  <thead>\n",
       "    <tr style=\"text-align: right;\">\n",
       "      <th></th>\n",
       "      <th>scores</th>\n",
       "      <th>disease</th>\n",
       "    </tr>\n",
       "  </thead>\n",
       "  <tbody>\n",
       "    <tr>\n",
       "      <th>TCGA-85-8580</th>\n",
       "      <td>0.120879</td>\n",
       "      <td>LUSC</td>\n",
       "    </tr>\n",
       "    <tr>\n",
       "      <th>TCGA-A5-A0GV</th>\n",
       "      <td>3.524218</td>\n",
       "      <td>UCEC</td>\n",
       "    </tr>\n",
       "  </tbody>\n",
       "</table>\n",
       "</div>"
      ],
      "text/plain": [
       "                scores disease\n",
       "TCGA-85-8580  0.120879    LUSC\n",
       "TCGA-A5-A0GV  3.524218    UCEC"
      ]
     },
     "execution_count": 5,
     "metadata": {},
     "output_type": "execute_result"
    }
   ],
   "source": [
    "# create expressed PHBR df\n",
    "exp_phbrI_scores = [driver_phbr_affinities_I.loc[exp_mut_df.index.values[i],exp_mut_df['exp_mutations'].values[i]] \\\n",
    "                     for i in range(len(exp_mut_df))]\n",
    "exp_phbrI_df = pd.DataFrame({'scores': exp_phbrI_scores}, index=exp_mut_df.index)\n",
    "\n",
    "# retain confidently typed patients only\n",
    "exp_phbrI_df = exp_phbrI_df[exp_phbrI_df.index.isin(confident_patients_I)]\n",
    "\n",
    "# add disease column\n",
    "barcode_disease_df = pd.read_csv('../data/uuid_barcode_map.txt.gz', \n",
    "                                 sep='\\t', usecols=['barcode', 'disease'])\n",
    "barcode_disease_df.drop_duplicates(inplace=True)\n",
    "barcode_disease_df.set_index('barcode', inplace=True)\n",
    "\n",
    "exp_phbrI_df['disease'] = [barcode_disease_df.loc[x,'disease'].split('-')[1] for x in exp_phbrI_df.index.values]\n",
    "exp_phbrI_df.head(2)"
   ]
  },
  {
   "cell_type": "code",
   "execution_count": 11,
   "metadata": {},
   "outputs": [],
   "source": [
    "# load clinical data\n",
    "tcga_clinical = pd.read_csv('../data/all_clinical_tcga.txt.gz', sep='\\t', index_col='bcr_patient_barcode')\n",
    "tcga_clinical['age_at_initial_pathologic_diagnosis'] = pd.to_numeric(tcga_clinical['age_at_initial_pathologic_diagnosis'], errors='coerce')\n",
    "tcga_clinical.dropna(subset=['age_at_initial_pathologic_diagnosis'], inplace=True)\n",
    "\n",
    "# how many patients have clinical info?\n",
    "before_count = len(set(exp_phbrI_df.index.values))\n",
    "exp_phbrI_df = exp_phbrI_df[exp_phbrI_df.index.isin(tcga_clinical.index)]\n",
    "after_count = len(set(exp_phbrI_df.index.values))\n",
    "print('Dropped {} patients - no clinical info'.format(before_count-after_count))\n",
    "\n",
    "# add sex/age columns \n",
    "exp_phbrI_df['age'] = [tcga_clinical.loc[x,'age_at_initial_pathologic_diagnosis'] for x in exp_phbrI_df.index.values]\n",
    "exp_phbrI_df['sex'] = [tcga_clinical.loc[x,'gender'].lower() for x in exp_phbrI_df.index.values]\n",
    "exp_phbrI_df.head(2)"
   ]
  },
  {
   "cell_type": "code",
   "execution_count": 7,
   "metadata": {},
   "outputs": [
    {
     "name": "stdout",
     "output_type": "stream",
     "text": [
      "Dropped 194 MSI-H patients\n"
     ]
    }
   ],
   "source": [
    "# drop MSI-H patients if applicable \n",
    "if MSS == 'MSS_only':\n",
    "    mss_patients = np.loadtxt('../data/mss_tcga_patients.txt', dtype=str)\n",
    "    before_count = len(set(exp_phbrI_df.index.values))\n",
    "    exp_phbrI_df = exp_phbrI_df[exp_phbrI_df.index.isin(mss_patients)]\n",
    "    after_count = len(set(exp_phbrI_df.index.values))\n",
    "    \n",
    "    print('Dropped {} MSI-H patients'.format(before_count-after_count))"
   ]
  },
  {
   "cell_type": "code",
   "execution_count": 8,
   "metadata": {},
   "outputs": [],
   "source": [
    "# drop patients with sex-specific cancers if applicable \n",
    "if RM_SEX_SPECIFIC == 'remove_sex_specific':\n",
    "    sex_specific_diseases = ['UCS', 'PRAD', 'BRCA', 'UCEC', 'CESC', 'TGCT', 'OV']\n",
    "    before_count = len(set(exp_phbrI_df.index.values))\n",
    "    exp_phbrI_df = exp_phbrI_df[~exp_phbrI_df['disease'].isin(sex_specific_diseases)]\n",
    "    after_count = len(set(exp_phbrI_df.index.values))\n",
    "    \n",
    "    print('Dropped {} patients with sex-specific diseases'.format(before_count-after_count))"
   ]
  },
  {
   "cell_type": "code",
   "execution_count": 9,
   "metadata": {},
   "outputs": [
    {
     "name": "stdout",
     "output_type": "stream",
     "text": [
      "Saved to ../generated_data/confident_patient_I.age_sex_disease.MSS_only.kept_sex_specific.tsv\n"
     ]
    }
   ],
   "source": [
    "# save to file\n",
    "savepath = '../generated_data/confident_patient_I.age_sex_disease.{}.{}.tsv'.format(MSS, RM_SEX_SPECIFIC)\n",
    "print('Saved to {}'.format(savepath))\n",
    "exp_phbrI_df.to_csv(savepath, sep='\\t')"
   ]
  },
  {
   "cell_type": "markdown",
   "metadata": {},
   "source": [
    "## MHC-II\n",
    "- Create expressed dataframe with patients and their respective driver mutation affinities\n",
    "- Some patients do not have MHC-II driver affinities because their typed MHC-II types are not NetMHCIIpan compatible."
   ]
  },
  {
   "cell_type": "code",
   "execution_count": null,
   "metadata": {},
   "outputs": [],
   "source": [
    "# create expressed PHBR df\n",
    "exp_phbrI_scores = [driver_phbr_affinities_I.loc[exp_mut_df.index.values[i],exp_mut_df['exp_mutations'].values[i]] \\\n",
    "                     for i in range(len(exp_mut_df))]\n",
    "exp_phbrI_df = pd.DataFrame({'scores': exp_phbrI_scores}, index=exp_mut_df.index)"
   ]
  },
  {
   "cell_type": "code",
   "execution_count": 8,
   "metadata": {},
   "outputs": [
    {
     "data": {
      "text/html": [
       "<div>\n",
       "<style scoped>\n",
       "    .dataframe tbody tr th:only-of-type {\n",
       "        vertical-align: middle;\n",
       "    }\n",
       "\n",
       "    .dataframe tbody tr th {\n",
       "        vertical-align: top;\n",
       "    }\n",
       "\n",
       "    .dataframe thead th {\n",
       "        text-align: right;\n",
       "    }\n",
       "</style>\n",
       "<table border=\"1\" class=\"dataframe\">\n",
       "  <thead>\n",
       "    <tr style=\"text-align: right;\">\n",
       "      <th></th>\n",
       "      <th>scores</th>\n",
       "      <th>disease</th>\n",
       "    </tr>\n",
       "  </thead>\n",
       "  <tbody>\n",
       "    <tr>\n",
       "      <th>TCGA-A5-A0GV</th>\n",
       "      <td>11.085044</td>\n",
       "      <td>UCEC</td>\n",
       "    </tr>\n",
       "    <tr>\n",
       "      <th>TCGA-A5-A0GV</th>\n",
       "      <td>2.904973</td>\n",
       "      <td>UCEC</td>\n",
       "    </tr>\n",
       "  </tbody>\n",
       "</table>\n",
       "</div>"
      ],
      "text/plain": [
       "                 scores disease\n",
       "TCGA-A5-A0GV  11.085044    UCEC\n",
       "TCGA-A5-A0GV   2.904973    UCEC"
      ]
     },
     "execution_count": 8,
     "metadata": {},
     "output_type": "execute_result"
    }
   ],
   "source": [
    "# create expressed PHBR-II df\n",
    "exp_phbrII_scores, total_patients = [],[]\n",
    "\n",
    "for i in range(len(exp_mut_df)):\n",
    "    patient = exp_mut_df.index.values[i]\n",
    "    if patient in driver_phbr_affinities_II.index:\n",
    "        exp_phbrII_scores.append(driver_phbr_affinities_II.loc[exp_mut_df.index.values[i], \n",
    "                                                               exp_mut_df['exp_mutations'].values[i]])\n",
    "        total_patients.append(patient)\n",
    "        \n",
    "exp_phbrII_df = pd.DataFrame({'scores': exp_phbrII_scores}, index=total_patients)\n",
    "\n",
    "# retain confidently typed patients only\n",
    "exp_phbrII_df = exp_phbrII_df[exp_phbrII_df.index.isin(confident_patients_II)]\n",
    "\n",
    "# add disease column\n",
    "barcode_disease = pd.read_csv('../data/uuid_barcode_map.txt.gz', \n",
    "                              sep='\\t', usecols=['barcode', 'disease'])\n",
    "barcode_disease.drop_duplicates(inplace=True)\n",
    "barcode_disease.set_index('barcode', inplace=True)\n",
    "\n",
    "exp_phbrII_df['disease'] = [barcode_disease.loc[x,'disease'].split('-')[1] for x in exp_phbrII_df.index.values]\n",
    "exp_phbrII_df.head(2)"
   ]
  },
  {
   "cell_type": "code",
   "execution_count": 12,
   "metadata": {},
   "outputs": [
    {
     "name": "stdout",
     "output_type": "stream",
     "text": [
      "Dropped 28 patients - no clinical info\n"
     ]
    },
    {
     "data": {
      "text/html": [
       "<div>\n",
       "<style scoped>\n",
       "    .dataframe tbody tr th:only-of-type {\n",
       "        vertical-align: middle;\n",
       "    }\n",
       "\n",
       "    .dataframe tbody tr th {\n",
       "        vertical-align: top;\n",
       "    }\n",
       "\n",
       "    .dataframe thead th {\n",
       "        text-align: right;\n",
       "    }\n",
       "</style>\n",
       "<table border=\"1\" class=\"dataframe\">\n",
       "  <thead>\n",
       "    <tr style=\"text-align: right;\">\n",
       "      <th></th>\n",
       "      <th>scores</th>\n",
       "      <th>disease</th>\n",
       "      <th>age</th>\n",
       "      <th>sex</th>\n",
       "    </tr>\n",
       "  </thead>\n",
       "  <tbody>\n",
       "    <tr>\n",
       "      <th>TCGA-A5-A0GV</th>\n",
       "      <td>11.085044</td>\n",
       "      <td>UCEC</td>\n",
       "      <td>67.0</td>\n",
       "      <td>female</td>\n",
       "    </tr>\n",
       "    <tr>\n",
       "      <th>TCGA-A5-A0GV</th>\n",
       "      <td>2.904973</td>\n",
       "      <td>UCEC</td>\n",
       "      <td>67.0</td>\n",
       "      <td>female</td>\n",
       "    </tr>\n",
       "  </tbody>\n",
       "</table>\n",
       "</div>"
      ],
      "text/plain": [
       "                 scores disease   age     sex\n",
       "TCGA-A5-A0GV  11.085044    UCEC  67.0  female\n",
       "TCGA-A5-A0GV   2.904973    UCEC  67.0  female"
      ]
     },
     "execution_count": 12,
     "metadata": {},
     "output_type": "execute_result"
    }
   ],
   "source": [
    "# how many patients have clinical info?\n",
    "before_count = len(set(exp_phbrII_df.index.values))\n",
    "exp_phbrII_df = exp_phbrII_df[exp_phbrII_df.index.isin(tcga_clinical.index)]\n",
    "after_count = len(set(exp_phbrII_df.index.values))\n",
    "print('Dropped {} patients - no clinical info'.format(before_count-after_count))\n",
    "\n",
    "# add age/sex column\n",
    "exp_phbrII_df['age'] = [tcga_clinical.loc[x,'age_at_initial_pathologic_diagnosis'] \\\n",
    "                        for x in exp_phbrII_df.index.values]\n",
    "exp_phbrII_df['sex'] = [tcga_clinical.loc[x,'gender'].lower() for x in exp_phbrII_df.index.values]\n",
    "exp_phbrII_df.head(2)"
   ]
  },
  {
   "cell_type": "code",
   "execution_count": 13,
   "metadata": {},
   "outputs": [
    {
     "name": "stdout",
     "output_type": "stream",
     "text": [
      "Dropped 141 MSI-H patients\n"
     ]
    }
   ],
   "source": [
    "if MSS == 'MSS_only':\n",
    "    mss_patients = np.loadtxt('../data/mss_tcga_patients.txt', dtype=str)\n",
    "    before_count = len(set(exp_phbrII_df.index.values))\n",
    "    exp_phbrII_df = exp_phbrII_df[exp_phbrII_df.index.isin(mss_patients)]\n",
    "    after_count = len(set(exp_phbrII_df.index.values))\n",
    "    \n",
    "    print('Dropped {} MSI-H patients'.format(before_count-after_count))"
   ]
  },
  {
   "cell_type": "code",
   "execution_count": 14,
   "metadata": {},
   "outputs": [],
   "source": [
    "if RM_SEX_SPECIFIC == 'remove_sex_specific':\n",
    "    sex_specific_diseases = ['UCS', 'PRAD', 'BRCA', 'UCEC', 'CESC', 'TGCT', 'OV']\n",
    "    before_count = len(set(exp_phbrII_df.index.values))\n",
    "    exp_phbrII_df = exp_phbrII_df[~exp_phbrII_df['disease'].isin(sex_specific_diseases)]\n",
    "    after_count = len(set(exp_phbrII_df.index.values))\n",
    "    \n",
    "    print('Dropped {} patients with sex-specific diseases'.format(before_count-after_count))"
   ]
  },
  {
   "cell_type": "code",
   "execution_count": 15,
   "metadata": {},
   "outputs": [
    {
     "name": "stdout",
     "output_type": "stream",
     "text": [
      "Saved to ../generated_data/confident_patient_II.age_sex_disease.MSS_only.kept_sex_specific.tsv\n"
     ]
    }
   ],
   "source": [
    "# save to file\n",
    "savepath = '../generated_data/confident_patient_II.age_sex_disease.{}.{}.tsv'.format(MSS, RM_SEX_SPECIFIC)\n",
    "print('Saved to {}'.format(savepath))\n",
    "exp_phbrII_df.to_csv(savepath, sep='\\t')"
   ]
  },
  {
   "cell_type": "code",
   "execution_count": null,
   "metadata": {},
   "outputs": [],
   "source": []
  }
 ],
 "metadata": {
  "kernelspec": {
   "display_name": "Python 3",
   "language": "python",
   "name": "python3"
  },
  "language_info": {
   "codemirror_mode": {
    "name": "ipython",
    "version": 3
   },
   "file_extension": ".py",
   "mimetype": "text/x-python",
   "name": "python",
   "nbconvert_exporter": "python",
   "pygments_lexer": "ipython3",
   "version": "3.6.8"
  }
 },
 "nbformat": 4,
 "nbformat_minor": 2
}
