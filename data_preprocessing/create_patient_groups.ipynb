{
 "cells": [
  {
   "cell_type": "markdown",
   "metadata": {},
   "source": [
    "### Notebook\n",
    "- Generates dataframes with patient barcode, driver mutation ID, driver mutation affinity, and patient sex and age for easy processing.\n",
    "- Choose between excluding/including:\n",
    "    - MSI-H patients\n",
    "    - Expressed-only driver mutations"
   ]
  },
  {
   "cell_type": "code",
   "execution_count": 1,
   "metadata": {},
   "outputs": [],
   "source": [
    "import pandas as pd\n",
    "import numpy as np\n",
    "import os"
   ]
  },
  {
   "cell_type": "markdown",
   "metadata": {},
   "source": [
    "# Global variables"
   ]
  },
  {
   "cell_type": "code",
   "execution_count": 2,
   "metadata": {},
   "outputs": [],
   "source": [
    "MSS = 'MSS_only' # MSS_only, MSS_and_MSI\n",
    "RM_SEX_SPECIFIC = 'kept_sex_specific' # remove_sex_specific, kept_sex_specific\n",
    "EXPRESSED_MUT_ONLY = False"
   ]
  },
  {
   "cell_type": "code",
   "execution_count": 3,
   "metadata": {},
   "outputs": [
    {
     "name": "stdout",
     "output_type": "stream",
     "text": [
      "6545 confident MHC-I, 7567 MHC-II patients\n"
     ]
    }
   ],
   "source": [
    "# keep only confidently typed patients\n",
    "confident_patients_I = pd.read_csv('../data/confidently_typed_patients.class_i.csv', index_col=0).index.values\n",
    "confident_patients_II = pd.read_csv('../data/confidently_typed_patients.class_ii.csv', index_col=0).index.values\n",
    "\n",
    "driver_phbr_affinities_I = pd.read_csv('../data/driver_mut.class_i.affinities.tsv.gz', sep='\\t', index_col=0)\n",
    "driver_phbr_affinities_II = pd.read_csv('../data/driver_mut.class_ii.affinities.tsv.gz', sep='\\t', index_col=0)\n",
    "\n",
    "print('{} confident MHC-I, {} MHC-II patients'.format(len(set(confident_patients_I)), \n",
    "                                                      len(set(confident_patients_II))))"
   ]
  },
  {
   "cell_type": "code",
   "execution_count": 4,
   "metadata": {},
   "outputs": [],
   "source": [
    "# load expressed patients/mutations\n",
    "if EXPRESSED_MUT_ONLY:\n",
    "    print('Loading mutation expression info')\n",
    "    exp_mut_df = pd.read_csv('../data/expressed_driver_mutations.csv', index_col=0)\n",
    "    unexp_mut_df = pd.read_csv('../data/unexpressed_driver_mutations.csv', index_col=0)"
   ]
  },
  {
   "cell_type": "markdown",
   "metadata": {},
   "source": [
    "## MHC-I\n",
    "- Create expressed dataframe with patients and their respective driver mutation affinities"
   ]
  },
  {
   "cell_type": "code",
   "execution_count": 5,
   "metadata": {},
   "outputs": [
    {
     "data": {
      "text/html": [
       "<div>\n",
       "<style scoped>\n",
       "    .dataframe tbody tr th:only-of-type {\n",
       "        vertical-align: middle;\n",
       "    }\n",
       "\n",
       "    .dataframe tbody tr th {\n",
       "        vertical-align: top;\n",
       "    }\n",
       "\n",
       "    .dataframe thead th {\n",
       "        text-align: right;\n",
       "    }\n",
       "</style>\n",
       "<table border=\"1\" class=\"dataframe\">\n",
       "  <thead>\n",
       "    <tr style=\"text-align: right;\">\n",
       "      <th></th>\n",
       "      <th>scores</th>\n",
       "      <th>disease</th>\n",
       "    </tr>\n",
       "  </thead>\n",
       "  <tbody>\n",
       "    <tr>\n",
       "      <th>TCGA-85-8580</th>\n",
       "      <td>0.120879</td>\n",
       "      <td>LUSC</td>\n",
       "    </tr>\n",
       "    <tr>\n",
       "      <th>TCGA-A5-A0GV</th>\n",
       "      <td>3.524218</td>\n",
       "      <td>UCEC</td>\n",
       "    </tr>\n",
       "  </tbody>\n",
       "</table>\n",
       "</div>"
      ],
      "text/plain": [
       "                scores disease\n",
       "TCGA-85-8580  0.120879    LUSC\n",
       "TCGA-A5-A0GV  3.524218    UCEC"
      ]
     },
     "execution_count": 5,
     "metadata": {},
     "output_type": "execute_result"
    }
   ],
   "source": [
    "# create expressed PHBR df\n",
    "exp_phbrI_scores = [driver_phbr_affinities_I.loc[exp_mut_df.index.values[i],exp_mut_df['exp_mutations'].values[i]] \\\n",
    "                     for i in range(len(exp_mut_df))]\n",
    "exp_phbrI_df = pd.DataFrame({'scores': exp_phbrI_scores}, index=exp_mut_df.index)\n",
    "\n",
    "# retain confidently typed patients only\n",
    "exp_phbrI_df = exp_phbrI_df[exp_phbrI_df.index.isin(confident_patients_I)]\n",
    "\n",
    "# add disease column\n",
    "barcode_disease_df = pd.read_csv('../data/uuid_barcode_map.txt.gz', \n",
    "                                 sep='\\t', usecols=['barcode', 'disease'])\n",
    "barcode_disease_df.drop_duplicates(inplace=True)\n",
    "barcode_disease_df.set_index('barcode', inplace=True)\n",
    "\n",
    "exp_phbrI_df['disease'] = [barcode_disease_df.loc[x,'disease'].split('-')[1] for x in exp_phbrI_df.index.values]\n",
    "exp_phbrI_df.head(2)"
   ]
  },
  {
   "cell_type": "code",
   "execution_count": 11,
   "metadata": {},
   "outputs": [],
   "source": [
    "# load clinical data\n",
    "tcga_clinical = pd.read_csv('../data/all_clinical_tcga.txt.gz', sep='\\t', index_col='bcr_patient_barcode')\n",
    "tcga_clinical['age_at_initial_pathologic_diagnosis'] = pd.to_numeric(tcga_clinical['age_at_initial_pathologic_diagnosis'], errors='coerce')\n",
    "tcga_clinical.dropna(subset=['age_at_initial_pathologic_diagnosis'], inplace=True)\n",
    "\n",
    "# how many patients have clinical info?\n",
    "before_count = len(set(exp_phbrI_df.index.values))\n",
    "exp_phbrI_df = exp_phbrI_df[exp_phbrI_df.index.isin(tcga_clinical.index)]\n",
    "after_count = len(set(exp_phbrI_df.index.values))\n",
    "print('Dropped {} patients - no clinical info'.format(before_count-after_count))\n",
    "\n",
    "# add sex/age columns \n",
    "exp_phbrI_df['age'] = [tcga_clinical.loc[x,'age_at_initial_pathologic_diagnosis'] for x in exp_phbrI_df.index.values]\n",
    "exp_phbrI_df['sex'] = [tcga_clinical.loc[x,'gender'].lower() for x in exp_phbrI_df.index.values]\n",
    "exp_phbrI_df.head(2)"
   ]
  },
  {
   "cell_type": "code",
   "execution_count": 7,
   "metadata": {},
   "outputs": [
    {
     "name": "stdout",
     "output_type": "stream",
     "text": [
      "Dropped 194 MSI-H patients\n"
     ]
    }
   ],
   "source": [
    "# drop MSI-H patients if applicable \n",
    "if MSS == 'MSS_only':\n",
    "    mss_patients = np.loadtxt('../data/mss_tcga_patients.txt', dtype=str)\n",
    "    before_count = len(set(exp_phbrI_df.index.values))\n",
    "    exp_phbrI_df = exp_phbrI_df[exp_phbrI_df.index.isin(mss_patients)]\n",
    "    after_count = len(set(exp_phbrI_df.index.values))\n",
    "    \n",
    "    print('Dropped {} MSI-H patients'.format(before_count-after_count))"
   ]
  },
  {
   "cell_type": "code",
   "execution_count": 8,
   "metadata": {},
   "outputs": [],
   "source": [
    "# drop patients with sex-specific cancers if applicable \n",
    "if RM_SEX_SPECIFIC == 'remove_sex_specific':\n",
    "    sex_specific_diseases = ['UCS', 'PRAD', 'BRCA', 'UCEC', 'CESC', 'TGCT', 'OV']\n",
    "    before_count = len(set(exp_phbrI_df.index.values))\n",
    "    exp_phbrI_df = exp_phbrI_df[~exp_phbrI_df['disease'].isin(sex_specific_diseases)]\n",
    "    after_count = len(set(exp_phbrI_df.index.values))\n",
    "    \n",
    "    print('Dropped {} patients with sex-specific diseases'.format(before_count-after_count))"
   ]
  },
  {
   "cell_type": "code",
   "execution_count": 9,
   "metadata": {},
   "outputs": [
    {
     "name": "stdout",
     "output_type": "stream",
     "text": [
      "Saved to ../generated_data/confident_patient_I.age_sex_disease.MSS_only.kept_sex_specific.tsv\n"
     ]
    }
   ],
   "source": [
    "# save to file\n",
    "savepath = '../generated_data/confident_patient_I.age_sex_disease.{}.{}.tsv'.format(MSS, RM_SEX_SPECIFIC)\n",
    "print('Saved to {}'.format(savepath))\n",
    "exp_phbrI_df.to_csv(savepath, sep='\\t')"
   ]
  },
  {
   "cell_type": "markdown",
   "metadata": {},
   "source": [
    "## MHC-II\n",
    "- Create expressed dataframe with patients and their respective driver mutation affinities\n",
    "- Some patients do not have MHC-II driver affinities because their typed MHC-II types are not NetMHCIIpan compatible."
   ]
  },
  {
   "cell_type": "code",
   "execution_count": null,
   "metadata": {},
   "outputs": [],
   "source": [
    "# create expressed PHBR df\n",
    "exp_phbrI_scores = [driver_phbr_affinities_I.loc[exp_mut_df.index.values[i],exp_mut_df['exp_mutations'].values[i]] \\\n",
    "                     for i in range(len(exp_mut_df))]\n",
    "exp_phbrI_df = pd.DataFrame({'scores': exp_phbrI_scores}, index=exp_mut_df.index)"
   ]
  },
  {
   "cell_type": "code",
   "execution_count": 8,
   "metadata": {},
   "outputs": [
    {
     "data": {
      "text/html": [
       "<div>\n",
       "<style scoped>\n",
       "    .dataframe tbody tr th:only-of-type {\n",
       "        vertical-align: middle;\n",
       "    }\n",
       "\n",
       "    .dataframe tbody tr th {\n",
       "        vertical-align: top;\n",
       "    }\n",
       "\n",
       "    .dataframe thead th {\n",
       "        text-align: right;\n",
       "    }\n",
       "</style>\n",
       "<table border=\"1\" class=\"dataframe\">\n",
       "  <thead>\n",
       "    <tr style=\"text-align: right;\">\n",
       "      <th></th>\n",
       "      <th>scores</th>\n",
       "      <th>disease</th>\n",
       "    </tr>\n",
       "  </thead>\n",
       "  <tbody>\n",
       "    <tr>\n",
       "      <th>TCGA-A5-A0GV</th>\n",
       "      <td>11.085044</td>\n",
       "      <td>UCEC</td>\n",
       "    </tr>\n",
       "    <tr>\n",
       "      <th>TCGA-A5-A0GV</th>\n",
       "      <td>2.904973</td>\n",
       "      <td>UCEC</td>\n",
       "    </tr>\n",
       "  </tbody>\n",
       "</table>\n",
       "</div>"
      ],
      "text/plain": [
       "                 scores disease\n",
       "TCGA-A5-A0GV  11.085044    UCEC\n",
       "TCGA-A5-A0GV   2.904973    UCEC"
      ]
     },
     "execution_count": 8,
     "metadata": {},
     "output_type": "execute_result"
    }
   ],
   "source": [
    "# create expressed PHBR-II df\n",
    "exp_phbrII_scores, total_patients = [],[]\n",
    "\n",
    "for i in range(len(exp_mut_df)):\n",
    "    patient = exp_mut_df.index.values[i]\n",
    "    if patient in driver_phbr_affinities_II.index:\n",
    "        exp_phbrII_scores.append(driver_phbr_affinities_II.loc[exp_mut_df.index.values[i], \n",
    "                                                               exp_mut_df['exp_mutations'].values[i]])\n",
    "        total_patients.append(patient)\n",
    "        \n",
    "exp_phbrII_df = pd.DataFrame({'scores': exp_phbrII_scores}, index=total_patients)\n",
    "\n",
    "# retain confidently typed patients only\n",
    "exp_phbrII_df = exp_phbrII_df[exp_phbrII_df.index.isin(confident_patients_II)]\n",
    "\n",
    "# add disease column\n",
    "barcode_disease = pd.read_csv('../data/uuid_barcode_map.txt.gz', \n",
    "                              sep='\\t', usecols=['barcode', 'disease'])\n",
    "barcode_disease.drop_duplicates(inplace=True)\n",
    "barcode_disease.set_index('barcode', inplace=True)\n",
    "\n",
    "exp_phbrII_df['disease'] = [barcode_disease.loc[x,'disease'].split('-')[1] for x in exp_phbrII_df.index.values]\n",
    "exp_phbrII_df.head(2)"
   ]
  },
  {
   "cell_type": "code",
   "execution_count": 12,
   "metadata": {},
   "outputs": [
    {
     "name": "stdout",
     "output_type": "stream",
     "text": [
      "Dropped 28 patients - no clinical info\n"
     ]
    },
    {
     "data": {
      "text/html": [
       "<div>\n",
       "<style scoped>\n",
       "    .dataframe tbody tr th:only-of-type {\n",
       "        vertical-align: middle;\n",
       "    }\n",
       "\n",
       "    .dataframe tbody tr th {\n",
       "        vertical-align: top;\n",
       "    }\n",
       "\n",
       "    .dataframe thead th {\n",
       "        text-align: right;\n",
       "    }\n",
       "</style>\n",
       "<table border=\"1\" class=\"dataframe\">\n",
       "  <thead>\n",
       "    <tr style=\"text-align: right;\">\n",
       "      <th></th>\n",
       "      <th>scores</th>\n",
       "      <th>disease</th>\n",
       "      <th>age</th>\n",
       "      <th>sex</th>\n",
       "    </tr>\n",
       "  </thead>\n",
       "  <tbody>\n",
       "    <tr>\n",
       "      <th>TCGA-A5-A0GV</th>\n",
       "      <td>11.085044</td>\n",
       "      <td>UCEC</td>\n",
       "      <td>67.0</td>\n",
       "      <td>female</td>\n",
       "    </tr>\n",
       "    <tr>\n",
       "      <th>TCGA-A5-A0GV</th>\n",
       "      <td>2.904973</td>\n",
       "      <td>UCEC</td>\n",
       "      <td>67.0</td>\n",
       "      <td>female</td>\n",
       "    </tr>\n",
       "  </tbody>\n",
       "</table>\n",
       "</div>"
      ],
      "text/plain": [
       "                 scores disease   age     sex\n",
       "TCGA-A5-A0GV  11.085044    UCEC  67.0  female\n",
       "TCGA-A5-A0GV   2.904973    UCEC  67.0  female"
      ]
     },
     "execution_count": 12,
     "metadata": {},
     "output_type": "execute_result"
    }
   ],
   "source": [
    "# how many patients have clinical info?\n",
    "before_count = len(set(exp_phbrII_df.index.values))\n",
    "exp_phbrII_df = exp_phbrII_df[exp_phbrII_df.index.isin(tcga_clinical.index)]\n",
    "after_count = len(set(exp_phbrII_df.index.values))\n",
    "print('Dropped {} patients - no clinical info'.format(before_count-after_count))\n",
    "\n",
    "# add age/sex column\n",
    "exp_phbrII_df['age'] = [tcga_clinical.loc[x,'age_at_initial_pathologic_diagnosis'] \\\n",
    "                        for x in exp_phbrII_df.index.values]\n",
    "exp_phbrII_df['sex'] = [tcga_clinical.loc[x,'gender'].lower() for x in exp_phbrII_df.index.values]\n",
    "exp_phbrII_df.head(2)"
   ]
  },
  {
   "cell_type": "code",
   "execution_count": 13,
   "metadata": {},
   "outputs": [
    {
     "name": "stdout",
     "output_type": "stream",
     "text": [
      "Dropped 141 MSI-H patients\n"
     ]
    }
   ],
   "source": [
    "if MSS == 'MSS_only':\n",
    "    mss_patients = np.loadtxt('../data/mss_tcga_patients.txt', dtype=str)\n",
    "    before_count = len(set(exp_phbrII_df.index.values))\n",
    "    exp_phbrII_df = exp_phbrII_df[exp_phbrII_df.index.isin(mss_patients)]\n",
    "    after_count = len(set(exp_phbrII_df.index.values))\n",
    "    \n",
    "    print('Dropped {} MSI-H patients'.format(before_count-after_count))"
   ]
  },
  {
   "cell_type": "code",
   "execution_count": 14,
   "metadata": {},
   "outputs": [],
   "source": [
    "if RM_SEX_SPECIFIC == 'remove_sex_specific':\n",
    "    sex_specific_diseases = ['UCS', 'PRAD', 'BRCA', 'UCEC', 'CESC', 'TGCT', 'OV']\n",
    "    before_count = len(set(exp_phbrII_df.index.values))\n",
    "    exp_phbrII_df = exp_phbrII_df[~exp_phbrII_df['disease'].isin(sex_specific_diseases)]\n",
    "    after_count = len(set(exp_phbrII_df.index.values))\n",
    "    \n",
    "    print('Dropped {} patients with sex-specific diseases'.format(before_count-after_count))"
   ]
  },
  {
   "cell_type": "code",
   "execution_count": 15,
   "metadata": {},
   "outputs": [
    {
     "name": "stdout",
     "output_type": "stream",
     "text": [
      "Saved to ../generated_data/confident_patient_II.age_sex_disease.MSS_only.kept_sex_specific.tsv\n"
     ]
    }
   ],
   "source": [
    "# save to file\n",
    "savepath = '../generated_data/confident_patient_II.age_sex_disease.{}.{}.tsv'.format(MSS, RM_SEX_SPECIFIC)\n",
    "print('Saved to {}'.format(savepath))\n",
    "exp_phbrII_df.to_csv(savepath, sep='\\t')"
   ]
  },
  {
   "cell_type": "code",
   "execution_count": null,
   "metadata": {},
   "outputs": [],
   "source": []
  }
 ],
 "metadata": {
  "kernelspec": {
   "display_name": "Python 3",
   "language": "python",
   "name": "python3"
  },
  "language_info": {
   "codemirror_mode": {
    "name": "ipython",
    "version": 3
   },
   "file_extension": ".py",
   "mimetype": "text/x-python",
   "name": "python",
   "nbconvert_exporter": "python",
   "pygments_lexer": "ipython3",
   "version": "3.6.8"
  }
 },
 "nbformat": 4,
 "nbformat_minor": 2
}
