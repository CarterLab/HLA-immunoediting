{
 "cells": [
  {
   "cell_type": "markdown",
   "metadata": {},
   "source": [
    "### Notebook\n",
    "- Prepares validation patient data for figure generation"
   ]
  },
  {
   "cell_type": "code",
   "execution_count": 1,
   "metadata": {},
   "outputs": [],
   "source": [
    "import pandas as pd\n",
    "import os"
   ]
  },
  {
   "cell_type": "markdown",
   "metadata": {},
   "source": [
    "### 0. Load data"
   ]
  },
  {
   "cell_type": "code",
   "execution_count": 2,
   "metadata": {},
   "outputs": [],
   "source": [
    "val_dir = '../data/validation_data'\n",
    "project_list = set(['.'.join(x.split('.')[:-2]) for x in os.listdir(val_dir) if 'PHBR' in x])"
   ]
  },
  {
   "cell_type": "code",
   "execution_count": 6,
   "metadata": {},
   "outputs": [
    {
     "name": "stdout",
     "output_type": "stream",
     "text": [
      "phs000980.v1.p1.c1_NSCLC\n",
      "phs001565.v1.p1.c1_GenCorrRespResICB_CancerMDS\n",
      "ICGC\n",
      "phs001451.v1.p1.c1_PhaseIMelanomaVac\n",
      "phs001493.v1.p1.c1_RCC\n",
      "phs001425.v1.p1.c1\n",
      "phs000452.v2.p1.c1_MelanomaGenomeSeq\n",
      "phs001041.v1.p1.c1_MelanomaCTLA4\n",
      "phs001493.v1.p1.c2_RCC\n",
      "EGA_WGS\n",
      "phs001469.v1.p1.c1_desmoMelanoma\n",
      "ICGC.CLLE-ES\n",
      "ICGC.THCA-SA\n",
      "phs001519.v1.p1.c1_GBMPhaseIVaccine\n"
     ]
    }
   ],
   "source": [
    "# join all driver mutations\n",
    "phbr_i_df = pd.DataFrame()\n",
    "phbr_ii_df = pd.DataFrame()\n",
    "\n",
    "for project in project_list:\n",
    "    phbr_i_path = os.path.join(val_dir, '{}.PHBR_I.csv'.format(project))\n",
    "    phbr_i_df = phbr_i_df.append(pd.read_csv(phbr_i_path, index_col=0), sort=True)\n",
    "    \n",
    "    phbr_ii_path = os.path.join(val_dir, '{}.PHBR_II.csv'.format(project))\n",
    "    phbr_ii_df = phbr_ii_df.append(pd.read_csv(phbr_ii_path, index_col=0), sort=True)"
   ]
  },
  {
   "cell_type": "code",
   "execution_count": 5,
   "metadata": {},
   "outputs": [
    {
     "data": {
      "text/html": [
       "<div>\n",
       "<style scoped>\n",
       "    .dataframe tbody tr th:only-of-type {\n",
       "        vertical-align: middle;\n",
       "    }\n",
       "\n",
       "    .dataframe tbody tr th {\n",
       "        vertical-align: top;\n",
       "    }\n",
       "\n",
       "    .dataframe thead th {\n",
       "        text-align: right;\n",
       "    }\n",
       "</style>\n",
       "<table border=\"1\" class=\"dataframe\">\n",
       "  <thead>\n",
       "    <tr style=\"text-align: right;\">\n",
       "      <th></th>\n",
       "      <th>PHBR_score</th>\n",
       "      <th>age</th>\n",
       "      <th>age_categorical_3070</th>\n",
       "      <th>mutation_id</th>\n",
       "      <th>project_code</th>\n",
       "      <th>sex</th>\n",
       "      <th>tumor_type</th>\n",
       "    </tr>\n",
       "  </thead>\n",
       "  <tbody>\n",
       "    <tr>\n",
       "      <th>AL4602</th>\n",
       "      <td>0.293223</td>\n",
       "      <td>59.0</td>\n",
       "      <td>NaN</td>\n",
       "      <td>NaN</td>\n",
       "      <td>NaN</td>\n",
       "      <td>male</td>\n",
       "      <td>NaN</td>\n",
       "    </tr>\n",
       "    <tr>\n",
       "      <th>AL4602</th>\n",
       "      <td>0.348454</td>\n",
       "      <td>59.0</td>\n",
       "      <td>NaN</td>\n",
       "      <td>NaN</td>\n",
       "      <td>NaN</td>\n",
       "      <td>male</td>\n",
       "      <td>NaN</td>\n",
       "    </tr>\n",
       "    <tr>\n",
       "      <th>AU5884</th>\n",
       "      <td>1.551376</td>\n",
       "      <td>64.0</td>\n",
       "      <td>NaN</td>\n",
       "      <td>NaN</td>\n",
       "      <td>NaN</td>\n",
       "      <td>male</td>\n",
       "      <td>NaN</td>\n",
       "    </tr>\n",
       "    <tr>\n",
       "      <th>BL3403</th>\n",
       "      <td>2.595670</td>\n",
       "      <td>73.0</td>\n",
       "      <td>NaN</td>\n",
       "      <td>NaN</td>\n",
       "      <td>NaN</td>\n",
       "      <td>female</td>\n",
       "      <td>NaN</td>\n",
       "    </tr>\n",
       "    <tr>\n",
       "      <th>CA9903</th>\n",
       "      <td>0.863114</td>\n",
       "      <td>57.0</td>\n",
       "      <td>NaN</td>\n",
       "      <td>NaN</td>\n",
       "      <td>NaN</td>\n",
       "      <td>male</td>\n",
       "      <td>NaN</td>\n",
       "    </tr>\n",
       "  </tbody>\n",
       "</table>\n",
       "</div>"
      ],
      "text/plain": [
       "        PHBR_score   age age_categorical_3070 mutation_id project_code  \\\n",
       "AL4602    0.293223  59.0                  NaN         NaN          NaN   \n",
       "AL4602    0.348454  59.0                  NaN         NaN          NaN   \n",
       "AU5884    1.551376  64.0                  NaN         NaN          NaN   \n",
       "BL3403    2.595670  73.0                  NaN         NaN          NaN   \n",
       "CA9903    0.863114  57.0                  NaN         NaN          NaN   \n",
       "\n",
       "           sex tumor_type  \n",
       "AL4602    male        NaN  \n",
       "AL4602    male        NaN  \n",
       "AU5884    male        NaN  \n",
       "BL3403  female        NaN  \n",
       "CA9903    male        NaN  "
      ]
     },
     "execution_count": 5,
     "metadata": {},
     "output_type": "execute_result"
    }
   ],
   "source": [
    "phbr_i_df.head()"
   ]
  },
  {
   "cell_type": "markdown",
   "metadata": {},
   "source": [
    "### 1. Add age categorical column"
   ]
  },
  {
   "cell_type": "code",
   "execution_count": 4,
   "metadata": {},
   "outputs": [],
   "source": [
    "young_thresh = 52\n",
    "old_thresh = 68"
   ]
  },
  {
   "cell_type": "code",
   "execution_count": 5,
   "metadata": {},
   "outputs": [],
   "source": [
    "# MHC-I\n",
    "phbr_i_df['age_categorical_3070'] = pd.cut(phbr_i_df['age'], [0, young_thresh, old_thresh, 200], \n",
    "                                           labels=['younger', 'middle', 'older'])\n",
    "\n",
    "# MHC-II\n",
    "phbr_ii_df['age_categorical_3070'] = pd.cut(phbr_ii_df['age'], [0, young_thresh, old_thresh, 200], \n",
    "                                            labels=['younger', 'middle', 'older'])"
   ]
  },
  {
   "cell_type": "code",
   "execution_count": 6,
   "metadata": {},
   "outputs": [],
   "source": [
    "# save\n",
    "savepath_i = '../generated_data/validation_patients_I.age_sex_disease.tsv'\n",
    "phbr_i_df.to_csv(savepath_i, sep='\\t')\n",
    "\n",
    "savepath_ii = '../generated_data/validation_patients_II.age_sex_disease.tsv'\n",
    "phbr_ii_df.to_csv(savepath_ii, sep='\\t')"
   ]
  },
  {
   "cell_type": "code",
   "execution_count": null,
   "metadata": {},
   "outputs": [],
   "source": []
  }
 ],
 "metadata": {
  "kernelspec": {
   "display_name": "Python 3",
   "language": "python",
   "name": "python3"
  },
  "language_info": {
   "codemirror_mode": {
    "name": "ipython",
    "version": 3
   },
   "file_extension": ".py",
   "mimetype": "text/x-python",
   "name": "python",
   "nbconvert_exporter": "python",
   "pygments_lexer": "ipython3",
   "version": "3.6.8"
  }
 },
 "nbformat": 4,
 "nbformat_minor": 2
}
