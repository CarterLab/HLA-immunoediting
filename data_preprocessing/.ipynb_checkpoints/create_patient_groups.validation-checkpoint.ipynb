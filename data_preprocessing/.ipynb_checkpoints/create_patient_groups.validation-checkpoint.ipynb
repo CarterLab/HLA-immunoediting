{
 "cells": [
  {
   "cell_type": "markdown",
   "metadata": {},
   "source": [
    "### Notebook\n",
    "- Prepares validation patient data for figure generation"
   ]
  },
  {
   "cell_type": "code",
   "execution_count": 4,
   "metadata": {},
   "outputs": [],
   "source": [
    "import pandas as pd\n",
    "import os"
   ]
  },
  {
   "cell_type": "markdown",
   "metadata": {},
   "source": [
    "### 0. Load data"
   ]
  },
  {
   "cell_type": "code",
   "execution_count": 6,
   "metadata": {},
   "outputs": [],
   "source": [
    "val_dir = '../data/validation_data'\n",
    "project_list = set(['.'.join(x.split('.')[:-2]) for x in os.listdir(val_dir)])"
   ]
  },
  {
   "cell_type": "code",
   "execution_count": 13,
   "metadata": {},
   "outputs": [],
   "source": [
    "# join all driver mutations\n",
    "phbr_i_df = pd.DataFrame()\n",
    "phbr_ii_df = pd.DataFrame()\n",
    "\n",
    "for project in project_list:\n",
    "    phbr_i_path = os.path.join(val_dir, '{}.PHBR_I.csv'.format(project))\n",
    "    phbr_i_df = phbr_i_df.append(pd.read_csv(phbr_i_path, index_col=0), sort=True)\n",
    "    \n",
    "    phbr_ii_path = os.path.join(val_dir, '{}.PHBR_II.csv'.format(project))\n",
    "    phbr_ii_df = phbr_ii_df.append(pd.read_csv(phbr_ii_path, index_col=0), sort=True)"
   ]
  },
  {
   "cell_type": "markdown",
   "metadata": {},
   "source": [
    "### 1. Add age categorical column"
   ]
  },
  {
   "cell_type": "code",
   "execution_count": 17,
   "metadata": {},
   "outputs": [],
   "source": [
    "young_thresh = 52\n",
    "old_thresh = 68"
   ]
  },
  {
   "cell_type": "code",
   "execution_count": 18,
   "metadata": {},
   "outputs": [],
   "source": [
    "# MHC-I\n",
    "phbr_i_df['age_categorical_3070'] = pd.cut(phbr_i_df['age'], [0, young_thresh, old_thresh, 200], \n",
    "                                           labels=['younger', 'middle', 'older'])\n",
    "\n",
    "# MHC-II\n",
    "phbr_ii_df['age_categorical_3070'] = pd.cut(phbr_ii_df['age'], [0, young_thresh, old_thresh, 200], \n",
    "                                            labels=['younger', 'middle', 'older'])"
   ]
  },
  {
   "cell_type": "code",
   "execution_count": 20,
   "metadata": {},
   "outputs": [],
   "source": [
    "# save\n",
    "savepath_i = '../generated_data/validation_patients_I.age_sex_disease.tsv'\n",
    "phbr_i_df.to_csv(savepath_i, sep='\\t')\n",
    "\n",
    "savepath_ii = '../generated_data/validation_patients_II.age_sex_disease.tsv'\n",
    "phbr_ii_df.to_csv(savepath_ii, sep='\\t')"
   ]
  },
  {
   "cell_type": "code",
   "execution_count": null,
   "metadata": {},
   "outputs": [],
   "source": []
  }
 ],
 "metadata": {
  "kernelspec": {
   "display_name": "Python 3",
   "language": "python",
   "name": "python3"
  },
  "language_info": {
   "codemirror_mode": {
    "name": "ipython",
    "version": 3
   },
   "file_extension": ".py",
   "mimetype": "text/x-python",
   "name": "python",
   "nbconvert_exporter": "python",
   "pygments_lexer": "ipython3",
   "version": "3.6.8"
  }
 },
 "nbformat": 4,
 "nbformat_minor": 2
}
