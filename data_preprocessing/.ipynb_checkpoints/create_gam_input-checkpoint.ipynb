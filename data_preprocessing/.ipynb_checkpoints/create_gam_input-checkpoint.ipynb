{
 "cells": [
  {
   "cell_type": "markdown",
   "metadata": {},
   "source": [
    "### Notebook\n",
    "- Creates dataframe ready for input into R gamm4/mgcv::gam functions for both discovery and validation cohorts"
   ]
  },
  {
   "cell_type": "code",
   "execution_count": 10,
   "metadata": {},
   "outputs": [],
   "source": [
    "import pandas as pd\n",
    "import numpy as np\n",
    "import os"
   ]
  },
  {
   "cell_type": "markdown",
   "metadata": {},
   "source": [
    "### 1. Discovery cohort\n",
    "- TCGA"
   ]
  },
  {
   "cell_type": "code",
   "execution_count": 11,
   "metadata": {},
   "outputs": [],
   "source": [
    "# variables\n",
    "MSS_only = 'MSS_only'\n",
    "remove_sex_specific = 'remove_sex_specific.'\n",
    "use_expression = True"
   ]
  },
  {
   "cell_type": "markdown",
   "metadata": {},
   "source": [
    "##### 1A. Load data\n",
    "- Use confidently typed patients \n",
    "- Use only patients with MHC-I and MHC-II affinities (some types not compatible with NetMHCpan)\n",
    "- Add sex and age data"
   ]
  },
  {
   "cell_type": "code",
   "execution_count": 12,
   "metadata": {},
   "outputs": [],
   "source": [
    "driver_mut_ids = np.loadtxt('../data/driver_mut_IDs.txt', dtype=str)"
   ]
  },
  {
   "cell_type": "code",
   "execution_count": 13,
   "metadata": {},
   "outputs": [
    {
     "data": {
      "text/html": [
       "<div>\n",
       "<style scoped>\n",
       "    .dataframe tbody tr th:only-of-type {\n",
       "        vertical-align: middle;\n",
       "    }\n",
       "\n",
       "    .dataframe tbody tr th {\n",
       "        vertical-align: top;\n",
       "    }\n",
       "\n",
       "    .dataframe thead th {\n",
       "        text-align: right;\n",
       "    }\n",
       "</style>\n",
       "<table border=\"1\" class=\"dataframe\">\n",
       "  <thead>\n",
       "    <tr style=\"text-align: right;\">\n",
       "      <th></th>\n",
       "      <th>index</th>\n",
       "      <th>PHBR-II_score</th>\n",
       "      <th>PHBR-I_score</th>\n",
       "      <th>Reference_Allele_readcounts</th>\n",
       "      <th>Total_readcounts</th>\n",
       "      <th>Tumor_Seq_Allele1_readcounts</th>\n",
       "      <th>Tumor_Seq_Allele2_readcounts</th>\n",
       "      <th>age_at_initial_pathologic_diagnosis</th>\n",
       "      <th>confidently_typed_MHC-I</th>\n",
       "      <th>confidently_typed_MHC-II</th>\n",
       "      <th>disease</th>\n",
       "      <th>driver_mutation</th>\n",
       "      <th>gender</th>\n",
       "      <th>num_tools_that_confirm</th>\n",
       "      <th>VAF</th>\n",
       "      <th>VAF_percentile_rank</th>\n",
       "      <th>t_alt_count</th>\n",
       "    </tr>\n",
       "  </thead>\n",
       "  <tbody>\n",
       "    <tr>\n",
       "      <td>0</td>\n",
       "      <td>TCGA-02-0003</td>\n",
       "      <td>64.73698128865948</td>\n",
       "      <td>4.564100226222489</td>\n",
       "      <td>NaN</td>\n",
       "      <td>NaN</td>\n",
       "      <td>NaN</td>\n",
       "      <td>NaN</td>\n",
       "      <td>50.0</td>\n",
       "      <td>True</td>\n",
       "      <td>True</td>\n",
       "      <td>TCGA-GBM</td>\n",
       "      <td>M_TP53_R282W</td>\n",
       "      <td>MALE</td>\n",
       "      <td>4</td>\n",
       "      <td>0.444254</td>\n",
       "      <td>42.500799</td>\n",
       "      <td>48.0</td>\n",
       "    </tr>\n",
       "    <tr>\n",
       "      <td>1</td>\n",
       "      <td>TCGA-02-0003</td>\n",
       "      <td>23.79529180594853</td>\n",
       "      <td>0.5903186887087578</td>\n",
       "      <td>NaN</td>\n",
       "      <td>NaN</td>\n",
       "      <td>NaN</td>\n",
       "      <td>NaN</td>\n",
       "      <td>50.0</td>\n",
       "      <td>True</td>\n",
       "      <td>True</td>\n",
       "      <td>TCGA-GBM</td>\n",
       "      <td>M_PIK3R1_G376R</td>\n",
       "      <td>MALE</td>\n",
       "      <td>4</td>\n",
       "      <td>0.279602</td>\n",
       "      <td>89.727463</td>\n",
       "      <td>26.0</td>\n",
       "    </tr>\n",
       "  </tbody>\n",
       "</table>\n",
       "</div>"
      ],
      "text/plain": [
       "          index      PHBR-II_score        PHBR-I_score  \\\n",
       "0  TCGA-02-0003  64.73698128865948   4.564100226222489   \n",
       "1  TCGA-02-0003  23.79529180594853  0.5903186887087578   \n",
       "\n",
       "   Reference_Allele_readcounts  Total_readcounts  \\\n",
       "0                          NaN               NaN   \n",
       "1                          NaN               NaN   \n",
       "\n",
       "   Tumor_Seq_Allele1_readcounts  Tumor_Seq_Allele2_readcounts  \\\n",
       "0                           NaN                           NaN   \n",
       "1                           NaN                           NaN   \n",
       "\n",
       "   age_at_initial_pathologic_diagnosis  confidently_typed_MHC-I  \\\n",
       "0                                 50.0                     True   \n",
       "1                                 50.0                     True   \n",
       "\n",
       "   confidently_typed_MHC-II   disease driver_mutation gender  \\\n",
       "0                      True  TCGA-GBM    M_TP53_R282W   MALE   \n",
       "1                      True  TCGA-GBM  M_PIK3R1_G376R   MALE   \n",
       "\n",
       "   num_tools_that_confirm       VAF  VAF_percentile_rank  t_alt_count  \n",
       "0                       4  0.444254            42.500799         48.0  \n",
       "1                       4  0.279602            89.727463         26.0  "
      ]
     },
     "execution_count": 13,
     "metadata": {},
     "output_type": "execute_result"
    }
   ],
   "source": [
    "# load patients\n",
    "# confident_patients_I = pd.read_csv('../generated_data/confident_patient_I.age_sex_disease.{}.{}tsv'.format(MSS_only, remove_sex_specific), sep='\\t', index_col=0)\n",
    "# confident_patients_II = pd.read_csv('../generated_data/confident_patient_II.age_sex_disease.{}.{}tsv'.format(MSS_only, remove_sex_specific), sep='\\t', index_col=0)\n",
    "comprehensive_patient_df = pd.read_csv('../data/comprehensive_patient_df.tsv', sep='\\t')\n",
    "comprehensive_patient_df.head(2)"
   ]
  },
  {
   "cell_type": "code",
   "execution_count": 14,
   "metadata": {},
   "outputs": [
    {
     "name": "stdout",
     "output_type": "stream",
     "text": [
      "Using expression\n",
      "5234\n"
     ]
    }
   ],
   "source": [
    "# Use only expressed mutations\n",
    "print('Using expression')\n",
    "\n",
    "# binary matrix of first driver\n",
    "binary_mut_list = []\n",
    "patient_id_list = []\n",
    "\n",
    "for patient_id in comprehensive_patient_df['index'].unique():\n",
    "\n",
    "    patient_df = comprehensive_patient_df[comprehensive_patient_df['index']==patient_id]\n",
    "    patient_df = patient_df[patient_df['Tumor_Seq_Allele2_readcounts']>=5]\n",
    "\n",
    "    # keep drivers with >= 5 reads\n",
    "    if len(patient_df)>0:\n",
    "        patient_df = patient_df.iloc[[0]]\n",
    "    patient_id_list.append(patient_id)\n",
    "\n",
    "    if len(patient_df) > 0:\n",
    "        l = [0]*len(driver_mut_ids)\n",
    "        for i, mut in enumerate(driver_mut_ids):\n",
    "            if mut in patient_df['driver_mutation'].values:\n",
    "                l[i] = 1\n",
    "        binary_mut_list.append(l)\n",
    "    else:\n",
    "        binary_mut_list.append([0]*len(driver_mut_ids))\n",
    "\n",
    "# save \n",
    "mut = pd.DataFrame(binary_mut_list, index=patient_id_list, columns=driver_mut_ids)\n",
    "\n",
    "print(len(mut))"
   ]
  },
  {
   "cell_type": "code",
   "execution_count": 15,
   "metadata": {},
   "outputs": [
    {
     "name": "stdout",
     "output_type": "stream",
     "text": [
      "5234\n"
     ]
    }
   ],
   "source": [
    "all_patients = mut.index.unique()\n",
    "print(len(all_patients))"
   ]
  },
  {
   "cell_type": "code",
   "execution_count": 16,
   "metadata": {},
   "outputs": [
    {
     "data": {
      "text/plain": [
       "(5233, 3789)"
      ]
     },
     "execution_count": 16,
     "metadata": {},
     "output_type": "execute_result"
    }
   ],
   "source": [
    "# subset phbr affinities\n",
    "phbrI = pd.read_csv('../data/driver_mut.class_i.affinities.tsv.gz', sep='\\t', index_col=0)\n",
    "phbrI = phbrI[phbrI.index.isin(all_patients)]\n",
    "\n",
    "\n",
    "phbrII = pd.read_csv('../data/driver_mut.class_ii.affinities.tsv.gz', sep='\\t', index_col=0)\n",
    "phbrII = phbrII[phbrII.index.isin(all_patients)]\n",
    "\n",
    "len(phbrI), len(phbrII)"
   ]
  },
  {
   "cell_type": "code",
   "execution_count": 19,
   "metadata": {},
   "outputs": [
    {
     "name": "stdout",
     "output_type": "stream",
     "text": [
      "3788 patients in both I and II\n"
     ]
    }
   ],
   "source": [
    "intersect_patients = list(set(phbrI.index.values).intersection(set(phbrII.index.values).intersection(set(mut.index.values))))\n",
    "mut = mut[mut.index.isin(intersect_patients)]\n",
    "print('{} patients in both I and II'.format(len(intersect_patients)))"
   ]
  },
  {
   "cell_type": "code",
   "execution_count": 20,
   "metadata": {},
   "outputs": [],
   "source": [
    "# binarize gender\n",
    "tcga_clinical = pd.read_csv('../data/all_clinical_tcga.txt.gz', sep='\\t', index_col='bcr_patient_barcode')\n",
    "\n",
    "sex = tcga_clinical[tcga_clinical.index.isin(intersect_patients)][['gender']]\n",
    "sex['gender'] = sex['gender'].replace({'FEMALE': 1, 'MALE': 0})\n",
    "sex.sort_index(inplace=True)\n",
    "\n",
    "age = tcga_clinical[tcga_clinical.index.isin(intersect_patients)][['age_at_initial_pathologic_diagnosis']]\n",
    "age['age'] = pd.to_numeric(age['age_at_initial_pathologic_diagnosis'], errors='coerce')\n",
    "age.dropna(inplace=True)\n",
    "age.sort_index(inplace=True)\n",
    "\n",
    "disease = tcga_clinical[tcga_clinical.index.isin(intersect_patients)][['disease']]\n",
    "disease.sort_index(inplace=True)"
   ]
  },
  {
   "cell_type": "markdown",
   "metadata": {},
   "source": [
    "##### 1B. Collapse into single dataframe\n",
    "- Use mutations that appear ≥n times"
   ]
  },
  {
   "cell_type": "code",
   "execution_count": 21,
   "metadata": {},
   "outputs": [
    {
     "name": "stdout",
     "output_type": "stream",
     "text": [
      "202 mutations left\n"
     ]
    }
   ],
   "source": [
    "# filter mutations by threshold\n",
    "thresh = 2\n",
    "\n",
    "thresh_mut_df = pd.DataFrame(mut.sum())\n",
    "thresh_mut = thresh_mut_df[thresh_mut_df[0]>thresh].index.values\n",
    "print('{} mutations left'.format(len(thresh_mut)))\n",
    "\n",
    "mut = mut[thresh_mut]\n",
    "phbrI = phbrI[thresh_mut]\n",
    "phbrII = phbrII[thresh_mut]"
   ]
  },
  {
   "cell_type": "code",
   "execution_count": 69,
   "metadata": {},
   "outputs": [],
   "source": [
    "# make sure all sorted by patient the same way\n",
    "mut.sort_index(inplace=True)\n",
    "phbrI.sort_index(inplace=True)\n",
    "phbrII.sort_index(inplace=True)\n",
    "\n",
    "# sorted mutations\n",
    "mut.sort_index(axis=1, inplace=True)\n",
    "phbrI.sort_index(axis=1, inplace=True)\n",
    "phbrII.sort_index(axis=1, inplace=True)\n",
    "\n",
    "# log PHBR values\n",
    "phbrI_log = phbrI.applymap(np.log)\n",
    "phbrII_log = phbrII.applymap(np.log)"
   ]
  },
  {
   "cell_type": "code",
   "execution_count": 70,
   "metadata": {},
   "outputs": [],
   "source": [
    "# collapse patient IDs and sex\n",
    "patients_repeated = pd.DataFrame(np.tile(mut.index.values, (len(mut.columns),1)).T)\n",
    "sex_repeated = pd.DataFrame(np.tile(sex.gender.values, (len(mut.columns),1)).T)\n",
    "age_repeated = pd.DataFrame(np.tile(age.age_at_initial_pathologic_diagnosis.values, (len(mut.columns),1)).T)\n",
    "disease_repeated = pd.DataFrame(np.tile(disease.disease.values, (len(mut.columns),1)).T)"
   ]
  },
  {
   "cell_type": "code",
   "execution_count": 71,
   "metadata": {},
   "outputs": [],
   "source": [
    "# prepare columns\n",
    "y = mut.values.reshape((len(mut.index)*len(mut.columns))).tolist()\n",
    "x_phbrI_log = phbrI_log.values.reshape((len(phbrI_log.index)*len(phbrI_log.columns))).tolist()\n",
    "x_phbrII_log = phbrII_log.values.reshape((len(phbrII_log.index)*len(phbrII_log.columns))).tolist()\n",
    "\n",
    "x_phbrI = phbrI.values.reshape((len(phbrI.index)*len(phbrI.columns))).tolist()\n",
    "x_phbrII = phbrII.values.reshape((len(phbrII.index)*len(phbrII.columns))).tolist()\n",
    "\n",
    "patient_ids = patients_repeated.values.reshape((len(patients_repeated.index)*len(patients_repeated.columns))).tolist()\n",
    "sex = sex_repeated.values.reshape((len(sex_repeated.index)*len(sex_repeated.columns))).tolist()\n",
    "age = age_repeated.values.reshape((len(age_repeated.index)*len(age_repeated.columns))).tolist()\n",
    "disease = disease_repeated.values.reshape((len(disease_repeated.index)*len(disease_repeated.columns))).tolist()"
   ]
  },
  {
   "cell_type": "code",
   "execution_count": 72,
   "metadata": {},
   "outputs": [
    {
     "data": {
      "text/html": [
       "<div>\n",
       "<style scoped>\n",
       "    .dataframe tbody tr th:only-of-type {\n",
       "        vertical-align: middle;\n",
       "    }\n",
       "\n",
       "    .dataframe tbody tr th {\n",
       "        vertical-align: top;\n",
       "    }\n",
       "\n",
       "    .dataframe thead th {\n",
       "        text-align: right;\n",
       "    }\n",
       "</style>\n",
       "<table border=\"1\" class=\"dataframe\">\n",
       "  <thead>\n",
       "    <tr style=\"text-align: right;\">\n",
       "      <th></th>\n",
       "      <th>y (has_mutation)</th>\n",
       "      <th>log_phbrI</th>\n",
       "      <th>log_phbrII</th>\n",
       "      <th>phbrI</th>\n",
       "      <th>phbrII</th>\n",
       "      <th>patient_ids</th>\n",
       "      <th>sex</th>\n",
       "      <th>age</th>\n",
       "      <th>disease</th>\n",
       "      <th>centered_log_phbrI</th>\n",
       "      <th>centered_log_phbrII</th>\n",
       "      <th>centered_sex</th>\n",
       "      <th>centered_phbrI</th>\n",
       "      <th>centered_phbrII</th>\n",
       "      <th>centered_age</th>\n",
       "    </tr>\n",
       "  </thead>\n",
       "  <tbody>\n",
       "    <tr>\n",
       "      <th>0</th>\n",
       "      <td>0</td>\n",
       "      <td>4.101671</td>\n",
       "      <td>4.370530</td>\n",
       "      <td>60.441227</td>\n",
       "      <td>79.085534</td>\n",
       "      <td>TCGA-02-0047</td>\n",
       "      <td>0</td>\n",
       "      <td>78</td>\n",
       "      <td>TCGA-GBM</td>\n",
       "      <td>3.890015</td>\n",
       "      <td>1.754338</td>\n",
       "      <td>-0.40795</td>\n",
       "      <td>57.648637</td>\n",
       "      <td>56.889547</td>\n",
       "      <td>19.165272</td>\n",
       "    </tr>\n",
       "    <tr>\n",
       "      <th>1</th>\n",
       "      <td>0</td>\n",
       "      <td>0.790288</td>\n",
       "      <td>3.373374</td>\n",
       "      <td>2.204031</td>\n",
       "      <td>29.176802</td>\n",
       "      <td>TCGA-02-0047</td>\n",
       "      <td>0</td>\n",
       "      <td>78</td>\n",
       "      <td>TCGA-GBM</td>\n",
       "      <td>0.578631</td>\n",
       "      <td>0.757182</td>\n",
       "      <td>-0.40795</td>\n",
       "      <td>-0.588560</td>\n",
       "      <td>6.980815</td>\n",
       "      <td>19.165272</td>\n",
       "    </tr>\n",
       "  </tbody>\n",
       "</table>\n",
       "</div>"
      ],
      "text/plain": [
       "   y (has_mutation)  log_phbrI  log_phbrII      phbrI     phbrII  \\\n",
       "0                 0   4.101671    4.370530  60.441227  79.085534   \n",
       "1                 0   0.790288    3.373374   2.204031  29.176802   \n",
       "\n",
       "    patient_ids  sex  age   disease  centered_log_phbrI  centered_log_phbrII  \\\n",
       "0  TCGA-02-0047    0   78  TCGA-GBM            3.890015             1.754338   \n",
       "1  TCGA-02-0047    0   78  TCGA-GBM            0.578631             0.757182   \n",
       "\n",
       "   centered_sex  centered_phbrI  centered_phbrII  centered_age  \n",
       "0      -0.40795       57.648637        56.889547     19.165272  \n",
       "1      -0.40795       -0.588560         6.980815     19.165272  "
      ]
     },
     "execution_count": 72,
     "metadata": {},
     "output_type": "execute_result"
    }
   ],
   "source": [
    "output_df = pd.DataFrame({'y (has_mutation)': y, 'log_phbrI': x_phbrI_log, 'log_phbrII': x_phbrII_log, \n",
    "                          'phbrI': x_phbrI, 'phbrII': x_phbrII, \n",
    "                          'patient_ids': patient_ids, \n",
    "                          'sex': sex, 'age': age, 'disease': disease})\n",
    "\n",
    "output_df['centered_log_phbrI'] = output_df['log_phbrI'] - np.mean(output_df['log_phbrI'].values)\n",
    "output_df['centered_log_phbrII'] = output_df['log_phbrII'] - np.mean(output_df['log_phbrII'].values)\n",
    "output_df['centered_sex'] = output_df['sex'] - np.mean(output_df['sex'].values)\n",
    "output_df['centered_phbrI'] = output_df['phbrI'] - np.mean(output_df['phbrI'].values)\n",
    "output_df['centered_phbrII'] = output_df['phbrII'] - np.mean(output_df['phbrII'].values)\n",
    "output_df['age'] = pd.to_numeric(output_df['age'])\n",
    "output_df['centered_age'] = output_df['age'] - np.mean(output_df['age'].values)\n",
    "\n",
    "output_df.head(2)"
   ]
  },
  {
   "cell_type": "code",
   "execution_count": 73,
   "metadata": {},
   "outputs": [
    {
     "name": "stdout",
     "output_type": "stream",
     "text": [
      "Saving to ../generated_data/gam_input.expressed_mutations.2.csv.gz\n"
     ]
    }
   ],
   "source": [
    "# save dataframe\n",
    "savepath = '../generated_data/gam_input.expressed_mutations.{}.csv.gz'.format(thresh)\n",
    "print('Saving to {}'.format(savepath))\n",
    "output_df.to_csv(savepath, index=False, compression='gzip')"
   ]
  },
  {
   "cell_type": "markdown",
   "metadata": {},
   "source": [
    "### 2. Validation cohort"
   ]
  },
  {
   "cell_type": "markdown",
   "metadata": {},
   "source": [
    "##### 2A. Load data\n",
    "- Use only patients with MHC-I and MHC-II affinities (some types not compatible with NetMHCpan)\n",
    "- Add sex and age data"
   ]
  },
  {
   "cell_type": "code",
   "execution_count": 38,
   "metadata": {},
   "outputs": [],
   "source": [
    "val_dir = '../data/validation_data'\n",
    "project_list = set(['.'.join(x.split('.')[:-2]) for x in os.listdir(val_dir) if 'PHBR' in x])"
   ]
  },
  {
   "cell_type": "code",
   "execution_count": 42,
   "metadata": {},
   "outputs": [],
   "source": [
    "# join affinities and mutations\n",
    "binary_mut_df = pd.DataFrame()\n",
    "phbr_i_df = pd.DataFrame()\n",
    "phbr_ii_df = pd.DataFrame()\n",
    "\n",
    "for project in project_list:\n",
    "    mut_path = os.path.join(val_dir, 'binary_driver_mut.{}.matrix'.format(project))\n",
    "    binary_mut_df = binary_mut_df.append(pd.read_csv(mut_path, sep='\\t', index_col=0), sort=True)\n",
    "    \n",
    "    phbr_i_path = os.path.join(val_dir, 'driver_mut.class_i.{}.affinities'.format(project))\n",
    "    phbr_i_df = phbr_i_df.append(pd.read_csv(phbr_i_path, index_col=0, sep='\\t'), sort=True)\n",
    "    \n",
    "    phbr_ii_path = os.path.join(val_dir, 'driver_mut.class_ii.{}.affinities'.format(project))\n",
    "    phbr_ii_df = phbr_ii_df.append(pd.read_csv(phbr_ii_path, index_col=0, sep='\\t'), sort=True)"
   ]
  },
  {
   "cell_type": "code",
   "execution_count": 43,
   "metadata": {},
   "outputs": [
    {
     "name": "stdout",
     "output_type": "stream",
     "text": [
      "937 patients in both I and II\n"
     ]
    }
   ],
   "source": [
    "# filter mutations by threshold\n",
    "# thresh = 2\n",
    "\n",
    "# thresh_mut_df = pd.DataFrame(binary_mut_df.sum())\n",
    "# thresh_mut = thresh_mut_df[thresh_mut_df[0]>thresh].index.values\n",
    "# print(len(thresh_mut))\n",
    "\n",
    "# binary_mut_df = binary_mut_df[thresh_mut]\n",
    "# phbr_i_df = phbr_i_df[thresh_mut]\n",
    "# phbr_ii_df = phbr_ii_df[thresh_mut]\n",
    "\n",
    "# make sure index is string\n",
    "binary_mut_df.index = binary_mut_df.index.map(str)\n",
    "phbr_i_df.index = phbr_i_df.index.map(str)\n",
    "phbr_ii_df.index = phbr_ii_df.index.map(str)\n",
    "\n",
    "# drop patients without sex/age information\n",
    "intersect_patients = list(set(phbr_i_df.index.values).intersection(set(phbr_ii_df.index.values)).intersection(set(binary_mut_df.index.values)))\n",
    "binary_mut_df = binary_mut_df[binary_mut_df.index.isin(intersect_patients)]\n",
    "phbr_i_df = phbr_i_df[phbr_i_df.index.isin(intersect_patients)]\n",
    "phbr_ii_df = phbr_ii_df[phbr_ii_df.index.isin(intersect_patients)]\n",
    "print('{} patients in both I and II'.format(len(intersect_patients)))"
   ]
  },
  {
   "cell_type": "code",
   "execution_count": 46,
   "metadata": {},
   "outputs": [],
   "source": [
    "# gather sex and age dataframes\n",
    "\n",
    "# load sex data and binarize\n",
    "sex = pd.read_csv('../data/validation_data/patient_sex.tsv', sep='\\t', index_col=0)\n",
    "sex = sex[sex.index.isin(intersect_patients)]\n",
    "sex['sex'] = sex['sex'].replace({'female': 1, 'male': 0}) # female 1, male 0\n",
    "\n",
    "# age\n",
    "age = pd.read_csv('../data/validation_data/patient_age.tsv', sep='\\t', index_col=0)\n",
    "age = age[age.index.isin(intersect_patients)]\n",
    "\n",
    "# drop age/sex if no data\n",
    "patients_with_both_age_sex = set(sex.index).intersection(set(age.index))\n",
    "\n",
    "sex = sex[sex.index.isin(patients_with_both_age_sex)]\n",
    "sex = sex.reset_index().drop_duplicates().set_index('index')\n",
    "sex.sort_index(inplace=True)\n",
    "\n",
    "age = age[age.index.isin(patients_with_both_age_sex)]\n",
    "age = age.reset_index().drop_duplicates().set_index('index')\n",
    "age.sort_index(inplace=True)"
   ]
  },
  {
   "cell_type": "code",
   "execution_count": 48,
   "metadata": {},
   "outputs": [
    {
     "name": "stdout",
     "output_type": "stream",
     "text": [
      "937\n",
      "937\n",
      "937\n",
      "937\n",
      "937\n"
     ]
    }
   ],
   "source": [
    "binary_mut_df = binary_mut_df[binary_mut_df.index.isin(patients_with_both_age_sex)].reset_index().drop_duplicates(subset=['index']).set_index('index')\n",
    "phbr_i_df = phbr_i_df[phbr_i_df.index.isin(patients_with_both_age_sex)].reset_index().drop_duplicates(subset=['index']).set_index('index')\n",
    "phbr_ii_df = phbr_ii_df[phbr_ii_df.index.isin(patients_with_both_age_sex)].reset_index().drop_duplicates(subset=['index']).set_index('index')\n",
    "\n",
    "print(len(binary_mut_df.index.values))\n",
    "print(len(phbr_i_df.index.values))\n",
    "print(len(phbr_ii_df.index.values))\n",
    "print(len(sex.index.values))\n",
    "print(len(age.index.values))"
   ]
  },
  {
   "cell_type": "code",
   "execution_count": 49,
   "metadata": {},
   "outputs": [],
   "source": [
    "# make sure all sorted by patient the same way\n",
    "binary_mut_df.sort_index(inplace=True)\n",
    "phbr_i_df.sort_index(inplace=True)\n",
    "phbr_ii_df.sort_index(inplace=True)\n",
    "\n",
    "# sorted mutations\n",
    "binary_mut_df.sort_index(axis=1, inplace=True)\n",
    "phbr_i_df.sort_index(axis=1, inplace=True)\n",
    "phbr_ii_df.sort_index(axis=1, inplace=True)\n",
    "\n",
    "# log PHBR values\n",
    "phbr_i_log = phbr_i_df.applymap(np.log)\n",
    "phbr_ii_log = phbr_ii_df.applymap(np.log)"
   ]
  },
  {
   "cell_type": "code",
   "execution_count": 50,
   "metadata": {},
   "outputs": [
    {
     "name": "stdout",
     "output_type": "stream",
     "text": [
      "937\n"
     ]
    }
   ],
   "source": [
    "# repeat patient IDs and sex\n",
    "patients_repeated = pd.DataFrame(np.tile(binary_mut_df.index.values, (len(binary_mut_df.columns),1)).T)\n",
    "sex_repeated = pd.DataFrame(np.tile(sex['sex'].values, (len(binary_mut_df.columns),1)).T)\n",
    "age_repeated = pd.DataFrame(np.tile(age['age'].values, (len(binary_mut_df.columns),1)).T)\n",
    "print(len(patients_repeated))"
   ]
  },
  {
   "cell_type": "code",
   "execution_count": 51,
   "metadata": {},
   "outputs": [],
   "source": [
    "# prepare model vectors\n",
    "y = binary_mut_df.values.reshape((len(binary_mut_df.index)*len(binary_mut_df.columns))).tolist()\n",
    "x_phbr_i_log = phbr_i_log.values.reshape((len(phbr_i_log.index)*len(phbr_i_log.columns))).tolist()\n",
    "x_phbr_ii_log = phbr_ii_log.values.reshape((len(phbr_ii_log.index)*len(phbr_ii_log.columns))).tolist()\n",
    "\n",
    "x_phbr_i = phbr_i_df.values.reshape((len(phbr_i_df.index)*len(phbr_i_df.columns))).tolist()\n",
    "x_phbr_ii = phbr_ii_df.values.reshape((len(phbr_ii_df.index)*len(phbr_ii_df.columns))).tolist()\n",
    "\n",
    "patient_ids = patients_repeated.values.reshape((len(patients_repeated.index)*len(patients_repeated.columns))).tolist()\n",
    "sex = sex_repeated.values.reshape((len(sex_repeated.index)*len(sex_repeated.columns))).tolist()\n",
    "age = age_repeated.values.reshape((len(age_repeated.index)*len(age_repeated.columns))).tolist()"
   ]
  },
  {
   "cell_type": "code",
   "execution_count": 52,
   "metadata": {},
   "outputs": [
    {
     "name": "stdout",
     "output_type": "stream",
     "text": [
      "952929\n",
      "952929\n",
      "952929\n",
      "952929\n"
     ]
    }
   ],
   "source": [
    "print(len(y))\n",
    "print(len(x_phbr_i_log))\n",
    "print(len(age))\n",
    "print(len(sex))"
   ]
  },
  {
   "cell_type": "code",
   "execution_count": 55,
   "metadata": {},
   "outputs": [
    {
     "data": {
      "text/html": [
       "<div>\n",
       "<style scoped>\n",
       "    .dataframe tbody tr th:only-of-type {\n",
       "        vertical-align: middle;\n",
       "    }\n",
       "\n",
       "    .dataframe tbody tr th {\n",
       "        vertical-align: top;\n",
       "    }\n",
       "\n",
       "    .dataframe thead th {\n",
       "        text-align: right;\n",
       "    }\n",
       "</style>\n",
       "<table border=\"1\" class=\"dataframe\">\n",
       "  <thead>\n",
       "    <tr style=\"text-align: right;\">\n",
       "      <th></th>\n",
       "      <th>y (has_mutation)</th>\n",
       "      <th>log_phbr_i</th>\n",
       "      <th>log_phbr_ii</th>\n",
       "      <th>phbr_i</th>\n",
       "      <th>phbr_ii</th>\n",
       "      <th>patient_ids</th>\n",
       "      <th>sex</th>\n",
       "      <th>age</th>\n",
       "      <th>centered_log_phbr_i</th>\n",
       "      <th>centered_log_phbr_ii</th>\n",
       "      <th>centered_sex</th>\n",
       "      <th>centered_age</th>\n",
       "    </tr>\n",
       "  </thead>\n",
       "  <tbody>\n",
       "    <tr>\n",
       "      <th>0</th>\n",
       "      <td>0</td>\n",
       "      <td>0.436009</td>\n",
       "      <td>1.220790</td>\n",
       "      <td>1.546523</td>\n",
       "      <td>3.389865</td>\n",
       "      <td>1</td>\n",
       "      <td>1.0</td>\n",
       "      <td>48.0</td>\n",
       "      <td>0.107013</td>\n",
       "      <td>-1.411619</td>\n",
       "      <td>0.580128</td>\n",
       "      <td>-11.021324</td>\n",
       "    </tr>\n",
       "    <tr>\n",
       "      <th>1</th>\n",
       "      <td>0</td>\n",
       "      <td>1.096289</td>\n",
       "      <td>1.008966</td>\n",
       "      <td>2.993039</td>\n",
       "      <td>2.742764</td>\n",
       "      <td>1</td>\n",
       "      <td>1.0</td>\n",
       "      <td>48.0</td>\n",
       "      <td>0.767293</td>\n",
       "      <td>-1.623443</td>\n",
       "      <td>0.580128</td>\n",
       "      <td>-11.021324</td>\n",
       "    </tr>\n",
       "  </tbody>\n",
       "</table>\n",
       "</div>"
      ],
      "text/plain": [
       "   y (has_mutation)  log_phbr_i  log_phbr_ii    phbr_i   phbr_ii patient_ids  \\\n",
       "0                 0    0.436009     1.220790  1.546523  3.389865           1   \n",
       "1                 0    1.096289     1.008966  2.993039  2.742764           1   \n",
       "\n",
       "   sex   age  centered_log_phbr_i  centered_log_phbr_ii  centered_sex  \\\n",
       "0  1.0  48.0             0.107013             -1.411619      0.580128   \n",
       "1  1.0  48.0             0.767293             -1.623443      0.580128   \n",
       "\n",
       "   centered_age  \n",
       "0    -11.021324  \n",
       "1    -11.021324  "
      ]
     },
     "execution_count": 55,
     "metadata": {},
     "output_type": "execute_result"
    }
   ],
   "source": [
    "val_output_df = pd.DataFrame({'y (has_mutation)': y, 'log_phbr_i': x_phbr_i_log, 'log_phbr_ii': x_phbr_ii_log, \n",
    "                              'phbr_i': x_phbr_i, 'phbr_ii': x_phbr_ii, \n",
    "                              'patient_ids': patient_ids, 'sex': sex, 'age': age})\n",
    "\n",
    "val_output_df['centered_log_phbr_i'] = val_output_df['log_phbr_i'] - np.mean(val_output_df['log_phbr_i'].values)\n",
    "val_output_df['centered_log_phbr_ii'] = val_output_df['log_phbr_ii'] - np.mean(val_output_df['log_phbr_ii'].values)\n",
    "val_output_df['centered_sex'] = val_output_df['sex'] - np.nanmean(val_output_df['sex'].values)\n",
    "val_output_df['centered_age'] = val_output_df['age'] - np.nanmean(val_output_df['age'].values)\n",
    "\n",
    "val_output_df.to_csv('../generated_data/gam_input.validation.all.csv.gz'.format(thresh), \n",
    "                     index=False, compression='gzip')\n",
    "val_output_df.head(2)"
   ]
  },
  {
   "cell_type": "code",
   "execution_count": null,
   "metadata": {},
   "outputs": [],
   "source": []
  }
 ],
 "metadata": {
  "kernelspec": {
   "display_name": "Python 3",
   "language": "python",
   "name": "python3"
  },
  "language_info": {
   "codemirror_mode": {
    "name": "ipython",
    "version": 3
   },
   "file_extension": ".py",
   "mimetype": "text/x-python",
   "name": "python",
   "nbconvert_exporter": "python",
   "pygments_lexer": "ipython3",
   "version": "3.6.8"
  }
 },
 "nbformat": 4,
 "nbformat_minor": 2
}
